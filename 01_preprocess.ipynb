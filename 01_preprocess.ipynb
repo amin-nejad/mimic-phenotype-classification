{
 "cells": [
  {
   "cell_type": "markdown",
   "metadata": {},
   "source": [
    "# Preprocess"
   ]
  },
  {
   "cell_type": "markdown",
   "metadata": {},
   "source": [
    "Get data into the right format. Retrieve test dataset from earlier which is a superset of the phenotype data (annotations.csv). Create datasets for the original data, synthetic data as well as combined together. Lastly also an original 2x"
   ]
  },
  {
   "cell_type": "code",
   "execution_count": 1,
   "metadata": {},
   "outputs": [],
   "source": [
    "import pandas as pd\n",
    "import numpy as np\n",
    "from pathlib import Path"
   ]
  },
  {
   "cell_type": "code",
   "execution_count": 2,
   "metadata": {},
   "outputs": [],
   "source": [
    "DATA = Path('data/')\n",
    "PHENOTYPE_CLASSIFICATION = DATA/'phenotype_classification/'\n",
    "PHENOTYPE_CLASSIFICATION.mkdir(exist_ok=True)\n",
    "\n",
    "data = pd.read_csv(DATA/'preprocessed/ref_test.tsv', sep='\\t') # only test file\n",
    "data = data[['text','hadm_id']]\n",
    "annotations = pd.read_csv(DATA/'annotations.csv', sep=',')\n",
    "with open(DATA/'t2t_experiments/full_context/output/transformer_decoded/tgt-test.001.txt', 'r') as f:\n",
    "    synthetic_data = f.readlines()\n",
    "synthetic_data=pd.DataFrame({'text':synthetic_data})"
   ]
  },
  {
   "cell_type": "code",
   "execution_count": 3,
   "metadata": {},
   "outputs": [
    {
     "data": {
      "text/plain": [
       "1561"
      ]
     },
     "execution_count": 3,
     "metadata": {},
     "output_type": "execute_result"
    }
   ],
   "source": [
    "annotations.columns.values[0] = 'hadm_id'\n",
    "annotations.columns.values[1] = 'subject_id'\n",
    "\n",
    "pheno_admissions = list(set(annotations['hadm_id']))\n",
    "len(pheno_admissions)"
   ]
  },
  {
   "cell_type": "code",
   "execution_count": 4,
   "metadata": {},
   "outputs": [
    {
     "name": "stdout",
     "output_type": "stream",
     "text": [
      "5727\n"
     ]
    },
    {
     "data": {
      "text/plain": [
       "1846"
      ]
     },
     "execution_count": 4,
     "metadata": {},
     "output_type": "execute_result"
    }
   ],
   "source": [
    "print(len(data))\n",
    "original = data[data['hadm_id'].isin(pheno_admissions)]\n",
    "len(original)"
   ]
  },
  {
   "cell_type": "code",
   "execution_count": 5,
   "metadata": {},
   "outputs": [
    {
     "name": "stdout",
     "output_type": "stream",
     "text": [
      "5727\n"
     ]
    },
    {
     "data": {
      "text/plain": [
       "1846"
      ]
     },
     "execution_count": 5,
     "metadata": {},
     "output_type": "execute_result"
    }
   ],
   "source": [
    "print(len(synthetic_data))\n",
    "synthetic_data['hadm_id'] = data['hadm_id']\n",
    "synthetic = synthetic_data[synthetic_data['hadm_id'].isin(pheno_admissions)]\n",
    "len(synthetic)"
   ]
  },
  {
   "cell_type": "code",
   "execution_count": 6,
   "metadata": {},
   "outputs": [],
   "source": [
    "annotations = annotations.drop_duplicates(keep=\"last\")"
   ]
  },
  {
   "cell_type": "code",
   "execution_count": 7,
   "metadata": {},
   "outputs": [],
   "source": [
    "original=original.merge(annotations, left_on='hadm_id', right_on='hadm_id')\n",
    "synthetic=synthetic.merge(annotations, left_on='hadm_id', right_on='hadm_id')"
   ]
  },
  {
   "cell_type": "code",
   "execution_count": 8,
   "metadata": {},
   "outputs": [
    {
     "name": "stdout",
     "output_type": "stream",
     "text": [
      "1875\n",
      "1875\n"
     ]
    }
   ],
   "source": [
    "print(len(synthetic))\n",
    "print(len(original))"
   ]
  },
  {
   "cell_type": "code",
   "execution_count": 9,
   "metadata": {},
   "outputs": [],
   "source": [
    "original = original.drop(['hadm_id','subject_id','chart.time','cohort'], axis=1)\n",
    "synthetic = synthetic.drop(['hadm_id','subject_id','chart.time','cohort'], axis=1)"
   ]
  },
  {
   "cell_type": "code",
   "execution_count": 10,
   "metadata": {},
   "outputs": [
    {
     "data": {
      "text/plain": [
       "1500"
      ]
     },
     "execution_count": 10,
     "metadata": {},
     "output_type": "execute_result"
    }
   ],
   "source": [
    "original_val_test=original.sample(frac=0.2, replace=False, random_state=1) # 80% train\n",
    "excluded = list(original_val_test.index.values) \n",
    "original_train = original[~original.index.isin(excluded)]\n",
    "len(original_train)"
   ]
  },
  {
   "cell_type": "code",
   "execution_count": 11,
   "metadata": {},
   "outputs": [
    {
     "data": {
      "text/plain": [
       "1500"
      ]
     },
     "execution_count": 11,
     "metadata": {},
     "output_type": "execute_result"
    }
   ],
   "source": [
    "synthetic_val_test=synthetic.sample(frac=0.2, replace=False, random_state=1) # 80% train\n",
    "excluded = list(synthetic_val_test.index.values) \n",
    "synthetic_train = synthetic[~synthetic.index.isin(excluded)]\n",
    "len(synthetic_train)"
   ]
  },
  {
   "cell_type": "code",
   "execution_count": 12,
   "metadata": {},
   "outputs": [],
   "source": [
    "combined = original_train.append(synthetic_train, ignore_index=True)\n",
    "original_2x = original_train.append(original_train, ignore_index=True)"
   ]
  },
  {
   "cell_type": "markdown",
   "metadata": {},
   "source": [
    "Split each dataset into train, test and eval and save to disk:"
   ]
  },
  {
   "cell_type": "markdown",
   "metadata": {},
   "source": [
    "We need to ensure that the validation and test sets have never been seen before by the training set"
   ]
  },
  {
   "cell_type": "code",
   "execution_count": 13,
   "metadata": {},
   "outputs": [],
   "source": [
    "model = 'transformer'\n",
    "\n",
    "ORIGINAL = PHENOTYPE_CLASSIFICATION/model/'original/'\n",
    "ORIGINAL_2X = PHENOTYPE_CLASSIFICATION/model/'original_2x/'\n",
    "SYNTHETIC = PHENOTYPE_CLASSIFICATION/model/'synthetic/'\n",
    "COMBINED = PHENOTYPE_CLASSIFICATION/model/'combined/'\n",
    "\n",
    "ORIGINAL.mkdir(parents=True,exist_ok=True)\n",
    "ORIGINAL_2X.mkdir(parents=True,exist_ok=True)\n",
    "SYNTHETIC.mkdir(parents=True,exist_ok=True)\n",
    "COMBINED.mkdir(parents=True,exist_ok=True)"
   ]
  },
  {
   "cell_type": "code",
   "execution_count": 14,
   "metadata": {},
   "outputs": [],
   "source": [
    "original_val_test = original_val_test.reset_index(drop=True)\n",
    "original_train = original_train.reset_index(drop=True)\n",
    "\n",
    "split_idx_test = int(0.5 * len(original_val_test)) # 10% val, 10% test\n",
    "\n",
    "val = original_val_test.loc[:split_idx_test]\n",
    "test = original_val_test[split_idx_test:]"
   ]
  },
  {
   "cell_type": "code",
   "execution_count": 15,
   "metadata": {},
   "outputs": [],
   "source": [
    "def split_dataset(train, directory):\n",
    "    \n",
    "    print (len(train), len(val), len(test))\n",
    "    \n",
    "    train.to_csv(directory/'train.csv', sep=',', index = False)\n",
    "    val.to_csv(directory/'val.csv', sep=',', index = False)\n",
    "    test.to_csv(directory/'test.csv', sep=',', index = False)\n",
    "    \n",
    "    return"
   ]
  },
  {
   "cell_type": "code",
   "execution_count": 16,
   "metadata": {},
   "outputs": [
    {
     "name": "stdout",
     "output_type": "stream",
     "text": [
      "1500 188 188\n",
      "3000 188 188\n",
      "1500 188 188\n",
      "3000 188 188\n"
     ]
    }
   ],
   "source": [
    "split_dataset(original_train, ORIGINAL)\n",
    "split_dataset(original_2x, ORIGINAL_2X)\n",
    "split_dataset(synthetic_train, SYNTHETIC)\n",
    "split_dataset(combined, COMBINED)"
   ]
  },
  {
   "cell_type": "markdown",
   "metadata": {},
   "source": [
    "### Output categories"
   ]
  },
  {
   "cell_type": "code",
   "execution_count": 17,
   "metadata": {},
   "outputs": [
    {
     "name": "stdout",
     "output_type": "stream",
     "text": [
      "14\n",
      "['Advanced.Cancer', 'Advanced.Heart.Disease', 'Advanced.Lung.Disease', 'Alcohol.Abuse', 'Chronic.Neurological.Dystrophies', 'Chronic.Pain.Fibromyalgia', 'Dementia', 'Depression', 'Developmental.Delay.Retardation', 'Non.Adherence', 'Obesity', 'Other.Substance.Abuse', 'Schizophrenia.and.other.Psychiatric.Disorders', 'Unsure']\n"
     ]
    }
   ],
   "source": [
    "categories = sorted(synthetic)\n",
    "categories.remove('text')\n",
    "print(len(categories))\n",
    "print(categories)"
   ]
  },
  {
   "cell_type": "code",
   "execution_count": 18,
   "metadata": {},
   "outputs": [],
   "source": [
    "pd.DataFrame(categories).to_csv(PHENOTYPE_CLASSIFICATION/'labels.csv', sep=',', index = False,header=False)"
   ]
  },
  {
   "cell_type": "markdown",
   "metadata": {},
   "source": [
    "## EDA"
   ]
  },
  {
   "cell_type": "code",
   "execution_count": 26,
   "metadata": {},
   "outputs": [],
   "source": [
    "EDA = PHENOTYPE_CLASSIFICATION/model/'original_eda/'\n",
    "\n",
    "EDA.mkdir(parents=True,exist_ok=True)"
   ]
  },
  {
   "cell_type": "code",
   "execution_count": 20,
   "metadata": {},
   "outputs": [],
   "source": [
    "from eda import eda"
   ]
  },
  {
   "cell_type": "code",
   "execution_count": 21,
   "metadata": {},
   "outputs": [],
   "source": [
    "alpha = 0.1\n",
    "num_aug = 1 # number of augmented sentences per original sentence\n",
    "aug=[]\n",
    "\n",
    "for i in range(len(original_train)):\n",
    "    sentence = original_train['text'][i]\n",
    "    aug_sentences = eda.eda(sentence, alpha_sr=alpha, alpha_ri=alpha, alpha_rs=alpha, p_rd=alpha, num_aug=num_aug)\n",
    "    aug.append(aug_sentences)"
   ]
  },
  {
   "cell_type": "code",
   "execution_count": 22,
   "metadata": {},
   "outputs": [],
   "source": [
    "aug_text = pd.Series((v[0] for v in aug))\n",
    "original_eda = original_train\n",
    "original_eda['text']=aug_text"
   ]
  },
  {
   "cell_type": "code",
   "execution_count": 24,
   "metadata": {},
   "outputs": [],
   "source": [
    "eda = original_train.append(original_eda, ignore_index=True)"
   ]
  },
  {
   "cell_type": "code",
   "execution_count": 27,
   "metadata": {},
   "outputs": [
    {
     "name": "stdout",
     "output_type": "stream",
     "text": [
      "3000 188 188\n"
     ]
    }
   ],
   "source": [
    "split_dataset(eda, EDA)"
   ]
  }
 ],
 "metadata": {
  "kernelspec": {
   "display_name": "Python [conda env:root] *",
   "language": "python",
   "name": "conda-root-py"
  },
  "language_info": {
   "codemirror_mode": {
    "name": "ipython",
    "version": 3
   },
   "file_extension": ".py",
   "mimetype": "text/x-python",
   "name": "python",
   "nbconvert_exporter": "python",
   "pygments_lexer": "ipython3",
   "version": "3.7.3"
  }
 },
 "nbformat": 4,
 "nbformat_minor": 2
}
