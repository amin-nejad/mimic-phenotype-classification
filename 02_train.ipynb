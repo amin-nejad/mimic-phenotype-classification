{
 "cells": [
  {
   "cell_type": "markdown",
   "metadata": {},
   "source": [
    "# Train"
   ]
  },
  {
   "cell_type": "code",
   "execution_count": 1,
   "metadata": {},
   "outputs": [],
   "source": [
    "import pandas as pd\n",
    "import numpy as np\n",
    "from pathlib import Path\n",
    "import torch\n",
    "import apex\n",
    "import os\n",
    "import logging\n",
    "\n",
    "from pytorch_transformers import BertTokenizer\n",
    "from fast_bert.data_cls import BertDataBunch\n",
    "from fast_bert.learner_cls import BertLearner\n",
    "from fast_bert.metrics import accuracy_multilabel, accuracy_thresh, fbeta, roc_auc\n",
    "from fast_bert.prediction import BertClassificationPredictor"
   ]
  },
  {
   "cell_type": "markdown",
   "metadata": {},
   "source": [
    "Let's first:\n",
    "\n",
    "1. Assign our paths\n",
    "2. Check gpu status\n",
    "3. Import our labels\n",
    "4. Create a logger object\n",
    "5. Decide the metrics we want to report"
   ]
  },
  {
   "cell_type": "code",
   "execution_count": 2,
   "metadata": {},
   "outputs": [],
   "source": [
    "BASE = Path('data/phenotype_classification/')\n",
    "\n",
    "DATA_PATH = BASE/'transformer/original/' # change this as necessary\n",
    "LABEL_PATH = BASE\n",
    "OUTPUT_DIR = BASE/'transformer/original/output' # change this as necessary\n",
    "OUTPUT_DIR.mkdir(exist_ok=True)"
   ]
  },
  {
   "cell_type": "code",
   "execution_count": 3,
   "metadata": {},
   "outputs": [
    {
     "name": "stdout",
     "output_type": "stream",
     "text": [
      "True\n"
     ]
    }
   ],
   "source": [
    "# check if (multiple) GPUs are available\n",
    "\n",
    "multi_gpu=False\n",
    "\n",
    "if torch.cuda.is_available():\n",
    "    \n",
    "    device_cuda = torch.device(\"cuda\")\n",
    "    \n",
    "    if torch.cuda.device_count() > 1:\n",
    "        multi_gpu = True\n",
    "else:\n",
    "    device_cuda = torch.device(\"cpu\")\n",
    "    \n",
    "print (multi_gpu)"
   ]
  },
  {
   "cell_type": "code",
   "execution_count": 4,
   "metadata": {},
   "outputs": [
    {
     "data": {
      "text/plain": [
       "['Advanced.Cancer',\n",
       " 'Advanced.Heart.Disease',\n",
       " 'Advanced.Lung.Disease',\n",
       " 'Alcohol.Abuse',\n",
       " 'Chronic.Neurological.Dystrophies',\n",
       " 'Chronic.Pain.Fibromyalgia',\n",
       " 'Dementia',\n",
       " 'Depression',\n",
       " 'Developmental.Delay.Retardation',\n",
       " 'Non.Adherence',\n",
       " 'Obesity',\n",
       " 'Other.Substance.Abuse',\n",
       " 'Schizophrenia.and.other.Psychiatric.Disorders',\n",
       " 'Unsure']"
      ]
     },
     "execution_count": 4,
     "metadata": {},
     "output_type": "execute_result"
    }
   ],
   "source": [
    "categories = pd.read_csv(LABEL_PATH/'labels.csv', sep=',',header=None,names=[\"name\"])\n",
    "labels = list(categories['name'])\n",
    "labels"
   ]
  },
  {
   "cell_type": "code",
   "execution_count": 5,
   "metadata": {},
   "outputs": [],
   "source": [
    "logging.basicConfig(level=logging.NOTSET)\n",
    "logger = logging.getLogger()"
   ]
  },
  {
   "cell_type": "code",
   "execution_count": 6,
   "metadata": {},
   "outputs": [],
   "source": [
    "metrics = []\n",
    "metrics.append({'name': 'accuracy_multilabel', 'function': accuracy_multilabel})\n",
    "metrics.append({'name': 'accuracy_thresh', 'function': accuracy_thresh})\n",
    "metrics.append({'name': 'roc_auc', 'function': roc_auc})\n",
    "metrics.append({'name': 'fbeta', 'function': fbeta})"
   ]
  },
  {
   "cell_type": "markdown",
   "metadata": {},
   "source": [
    "## Pipeline"
   ]
  },
  {
   "cell_type": "markdown",
   "metadata": {},
   "source": [
    "#### Create a DataBunch object"
   ]
  },
  {
   "cell_type": "code",
   "execution_count": 9,
   "metadata": {},
   "outputs": [
    {
     "name": "stderr",
     "output_type": "stream",
     "text": [
      "DEBUG:urllib3.connectionpool:Starting new HTTPS connection (1): s3.amazonaws.com:443\n",
      "DEBUG:urllib3.connectionpool:https://s3.amazonaws.com:443 \"HEAD /models.huggingface.co/bert/bert-base-uncased-vocab.txt HTTP/1.1\" 200 0\n",
      "INFO:pytorch_transformers.tokenization_utils:loading file https://s3.amazonaws.com/models.huggingface.co/bert/bert-base-uncased-vocab.txt from cache at /home/aa5118/.cache/torch/pytorch_transformers/26bc1ad6c0ac742e9b52263248f6d0f00068293b33709fae12320c0e35ccfbbb.542ce4285a40d23a559526243235df47c5f75c197f04f37d1a0c124c32c9a084\n",
      "INFO:root:Writing example 0 of 1501\n",
      "INFO:root:Saving features into cached file data/phenotype_classification/transformer/original/cache/cached_train_multi_label_512\n",
      "INFO:root:Writing example 0 of 188\n",
      "INFO:root:Saving features into cached file data/phenotype_classification/transformer/original/cache/cached_dev_multi_label_512\n"
     ]
    }
   ],
   "source": [
    "databunch = BertDataBunch(DATA_PATH, \n",
    "                          LABEL_PATH,\n",
    "                          tokenizer='bert-base-uncased',\n",
    "                          train_file='train.csv',\n",
    "                          val_file='val.csv',\n",
    "                          text_col='text',\n",
    "                          label_file='labels.csv',\n",
    "                          label_col=labels,\n",
    "                          batch_size_per_gpu=8,\n",
    "                          max_seq_length=512,\n",
    "                          multi_gpu=multi_gpu,\n",
    "                          multi_label=True,\n",
    "                          model_type='bert',\n",
    "                          clear_cache=True)"
   ]
  },
  {
   "cell_type": "markdown",
   "metadata": {},
   "source": [
    "#### Create a Learner object"
   ]
  },
  {
   "cell_type": "code",
   "execution_count": 9,
   "metadata": {},
   "outputs": [
    {
     "name": "stderr",
     "output_type": "stream",
     "text": [
      "DEBUG:urllib3.connectionpool:Starting new HTTPS connection (1): s3.amazonaws.com:443\n",
      "DEBUG:urllib3.connectionpool:https://s3.amazonaws.com:443 \"HEAD /models.huggingface.co/bert/bert-base-uncased-config.json HTTP/1.1\" 200 0\n",
      "INFO:pytorch_transformers.modeling_utils:loading configuration file https://s3.amazonaws.com/models.huggingface.co/bert/bert-base-uncased-config.json from cache at /home/aa5118/.cache/torch/pytorch_transformers/4dad0251492946e18ac39290fcfe91b89d370fee250efe9521476438fe8ca185.bf3b9ea126d8c0001ee8a1e8b92229871d06d36d8808208cc2449280da87785c\n",
      "INFO:pytorch_transformers.modeling_utils:Model config {\n",
      "  \"attention_probs_dropout_prob\": 0.1,\n",
      "  \"finetuning_task\": null,\n",
      "  \"hidden_act\": \"gelu\",\n",
      "  \"hidden_dropout_prob\": 0.1,\n",
      "  \"hidden_size\": 768,\n",
      "  \"initializer_range\": 0.02,\n",
      "  \"intermediate_size\": 3072,\n",
      "  \"layer_norm_eps\": 1e-12,\n",
      "  \"max_position_embeddings\": 512,\n",
      "  \"num_attention_heads\": 12,\n",
      "  \"num_hidden_layers\": 12,\n",
      "  \"num_labels\": 14,\n",
      "  \"output_attentions\": false,\n",
      "  \"output_hidden_states\": false,\n",
      "  \"torchscript\": false,\n",
      "  \"type_vocab_size\": 2,\n",
      "  \"vocab_size\": 30522\n",
      "}\n",
      "\n",
      "DEBUG:urllib3.connectionpool:Starting new HTTPS connection (1): s3.amazonaws.com:443\n",
      "DEBUG:urllib3.connectionpool:https://s3.amazonaws.com:443 \"HEAD /models.huggingface.co/bert/bert-base-uncased-pytorch_model.bin HTTP/1.1\" 200 0\n",
      "INFO:pytorch_transformers.modeling_utils:loading weights file https://s3.amazonaws.com/models.huggingface.co/bert/bert-base-uncased-pytorch_model.bin from cache at /home/aa5118/.cache/torch/pytorch_transformers/aa1ef1aede4482d0dbcd4d52baad8ae300e60902e88fcb0bebdec09afd232066.36ca03ab34a1a5d5fa7bc3d03d55c4fa650fed07220e2eeebc06ce58d0e9a157\n",
      "INFO:pytorch_transformers.modeling_utils:Weights of BertForMultiLabelSequenceClassification not initialized from pretrained model: ['classifier.weight', 'classifier.bias']\n",
      "INFO:pytorch_transformers.modeling_utils:Weights from pretrained model not used in BertForMultiLabelSequenceClassification: ['cls.predictions.bias', 'cls.predictions.transform.dense.weight', 'cls.predictions.transform.dense.bias', 'cls.predictions.decoder.weight', 'cls.seq_relationship.weight', 'cls.seq_relationship.bias', 'cls.predictions.transform.LayerNorm.weight', 'cls.predictions.transform.LayerNorm.bias']\n"
     ]
    }
   ],
   "source": [
    "learner = BertLearner.from_pretrained_model(databunch,\n",
    "                                            pretrained_path='bert-base-uncased',\n",
    "                                            metrics=metrics,\n",
    "                                            device=device_cuda,\n",
    "                                            logger=logger,\n",
    "                                            output_dir=OUTPUT_DIR,\n",
    "                                            finetuned_wgts_path=None,\n",
    "                                            warmup_steps=500,\n",
    "                                            multi_gpu=multi_gpu,\n",
    "                                            is_fp16=True,\n",
    "                                            multi_label=True,\n",
    "                                            logging_steps=20)"
   ]
  },
  {
   "cell_type": "markdown",
   "metadata": {},
   "source": [
    "#### Train the model"
   ]
  },
  {
   "cell_type": "code",
   "execution_count": 10,
   "metadata": {},
   "outputs": [
    {
     "name": "stderr",
     "output_type": "stream",
     "text": [
      "INFO:root:***** Running training *****\n",
      "INFO:root:  Num examples = 1501\n",
      "INFO:root:  Num Epochs = 20\n",
      "INFO:root:  Total train batch size (w. parallel, distributed & accumulation) = 32\n",
      "INFO:root:  Gradient Accumulation steps = 1\n",
      "INFO:root:  Total optimization steps = 940\n"
     ]
    },
    {
     "name": "stdout",
     "output_type": "stream",
     "text": [
      "data/phenotype_classification/transformer/original/output/tensorboard\n",
      "Selected optimization level O1:  Insert automatic casts around Pytorch functions and Tensor methods.\n",
      "\n",
      "Defaults for this optimization level are:\n",
      "enabled                : True\n",
      "opt_level              : O1\n",
      "cast_model_type        : None\n",
      "patch_torch_functions  : True\n",
      "keep_batchnorm_fp32    : None\n",
      "master_weights         : None\n",
      "loss_scale             : dynamic\n",
      "Processing user overrides (additional kwargs that are not None)...\n",
      "After processing overrides, optimization options are:\n",
      "enabled                : True\n",
      "opt_level              : O1\n",
      "cast_model_type        : None\n",
      "patch_torch_functions  : True\n",
      "keep_batchnorm_fp32    : None\n",
      "master_weights         : None\n",
      "loss_scale             : dynamic\n"
     ]
    },
    {
     "data": {
      "text/html": [],
      "text/plain": [
       "<IPython.core.display.HTML object>"
      ]
     },
     "metadata": {},
     "output_type": "display_data"
    },
    {
     "name": "stderr",
     "output_type": "stream",
     "text": [
      "/home/aa5118/anaconda3/lib/python3.7/site-packages/torch/nn/parallel/_functions.py:61: UserWarning: Was asked to gather along dimension 0, but all input tensors were scalars; will instead unsqueeze and return a vector.\n",
      "  warnings.warn('Was asked to gather along dimension 0, but all '\n",
      "INFO:root:Running evaluation\n",
      "INFO:root:  Num examples = 188\n",
      "INFO:root:  Batch size = 32\n"
     ]
    },
    {
     "data": {
      "text/html": [
       "\n",
       "    <div>\n",
       "        <style>\n",
       "            /* Turns off some styling */\n",
       "            progress {\n",
       "                /* gets rid of default border in Firefox and Opera. */\n",
       "                border: none;\n",
       "                /* Needs to be in here for Safari polyfill so background images work as expected. */\n",
       "                background-size: auto;\n",
       "            }\n",
       "            .progress-bar-interrupted, .progress-bar-interrupted::-webkit-progress-bar {\n",
       "                background: #F44336;\n",
       "            }\n",
       "        </style>\n",
       "      <progress value='6' class='' max='6', style='width:300px; height:20px; vertical-align: middle;'></progress>\n",
       "      100.00% [6/6 00:07<00:00]\n",
       "    </div>\n",
       "    "
      ],
      "text/plain": [
       "<IPython.core.display.HTML object>"
      ]
     },
     "metadata": {},
     "output_type": "display_data"
    },
    {
     "name": "stderr",
     "output_type": "stream",
     "text": [
      "INFO:root:eval_loss after step 20: 0.6848235229651133: \n",
      "INFO:root:eval_accuracy_multilabel after step 20: 0.026595744680851064: \n",
      "INFO:root:eval_accuracy_thresh after step 20: 0.5167173147201538: \n",
      "INFO:root:eval_roc_auc after step 20: 0.41002714468924506: \n",
      "INFO:root:eval_fbeta after step 20: 0.32542797923088074: \n",
      "INFO:root:lr after step 20: 2.4000000000000003e-06\n",
      "INFO:root:train_loss after step 20: 0.715276351571083\n",
      "INFO:root:Running evaluation\n",
      "INFO:root:  Num examples = 188\n",
      "INFO:root:  Batch size = 32\n"
     ]
    },
    {
     "data": {
      "text/html": [
       "\n",
       "    <div>\n",
       "        <style>\n",
       "            /* Turns off some styling */\n",
       "            progress {\n",
       "                /* gets rid of default border in Firefox and Opera. */\n",
       "                border: none;\n",
       "                /* Needs to be in here for Safari polyfill so background images work as expected. */\n",
       "                background-size: auto;\n",
       "            }\n",
       "            .progress-bar-interrupted, .progress-bar-interrupted::-webkit-progress-bar {\n",
       "                background: #F44336;\n",
       "            }\n",
       "        </style>\n",
       "      <progress value='6' class='' max='6', style='width:300px; height:20px; vertical-align: middle;'></progress>\n",
       "      100.00% [6/6 00:07<00:00]\n",
       "    </div>\n",
       "    "
      ],
      "text/plain": [
       "<IPython.core.display.HTML object>"
      ]
     },
     "metadata": {},
     "output_type": "display_data"
    },
    {
     "name": "stderr",
     "output_type": "stream",
     "text": [
      "INFO:root:eval_loss after step 40: 0.5737837851047516: \n",
      "INFO:root:eval_accuracy_multilabel after step 40: 0.0797872340425532: \n",
      "INFO:root:eval_accuracy_thresh after step 40: 0.822568416595459: \n",
      "INFO:root:eval_roc_auc after step 40: 0.5991413766728202: \n",
      "INFO:root:eval_fbeta after step 40: 0.3410872220993042: \n",
      "INFO:root:lr after step 40: 4.800000000000001e-06\n",
      "INFO:root:train_loss after step 40: 0.6381511867046357\n",
      "INFO:root:Running evaluation\n",
      "INFO:root:  Num examples = 188\n",
      "INFO:root:  Batch size = 32\n"
     ]
    },
    {
     "data": {
      "text/html": [
       "\n",
       "    <div>\n",
       "        <style>\n",
       "            /* Turns off some styling */\n",
       "            progress {\n",
       "                /* gets rid of default border in Firefox and Opera. */\n",
       "                border: none;\n",
       "                /* Needs to be in here for Safari polyfill so background images work as expected. */\n",
       "                background-size: auto;\n",
       "            }\n",
       "            .progress-bar-interrupted, .progress-bar-interrupted::-webkit-progress-bar {\n",
       "                background: #F44336;\n",
       "            }\n",
       "        </style>\n",
       "      <progress value='6' class='' max='6', style='width:300px; height:20px; vertical-align: middle;'></progress>\n",
       "      100.00% [6/6 00:07<00:00]\n",
       "    </div>\n",
       "    "
      ],
      "text/plain": [
       "<IPython.core.display.HTML object>"
      ]
     },
     "metadata": {},
     "output_type": "display_data"
    },
    {
     "name": "stderr",
     "output_type": "stream",
     "text": [
      "INFO:root:eval_loss after epoch 1: 0.5580857396125793: \n",
      "INFO:root:eval_accuracy_multilabel after epoch 1: 0.0797872340425532: \n",
      "INFO:root:eval_accuracy_thresh after epoch 1: 0.8237082362174988: \n",
      "INFO:root:eval_roc_auc after epoch 1: 0.5791796782894245: \n",
      "INFO:root:eval_fbeta after epoch 1: 0.32421910762786865: \n",
      "INFO:root:Running evaluation\n",
      "INFO:root:  Num examples = 188\n",
      "INFO:root:  Batch size = 32\n"
     ]
    },
    {
     "data": {
      "text/html": [
       "\n",
       "    <div>\n",
       "        <style>\n",
       "            /* Turns off some styling */\n",
       "            progress {\n",
       "                /* gets rid of default border in Firefox and Opera. */\n",
       "                border: none;\n",
       "                /* Needs to be in here for Safari polyfill so background images work as expected. */\n",
       "                background-size: auto;\n",
       "            }\n",
       "            .progress-bar-interrupted, .progress-bar-interrupted::-webkit-progress-bar {\n",
       "                background: #F44336;\n",
       "            }\n",
       "        </style>\n",
       "      <progress value='6' class='' max='6', style='width:300px; height:20px; vertical-align: middle;'></progress>\n",
       "      100.00% [6/6 00:07<00:00]\n",
       "    </div>\n",
       "    "
      ],
      "text/plain": [
       "<IPython.core.display.HTML object>"
      ]
     },
     "metadata": {},
     "output_type": "display_data"
    },
    {
     "name": "stderr",
     "output_type": "stream",
     "text": [
      "INFO:root:eval_loss after step 60: 0.4910062899192174: \n",
      "INFO:root:eval_accuracy_multilabel after step 60: 0.0851063829787234: \n",
      "INFO:root:eval_accuracy_thresh after step 60: 0.8867781162261963: \n",
      "INFO:root:eval_roc_auc after step 60: 0.6083242755185959: \n",
      "INFO:root:eval_fbeta after step 60: 0.341076523065567: \n",
      "INFO:root:lr after step 60: 7.2e-06\n",
      "INFO:root:train_loss after step 60: 0.5493393182754517\n",
      "INFO:root:Running evaluation\n",
      "INFO:root:  Num examples = 188\n",
      "INFO:root:  Batch size = 32\n"
     ]
    },
    {
     "data": {
      "text/html": [
       "\n",
       "    <div>\n",
       "        <style>\n",
       "            /* Turns off some styling */\n",
       "            progress {\n",
       "                /* gets rid of default border in Firefox and Opera. */\n",
       "                border: none;\n",
       "                /* Needs to be in here for Safari polyfill so background images work as expected. */\n",
       "                background-size: auto;\n",
       "            }\n",
       "            .progress-bar-interrupted, .progress-bar-interrupted::-webkit-progress-bar {\n",
       "                background: #F44336;\n",
       "            }\n",
       "        </style>\n",
       "      <progress value='6' class='' max='6', style='width:300px; height:20px; vertical-align: middle;'></progress>\n",
       "      100.00% [6/6 00:07<00:00]\n",
       "    </div>\n",
       "    "
      ],
      "text/plain": [
       "<IPython.core.display.HTML object>"
      ]
     },
     "metadata": {},
     "output_type": "display_data"
    },
    {
     "name": "stderr",
     "output_type": "stream",
     "text": [
      "INFO:root:eval_loss after step 80: 0.42475944260756177: \n",
      "INFO:root:eval_accuracy_multilabel after step 80: 0.10638297872340426: \n",
      "INFO:root:eval_accuracy_thresh after step 80: 0.8867781162261963: \n",
      "INFO:root:eval_roc_auc after step 80: 0.643564925840939: \n",
      "INFO:root:eval_fbeta after step 80: 0.2973541021347046: \n",
      "INFO:root:lr after step 80: 9.600000000000001e-06\n",
      "INFO:root:train_loss after step 80: 0.47869707494974134\n",
      "INFO:root:Running evaluation\n",
      "INFO:root:  Num examples = 188\n",
      "INFO:root:  Batch size = 32\n"
     ]
    },
    {
     "data": {
      "text/html": [
       "\n",
       "    <div>\n",
       "        <style>\n",
       "            /* Turns off some styling */\n",
       "            progress {\n",
       "                /* gets rid of default border in Firefox and Opera. */\n",
       "                border: none;\n",
       "                /* Needs to be in here for Safari polyfill so background images work as expected. */\n",
       "                background-size: auto;\n",
       "            }\n",
       "            .progress-bar-interrupted, .progress-bar-interrupted::-webkit-progress-bar {\n",
       "                background: #F44336;\n",
       "            }\n",
       "        </style>\n",
       "      <progress value='6' class='' max='6', style='width:300px; height:20px; vertical-align: middle;'></progress>\n",
       "      100.00% [6/6 00:07<00:00]\n",
       "    </div>\n",
       "    "
      ],
      "text/plain": [
       "<IPython.core.display.HTML object>"
      ]
     },
     "metadata": {},
     "output_type": "display_data"
    },
    {
     "name": "stderr",
     "output_type": "stream",
     "text": [
      "INFO:root:eval_loss after epoch 2: 0.39617985983689624: \n",
      "INFO:root:eval_accuracy_multilabel after epoch 2: 0.05319148936170213: \n",
      "INFO:root:eval_accuracy_thresh after epoch 2: 0.8867781162261963: \n",
      "INFO:root:eval_roc_auc after epoch 2: 0.6615748808106601: \n",
      "INFO:root:eval_fbeta after epoch 2: 0.24539975821971893: \n",
      "INFO:root:Running evaluation\n",
      "INFO:root:  Num examples = 188\n",
      "INFO:root:  Batch size = 32\n"
     ]
    },
    {
     "data": {
      "text/html": [
       "\n",
       "    <div>\n",
       "        <style>\n",
       "            /* Turns off some styling */\n",
       "            progress {\n",
       "                /* gets rid of default border in Firefox and Opera. */\n",
       "                border: none;\n",
       "                /* Needs to be in here for Safari polyfill so background images work as expected. */\n",
       "                background-size: auto;\n",
       "            }\n",
       "            .progress-bar-interrupted, .progress-bar-interrupted::-webkit-progress-bar {\n",
       "                background: #F44336;\n",
       "            }\n",
       "        </style>\n",
       "      <progress value='6' class='' max='6', style='width:300px; height:20px; vertical-align: middle;'></progress>\n",
       "      100.00% [6/6 00:07<00:00]\n",
       "    </div>\n",
       "    "
      ],
      "text/plain": [
       "<IPython.core.display.HTML object>"
      ]
     },
     "metadata": {},
     "output_type": "display_data"
    },
    {
     "name": "stderr",
     "output_type": "stream",
     "text": [
      "INFO:root:eval_loss after step 100: 0.3839411735534668: \n",
      "INFO:root:eval_accuracy_multilabel after step 100: 0.05851063829787234: \n",
      "INFO:root:eval_accuracy_thresh after step 100: 0.8867781162261963: \n",
      "INFO:root:eval_roc_auc after step 100: 0.6532445667489059: \n",
      "INFO:root:eval_fbeta after step 100: 0.19284003973007202: \n",
      "INFO:root:lr after step 100: 1.2e-05\n",
      "INFO:root:train_loss after step 100: 0.43761933147907256\n",
      "INFO:root:Running evaluation\n",
      "INFO:root:  Num examples = 188\n",
      "INFO:root:  Batch size = 32\n"
     ]
    },
    {
     "data": {
      "text/html": [
       "\n",
       "    <div>\n",
       "        <style>\n",
       "            /* Turns off some styling */\n",
       "            progress {\n",
       "                /* gets rid of default border in Firefox and Opera. */\n",
       "                border: none;\n",
       "                /* Needs to be in here for Safari polyfill so background images work as expected. */\n",
       "                background-size: auto;\n",
       "            }\n",
       "            .progress-bar-interrupted, .progress-bar-interrupted::-webkit-progress-bar {\n",
       "                background: #F44336;\n",
       "            }\n",
       "        </style>\n",
       "      <progress value='6' class='' max='6', style='width:300px; height:20px; vertical-align: middle;'></progress>\n",
       "      100.00% [6/6 00:07<00:00]\n",
       "    </div>\n",
       "    "
      ],
      "text/plain": [
       "<IPython.core.display.HTML object>"
      ]
     },
     "metadata": {},
     "output_type": "display_data"
    },
    {
     "name": "stderr",
     "output_type": "stream",
     "text": [
      "INFO:root:eval_loss after step 120: 0.36205873390038806: \n",
      "INFO:root:eval_accuracy_multilabel after step 120: 0.047872340425531915: \n",
      "INFO:root:eval_accuracy_thresh after step 120: 0.8867781162261963: \n",
      "INFO:root:eval_roc_auc after step 120: 0.6707347756824991: \n",
      "INFO:root:eval_fbeta after step 120: 0.12755055725574493: \n",
      "INFO:root:lr after step 120: 1.44e-05\n",
      "INFO:root:train_loss after step 120: 0.40733384191989896\n",
      "INFO:root:Running evaluation\n",
      "INFO:root:  Num examples = 188\n",
      "INFO:root:  Batch size = 32\n"
     ]
    },
    {
     "data": {
      "text/html": [
       "\n",
       "    <div>\n",
       "        <style>\n",
       "            /* Turns off some styling */\n",
       "            progress {\n",
       "                /* gets rid of default border in Firefox and Opera. */\n",
       "                border: none;\n",
       "                /* Needs to be in here for Safari polyfill so background images work as expected. */\n",
       "                background-size: auto;\n",
       "            }\n",
       "            .progress-bar-interrupted, .progress-bar-interrupted::-webkit-progress-bar {\n",
       "                background: #F44336;\n",
       "            }\n",
       "        </style>\n",
       "      <progress value='6' class='' max='6', style='width:300px; height:20px; vertical-align: middle;'></progress>\n",
       "      100.00% [6/6 00:07<00:00]\n",
       "    </div>\n",
       "    "
      ],
      "text/plain": [
       "<IPython.core.display.HTML object>"
      ]
     },
     "metadata": {},
     "output_type": "display_data"
    },
    {
     "name": "stderr",
     "output_type": "stream",
     "text": [
      "INFO:root:eval_loss after step 140: 0.34749147295951843: \n",
      "INFO:root:eval_accuracy_multilabel after step 140: 0.047872340425531915: \n",
      "INFO:root:eval_accuracy_thresh after step 140: 0.8867781162261963: \n",
      "INFO:root:eval_roc_auc after step 140: 0.6568080260865066: \n",
      "INFO:root:eval_fbeta after step 140: 0.002045826520770788: \n",
      "INFO:root:lr after step 140: 1.6800000000000002e-05\n",
      "INFO:root:train_loss after step 140: 0.38489552289247514\n",
      "INFO:root:Running evaluation\n",
      "INFO:root:  Num examples = 188\n",
      "INFO:root:  Batch size = 32\n"
     ]
    },
    {
     "data": {
      "text/html": [
       "\n",
       "    <div>\n",
       "        <style>\n",
       "            /* Turns off some styling */\n",
       "            progress {\n",
       "                /* gets rid of default border in Firefox and Opera. */\n",
       "                border: none;\n",
       "                /* Needs to be in here for Safari polyfill so background images work as expected. */\n",
       "                background-size: auto;\n",
       "            }\n",
       "            .progress-bar-interrupted, .progress-bar-interrupted::-webkit-progress-bar {\n",
       "                background: #F44336;\n",
       "            }\n",
       "        </style>\n",
       "      <progress value='6' class='' max='6', style='width:300px; height:20px; vertical-align: middle;'></progress>\n",
       "      100.00% [6/6 00:07<00:00]\n",
       "    </div>\n",
       "    "
      ],
      "text/plain": [
       "<IPython.core.display.HTML object>"
      ]
     },
     "metadata": {},
     "output_type": "display_data"
    },
    {
     "name": "stderr",
     "output_type": "stream",
     "text": [
      "INFO:root:eval_loss after epoch 3: 0.3469454348087311: \n",
      "INFO:root:eval_accuracy_multilabel after epoch 3: 0.047872340425531915: \n",
      "INFO:root:eval_accuracy_thresh after epoch 3: 0.8867781162261963: \n",
      "INFO:root:eval_roc_auc after epoch 3: 0.6577936025948483: \n",
      "INFO:root:eval_fbeta after epoch 3: 0.010001818649470806: \n",
      "INFO:root:Running evaluation\n",
      "INFO:root:  Num examples = 188\n",
      "INFO:root:  Batch size = 32\n"
     ]
    },
    {
     "data": {
      "text/html": [
       "\n",
       "    <div>\n",
       "        <style>\n",
       "            /* Turns off some styling */\n",
       "            progress {\n",
       "                /* gets rid of default border in Firefox and Opera. */\n",
       "                border: none;\n",
       "                /* Needs to be in here for Safari polyfill so background images work as expected. */\n",
       "                background-size: auto;\n",
       "            }\n",
       "            .progress-bar-interrupted, .progress-bar-interrupted::-webkit-progress-bar {\n",
       "                background: #F44336;\n",
       "            }\n",
       "        </style>\n",
       "      <progress value='6' class='' max='6', style='width:300px; height:20px; vertical-align: middle;'></progress>\n",
       "      100.00% [6/6 00:07<00:00]\n",
       "    </div>\n",
       "    "
      ],
      "text/plain": [
       "<IPython.core.display.HTML object>"
      ]
     },
     "metadata": {},
     "output_type": "display_data"
    },
    {
     "name": "stderr",
     "output_type": "stream",
     "text": [
      "INFO:root:eval_loss after step 160: 0.3416449874639511: \n",
      "INFO:root:eval_accuracy_multilabel after step 160: 0.047872340425531915: \n",
      "INFO:root:eval_accuracy_thresh after step 160: 0.8867781162261963: \n",
      "INFO:root:eval_roc_auc after step 160: 0.6565772674729559: \n",
      "INFO:root:eval_fbeta after step 160: 0.0: \n",
      "INFO:root:lr after step 160: 1.9200000000000003e-05\n",
      "INFO:root:train_loss after step 160: 0.3810590222477913\n",
      "INFO:root:Running evaluation\n",
      "INFO:root:  Num examples = 188\n",
      "INFO:root:  Batch size = 32\n"
     ]
    },
    {
     "data": {
      "text/html": [
       "\n",
       "    <div>\n",
       "        <style>\n",
       "            /* Turns off some styling */\n",
       "            progress {\n",
       "                /* gets rid of default border in Firefox and Opera. */\n",
       "                border: none;\n",
       "                /* Needs to be in here for Safari polyfill so background images work as expected. */\n",
       "                background-size: auto;\n",
       "            }\n",
       "            .progress-bar-interrupted, .progress-bar-interrupted::-webkit-progress-bar {\n",
       "                background: #F44336;\n",
       "            }\n",
       "        </style>\n",
       "      <progress value='6' class='' max='6', style='width:300px; height:20px; vertical-align: middle;'></progress>\n",
       "      100.00% [6/6 00:07<00:00]\n",
       "    </div>\n",
       "    "
      ],
      "text/plain": [
       "<IPython.core.display.HTML object>"
      ]
     },
     "metadata": {},
     "output_type": "display_data"
    },
    {
     "name": "stderr",
     "output_type": "stream",
     "text": [
      "INFO:root:eval_loss after step 180: 0.3432370076576869: \n",
      "INFO:root:eval_accuracy_multilabel after step 180: 0.047872340425531915: \n",
      "INFO:root:eval_accuracy_thresh after step 180: 0.8867781162261963: \n",
      "INFO:root:eval_roc_auc after step 180: 0.6674049504551911: \n",
      "INFO:root:eval_fbeta after step 180: 0.12017826735973358: \n",
      "INFO:root:lr after step 180: 2.16e-05\n",
      "INFO:root:train_loss after step 180: 0.37624176442623136\n",
      "INFO:root:Running evaluation\n",
      "INFO:root:  Num examples = 188\n",
      "INFO:root:  Batch size = 32\n"
     ]
    },
    {
     "data": {
      "text/html": [
       "\n",
       "    <div>\n",
       "        <style>\n",
       "            /* Turns off some styling */\n",
       "            progress {\n",
       "                /* gets rid of default border in Firefox and Opera. */\n",
       "                border: none;\n",
       "                /* Needs to be in here for Safari polyfill so background images work as expected. */\n",
       "                background-size: auto;\n",
       "            }\n",
       "            .progress-bar-interrupted, .progress-bar-interrupted::-webkit-progress-bar {\n",
       "                background: #F44336;\n",
       "            }\n",
       "        </style>\n",
       "      <progress value='6' class='' max='6', style='width:300px; height:20px; vertical-align: middle;'></progress>\n",
       "      100.00% [6/6 00:07<00:00]\n",
       "    </div>\n",
       "    "
      ],
      "text/plain": [
       "<IPython.core.display.HTML object>"
      ]
     },
     "metadata": {},
     "output_type": "display_data"
    },
    {
     "name": "stderr",
     "output_type": "stream",
     "text": [
      "INFO:root:eval_loss after epoch 4: 0.33995052178700763: \n",
      "INFO:root:eval_accuracy_multilabel after epoch 4: 0.047872340425531915: \n",
      "INFO:root:eval_accuracy_thresh after epoch 4: 0.8867781162261963: \n",
      "INFO:root:eval_roc_auc after epoch 4: 0.6546844717424936: \n",
      "INFO:root:eval_fbeta after epoch 4: 0.0: \n",
      "INFO:root:Running evaluation\n",
      "INFO:root:  Num examples = 188\n",
      "INFO:root:  Batch size = 32\n"
     ]
    },
    {
     "data": {
      "text/html": [
       "\n",
       "    <div>\n",
       "        <style>\n",
       "            /* Turns off some styling */\n",
       "            progress {\n",
       "                /* gets rid of default border in Firefox and Opera. */\n",
       "                border: none;\n",
       "                /* Needs to be in here for Safari polyfill so background images work as expected. */\n",
       "                background-size: auto;\n",
       "            }\n",
       "            .progress-bar-interrupted, .progress-bar-interrupted::-webkit-progress-bar {\n",
       "                background: #F44336;\n",
       "            }\n",
       "        </style>\n",
       "      <progress value='6' class='' max='6', style='width:300px; height:20px; vertical-align: middle;'></progress>\n",
       "      100.00% [6/6 00:07<00:00]\n",
       "    </div>\n",
       "    "
      ],
      "text/plain": [
       "<IPython.core.display.HTML object>"
      ]
     },
     "metadata": {},
     "output_type": "display_data"
    },
    {
     "name": "stderr",
     "output_type": "stream",
     "text": [
      "INFO:root:eval_loss after step 200: 0.33830442031224567: \n",
      "INFO:root:eval_accuracy_multilabel after step 200: 0.047872340425531915: \n",
      "INFO:root:eval_accuracy_thresh after step 200: 0.8867781162261963: \n",
      "INFO:root:eval_roc_auc after step 200: 0.667814708740935: \n",
      "INFO:root:eval_fbeta after step 200: 0.027354096993803978: \n",
      "INFO:root:lr after step 200: 2.4e-05\n",
      "INFO:root:train_loss after step 200: 0.3689279228448868\n",
      "INFO:root:Running evaluation\n",
      "INFO:root:  Num examples = 188\n",
      "INFO:root:  Batch size = 32\n"
     ]
    },
    {
     "data": {
      "text/html": [
       "\n",
       "    <div>\n",
       "        <style>\n",
       "            /* Turns off some styling */\n",
       "            progress {\n",
       "                /* gets rid of default border in Firefox and Opera. */\n",
       "                border: none;\n",
       "                /* Needs to be in here for Safari polyfill so background images work as expected. */\n",
       "                background-size: auto;\n",
       "            }\n",
       "            .progress-bar-interrupted, .progress-bar-interrupted::-webkit-progress-bar {\n",
       "                background: #F44336;\n",
       "            }\n",
       "        </style>\n",
       "      <progress value='6' class='' max='6', style='width:300px; height:20px; vertical-align: middle;'></progress>\n",
       "      100.00% [6/6 00:07<00:00]\n",
       "    </div>\n",
       "    "
      ],
      "text/plain": [
       "<IPython.core.display.HTML object>"
      ]
     },
     "metadata": {},
     "output_type": "display_data"
    },
    {
     "name": "stderr",
     "output_type": "stream",
     "text": [
      "INFO:root:eval_loss after step 220: 0.33772335946559906: \n",
      "INFO:root:eval_accuracy_multilabel after step 220: 0.047872340425531915: \n",
      "INFO:root:eval_accuracy_thresh after step 220: 0.8867781162261963: \n",
      "INFO:root:eval_roc_auc after step 220: 0.6688678594227153: \n",
      "INFO:root:eval_fbeta after step 220: 0.04393598809838295: \n",
      "INFO:root:lr after step 220: 2.64e-05\n",
      "INFO:root:train_loss after step 220: 0.37574382275342944\n",
      "INFO:root:Running evaluation\n",
      "INFO:root:  Num examples = 188\n",
      "INFO:root:  Batch size = 32\n"
     ]
    },
    {
     "data": {
      "text/html": [
       "\n",
       "    <div>\n",
       "        <style>\n",
       "            /* Turns off some styling */\n",
       "            progress {\n",
       "                /* gets rid of default border in Firefox and Opera. */\n",
       "                border: none;\n",
       "                /* Needs to be in here for Safari polyfill so background images work as expected. */\n",
       "                background-size: auto;\n",
       "            }\n",
       "            .progress-bar-interrupted, .progress-bar-interrupted::-webkit-progress-bar {\n",
       "                background: #F44336;\n",
       "            }\n",
       "        </style>\n",
       "      <progress value='6' class='' max='6', style='width:300px; height:20px; vertical-align: middle;'></progress>\n",
       "      100.00% [6/6 00:07<00:00]\n",
       "    </div>\n",
       "    "
      ],
      "text/plain": [
       "<IPython.core.display.HTML object>"
      ]
     },
     "metadata": {},
     "output_type": "display_data"
    },
    {
     "name": "stderr",
     "output_type": "stream",
     "text": [
      "INFO:root:eval_loss after epoch 5: 0.3348299413919449: \n",
      "INFO:root:eval_accuracy_multilabel after epoch 5: 0.047872340425531915: \n",
      "INFO:root:eval_accuracy_thresh after epoch 5: 0.8867781162261963: \n",
      "INFO:root:eval_roc_auc after epoch 5: 0.6738194648125464: \n",
      "INFO:root:eval_fbeta after epoch 5: 0.0667455717921257: \n",
      "INFO:root:Running evaluation\n",
      "INFO:root:  Num examples = 188\n",
      "INFO:root:  Batch size = 32\n"
     ]
    },
    {
     "data": {
      "text/html": [
       "\n",
       "    <div>\n",
       "        <style>\n",
       "            /* Turns off some styling */\n",
       "            progress {\n",
       "                /* gets rid of default border in Firefox and Opera. */\n",
       "                border: none;\n",
       "                /* Needs to be in here for Safari polyfill so background images work as expected. */\n",
       "                background-size: auto;\n",
       "            }\n",
       "            .progress-bar-interrupted, .progress-bar-interrupted::-webkit-progress-bar {\n",
       "                background: #F44336;\n",
       "            }\n",
       "        </style>\n",
       "      <progress value='6' class='' max='6', style='width:300px; height:20px; vertical-align: middle;'></progress>\n",
       "      100.00% [6/6 00:07<00:00]\n",
       "    </div>\n",
       "    "
      ],
      "text/plain": [
       "<IPython.core.display.HTML object>"
      ]
     },
     "metadata": {},
     "output_type": "display_data"
    },
    {
     "name": "stderr",
     "output_type": "stream",
     "text": [
      "INFO:root:eval_loss after step 240: 0.33370732764403027: \n",
      "INFO:root:eval_accuracy_multilabel after step 240: 0.0851063829787234: \n",
      "INFO:root:eval_accuracy_thresh after step 240: 0.8867781162261963: \n",
      "INFO:root:eval_roc_auc after step 240: 0.6775576105772273: \n",
      "INFO:root:eval_fbeta after step 240: 0.023428820073604584: \n",
      "INFO:root:lr after step 240: 2.88e-05\n",
      "INFO:root:train_loss after step 240: 0.37144800275564194\n",
      "INFO:root:Running evaluation\n",
      "INFO:root:  Num examples = 188\n",
      "INFO:root:  Batch size = 32\n"
     ]
    },
    {
     "data": {
      "text/html": [
       "\n",
       "    <div>\n",
       "        <style>\n",
       "            /* Turns off some styling */\n",
       "            progress {\n",
       "                /* gets rid of default border in Firefox and Opera. */\n",
       "                border: none;\n",
       "                /* Needs to be in here for Safari polyfill so background images work as expected. */\n",
       "                background-size: auto;\n",
       "            }\n",
       "            .progress-bar-interrupted, .progress-bar-interrupted::-webkit-progress-bar {\n",
       "                background: #F44336;\n",
       "            }\n",
       "        </style>\n",
       "      <progress value='6' class='' max='6', style='width:300px; height:20px; vertical-align: middle;'></progress>\n",
       "      100.00% [6/6 00:07<00:00]\n",
       "    </div>\n",
       "    "
      ],
      "text/plain": [
       "<IPython.core.display.HTML object>"
      ]
     },
     "metadata": {},
     "output_type": "display_data"
    },
    {
     "name": "stderr",
     "output_type": "stream",
     "text": [
      "INFO:root:eval_loss after step 260: 0.3330939511458079: \n",
      "INFO:root:eval_accuracy_multilabel after step 260: 0.047872340425531915: \n",
      "INFO:root:eval_accuracy_thresh after step 260: 0.886398196220398: \n",
      "INFO:root:eval_roc_auc after step 260: 0.6885585422381717: \n",
      "INFO:root:eval_fbeta after step 260: 0.12998396158218384: \n",
      "INFO:root:lr after step 260: 3.12e-05\n",
      "INFO:root:train_loss after step 260: 0.3620541974902153\n",
      "INFO:root:Running evaluation\n",
      "INFO:root:  Num examples = 188\n",
      "INFO:root:  Batch size = 32\n"
     ]
    },
    {
     "data": {
      "text/html": [
       "\n",
       "    <div>\n",
       "        <style>\n",
       "            /* Turns off some styling */\n",
       "            progress {\n",
       "                /* gets rid of default border in Firefox and Opera. */\n",
       "                border: none;\n",
       "                /* Needs to be in here for Safari polyfill so background images work as expected. */\n",
       "                background-size: auto;\n",
       "            }\n",
       "            .progress-bar-interrupted, .progress-bar-interrupted::-webkit-progress-bar {\n",
       "                background: #F44336;\n",
       "            }\n",
       "        </style>\n",
       "      <progress value='6' class='' max='6', style='width:300px; height:20px; vertical-align: middle;'></progress>\n",
       "      100.00% [6/6 00:07<00:00]\n",
       "    </div>\n",
       "    "
      ],
      "text/plain": [
       "<IPython.core.display.HTML object>"
      ]
     },
     "metadata": {},
     "output_type": "display_data"
    },
    {
     "name": "stderr",
     "output_type": "stream",
     "text": [
      "INFO:root:eval_loss after step 280: 0.33705511192480725: \n",
      "INFO:root:eval_accuracy_multilabel after step 280: 0.10638297872340426: \n",
      "INFO:root:eval_accuracy_thresh after step 280: 0.886398196220398: \n",
      "INFO:root:eval_roc_auc after step 280: 0.7085418068471329: \n",
      "INFO:root:eval_fbeta after step 280: 0.1493101567029953: \n",
      "INFO:root:lr after step 280: 3.3600000000000004e-05\n",
      "INFO:root:train_loss after step 280: 0.3609879553318024\n",
      "INFO:root:Running evaluation\n",
      "INFO:root:  Num examples = 188\n",
      "INFO:root:  Batch size = 32\n"
     ]
    },
    {
     "data": {
      "text/html": [
       "\n",
       "    <div>\n",
       "        <style>\n",
       "            /* Turns off some styling */\n",
       "            progress {\n",
       "                /* gets rid of default border in Firefox and Opera. */\n",
       "                border: none;\n",
       "                /* Needs to be in here for Safari polyfill so background images work as expected. */\n",
       "                background-size: auto;\n",
       "            }\n",
       "            .progress-bar-interrupted, .progress-bar-interrupted::-webkit-progress-bar {\n",
       "                background: #F44336;\n",
       "            }\n",
       "        </style>\n",
       "      <progress value='6' class='' max='6', style='width:300px; height:20px; vertical-align: middle;'></progress>\n",
       "      100.00% [6/6 00:07<00:00]\n",
       "    </div>\n",
       "    "
      ],
      "text/plain": [
       "<IPython.core.display.HTML object>"
      ]
     },
     "metadata": {},
     "output_type": "display_data"
    },
    {
     "name": "stderr",
     "output_type": "stream",
     "text": [
      "INFO:root:eval_loss after epoch 6: 0.3302903175354004: \n",
      "INFO:root:eval_accuracy_multilabel after epoch 6: 0.1276595744680851: \n",
      "INFO:root:eval_accuracy_thresh after epoch 6: 0.8879179358482361: \n",
      "INFO:root:eval_roc_auc after epoch 6: 0.7130326138840484: \n",
      "INFO:root:eval_fbeta after epoch 6: 0.14225047826766968: \n",
      "INFO:root:Running evaluation\n",
      "INFO:root:  Num examples = 188\n",
      "INFO:root:  Batch size = 32\n"
     ]
    },
    {
     "data": {
      "text/html": [
       "\n",
       "    <div>\n",
       "        <style>\n",
       "            /* Turns off some styling */\n",
       "            progress {\n",
       "                /* gets rid of default border in Firefox and Opera. */\n",
       "                border: none;\n",
       "                /* Needs to be in here for Safari polyfill so background images work as expected. */\n",
       "                background-size: auto;\n",
       "            }\n",
       "            .progress-bar-interrupted, .progress-bar-interrupted::-webkit-progress-bar {\n",
       "                background: #F44336;\n",
       "            }\n",
       "        </style>\n",
       "      <progress value='6' class='' max='6', style='width:300px; height:20px; vertical-align: middle;'></progress>\n",
       "      100.00% [6/6 00:07<00:00]\n",
       "    </div>\n",
       "    "
      ],
      "text/plain": [
       "<IPython.core.display.HTML object>"
      ]
     },
     "metadata": {},
     "output_type": "display_data"
    },
    {
     "name": "stderr",
     "output_type": "stream",
     "text": [
      "INFO:root:eval_loss after step 300: 0.3231101334095001: \n",
      "INFO:root:eval_accuracy_multilabel after step 300: 0.22340425531914893: \n",
      "INFO:root:eval_accuracy_thresh after step 300: 0.8848784565925598: \n",
      "INFO:root:eval_roc_auc after step 300: 0.729054881730819: \n",
      "INFO:root:eval_fbeta after step 300: 0.1427101194858551: \n",
      "INFO:root:lr after step 300: 3.6e-05\n",
      "INFO:root:train_loss after step 300: 0.35896016359329225\n",
      "INFO:root:Running evaluation\n",
      "INFO:root:  Num examples = 188\n",
      "INFO:root:  Batch size = 32\n"
     ]
    },
    {
     "data": {
      "text/html": [
       "\n",
       "    <div>\n",
       "        <style>\n",
       "            /* Turns off some styling */\n",
       "            progress {\n",
       "                /* gets rid of default border in Firefox and Opera. */\n",
       "                border: none;\n",
       "                /* Needs to be in here for Safari polyfill so background images work as expected. */\n",
       "                background-size: auto;\n",
       "            }\n",
       "            .progress-bar-interrupted, .progress-bar-interrupted::-webkit-progress-bar {\n",
       "                background: #F44336;\n",
       "            }\n",
       "        </style>\n",
       "      <progress value='6' class='' max='6', style='width:300px; height:20px; vertical-align: middle;'></progress>\n",
       "      100.00% [6/6 00:07<00:00]\n",
       "    </div>\n",
       "    "
      ],
      "text/plain": [
       "<IPython.core.display.HTML object>"
      ]
     },
     "metadata": {},
     "output_type": "display_data"
    },
    {
     "name": "stderr",
     "output_type": "stream",
     "text": [
      "INFO:root:eval_loss after step 320: 0.3176308472951253: \n",
      "INFO:root:eval_accuracy_multilabel after step 320: 0.19148936170212766: \n",
      "INFO:root:eval_accuracy_thresh after step 320: 0.8860182762145996: \n",
      "INFO:root:eval_roc_auc after step 320: 0.7503860354376217: \n",
      "INFO:root:eval_fbeta after step 320: 0.15726444125175476: \n",
      "INFO:root:lr after step 320: 3.8400000000000005e-05\n",
      "INFO:root:train_loss after step 320: 0.35287884473800657\n",
      "INFO:root:Running evaluation\n",
      "INFO:root:  Num examples = 188\n",
      "INFO:root:  Batch size = 32\n"
     ]
    },
    {
     "data": {
      "text/html": [
       "\n",
       "    <div>\n",
       "        <style>\n",
       "            /* Turns off some styling */\n",
       "            progress {\n",
       "                /* gets rid of default border in Firefox and Opera. */\n",
       "                border: none;\n",
       "                /* Needs to be in here for Safari polyfill so background images work as expected. */\n",
       "                background-size: auto;\n",
       "            }\n",
       "            .progress-bar-interrupted, .progress-bar-interrupted::-webkit-progress-bar {\n",
       "                background: #F44336;\n",
       "            }\n",
       "        </style>\n",
       "      <progress value='6' class='' max='6', style='width:300px; height:20px; vertical-align: middle;'></progress>\n",
       "      100.00% [6/6 00:07<00:00]\n",
       "    </div>\n",
       "    "
      ],
      "text/plain": [
       "<IPython.core.display.HTML object>"
      ]
     },
     "metadata": {},
     "output_type": "display_data"
    },
    {
     "name": "stderr",
     "output_type": "stream",
     "text": [
      "INFO:root:eval_loss after epoch 7: 0.3151118556658427: \n",
      "INFO:root:eval_accuracy_multilabel after epoch 7: 0.10106382978723404: \n",
      "INFO:root:eval_accuracy_thresh after epoch 7: 0.8871580362319946: \n",
      "INFO:root:eval_roc_auc after epoch 7: 0.7428206035092562: \n",
      "INFO:root:eval_fbeta after epoch 7: 0.1157122254371643: \n",
      "INFO:root:Running evaluation\n",
      "INFO:root:  Num examples = 188\n",
      "INFO:root:  Batch size = 32\n"
     ]
    },
    {
     "data": {
      "text/html": [
       "\n",
       "    <div>\n",
       "        <style>\n",
       "            /* Turns off some styling */\n",
       "            progress {\n",
       "                /* gets rid of default border in Firefox and Opera. */\n",
       "                border: none;\n",
       "                /* Needs to be in here for Safari polyfill so background images work as expected. */\n",
       "                background-size: auto;\n",
       "            }\n",
       "            .progress-bar-interrupted, .progress-bar-interrupted::-webkit-progress-bar {\n",
       "                background: #F44336;\n",
       "            }\n",
       "        </style>\n",
       "      <progress value='6' class='' max='6', style='width:300px; height:20px; vertical-align: middle;'></progress>\n",
       "      100.00% [6/6 00:07<00:00]\n",
       "    </div>\n",
       "    "
      ],
      "text/plain": [
       "<IPython.core.display.HTML object>"
      ]
     },
     "metadata": {},
     "output_type": "display_data"
    },
    {
     "name": "stderr",
     "output_type": "stream",
     "text": [
      "INFO:root:eval_loss after step 340: 0.31109300752480823: \n",
      "INFO:root:eval_accuracy_multilabel after step 340: 0.21808510638297873: \n",
      "INFO:root:eval_accuracy_thresh after step 340: 0.8867781162261963: \n",
      "INFO:root:eval_roc_auc after step 340: 0.7638577376741832: \n",
      "INFO:root:eval_fbeta after step 340: 0.19610191881656647: \n",
      "INFO:root:lr after step 340: 4.08e-05\n",
      "INFO:root:train_loss after step 340: 0.3385552644729614\n",
      "INFO:root:Running evaluation\n",
      "INFO:root:  Num examples = 188\n",
      "INFO:root:  Batch size = 32\n"
     ]
    },
    {
     "data": {
      "text/html": [
       "\n",
       "    <div>\n",
       "        <style>\n",
       "            /* Turns off some styling */\n",
       "            progress {\n",
       "                /* gets rid of default border in Firefox and Opera. */\n",
       "                border: none;\n",
       "                /* Needs to be in here for Safari polyfill so background images work as expected. */\n",
       "                background-size: auto;\n",
       "            }\n",
       "            .progress-bar-interrupted, .progress-bar-interrupted::-webkit-progress-bar {\n",
       "                background: #F44336;\n",
       "            }\n",
       "        </style>\n",
       "      <progress value='6' class='' max='6', style='width:300px; height:20px; vertical-align: middle;'></progress>\n",
       "      100.00% [6/6 00:07<00:00]\n",
       "    </div>\n",
       "    "
      ],
      "text/plain": [
       "<IPython.core.display.HTML object>"
      ]
     },
     "metadata": {},
     "output_type": "display_data"
    },
    {
     "name": "stderr",
     "output_type": "stream",
     "text": [
      "INFO:root:eval_loss after step 360: 0.3131638914346695: \n",
      "INFO:root:eval_accuracy_multilabel after step 360: 0.20212765957446807: \n",
      "INFO:root:eval_accuracy_thresh after step 360: 0.8890577554702759: \n",
      "INFO:root:eval_roc_auc after step 360: 0.7588385581109136: \n",
      "INFO:root:eval_fbeta after step 360: 0.17900320887565613: \n",
      "INFO:root:lr after step 360: 4.32e-05\n",
      "INFO:root:train_loss after step 360: 0.3260939374566078\n",
      "INFO:root:Running evaluation\n",
      "INFO:root:  Num examples = 188\n",
      "INFO:root:  Batch size = 32\n"
     ]
    },
    {
     "data": {
      "text/html": [
       "\n",
       "    <div>\n",
       "        <style>\n",
       "            /* Turns off some styling */\n",
       "            progress {\n",
       "                /* gets rid of default border in Firefox and Opera. */\n",
       "                border: none;\n",
       "                /* Needs to be in here for Safari polyfill so background images work as expected. */\n",
       "                background-size: auto;\n",
       "            }\n",
       "            .progress-bar-interrupted, .progress-bar-interrupted::-webkit-progress-bar {\n",
       "                background: #F44336;\n",
       "            }\n",
       "        </style>\n",
       "      <progress value='6' class='' max='6', style='width:300px; height:20px; vertical-align: middle;'></progress>\n",
       "      100.00% [6/6 00:07<00:00]\n",
       "    </div>\n",
       "    "
      ],
      "text/plain": [
       "<IPython.core.display.HTML object>"
      ]
     },
     "metadata": {},
     "output_type": "display_data"
    },
    {
     "name": "stderr",
     "output_type": "stream",
     "text": [
      "INFO:root:eval_loss after epoch 8: 0.304619421561559: \n",
      "INFO:root:eval_accuracy_multilabel after epoch 8: 0.26595744680851063: \n",
      "INFO:root:eval_accuracy_thresh after epoch 8: 0.8886778354644775: \n",
      "INFO:root:eval_roc_auc after epoch 8: 0.7830049516053899: \n",
      "INFO:root:eval_fbeta after epoch 8: 0.2869456112384796: \n",
      "INFO:root:Running evaluation\n",
      "INFO:root:  Num examples = 188\n",
      "INFO:root:  Batch size = 32\n"
     ]
    },
    {
     "data": {
      "text/html": [
       "\n",
       "    <div>\n",
       "        <style>\n",
       "            /* Turns off some styling */\n",
       "            progress {\n",
       "                /* gets rid of default border in Firefox and Opera. */\n",
       "                border: none;\n",
       "                /* Needs to be in here for Safari polyfill so background images work as expected. */\n",
       "                background-size: auto;\n",
       "            }\n",
       "            .progress-bar-interrupted, .progress-bar-interrupted::-webkit-progress-bar {\n",
       "                background: #F44336;\n",
       "            }\n",
       "        </style>\n",
       "      <progress value='6' class='' max='6', style='width:300px; height:20px; vertical-align: middle;'></progress>\n",
       "      100.00% [6/6 00:07<00:00]\n",
       "    </div>\n",
       "    "
      ],
      "text/plain": [
       "<IPython.core.display.HTML object>"
      ]
     },
     "metadata": {},
     "output_type": "display_data"
    },
    {
     "name": "stderr",
     "output_type": "stream",
     "text": [
      "INFO:root:eval_loss after step 380: 0.3034232209126155: \n",
      "INFO:root:eval_accuracy_multilabel after step 380: 0.2393617021276596: \n",
      "INFO:root:eval_accuracy_thresh after step 380: 0.8882978558540344: \n",
      "INFO:root:eval_roc_auc after step 380: 0.7820064353617088: \n",
      "INFO:root:eval_fbeta after step 380: 0.2739352285861969: \n",
      "INFO:root:lr after step 380: 4.5600000000000004e-05\n",
      "INFO:root:train_loss after step 380: 0.31867584586143494\n",
      "INFO:root:Running evaluation\n",
      "INFO:root:  Num examples = 188\n",
      "INFO:root:  Batch size = 32\n"
     ]
    },
    {
     "data": {
      "text/html": [
       "\n",
       "    <div>\n",
       "        <style>\n",
       "            /* Turns off some styling */\n",
       "            progress {\n",
       "                /* gets rid of default border in Firefox and Opera. */\n",
       "                border: none;\n",
       "                /* Needs to be in here for Safari polyfill so background images work as expected. */\n",
       "                background-size: auto;\n",
       "            }\n",
       "            .progress-bar-interrupted, .progress-bar-interrupted::-webkit-progress-bar {\n",
       "                background: #F44336;\n",
       "            }\n",
       "        </style>\n",
       "      <progress value='6' class='' max='6', style='width:300px; height:20px; vertical-align: middle;'></progress>\n",
       "      100.00% [6/6 00:07<00:00]\n",
       "    </div>\n",
       "    "
      ],
      "text/plain": [
       "<IPython.core.display.HTML object>"
      ]
     },
     "metadata": {},
     "output_type": "display_data"
    },
    {
     "name": "stderr",
     "output_type": "stream",
     "text": [
      "INFO:root:eval_loss after step 400: 0.303069402774175: \n",
      "INFO:root:eval_accuracy_multilabel after step 400: 0.2925531914893617: \n",
      "INFO:root:eval_accuracy_thresh after step 400: 0.8909574747085571: \n",
      "INFO:root:eval_roc_auc after step 400: 0.7923287497915265: \n",
      "INFO:root:eval_fbeta after step 400: 0.33577778935432434: \n",
      "INFO:root:lr after step 400: 4.8e-05\n",
      "INFO:root:train_loss after step 400: 0.30358903780579566\n",
      "INFO:root:Running evaluation\n",
      "INFO:root:  Num examples = 188\n",
      "INFO:root:  Batch size = 32\n"
     ]
    },
    {
     "data": {
      "text/html": [
       "\n",
       "    <div>\n",
       "        <style>\n",
       "            /* Turns off some styling */\n",
       "            progress {\n",
       "                /* gets rid of default border in Firefox and Opera. */\n",
       "                border: none;\n",
       "                /* Needs to be in here for Safari polyfill so background images work as expected. */\n",
       "                background-size: auto;\n",
       "            }\n",
       "            .progress-bar-interrupted, .progress-bar-interrupted::-webkit-progress-bar {\n",
       "                background: #F44336;\n",
       "            }\n",
       "        </style>\n",
       "      <progress value='6' class='' max='6', style='width:300px; height:20px; vertical-align: middle;'></progress>\n",
       "      100.00% [6/6 00:07<00:00]\n",
       "    </div>\n",
       "    "
      ],
      "text/plain": [
       "<IPython.core.display.HTML object>"
      ]
     },
     "metadata": {},
     "output_type": "display_data"
    },
    {
     "name": "stderr",
     "output_type": "stream",
     "text": [
      "INFO:root:eval_loss after step 420: 0.29074664910634357: \n",
      "INFO:root:eval_accuracy_multilabel after step 420: 0.2872340425531915: \n",
      "INFO:root:eval_accuracy_thresh after step 420: 0.8955167531967163: \n",
      "INFO:root:eval_roc_auc after step 420: 0.797557121742781: \n",
      "INFO:root:eval_fbeta after step 420: 0.30010008811950684: \n",
      "INFO:root:lr after step 420: 5.04e-05\n",
      "INFO:root:train_loss after step 420: 0.3109830230474472\n",
      "INFO:root:Running evaluation\n",
      "INFO:root:  Num examples = 188\n",
      "INFO:root:  Batch size = 32\n"
     ]
    },
    {
     "data": {
      "text/html": [
       "\n",
       "    <div>\n",
       "        <style>\n",
       "            /* Turns off some styling */\n",
       "            progress {\n",
       "                /* gets rid of default border in Firefox and Opera. */\n",
       "                border: none;\n",
       "                /* Needs to be in here for Safari polyfill so background images work as expected. */\n",
       "                background-size: auto;\n",
       "            }\n",
       "            .progress-bar-interrupted, .progress-bar-interrupted::-webkit-progress-bar {\n",
       "                background: #F44336;\n",
       "            }\n",
       "        </style>\n",
       "      <progress value='6' class='' max='6', style='width:300px; height:20px; vertical-align: middle;'></progress>\n",
       "      100.00% [6/6 00:07<00:00]\n",
       "    </div>\n",
       "    "
      ],
      "text/plain": [
       "<IPython.core.display.HTML object>"
      ]
     },
     "metadata": {},
     "output_type": "display_data"
    },
    {
     "name": "stderr",
     "output_type": "stream",
     "text": [
      "INFO:root:eval_loss after epoch 9: 0.2991564820210139: \n",
      "INFO:root:eval_accuracy_multilabel after epoch 9: 0.2765957446808511: \n",
      "INFO:root:eval_accuracy_thresh after epoch 9: 0.8920972943305969: \n",
      "INFO:root:eval_roc_auc after epoch 9: 0.7909226318846581: \n",
      "INFO:root:eval_fbeta after epoch 9: 0.3271926939487457: \n",
      "INFO:root:Running evaluation\n",
      "INFO:root:  Num examples = 188\n",
      "INFO:root:  Batch size = 32\n"
     ]
    },
    {
     "data": {
      "text/html": [
       "\n",
       "    <div>\n",
       "        <style>\n",
       "            /* Turns off some styling */\n",
       "            progress {\n",
       "                /* gets rid of default border in Firefox and Opera. */\n",
       "                border: none;\n",
       "                /* Needs to be in here for Safari polyfill so background images work as expected. */\n",
       "                background-size: auto;\n",
       "            }\n",
       "            .progress-bar-interrupted, .progress-bar-interrupted::-webkit-progress-bar {\n",
       "                background: #F44336;\n",
       "            }\n",
       "        </style>\n",
       "      <progress value='6' class='' max='6', style='width:300px; height:20px; vertical-align: middle;'></progress>\n",
       "      100.00% [6/6 00:07<00:00]\n",
       "    </div>\n",
       "    "
      ],
      "text/plain": [
       "<IPython.core.display.HTML object>"
      ]
     },
     "metadata": {},
     "output_type": "display_data"
    },
    {
     "name": "stderr",
     "output_type": "stream",
     "text": [
      "INFO:root:eval_loss after step 440: 0.2910275459289551: \n",
      "INFO:root:eval_accuracy_multilabel after step 440: 0.324468085106383: \n",
      "INFO:root:eval_accuracy_thresh after step 440: 0.8936170339584351: \n",
      "INFO:root:eval_roc_auc after step 440: 0.7925070305895343: \n",
      "INFO:root:eval_fbeta after step 440: 0.32390812039375305: \n",
      "INFO:root:lr after step 440: 5.28e-05\n",
      "INFO:root:train_loss after step 440: 0.2904456347227097\n",
      "INFO:root:Running evaluation\n",
      "INFO:root:  Num examples = 188\n",
      "INFO:root:  Batch size = 32\n"
     ]
    },
    {
     "data": {
      "text/html": [
       "\n",
       "    <div>\n",
       "        <style>\n",
       "            /* Turns off some styling */\n",
       "            progress {\n",
       "                /* gets rid of default border in Firefox and Opera. */\n",
       "                border: none;\n",
       "                /* Needs to be in here for Safari polyfill so background images work as expected. */\n",
       "                background-size: auto;\n",
       "            }\n",
       "            .progress-bar-interrupted, .progress-bar-interrupted::-webkit-progress-bar {\n",
       "                background: #F44336;\n",
       "            }\n",
       "        </style>\n",
       "      <progress value='6' class='' max='6', style='width:300px; height:20px; vertical-align: middle;'></progress>\n",
       "      100.00% [6/6 00:07<00:00]\n",
       "    </div>\n",
       "    "
      ],
      "text/plain": [
       "<IPython.core.display.HTML object>"
      ]
     },
     "metadata": {},
     "output_type": "display_data"
    },
    {
     "name": "stderr",
     "output_type": "stream",
     "text": [
      "INFO:root:eval_loss after step 460: 0.27908288439114887: \n",
      "INFO:root:eval_accuracy_multilabel after step 460: 0.32978723404255317: \n",
      "INFO:root:eval_accuracy_thresh after step 460: 0.9000759720802307: \n",
      "INFO:root:eval_roc_auc after step 460: 0.813783549858238: \n",
      "INFO:root:eval_fbeta after step 460: 0.3275734484195709: \n",
      "INFO:root:lr after step 460: 5.520000000000001e-05\n",
      "INFO:root:train_loss after step 460: 0.27265576720237733\n",
      "INFO:root:Running evaluation\n",
      "INFO:root:  Num examples = 188\n",
      "INFO:root:  Batch size = 32\n"
     ]
    },
    {
     "data": {
      "text/html": [
       "\n",
       "    <div>\n",
       "        <style>\n",
       "            /* Turns off some styling */\n",
       "            progress {\n",
       "                /* gets rid of default border in Firefox and Opera. */\n",
       "                border: none;\n",
       "                /* Needs to be in here for Safari polyfill so background images work as expected. */\n",
       "                background-size: auto;\n",
       "            }\n",
       "            .progress-bar-interrupted, .progress-bar-interrupted::-webkit-progress-bar {\n",
       "                background: #F44336;\n",
       "            }\n",
       "        </style>\n",
       "      <progress value='6' class='' max='6', style='width:300px; height:20px; vertical-align: middle;'></progress>\n",
       "      100.00% [6/6 00:07<00:00]\n",
       "    </div>\n",
       "    "
      ],
      "text/plain": [
       "<IPython.core.display.HTML object>"
      ]
     },
     "metadata": {},
     "output_type": "display_data"
    },
    {
     "name": "stderr",
     "output_type": "stream",
     "text": [
      "INFO:root:eval_loss after epoch 10: 0.28789974252382916: \n",
      "INFO:root:eval_accuracy_multilabel after epoch 10: 0.3351063829787234: \n",
      "INFO:root:eval_accuracy_thresh after epoch 10: 0.8928571343421936: \n",
      "INFO:root:eval_roc_auc after epoch 10: 0.7978676753909237: \n",
      "INFO:root:eval_fbeta after epoch 10: 0.3106161653995514: \n",
      "INFO:root:Running evaluation\n",
      "INFO:root:  Num examples = 188\n",
      "INFO:root:  Batch size = 32\n"
     ]
    },
    {
     "data": {
      "text/html": [
       "\n",
       "    <div>\n",
       "        <style>\n",
       "            /* Turns off some styling */\n",
       "            progress {\n",
       "                /* gets rid of default border in Firefox and Opera. */\n",
       "                border: none;\n",
       "                /* Needs to be in here for Safari polyfill so background images work as expected. */\n",
       "                background-size: auto;\n",
       "            }\n",
       "            .progress-bar-interrupted, .progress-bar-interrupted::-webkit-progress-bar {\n",
       "                background: #F44336;\n",
       "            }\n",
       "        </style>\n",
       "      <progress value='6' class='' max='6', style='width:300px; height:20px; vertical-align: middle;'></progress>\n",
       "      100.00% [6/6 00:07<00:00]\n",
       "    </div>\n",
       "    "
      ],
      "text/plain": [
       "<IPython.core.display.HTML object>"
      ]
     },
     "metadata": {},
     "output_type": "display_data"
    },
    {
     "name": "stderr",
     "output_type": "stream",
     "text": [
      "INFO:root:eval_loss after step 480: 0.2851452479759852: \n",
      "INFO:root:eval_accuracy_multilabel after step 480: 0.3351063829787234: \n",
      "INFO:root:eval_accuracy_thresh after step 480: 0.8943769335746765: \n",
      "INFO:root:eval_roc_auc after step 480: 0.8077284725936404: \n",
      "INFO:root:eval_fbeta after step 480: 0.3337230682373047: \n",
      "INFO:root:lr after step 480: 5.76e-05\n",
      "INFO:root:train_loss after step 480: 0.26688227504491807\n",
      "INFO:root:Running evaluation\n",
      "INFO:root:  Num examples = 188\n",
      "INFO:root:  Batch size = 32\n"
     ]
    },
    {
     "data": {
      "text/html": [
       "\n",
       "    <div>\n",
       "        <style>\n",
       "            /* Turns off some styling */\n",
       "            progress {\n",
       "                /* gets rid of default border in Firefox and Opera. */\n",
       "                border: none;\n",
       "                /* Needs to be in here for Safari polyfill so background images work as expected. */\n",
       "                background-size: auto;\n",
       "            }\n",
       "            .progress-bar-interrupted, .progress-bar-interrupted::-webkit-progress-bar {\n",
       "                background: #F44336;\n",
       "            }\n",
       "        </style>\n",
       "      <progress value='6' class='' max='6', style='width:300px; height:20px; vertical-align: middle;'></progress>\n",
       "      100.00% [6/6 00:07<00:00]\n",
       "    </div>\n",
       "    "
      ],
      "text/plain": [
       "<IPython.core.display.HTML object>"
      ]
     },
     "metadata": {},
     "output_type": "display_data"
    },
    {
     "name": "stderr",
     "output_type": "stream",
     "text": [
      "INFO:root:eval_loss after step 500: 0.28906971712907154: \n",
      "INFO:root:eval_accuracy_multilabel after step 500: 0.34574468085106386: \n",
      "INFO:root:eval_accuracy_thresh after step 500: 0.8974164128303528: \n",
      "INFO:root:eval_roc_auc after step 500: 0.7924595848932903: \n",
      "INFO:root:eval_fbeta after step 500: 0.34432560205459595: \n",
      "INFO:root:lr after step 500: 6e-05\n",
      "INFO:root:train_loss after step 500: 0.249484633654356\n",
      "INFO:root:Running evaluation\n",
      "INFO:root:  Num examples = 188\n",
      "INFO:root:  Batch size = 32\n"
     ]
    },
    {
     "data": {
      "text/html": [
       "\n",
       "    <div>\n",
       "        <style>\n",
       "            /* Turns off some styling */\n",
       "            progress {\n",
       "                /* gets rid of default border in Firefox and Opera. */\n",
       "                border: none;\n",
       "                /* Needs to be in here for Safari polyfill so background images work as expected. */\n",
       "                background-size: auto;\n",
       "            }\n",
       "            .progress-bar-interrupted, .progress-bar-interrupted::-webkit-progress-bar {\n",
       "                background: #F44336;\n",
       "            }\n",
       "        </style>\n",
       "      <progress value='6' class='' max='6', style='width:300px; height:20px; vertical-align: middle;'></progress>\n",
       "      100.00% [6/6 00:07<00:00]\n",
       "    </div>\n",
       "    "
      ],
      "text/plain": [
       "<IPython.core.display.HTML object>"
      ]
     },
     "metadata": {},
     "output_type": "display_data"
    },
    {
     "name": "stderr",
     "output_type": "stream",
     "text": [
      "INFO:root:eval_loss after epoch 11: 0.29163864254951477: \n",
      "INFO:root:eval_accuracy_multilabel after epoch 11: 0.3351063829787234: \n",
      "INFO:root:eval_accuracy_thresh after epoch 11: 0.8955167531967163: \n",
      "INFO:root:eval_roc_auc after epoch 11: 0.7975650293588219: \n",
      "INFO:root:eval_fbeta after epoch 11: 0.3508912920951843: \n",
      "INFO:root:Running evaluation\n",
      "INFO:root:  Num examples = 188\n",
      "INFO:root:  Batch size = 32\n"
     ]
    },
    {
     "data": {
      "text/html": [
       "\n",
       "    <div>\n",
       "        <style>\n",
       "            /* Turns off some styling */\n",
       "            progress {\n",
       "                /* gets rid of default border in Firefox and Opera. */\n",
       "                border: none;\n",
       "                /* Needs to be in here for Safari polyfill so background images work as expected. */\n",
       "                background-size: auto;\n",
       "            }\n",
       "            .progress-bar-interrupted, .progress-bar-interrupted::-webkit-progress-bar {\n",
       "                background: #F44336;\n",
       "            }\n",
       "        </style>\n",
       "      <progress value='6' class='' max='6', style='width:300px; height:20px; vertical-align: middle;'></progress>\n",
       "      100.00% [6/6 00:07<00:00]\n",
       "    </div>\n",
       "    "
      ],
      "text/plain": [
       "<IPython.core.display.HTML object>"
      ]
     },
     "metadata": {},
     "output_type": "display_data"
    },
    {
     "name": "stderr",
     "output_type": "stream",
     "text": [
      "INFO:root:eval_loss after step 520: 0.2824757918715477: \n",
      "INFO:root:eval_accuracy_multilabel after step 520: 0.34574468085106386: \n",
      "INFO:root:eval_accuracy_thresh after step 520: 0.901975691318512: \n",
      "INFO:root:eval_roc_auc after step 520: 0.7957549041596936: \n",
      "INFO:root:eval_fbeta after step 520: 0.3211449384689331: \n",
      "INFO:root:lr after step 520: 5.969464325642798e-05\n",
      "INFO:root:train_loss after step 520: 0.2494668409228325\n",
      "INFO:root:Running evaluation\n",
      "INFO:root:  Num examples = 188\n",
      "INFO:root:  Batch size = 32\n"
     ]
    },
    {
     "data": {
      "text/html": [
       "\n",
       "    <div>\n",
       "        <style>\n",
       "            /* Turns off some styling */\n",
       "            progress {\n",
       "                /* gets rid of default border in Firefox and Opera. */\n",
       "                border: none;\n",
       "                /* Needs to be in here for Safari polyfill so background images work as expected. */\n",
       "                background-size: auto;\n",
       "            }\n",
       "            .progress-bar-interrupted, .progress-bar-interrupted::-webkit-progress-bar {\n",
       "                background: #F44336;\n",
       "            }\n",
       "        </style>\n",
       "      <progress value='6' class='' max='6', style='width:300px; height:20px; vertical-align: middle;'></progress>\n",
       "      100.00% [6/6 00:07<00:00]\n",
       "    </div>\n",
       "    "
      ],
      "text/plain": [
       "<IPython.core.display.HTML object>"
      ]
     },
     "metadata": {},
     "output_type": "display_data"
    },
    {
     "name": "stderr",
     "output_type": "stream",
     "text": [
      "INFO:root:eval_loss after step 540: 0.28792832295099896: \n",
      "INFO:root:eval_accuracy_multilabel after step 540: 0.35638297872340424: \n",
      "INFO:root:eval_accuracy_thresh after step 540: 0.9000759720802307: \n",
      "INFO:root:eval_roc_auc after step 540: 0.7924969663509371: \n",
      "INFO:root:eval_fbeta after step 540: 0.31474319100379944: \n",
      "INFO:root:lr after step 540: 5.878478920843492e-05\n",
      "INFO:root:train_loss after step 540: 0.2359548933804035\n",
      "INFO:root:Running evaluation\n",
      "INFO:root:  Num examples = 188\n",
      "INFO:root:  Batch size = 32\n"
     ]
    },
    {
     "data": {
      "text/html": [
       "\n",
       "    <div>\n",
       "        <style>\n",
       "            /* Turns off some styling */\n",
       "            progress {\n",
       "                /* gets rid of default border in Firefox and Opera. */\n",
       "                border: none;\n",
       "                /* Needs to be in here for Safari polyfill so background images work as expected. */\n",
       "                background-size: auto;\n",
       "            }\n",
       "            .progress-bar-interrupted, .progress-bar-interrupted::-webkit-progress-bar {\n",
       "                background: #F44336;\n",
       "            }\n",
       "        </style>\n",
       "      <progress value='6' class='' max='6', style='width:300px; height:20px; vertical-align: middle;'></progress>\n",
       "      100.00% [6/6 00:07<00:00]\n",
       "    </div>\n",
       "    "
      ],
      "text/plain": [
       "<IPython.core.display.HTML object>"
      ]
     },
     "metadata": {},
     "output_type": "display_data"
    },
    {
     "name": "stderr",
     "output_type": "stream",
     "text": [
      "INFO:root:eval_loss after step 560: 0.2909298737843831: \n",
      "INFO:root:eval_accuracy_multilabel after step 560: 0.3191489361702128: \n",
      "INFO:root:eval_accuracy_thresh after step 560: 0.896276593208313: \n",
      "INFO:root:eval_roc_auc after step 560: 0.7894496586785368: \n",
      "INFO:root:eval_fbeta after step 560: 0.32101941108703613: \n",
      "INFO:root:lr after step 560: 5.728895986063555e-05\n",
      "INFO:root:train_loss after step 560: 0.2096931032836437\n",
      "INFO:root:Running evaluation\n",
      "INFO:root:  Num examples = 188\n",
      "INFO:root:  Batch size = 32\n"
     ]
    },
    {
     "data": {
      "text/html": [
       "\n",
       "    <div>\n",
       "        <style>\n",
       "            /* Turns off some styling */\n",
       "            progress {\n",
       "                /* gets rid of default border in Firefox and Opera. */\n",
       "                border: none;\n",
       "                /* Needs to be in here for Safari polyfill so background images work as expected. */\n",
       "                background-size: auto;\n",
       "            }\n",
       "            .progress-bar-interrupted, .progress-bar-interrupted::-webkit-progress-bar {\n",
       "                background: #F44336;\n",
       "            }\n",
       "        </style>\n",
       "      <progress value='6' class='' max='6', style='width:300px; height:20px; vertical-align: middle;'></progress>\n",
       "      100.00% [6/6 00:07<00:00]\n",
       "    </div>\n",
       "    "
      ],
      "text/plain": [
       "<IPython.core.display.HTML object>"
      ]
     },
     "metadata": {},
     "output_type": "display_data"
    },
    {
     "name": "stderr",
     "output_type": "stream",
     "text": [
      "INFO:root:eval_loss after epoch 12: 0.2915497422218323: \n",
      "INFO:root:eval_accuracy_multilabel after epoch 12: 0.30851063829787234: \n",
      "INFO:root:eval_accuracy_thresh after epoch 12: 0.890577495098114: \n",
      "INFO:root:eval_roc_auc after epoch 12: 0.7978238240656074: \n",
      "INFO:root:eval_fbeta after epoch 12: 0.3726266324520111: \n",
      "INFO:root:Running evaluation\n",
      "INFO:root:  Num examples = 188\n",
      "INFO:root:  Batch size = 32\n"
     ]
    },
    {
     "data": {
      "text/html": [
       "\n",
       "    <div>\n",
       "        <style>\n",
       "            /* Turns off some styling */\n",
       "            progress {\n",
       "                /* gets rid of default border in Firefox and Opera. */\n",
       "                border: none;\n",
       "                /* Needs to be in here for Safari polyfill so background images work as expected. */\n",
       "                background-size: auto;\n",
       "            }\n",
       "            .progress-bar-interrupted, .progress-bar-interrupted::-webkit-progress-bar {\n",
       "                background: #F44336;\n",
       "            }\n",
       "        </style>\n",
       "      <progress value='6' class='' max='6', style='width:300px; height:20px; vertical-align: middle;'></progress>\n",
       "      100.00% [6/6 00:07<00:00]\n",
       "    </div>\n",
       "    "
      ],
      "text/plain": [
       "<IPython.core.display.HTML object>"
      ]
     },
     "metadata": {},
     "output_type": "display_data"
    },
    {
     "name": "stderr",
     "output_type": "stream",
     "text": [
      "INFO:root:eval_loss after step 580: 0.29025957981745404: \n",
      "INFO:root:eval_accuracy_multilabel after step 580: 0.3351063829787234: \n",
      "INFO:root:eval_accuracy_thresh after step 580: 0.8917173147201538: \n",
      "INFO:root:eval_roc_auc after step 580: 0.7990516611744679: \n",
      "INFO:root:eval_fbeta after step 580: 0.3325578272342682: \n",
      "INFO:root:lr after step 580: 5.5237605984935435e-05\n",
      "INFO:root:train_loss after step 580: 0.19909504130482675\n",
      "INFO:root:Running evaluation\n",
      "INFO:root:  Num examples = 188\n",
      "INFO:root:  Batch size = 32\n"
     ]
    },
    {
     "data": {
      "text/html": [
       "\n",
       "    <div>\n",
       "        <style>\n",
       "            /* Turns off some styling */\n",
       "            progress {\n",
       "                /* gets rid of default border in Firefox and Opera. */\n",
       "                border: none;\n",
       "                /* Needs to be in here for Safari polyfill so background images work as expected. */\n",
       "                background-size: auto;\n",
       "            }\n",
       "            .progress-bar-interrupted, .progress-bar-interrupted::-webkit-progress-bar {\n",
       "                background: #F44336;\n",
       "            }\n",
       "        </style>\n",
       "      <progress value='6' class='' max='6', style='width:300px; height:20px; vertical-align: middle;'></progress>\n",
       "      100.00% [6/6 00:07<00:00]\n",
       "    </div>\n",
       "    "
      ],
      "text/plain": [
       "<IPython.core.display.HTML object>"
      ]
     },
     "metadata": {},
     "output_type": "display_data"
    },
    {
     "name": "stderr",
     "output_type": "stream",
     "text": [
      "INFO:root:eval_loss after step 600: 0.29506443440914154: \n",
      "INFO:root:eval_accuracy_multilabel after step 600: 0.3191489361702128: \n",
      "INFO:root:eval_accuracy_thresh after step 600: 0.8955167531967163: \n",
      "INFO:root:eval_roc_auc after step 600: 0.7927442590707544: \n",
      "INFO:root:eval_fbeta after step 600: 0.31072166562080383: \n",
      "INFO:root:lr after step 600: 5.267248723062775e-05\n",
      "INFO:root:train_loss after step 600: 0.19564335495233537\n",
      "INFO:root:Running evaluation\n",
      "INFO:root:  Num examples = 188\n",
      "INFO:root:  Batch size = 32\n"
     ]
    },
    {
     "data": {
      "text/html": [
       "\n",
       "    <div>\n",
       "        <style>\n",
       "            /* Turns off some styling */\n",
       "            progress {\n",
       "                /* gets rid of default border in Firefox and Opera. */\n",
       "                border: none;\n",
       "                /* Needs to be in here for Safari polyfill so background images work as expected. */\n",
       "                background-size: auto;\n",
       "            }\n",
       "            .progress-bar-interrupted, .progress-bar-interrupted::-webkit-progress-bar {\n",
       "                background: #F44336;\n",
       "            }\n",
       "        </style>\n",
       "      <progress value='6' class='' max='6', style='width:300px; height:20px; vertical-align: middle;'></progress>\n",
       "      100.00% [6/6 00:07<00:00]\n",
       "    </div>\n",
       "    "
      ],
      "text/plain": [
       "<IPython.core.display.HTML object>"
      ]
     },
     "metadata": {},
     "output_type": "display_data"
    },
    {
     "name": "stderr",
     "output_type": "stream",
     "text": [
      "INFO:root:eval_loss after epoch 13: 0.2966028501590093: \n",
      "INFO:root:eval_accuracy_multilabel after epoch 13: 0.30851063829787234: \n",
      "INFO:root:eval_accuracy_thresh after epoch 13: 0.8951367735862732: \n",
      "INFO:root:eval_roc_auc after epoch 13: 0.7927715762898041: \n",
      "INFO:root:eval_fbeta after epoch 13: 0.34465381503105164: \n",
      "INFO:root:Running evaluation\n",
      "INFO:root:  Num examples = 188\n",
      "INFO:root:  Batch size = 32\n"
     ]
    },
    {
     "data": {
      "text/html": [
       "\n",
       "    <div>\n",
       "        <style>\n",
       "            /* Turns off some styling */\n",
       "            progress {\n",
       "                /* gets rid of default border in Firefox and Opera. */\n",
       "                border: none;\n",
       "                /* Needs to be in here for Safari polyfill so background images work as expected. */\n",
       "                background-size: auto;\n",
       "            }\n",
       "            .progress-bar-interrupted, .progress-bar-interrupted::-webkit-progress-bar {\n",
       "                background: #F44336;\n",
       "            }\n",
       "        </style>\n",
       "      <progress value='6' class='' max='6', style='width:300px; height:20px; vertical-align: middle;'></progress>\n",
       "      100.00% [6/6 00:07<00:00]\n",
       "    </div>\n",
       "    "
      ],
      "text/plain": [
       "<IPython.core.display.HTML object>"
      ]
     },
     "metadata": {},
     "output_type": "display_data"
    },
    {
     "name": "stderr",
     "output_type": "stream",
     "text": [
      "INFO:root:eval_loss after step 620: 0.29643559952576953: \n",
      "INFO:root:eval_accuracy_multilabel after step 620: 0.31382978723404253: \n",
      "INFO:root:eval_accuracy_thresh after step 620: 0.8939969539642334: \n",
      "INFO:root:eval_roc_auc after step 620: 0.792023947136868: \n",
      "INFO:root:eval_fbeta after step 620: 0.33540377020835876: \n",
      "INFO:root:lr after step 620: 4.964582201835856e-05\n",
      "INFO:root:train_loss after step 620: 0.17977626100182534\n",
      "INFO:root:Running evaluation\n",
      "INFO:root:  Num examples = 188\n",
      "INFO:root:  Batch size = 32\n"
     ]
    },
    {
     "data": {
      "text/html": [
       "\n",
       "    <div>\n",
       "        <style>\n",
       "            /* Turns off some styling */\n",
       "            progress {\n",
       "                /* gets rid of default border in Firefox and Opera. */\n",
       "                border: none;\n",
       "                /* Needs to be in here for Safari polyfill so background images work as expected. */\n",
       "                background-size: auto;\n",
       "            }\n",
       "            .progress-bar-interrupted, .progress-bar-interrupted::-webkit-progress-bar {\n",
       "                background: #F44336;\n",
       "            }\n",
       "        </style>\n",
       "      <progress value='6' class='' max='6', style='width:300px; height:20px; vertical-align: middle;'></progress>\n",
       "      100.00% [6/6 00:07<00:00]\n",
       "    </div>\n",
       "    "
      ],
      "text/plain": [
       "<IPython.core.display.HTML object>"
      ]
     },
     "metadata": {},
     "output_type": "display_data"
    },
    {
     "name": "stderr",
     "output_type": "stream",
     "text": [
      "INFO:root:eval_loss after step 640: 0.30015023549397785: \n",
      "INFO:root:eval_accuracy_multilabel after step 640: 0.30851063829787234: \n",
      "INFO:root:eval_accuracy_thresh after step 640: 0.8951367735862732: \n",
      "INFO:root:eval_roc_auc after step 640: 0.7947434481806733: \n",
      "INFO:root:eval_fbeta after step 640: 0.35188600420951843: \n",
      "INFO:root:lr after step 640: 4.6219224523667933e-05\n",
      "INFO:root:train_loss after step 640: 0.1594530776143074\n",
      "INFO:root:Running evaluation\n",
      "INFO:root:  Num examples = 188\n",
      "INFO:root:  Batch size = 32\n"
     ]
    },
    {
     "data": {
      "text/html": [
       "\n",
       "    <div>\n",
       "        <style>\n",
       "            /* Turns off some styling */\n",
       "            progress {\n",
       "                /* gets rid of default border in Firefox and Opera. */\n",
       "                border: none;\n",
       "                /* Needs to be in here for Safari polyfill so background images work as expected. */\n",
       "                background-size: auto;\n",
       "            }\n",
       "            .progress-bar-interrupted, .progress-bar-interrupted::-webkit-progress-bar {\n",
       "                background: #F44336;\n",
       "            }\n",
       "        </style>\n",
       "      <progress value='6' class='' max='6', style='width:300px; height:20px; vertical-align: middle;'></progress>\n",
       "      100.00% [6/6 00:07<00:00]\n",
       "    </div>\n",
       "    "
      ],
      "text/plain": [
       "<IPython.core.display.HTML object>"
      ]
     },
     "metadata": {},
     "output_type": "display_data"
    },
    {
     "name": "stderr",
     "output_type": "stream",
     "text": [
      "INFO:root:eval_loss after epoch 14: 0.2986389845609665: \n",
      "INFO:root:eval_accuracy_multilabel after epoch 14: 0.3404255319148936: \n",
      "INFO:root:eval_accuracy_thresh after epoch 14: 0.8932371139526367: \n",
      "INFO:root:eval_roc_auc after epoch 14: 0.792654399797565: \n",
      "INFO:root:eval_fbeta after epoch 14: 0.34893208742141724: \n",
      "INFO:root:Running evaluation\n",
      "INFO:root:  Num examples = 188\n",
      "INFO:root:  Batch size = 32\n"
     ]
    },
    {
     "data": {
      "text/html": [
       "\n",
       "    <div>\n",
       "        <style>\n",
       "            /* Turns off some styling */\n",
       "            progress {\n",
       "                /* gets rid of default border in Firefox and Opera. */\n",
       "                border: none;\n",
       "                /* Needs to be in here for Safari polyfill so background images work as expected. */\n",
       "                background-size: auto;\n",
       "            }\n",
       "            .progress-bar-interrupted, .progress-bar-interrupted::-webkit-progress-bar {\n",
       "                background: #F44336;\n",
       "            }\n",
       "        </style>\n",
       "      <progress value='6' class='' max='6', style='width:300px; height:20px; vertical-align: middle;'></progress>\n",
       "      100.00% [6/6 00:07<00:00]\n",
       "    </div>\n",
       "    "
      ],
      "text/plain": [
       "<IPython.core.display.HTML object>"
      ]
     },
     "metadata": {},
     "output_type": "display_data"
    },
    {
     "name": "stderr",
     "output_type": "stream",
     "text": [
      "INFO:root:eval_loss after step 660: 0.29680036505063373: \n",
      "INFO:root:eval_accuracy_multilabel after step 660: 0.3191489361702128: \n",
      "INFO:root:eval_accuracy_thresh after step 660: 0.8958966732025146: \n",
      "INFO:root:eval_roc_auc after step 660: 0.7980912452626192: \n",
      "INFO:root:eval_fbeta after step 660: 0.33045706152915955: \n",
      "INFO:root:lr after step 660: 4.24624503900566e-05\n",
      "INFO:root:train_loss after step 660: 0.16190194338560104\n",
      "INFO:root:Running evaluation\n",
      "INFO:root:  Num examples = 188\n",
      "INFO:root:  Batch size = 32\n"
     ]
    },
    {
     "data": {
      "text/html": [
       "\n",
       "    <div>\n",
       "        <style>\n",
       "            /* Turns off some styling */\n",
       "            progress {\n",
       "                /* gets rid of default border in Firefox and Opera. */\n",
       "                border: none;\n",
       "                /* Needs to be in here for Safari polyfill so background images work as expected. */\n",
       "                background-size: auto;\n",
       "            }\n",
       "            .progress-bar-interrupted, .progress-bar-interrupted::-webkit-progress-bar {\n",
       "                background: #F44336;\n",
       "            }\n",
       "        </style>\n",
       "      <progress value='6' class='' max='6', style='width:300px; height:20px; vertical-align: middle;'></progress>\n",
       "      100.00% [6/6 00:07<00:00]\n",
       "    </div>\n",
       "    "
      ],
      "text/plain": [
       "<IPython.core.display.HTML object>"
      ]
     },
     "metadata": {},
     "output_type": "display_data"
    },
    {
     "name": "stderr",
     "output_type": "stream",
     "text": [
      "INFO:root:eval_loss after step 680: 0.2984897444645564: \n",
      "INFO:root:eval_accuracy_multilabel after step 680: 0.324468085106383: \n",
      "INFO:root:eval_accuracy_thresh after step 680: 0.8985562324523926: \n",
      "INFO:root:eval_roc_auc after step 680: 0.8001278158301847: \n",
      "INFO:root:eval_fbeta after step 680: 0.3398211896419525: \n",
      "INFO:root:lr after step 680: 3.845197670524289e-05\n",
      "INFO:root:train_loss after step 680: 0.13759037293493748\n",
      "INFO:root:Running evaluation\n",
      "INFO:root:  Num examples = 188\n",
      "INFO:root:  Batch size = 32\n"
     ]
    },
    {
     "data": {
      "text/html": [
       "\n",
       "    <div>\n",
       "        <style>\n",
       "            /* Turns off some styling */\n",
       "            progress {\n",
       "                /* gets rid of default border in Firefox and Opera. */\n",
       "                border: none;\n",
       "                /* Needs to be in here for Safari polyfill so background images work as expected. */\n",
       "                background-size: auto;\n",
       "            }\n",
       "            .progress-bar-interrupted, .progress-bar-interrupted::-webkit-progress-bar {\n",
       "                background: #F44336;\n",
       "            }\n",
       "        </style>\n",
       "      <progress value='6' class='' max='6', style='width:300px; height:20px; vertical-align: middle;'></progress>\n",
       "      100.00% [6/6 00:07<00:00]\n",
       "    </div>\n",
       "    "
      ],
      "text/plain": [
       "<IPython.core.display.HTML object>"
      ]
     },
     "metadata": {},
     "output_type": "display_data"
    },
    {
     "name": "stderr",
     "output_type": "stream",
     "text": [
      "INFO:root:eval_loss after step 700: 0.3061739305655162: \n",
      "INFO:root:eval_accuracy_multilabel after step 700: 0.30851063829787234: \n",
      "INFO:root:eval_accuracy_thresh after step 700: 0.8920972943305969: \n",
      "INFO:root:eval_roc_auc after step 700: 0.7960388594629724: \n",
      "INFO:root:eval_fbeta after step 700: 0.3867374360561371: \n",
      "INFO:root:lr after step 700: 3.426944514819856e-05\n",
      "INFO:root:train_loss after step 700: 0.138852896168828\n",
      "INFO:root:Running evaluation\n",
      "INFO:root:  Num examples = 188\n",
      "INFO:root:  Batch size = 32\n"
     ]
    },
    {
     "data": {
      "text/html": [
       "\n",
       "    <div>\n",
       "        <style>\n",
       "            /* Turns off some styling */\n",
       "            progress {\n",
       "                /* gets rid of default border in Firefox and Opera. */\n",
       "                border: none;\n",
       "                /* Needs to be in here for Safari polyfill so background images work as expected. */\n",
       "                background-size: auto;\n",
       "            }\n",
       "            .progress-bar-interrupted, .progress-bar-interrupted::-webkit-progress-bar {\n",
       "                background: #F44336;\n",
       "            }\n",
       "        </style>\n",
       "      <progress value='6' class='' max='6', style='width:300px; height:20px; vertical-align: middle;'></progress>\n",
       "      100.00% [6/6 00:07<00:00]\n",
       "    </div>\n",
       "    "
      ],
      "text/plain": [
       "<IPython.core.display.HTML object>"
      ]
     },
     "metadata": {},
     "output_type": "display_data"
    },
    {
     "name": "stderr",
     "output_type": "stream",
     "text": [
      "INFO:root:eval_loss after epoch 15: 0.30573462943236035: \n",
      "INFO:root:eval_accuracy_multilabel after epoch 15: 0.30319148936170215: \n",
      "INFO:root:eval_accuracy_thresh after epoch 15: 0.8939969539642334: \n",
      "INFO:root:eval_roc_auc after epoch 15: 0.7946169263240225: \n",
      "INFO:root:eval_fbeta after epoch 15: 0.3592858612537384: \n",
      "INFO:root:Running evaluation\n",
      "INFO:root:  Num examples = 188\n",
      "INFO:root:  Batch size = 32\n"
     ]
    },
    {
     "data": {
      "text/html": [
       "\n",
       "    <div>\n",
       "        <style>\n",
       "            /* Turns off some styling */\n",
       "            progress {\n",
       "                /* gets rid of default border in Firefox and Opera. */\n",
       "                border: none;\n",
       "                /* Needs to be in here for Safari polyfill so background images work as expected. */\n",
       "                background-size: auto;\n",
       "            }\n",
       "            .progress-bar-interrupted, .progress-bar-interrupted::-webkit-progress-bar {\n",
       "                background: #F44336;\n",
       "            }\n",
       "        </style>\n",
       "      <progress value='6' class='' max='6', style='width:300px; height:20px; vertical-align: middle;'></progress>\n",
       "      100.00% [6/6 00:07<00:00]\n",
       "    </div>\n",
       "    "
      ],
      "text/plain": [
       "<IPython.core.display.HTML object>"
      ]
     },
     "metadata": {},
     "output_type": "display_data"
    },
    {
     "name": "stderr",
     "output_type": "stream",
     "text": [
      "INFO:root:eval_loss after step 720: 0.31149208545684814: \n",
      "INFO:root:eval_accuracy_multilabel after step 720: 0.30319148936170215: \n",
      "INFO:root:eval_accuracy_thresh after step 720: 0.8932371139526367: \n",
      "INFO:root:eval_roc_auc after step 720: 0.7891189765531996: \n",
      "INFO:root:eval_fbeta after step 720: 0.34024834632873535: \n",
      "INFO:root:lr after step 720: 3e-05\n",
      "INFO:root:train_loss after step 720: 0.13071989603340625\n",
      "INFO:root:Running evaluation\n",
      "INFO:root:  Num examples = 188\n",
      "INFO:root:  Batch size = 32\n"
     ]
    },
    {
     "data": {
      "text/html": [
       "\n",
       "    <div>\n",
       "        <style>\n",
       "            /* Turns off some styling */\n",
       "            progress {\n",
       "                /* gets rid of default border in Firefox and Opera. */\n",
       "                border: none;\n",
       "                /* Needs to be in here for Safari polyfill so background images work as expected. */\n",
       "                background-size: auto;\n",
       "            }\n",
       "            .progress-bar-interrupted, .progress-bar-interrupted::-webkit-progress-bar {\n",
       "                background: #F44336;\n",
       "            }\n",
       "        </style>\n",
       "      <progress value='6' class='' max='6', style='width:300px; height:20px; vertical-align: middle;'></progress>\n",
       "      100.00% [6/6 00:07<00:00]\n",
       "    </div>\n",
       "    "
      ],
      "text/plain": [
       "<IPython.core.display.HTML object>"
      ]
     },
     "metadata": {},
     "output_type": "display_data"
    },
    {
     "name": "stderr",
     "output_type": "stream",
     "text": [
      "INFO:root:eval_loss after step 740: 0.31572124858697254: \n",
      "INFO:root:eval_accuracy_multilabel after step 740: 0.31382978723404253: \n",
      "INFO:root:eval_accuracy_thresh after step 740: 0.8909574747085571: \n",
      "INFO:root:eval_roc_auc after step 740: 0.7871657953911537: \n",
      "INFO:root:eval_fbeta after step 740: 0.370752215385437: \n",
      "INFO:root:lr after step 740: 2.573055485180145e-05\n",
      "INFO:root:train_loss after step 740: 0.11908238343894481\n",
      "INFO:root:Running evaluation\n",
      "INFO:root:  Num examples = 188\n",
      "INFO:root:  Batch size = 32\n"
     ]
    },
    {
     "data": {
      "text/html": [
       "\n",
       "    <div>\n",
       "        <style>\n",
       "            /* Turns off some styling */\n",
       "            progress {\n",
       "                /* gets rid of default border in Firefox and Opera. */\n",
       "                border: none;\n",
       "                /* Needs to be in here for Safari polyfill so background images work as expected. */\n",
       "                background-size: auto;\n",
       "            }\n",
       "            .progress-bar-interrupted, .progress-bar-interrupted::-webkit-progress-bar {\n",
       "                background: #F44336;\n",
       "            }\n",
       "        </style>\n",
       "      <progress value='6' class='' max='6', style='width:300px; height:20px; vertical-align: middle;'></progress>\n",
       "      100.00% [6/6 00:07<00:00]\n",
       "    </div>\n",
       "    "
      ],
      "text/plain": [
       "<IPython.core.display.HTML object>"
      ]
     },
     "metadata": {},
     "output_type": "display_data"
    },
    {
     "name": "stderr",
     "output_type": "stream",
     "text": [
      "INFO:root:eval_loss after epoch 16: 0.3170862744251887: \n",
      "INFO:root:eval_accuracy_multilabel after epoch 16: 0.31382978723404253: \n",
      "INFO:root:eval_accuracy_thresh after epoch 16: 0.8924772143363953: \n",
      "INFO:root:eval_roc_auc after epoch 16: 0.7850041407153086: \n",
      "INFO:root:eval_fbeta after epoch 16: 0.3538195788860321: \n",
      "INFO:root:Running evaluation\n",
      "INFO:root:  Num examples = 188\n",
      "INFO:root:  Batch size = 32\n"
     ]
    },
    {
     "data": {
      "text/html": [
       "\n",
       "    <div>\n",
       "        <style>\n",
       "            /* Turns off some styling */\n",
       "            progress {\n",
       "                /* gets rid of default border in Firefox and Opera. */\n",
       "                border: none;\n",
       "                /* Needs to be in here for Safari polyfill so background images work as expected. */\n",
       "                background-size: auto;\n",
       "            }\n",
       "            .progress-bar-interrupted, .progress-bar-interrupted::-webkit-progress-bar {\n",
       "                background: #F44336;\n",
       "            }\n",
       "        </style>\n",
       "      <progress value='6' class='' max='6', style='width:300px; height:20px; vertical-align: middle;'></progress>\n",
       "      100.00% [6/6 00:07<00:00]\n",
       "    </div>\n",
       "    "
      ],
      "text/plain": [
       "<IPython.core.display.HTML object>"
      ]
     },
     "metadata": {},
     "output_type": "display_data"
    },
    {
     "name": "stderr",
     "output_type": "stream",
     "text": [
      "INFO:root:eval_loss after step 760: 0.3135870099067688: \n",
      "INFO:root:eval_accuracy_multilabel after step 760: 0.2925531914893617: \n",
      "INFO:root:eval_accuracy_thresh after step 760: 0.8966565728187561: \n",
      "INFO:root:eval_roc_auc after step 760: 0.7910124911578474: \n",
      "INFO:root:eval_fbeta after step 760: 0.3488994240760803: \n",
      "INFO:root:lr after step 760: 2.154802329475711e-05\n",
      "INFO:root:train_loss after step 760: 0.11136390678584576\n",
      "INFO:root:Running evaluation\n",
      "INFO:root:  Num examples = 188\n",
      "INFO:root:  Batch size = 32\n"
     ]
    },
    {
     "data": {
      "text/html": [
       "\n",
       "    <div>\n",
       "        <style>\n",
       "            /* Turns off some styling */\n",
       "            progress {\n",
       "                /* gets rid of default border in Firefox and Opera. */\n",
       "                border: none;\n",
       "                /* Needs to be in here for Safari polyfill so background images work as expected. */\n",
       "                background-size: auto;\n",
       "            }\n",
       "            .progress-bar-interrupted, .progress-bar-interrupted::-webkit-progress-bar {\n",
       "                background: #F44336;\n",
       "            }\n",
       "        </style>\n",
       "      <progress value='6' class='' max='6', style='width:300px; height:20px; vertical-align: middle;'></progress>\n",
       "      100.00% [6/6 00:07<00:00]\n",
       "    </div>\n",
       "    "
      ],
      "text/plain": [
       "<IPython.core.display.HTML object>"
      ]
     },
     "metadata": {},
     "output_type": "display_data"
    },
    {
     "name": "stderr",
     "output_type": "stream",
     "text": [
      "INFO:root:eval_loss after step 780: 0.31330008308092755: \n",
      "INFO:root:eval_accuracy_multilabel after step 780: 0.324468085106383: \n",
      "INFO:root:eval_accuracy_thresh after step 780: 0.896276593208313: \n",
      "INFO:root:eval_roc_auc after step 780: 0.7917141123629108: \n",
      "INFO:root:eval_fbeta after step 780: 0.3533134460449219: \n",
      "INFO:root:lr after step 780: 1.753754960994341e-05\n",
      "INFO:root:train_loss after step 780: 0.10177420675754548\n",
      "INFO:root:Running evaluation\n",
      "INFO:root:  Num examples = 188\n",
      "INFO:root:  Batch size = 32\n"
     ]
    },
    {
     "data": {
      "text/html": [
       "\n",
       "    <div>\n",
       "        <style>\n",
       "            /* Turns off some styling */\n",
       "            progress {\n",
       "                /* gets rid of default border in Firefox and Opera. */\n",
       "                border: none;\n",
       "                /* Needs to be in here for Safari polyfill so background images work as expected. */\n",
       "                background-size: auto;\n",
       "            }\n",
       "            .progress-bar-interrupted, .progress-bar-interrupted::-webkit-progress-bar {\n",
       "                background: #F44336;\n",
       "            }\n",
       "        </style>\n",
       "      <progress value='6' class='' max='6', style='width:300px; height:20px; vertical-align: middle;'></progress>\n",
       "      100.00% [6/6 00:07<00:00]\n",
       "    </div>\n",
       "    "
      ],
      "text/plain": [
       "<IPython.core.display.HTML object>"
      ]
     },
     "metadata": {},
     "output_type": "display_data"
    },
    {
     "name": "stderr",
     "output_type": "stream",
     "text": [
      "INFO:root:eval_loss after epoch 17: 0.316981961329778: \n",
      "INFO:root:eval_accuracy_multilabel after epoch 17: 0.30319148936170215: \n",
      "INFO:root:eval_accuracy_thresh after epoch 17: 0.890577495098114: \n",
      "INFO:root:eval_roc_auc after epoch 17: 0.7933934024602749: \n",
      "INFO:root:eval_fbeta after epoch 17: 0.3549114763736725: \n",
      "INFO:root:Running evaluation\n",
      "INFO:root:  Num examples = 188\n",
      "INFO:root:  Batch size = 32\n"
     ]
    },
    {
     "data": {
      "text/html": [
       "\n",
       "    <div>\n",
       "        <style>\n",
       "            /* Turns off some styling */\n",
       "            progress {\n",
       "                /* gets rid of default border in Firefox and Opera. */\n",
       "                border: none;\n",
       "                /* Needs to be in here for Safari polyfill so background images work as expected. */\n",
       "                background-size: auto;\n",
       "            }\n",
       "            .progress-bar-interrupted, .progress-bar-interrupted::-webkit-progress-bar {\n",
       "                background: #F44336;\n",
       "            }\n",
       "        </style>\n",
       "      <progress value='6' class='' max='6', style='width:300px; height:20px; vertical-align: middle;'></progress>\n",
       "      100.00% [6/6 00:07<00:00]\n",
       "    </div>\n",
       "    "
      ],
      "text/plain": [
       "<IPython.core.display.HTML object>"
      ]
     },
     "metadata": {},
     "output_type": "display_data"
    },
    {
     "name": "stderr",
     "output_type": "stream",
     "text": [
      "INFO:root:eval_loss after step 800: 0.31700797379016876: \n",
      "INFO:root:eval_accuracy_multilabel after step 800: 0.30851063829787234: \n",
      "INFO:root:eval_accuracy_thresh after step 800: 0.890577495098114: \n",
      "INFO:root:eval_roc_auc after step 800: 0.793481105110908: \n",
      "INFO:root:eval_fbeta after step 800: 0.34991779923439026: \n",
      "INFO:root:lr after step 800: 1.3780775476332083e-05\n",
      "INFO:root:train_loss after step 800: 0.10468153320252896\n",
      "INFO:root:Running evaluation\n",
      "INFO:root:  Num examples = 188\n",
      "INFO:root:  Batch size = 32\n"
     ]
    },
    {
     "data": {
      "text/html": [
       "\n",
       "    <div>\n",
       "        <style>\n",
       "            /* Turns off some styling */\n",
       "            progress {\n",
       "                /* gets rid of default border in Firefox and Opera. */\n",
       "                border: none;\n",
       "                /* Needs to be in here for Safari polyfill so background images work as expected. */\n",
       "                background-size: auto;\n",
       "            }\n",
       "            .progress-bar-interrupted, .progress-bar-interrupted::-webkit-progress-bar {\n",
       "                background: #F44336;\n",
       "            }\n",
       "        </style>\n",
       "      <progress value='6' class='' max='6', style='width:300px; height:20px; vertical-align: middle;'></progress>\n",
       "      100.00% [6/6 00:07<00:00]\n",
       "    </div>\n",
       "    "
      ],
      "text/plain": [
       "<IPython.core.display.HTML object>"
      ]
     },
     "metadata": {},
     "output_type": "display_data"
    },
    {
     "name": "stderr",
     "output_type": "stream",
     "text": [
      "INFO:root:eval_loss after step 820: 0.3181575685739517: \n",
      "INFO:root:eval_accuracy_multilabel after step 820: 0.324468085106383: \n",
      "INFO:root:eval_accuracy_thresh after step 820: 0.8920972943305969: \n",
      "INFO:root:eval_roc_auc after step 820: 0.7904510504189599: \n",
      "INFO:root:eval_fbeta after step 820: 0.35852667689323425: \n",
      "INFO:root:lr after step 820: 1.035417798164145e-05\n",
      "INFO:root:train_loss after step 820: 0.09751340597867966\n",
      "INFO:root:Running evaluation\n",
      "INFO:root:  Num examples = 188\n",
      "INFO:root:  Batch size = 32\n"
     ]
    },
    {
     "data": {
      "text/html": [
       "\n",
       "    <div>\n",
       "        <style>\n",
       "            /* Turns off some styling */\n",
       "            progress {\n",
       "                /* gets rid of default border in Firefox and Opera. */\n",
       "                border: none;\n",
       "                /* Needs to be in here for Safari polyfill so background images work as expected. */\n",
       "                background-size: auto;\n",
       "            }\n",
       "            .progress-bar-interrupted, .progress-bar-interrupted::-webkit-progress-bar {\n",
       "                background: #F44336;\n",
       "            }\n",
       "        </style>\n",
       "      <progress value='6' class='' max='6', style='width:300px; height:20px; vertical-align: middle;'></progress>\n",
       "      100.00% [6/6 00:07<00:00]\n",
       "    </div>\n",
       "    "
      ],
      "text/plain": [
       "<IPython.core.display.HTML object>"
      ]
     },
     "metadata": {},
     "output_type": "display_data"
    },
    {
     "name": "stderr",
     "output_type": "stream",
     "text": [
      "INFO:root:eval_loss after step 840: 0.317247877518336: \n",
      "INFO:root:eval_accuracy_multilabel after step 840: 0.3191489361702128: \n",
      "INFO:root:eval_accuracy_thresh after step 840: 0.8943769335746765: \n",
      "INFO:root:eval_roc_auc after step 840: 0.7905380341954072: \n",
      "INFO:root:eval_fbeta after step 840: 0.35032030940055847: \n",
      "INFO:root:lr after step 840: 7.3275127693722555e-06\n",
      "INFO:root:train_loss after step 840: 0.09247569218277932\n",
      "INFO:root:Running evaluation\n",
      "INFO:root:  Num examples = 188\n",
      "INFO:root:  Batch size = 32\n"
     ]
    },
    {
     "data": {
      "text/html": [
       "\n",
       "    <div>\n",
       "        <style>\n",
       "            /* Turns off some styling */\n",
       "            progress {\n",
       "                /* gets rid of default border in Firefox and Opera. */\n",
       "                border: none;\n",
       "                /* Needs to be in here for Safari polyfill so background images work as expected. */\n",
       "                background-size: auto;\n",
       "            }\n",
       "            .progress-bar-interrupted, .progress-bar-interrupted::-webkit-progress-bar {\n",
       "                background: #F44336;\n",
       "            }\n",
       "        </style>\n",
       "      <progress value='6' class='' max='6', style='width:300px; height:20px; vertical-align: middle;'></progress>\n",
       "      100.00% [6/6 00:07<00:00]\n",
       "    </div>\n",
       "    "
      ],
      "text/plain": [
       "<IPython.core.display.HTML object>"
      ]
     },
     "metadata": {},
     "output_type": "display_data"
    },
    {
     "name": "stderr",
     "output_type": "stream",
     "text": [
      "INFO:root:eval_loss after epoch 18: 0.3161810388167699: \n",
      "INFO:root:eval_accuracy_multilabel after epoch 18: 0.324468085106383: \n",
      "INFO:root:eval_accuracy_thresh after epoch 18: 0.8920972943305969: \n",
      "INFO:root:eval_roc_auc after epoch 18: 0.7918262567358512: \n",
      "INFO:root:eval_fbeta after epoch 18: 0.35417118668556213: \n",
      "INFO:root:Running evaluation\n",
      "INFO:root:  Num examples = 188\n",
      "INFO:root:  Batch size = 32\n"
     ]
    },
    {
     "data": {
      "text/html": [
       "\n",
       "    <div>\n",
       "        <style>\n",
       "            /* Turns off some styling */\n",
       "            progress {\n",
       "                /* gets rid of default border in Firefox and Opera. */\n",
       "                border: none;\n",
       "                /* Needs to be in here for Safari polyfill so background images work as expected. */\n",
       "                background-size: auto;\n",
       "            }\n",
       "            .progress-bar-interrupted, .progress-bar-interrupted::-webkit-progress-bar {\n",
       "                background: #F44336;\n",
       "            }\n",
       "        </style>\n",
       "      <progress value='6' class='' max='6', style='width:300px; height:20px; vertical-align: middle;'></progress>\n",
       "      100.00% [6/6 00:07<00:00]\n",
       "    </div>\n",
       "    "
      ],
      "text/plain": [
       "<IPython.core.display.HTML object>"
      ]
     },
     "metadata": {},
     "output_type": "display_data"
    },
    {
     "name": "stderr",
     "output_type": "stream",
     "text": [
      "INFO:root:eval_loss after step 860: 0.3168712208668391: \n",
      "INFO:root:eval_accuracy_multilabel after step 860: 0.31382978723404253: \n",
      "INFO:root:eval_accuracy_thresh after step 860: 0.8924772143363953: \n",
      "INFO:root:eval_roc_auc after step 860: 0.7934545067660439: \n",
      "INFO:root:eval_fbeta after step 860: 0.3499216139316559: \n",
      "INFO:root:lr after step 860: 4.76239401506456e-06\n",
      "INFO:root:train_loss after step 860: 0.09203909933567048\n",
      "INFO:root:Running evaluation\n",
      "INFO:root:  Num examples = 188\n",
      "INFO:root:  Batch size = 32\n"
     ]
    },
    {
     "data": {
      "text/html": [
       "\n",
       "    <div>\n",
       "        <style>\n",
       "            /* Turns off some styling */\n",
       "            progress {\n",
       "                /* gets rid of default border in Firefox and Opera. */\n",
       "                border: none;\n",
       "                /* Needs to be in here for Safari polyfill so background images work as expected. */\n",
       "                background-size: auto;\n",
       "            }\n",
       "            .progress-bar-interrupted, .progress-bar-interrupted::-webkit-progress-bar {\n",
       "                background: #F44336;\n",
       "            }\n",
       "        </style>\n",
       "      <progress value='6' class='' max='6', style='width:300px; height:20px; vertical-align: middle;'></progress>\n",
       "      100.00% [6/6 00:07<00:00]\n",
       "    </div>\n",
       "    "
      ],
      "text/plain": [
       "<IPython.core.display.HTML object>"
      ]
     },
     "metadata": {},
     "output_type": "display_data"
    },
    {
     "name": "stderr",
     "output_type": "stream",
     "text": [
      "INFO:root:eval_loss after step 880: 0.3165478656689326: \n",
      "INFO:root:eval_accuracy_multilabel after step 880: 0.32978723404255317: \n",
      "INFO:root:eval_accuracy_thresh after step 880: 0.8936170339584351: \n",
      "INFO:root:eval_roc_auc after step 880: 0.790755134199433: \n",
      "INFO:root:eval_fbeta after step 880: 0.35140088200569153: \n",
      "INFO:root:lr after step 880: 2.711040139364447e-06\n",
      "INFO:root:train_loss after step 880: 0.09014642089605332\n",
      "INFO:root:Running evaluation\n",
      "INFO:root:  Num examples = 188\n",
      "INFO:root:  Batch size = 32\n"
     ]
    },
    {
     "data": {
      "text/html": [
       "\n",
       "    <div>\n",
       "        <style>\n",
       "            /* Turns off some styling */\n",
       "            progress {\n",
       "                /* gets rid of default border in Firefox and Opera. */\n",
       "                border: none;\n",
       "                /* Needs to be in here for Safari polyfill so background images work as expected. */\n",
       "                background-size: auto;\n",
       "            }\n",
       "            .progress-bar-interrupted, .progress-bar-interrupted::-webkit-progress-bar {\n",
       "                background: #F44336;\n",
       "            }\n",
       "        </style>\n",
       "      <progress value='6' class='' max='6', style='width:300px; height:20px; vertical-align: middle;'></progress>\n",
       "      100.00% [6/6 00:07<00:00]\n",
       "    </div>\n",
       "    "
      ],
      "text/plain": [
       "<IPython.core.display.HTML object>"
      ]
     },
     "metadata": {},
     "output_type": "display_data"
    },
    {
     "name": "stderr",
     "output_type": "stream",
     "text": [
      "INFO:root:eval_loss after epoch 19: 0.31725341578324634: \n",
      "INFO:root:eval_accuracy_multilabel after epoch 19: 0.324468085106383: \n",
      "INFO:root:eval_accuracy_thresh after epoch 19: 0.8936170339584351: \n",
      "INFO:root:eval_roc_auc after epoch 19: 0.7911864587107422: \n",
      "INFO:root:eval_fbeta after epoch 19: 0.35212621092796326: \n",
      "INFO:root:Running evaluation\n",
      "INFO:root:  Num examples = 188\n",
      "INFO:root:  Batch size = 32\n"
     ]
    },
    {
     "data": {
      "text/html": [
       "\n",
       "    <div>\n",
       "        <style>\n",
       "            /* Turns off some styling */\n",
       "            progress {\n",
       "                /* gets rid of default border in Firefox and Opera. */\n",
       "                border: none;\n",
       "                /* Needs to be in here for Safari polyfill so background images work as expected. */\n",
       "                background-size: auto;\n",
       "            }\n",
       "            .progress-bar-interrupted, .progress-bar-interrupted::-webkit-progress-bar {\n",
       "                background: #F44336;\n",
       "            }\n",
       "        </style>\n",
       "      <progress value='6' class='' max='6', style='width:300px; height:20px; vertical-align: middle;'></progress>\n",
       "      100.00% [6/6 00:07<00:00]\n",
       "    </div>\n",
       "    "
      ],
      "text/plain": [
       "<IPython.core.display.HTML object>"
      ]
     },
     "metadata": {},
     "output_type": "display_data"
    },
    {
     "name": "stderr",
     "output_type": "stream",
     "text": [
      "INFO:root:eval_loss after step 900: 0.3183351506789525: \n",
      "INFO:root:eval_accuracy_multilabel after step 900: 0.3191489361702128: \n",
      "INFO:root:eval_accuracy_thresh after step 900: 0.8920972943305969: \n",
      "INFO:root:eval_roc_auc after step 900: 0.791103788179408: \n",
      "INFO:root:eval_fbeta after step 900: 0.35263797640800476: \n",
      "INFO:root:lr after step 900: 1.2152107915650823e-06\n",
      "INFO:root:train_loss after step 900: 0.08820373676717282\n",
      "INFO:root:Running evaluation\n",
      "INFO:root:  Num examples = 188\n",
      "INFO:root:  Batch size = 32\n"
     ]
    },
    {
     "data": {
      "text/html": [
       "\n",
       "    <div>\n",
       "        <style>\n",
       "            /* Turns off some styling */\n",
       "            progress {\n",
       "                /* gets rid of default border in Firefox and Opera. */\n",
       "                border: none;\n",
       "                /* Needs to be in here for Safari polyfill so background images work as expected. */\n",
       "                background-size: auto;\n",
       "            }\n",
       "            .progress-bar-interrupted, .progress-bar-interrupted::-webkit-progress-bar {\n",
       "                background: #F44336;\n",
       "            }\n",
       "        </style>\n",
       "      <progress value='6' class='' max='6', style='width:300px; height:20px; vertical-align: middle;'></progress>\n",
       "      100.00% [6/6 00:07<00:00]\n",
       "    </div>\n",
       "    "
      ],
      "text/plain": [
       "<IPython.core.display.HTML object>"
      ]
     },
     "metadata": {},
     "output_type": "display_data"
    },
    {
     "name": "stderr",
     "output_type": "stream",
     "text": [
      "INFO:root:eval_loss after step 920: 0.3184267332156499: \n",
      "INFO:root:eval_accuracy_multilabel after step 920: 0.324468085106383: \n",
      "INFO:root:eval_accuracy_thresh after step 920: 0.8920972943305969: \n",
      "INFO:root:eval_roc_auc after step 920: 0.7912561895067373: \n",
      "INFO:root:eval_fbeta after step 920: 0.35287976264953613: \n",
      "INFO:root:lr after step 920: 3.053567435720195e-07\n",
      "INFO:root:train_loss after step 920: 0.08838593736290931\n",
      "INFO:root:Running evaluation\n",
      "INFO:root:  Num examples = 188\n",
      "INFO:root:  Batch size = 32\n"
     ]
    },
    {
     "data": {
      "text/html": [
       "\n",
       "    <div>\n",
       "        <style>\n",
       "            /* Turns off some styling */\n",
       "            progress {\n",
       "                /* gets rid of default border in Firefox and Opera. */\n",
       "                border: none;\n",
       "                /* Needs to be in here for Safari polyfill so background images work as expected. */\n",
       "                background-size: auto;\n",
       "            }\n",
       "            .progress-bar-interrupted, .progress-bar-interrupted::-webkit-progress-bar {\n",
       "                background: #F44336;\n",
       "            }\n",
       "        </style>\n",
       "      <progress value='6' class='' max='6', style='width:300px; height:20px; vertical-align: middle;'></progress>\n",
       "      100.00% [6/6 00:07<00:00]\n",
       "    </div>\n",
       "    "
      ],
      "text/plain": [
       "<IPython.core.display.HTML object>"
      ]
     },
     "metadata": {},
     "output_type": "display_data"
    },
    {
     "name": "stderr",
     "output_type": "stream",
     "text": [
      "INFO:root:eval_loss after step 940: 0.31818415721257526: \n",
      "INFO:root:eval_accuracy_multilabel after step 940: 0.324468085106383: \n",
      "INFO:root:eval_accuracy_thresh after step 940: 0.8928571343421936: \n",
      "INFO:root:eval_roc_auc after step 940: 0.7913374222897006: \n",
      "INFO:root:eval_fbeta after step 940: 0.35287976264953613: \n",
      "INFO:root:lr after step 940: 0.0\n",
      "INFO:root:train_loss after step 940: 0.08576637730002404\n",
      "INFO:root:Running evaluation\n",
      "INFO:root:  Num examples = 188\n",
      "INFO:root:  Batch size = 32\n"
     ]
    },
    {
     "data": {
      "text/html": [
       "\n",
       "    <div>\n",
       "        <style>\n",
       "            /* Turns off some styling */\n",
       "            progress {\n",
       "                /* gets rid of default border in Firefox and Opera. */\n",
       "                border: none;\n",
       "                /* Needs to be in here for Safari polyfill so background images work as expected. */\n",
       "                background-size: auto;\n",
       "            }\n",
       "            .progress-bar-interrupted, .progress-bar-interrupted::-webkit-progress-bar {\n",
       "                background: #F44336;\n",
       "            }\n",
       "        </style>\n",
       "      <progress value='6' class='' max='6', style='width:300px; height:20px; vertical-align: middle;'></progress>\n",
       "      100.00% [6/6 00:07<00:00]\n",
       "    </div>\n",
       "    "
      ],
      "text/plain": [
       "<IPython.core.display.HTML object>"
      ]
     },
     "metadata": {},
     "output_type": "display_data"
    },
    {
     "name": "stderr",
     "output_type": "stream",
     "text": [
      "INFO:root:eval_loss after epoch 20: 0.31818415721257526: \n",
      "INFO:root:eval_accuracy_multilabel after epoch 20: 0.324468085106383: \n",
      "INFO:root:eval_accuracy_thresh after epoch 20: 0.8928571343421936: \n",
      "INFO:root:eval_roc_auc after epoch 20: 0.7913374222897006: \n",
      "INFO:root:eval_fbeta after epoch 20: 0.35287976264953613: \n"
     ]
    },
    {
     "data": {
      "text/plain": [
       "(940, 0.26950127923900774)"
      ]
     },
     "execution_count": 10,
     "metadata": {},
     "output_type": "execute_result"
    }
   ],
   "source": [
    "learner.fit(epochs=10,\n",
    "            lr=6e-5,\n",
    "            validate=True, \t# Evaluate the model after each epoch\n",
    "            schedule_type=\"warmup_cosine\")"
   ]
  },
  {
   "cell_type": "markdown",
   "metadata": {},
   "source": [
    "#### Save the model"
   ]
  },
  {
   "cell_type": "code",
   "execution_count": 11,
   "metadata": {},
   "outputs": [],
   "source": [
    "learner.save_model()"
   ]
  },
  {
   "cell_type": "markdown",
   "metadata": {},
   "source": [
    "## Wrap into one function"
   ]
  },
  {
   "cell_type": "markdown",
   "metadata": {},
   "source": [
    "Let's make all the above into a function so we can call it multiple times easily and sequentially"
   ]
  },
  {
   "cell_type": "code",
   "execution_count": 7,
   "metadata": {},
   "outputs": [],
   "source": [
    "BASE = Path('data/phenotype_classification/')\n",
    "LABEL_PATH = BASE\n",
    "BIOBERT_PATH = Path('biobert/')\n",
    "\n",
    "def train(path_to_directory, model):\n",
    "        \n",
    "    DATA_PATH = BASE/path_to_directory\n",
    "    OUTPUT_DIR = DATA_PATH/'output'/model \n",
    "    OUTPUT_DIR.mkdir(parents=True,exist_ok=True)\n",
    "    \n",
    "    if (model == \"biobert\"):\n",
    "        tokenizer = BertTokenizer.from_pretrained(BIOBERT_PATH, \n",
    "                                                  do_lower_case=True)\n",
    "        pretrained_path=BIOBERT_PATH\n",
    "    elif (model == \"bert\"):\n",
    "        tokenizer = \"bert-base-uncased\"\n",
    "        pretrained_path=\"bert-base-uncased\"\n",
    "    else:\n",
    "        print (\"Model parameter must be either 'bert' or 'biobert'\")\n",
    "        return\n",
    "    \n",
    "    databunch = BertDataBunch(DATA_PATH, \n",
    "                              LABEL_PATH,\n",
    "                              tokenizer=tokenizer,\n",
    "                              train_file='train.csv',\n",
    "                              val_file='val.csv',\n",
    "                              text_col='text',\n",
    "                              label_file='labels.csv',\n",
    "                              label_col=labels,\n",
    "                              batch_size_per_gpu=8,\n",
    "                              max_seq_length=512,\n",
    "                              multi_gpu=multi_gpu,\n",
    "                              multi_label=True,\n",
    "                              model_type='bert',\n",
    "                              clear_cache=True)\n",
    "    \n",
    "    learner = BertLearner.from_pretrained_model(databunch,\n",
    "                                                pretrained_path=pretrained_path,\n",
    "                                                metrics=metrics,\n",
    "                                                device=device_cuda,\n",
    "                                                logger=logger,\n",
    "                                                output_dir=OUTPUT_DIR,\n",
    "                                                finetuned_wgts_path=None,\n",
    "                                                warmup_steps=500,\n",
    "                                                multi_gpu=multi_gpu,\n",
    "                                                is_fp16=True,\n",
    "                                                multi_label=True,\n",
    "                                                logging_steps=20)\n",
    "    \n",
    "    learner.fit(epochs=10,\n",
    "                lr=6e-5,\n",
    "                validate=True, # Evaluate the model after each epoch\n",
    "                schedule_type=\"warmup_cosine\")\n",
    "    \n",
    "    learner.save_model()\n",
    "    \n",
    "    return"
   ]
  },
  {
   "cell_type": "markdown",
   "metadata": {},
   "source": [
    "Let's get training!"
   ]
  },
  {
   "cell_type": "code",
   "execution_count": 8,
   "metadata": {},
   "outputs": [
    {
     "name": "stderr",
     "output_type": "stream",
     "text": [
      "INFO:pytorch_transformers.tokenization_utils:Model name 'biobert' not found in model shortcut name list (bert-base-uncased, bert-large-uncased, bert-base-cased, bert-large-cased, bert-base-multilingual-uncased, bert-base-multilingual-cased, bert-base-chinese, bert-base-german-cased, bert-large-uncased-whole-word-masking, bert-large-cased-whole-word-masking, bert-large-uncased-whole-word-masking-finetuned-squad, bert-large-cased-whole-word-masking-finetuned-squad, bert-base-cased-finetuned-mrpc). Assuming 'biobert' is a path or url to a directory containing tokenizer files.\n",
      "INFO:pytorch_transformers.tokenization_utils:Didn't find file biobert/added_tokens.json. We won't load it.\n",
      "INFO:pytorch_transformers.tokenization_utils:Didn't find file biobert/special_tokens_map.json. We won't load it.\n",
      "INFO:pytorch_transformers.tokenization_utils:loading file None\n",
      "INFO:pytorch_transformers.tokenization_utils:loading file None\n",
      "INFO:pytorch_transformers.tokenization_utils:loading file biobert/vocab.txt\n",
      "INFO:root:Writing example 0 of 1501\n",
      "INFO:root:Running evaluation\n",
      "INFO:root:  Num examples = 188\n",
      "INFO:root:  Batch size = 32\n"
     ]
    },
    {
     "data": {
      "text/html": [
       "\n",
       "    <div>\n",
       "        <style>\n",
       "            /* Turns off some styling */\n",
       "            progress {\n",
       "                /* gets rid of default border in Firefox and Opera. */\n",
       "                border: none;\n",
       "                /* Needs to be in here for Safari polyfill so background images work as expected. */\n",
       "                background-size: auto;\n",
       "            }\n",
       "            .progress-bar-interrupted, .progress-bar-interrupted::-webkit-progress-bar {\n",
       "                background: #F44336;\n",
       "            }\n",
       "        </style>\n",
       "      <progress value='6' class='' max='6', style='width:300px; height:20px; vertical-align: middle;'></progress>\n",
       "      100.00% [6/6 00:07<00:00]\n",
       "    </div>\n",
       "    "
      ],
      "text/plain": [
       "<IPython.core.display.HTML object>"
      ]
     },
     "metadata": {},
     "output_type": "display_data"
    },
    {
     "name": "stderr",
     "output_type": "stream",
     "text": [
      "INFO:root:eval_loss after step 20: 0.6245470146338145: \n",
      "INFO:root:eval_accuracy_multilabel after step 20: 0.09574468085106383: \n",
      "INFO:root:eval_accuracy_thresh after step 20: 0.7481003403663635: \n",
      "INFO:root:eval_roc_auc after step 20: 0.570418039716361: \n",
      "INFO:root:eval_fbeta after step 20: 0.34148284792900085: \n",
      "INFO:root:lr after step 20: 2.4000000000000003e-06\n",
      "INFO:root:train_loss after step 20: 0.654225566983223\n",
      "INFO:root:Running evaluation\n",
      "INFO:root:  Num examples = 188\n",
      "INFO:root:  Batch size = 32\n"
     ]
    },
    {
     "data": {
      "text/html": [
       "\n",
       "    <div>\n",
       "        <style>\n",
       "            /* Turns off some styling */\n",
       "            progress {\n",
       "                /* gets rid of default border in Firefox and Opera. */\n",
       "                border: none;\n",
       "                /* Needs to be in here for Safari polyfill so background images work as expected. */\n",
       "                background-size: auto;\n",
       "            }\n",
       "            .progress-bar-interrupted, .progress-bar-interrupted::-webkit-progress-bar {\n",
       "                background: #F44336;\n",
       "            }\n",
       "        </style>\n",
       "      <progress value='6' class='' max='6', style='width:300px; height:20px; vertical-align: middle;'></progress>\n",
       "      100.00% [6/6 00:07<00:00]\n",
       "    </div>\n",
       "    "
      ],
      "text/plain": [
       "<IPython.core.display.HTML object>"
      ]
     },
     "metadata": {},
     "output_type": "display_data"
    },
    {
     "name": "stderr",
     "output_type": "stream",
     "text": [
      "INFO:root:eval_loss after step 40: 0.5243857502937317: \n",
      "INFO:root:eval_accuracy_multilabel after step 40: 0.09574468085106383: \n",
      "INFO:root:eval_accuracy_thresh after step 40: 0.8461246490478516: \n",
      "INFO:root:eval_roc_auc after step 40: 0.5837567502286021: \n",
      "INFO:root:eval_fbeta after step 40: 0.315360426902771: \n",
      "INFO:root:lr after step 40: 4.800000000000001e-06\n",
      "INFO:root:train_loss after step 40: 0.5891541808843612\n",
      "INFO:root:Running evaluation\n",
      "INFO:root:  Num examples = 188\n",
      "INFO:root:  Batch size = 32\n"
     ]
    },
    {
     "data": {
      "text/html": [
       "\n",
       "    <div>\n",
       "        <style>\n",
       "            /* Turns off some styling */\n",
       "            progress {\n",
       "                /* gets rid of default border in Firefox and Opera. */\n",
       "                border: none;\n",
       "                /* Needs to be in here for Safari polyfill so background images work as expected. */\n",
       "                background-size: auto;\n",
       "            }\n",
       "            .progress-bar-interrupted, .progress-bar-interrupted::-webkit-progress-bar {\n",
       "                background: #F44336;\n",
       "            }\n",
       "        </style>\n",
       "      <progress value='6' class='' max='6', style='width:300px; height:20px; vertical-align: middle;'></progress>\n",
       "      100.00% [6/6 00:07<00:00]\n",
       "    </div>\n",
       "    "
      ],
      "text/plain": [
       "<IPython.core.display.HTML object>"
      ]
     },
     "metadata": {},
     "output_type": "display_data"
    },
    {
     "name": "stderr",
     "output_type": "stream",
     "text": [
      "INFO:root:eval_loss after epoch 1: 0.48875992000102997: \n",
      "INFO:root:eval_accuracy_multilabel after epoch 1: 0.07446808510638298: \n",
      "INFO:root:eval_accuracy_thresh after epoch 1: 0.8867781162261963: \n",
      "INFO:root:eval_roc_auc after epoch 1: 0.5992463323039054: \n",
      "INFO:root:eval_fbeta after epoch 1: 0.3081028163433075: \n",
      "INFO:root:Running evaluation\n",
      "INFO:root:  Num examples = 188\n",
      "INFO:root:  Batch size = 32\n"
     ]
    },
    {
     "data": {
      "text/html": [
       "\n",
       "    <div>\n",
       "        <style>\n",
       "            /* Turns off some styling */\n",
       "            progress {\n",
       "                /* gets rid of default border in Firefox and Opera. */\n",
       "                border: none;\n",
       "                /* Needs to be in here for Safari polyfill so background images work as expected. */\n",
       "                background-size: auto;\n",
       "            }\n",
       "            .progress-bar-interrupted, .progress-bar-interrupted::-webkit-progress-bar {\n",
       "                background: #F44336;\n",
       "            }\n",
       "        </style>\n",
       "      <progress value='6' class='' max='6', style='width:300px; height:20px; vertical-align: middle;'></progress>\n",
       "      100.00% [6/6 00:07<00:00]\n",
       "    </div>\n",
       "    "
      ],
      "text/plain": [
       "<IPython.core.display.HTML object>"
      ]
     },
     "metadata": {},
     "output_type": "display_data"
    },
    {
     "name": "stderr",
     "output_type": "stream",
     "text": [
      "INFO:root:eval_loss after step 60: 0.4463123132785161: \n",
      "INFO:root:eval_accuracy_multilabel after step 60: 0.047872340425531915: \n",
      "INFO:root:eval_accuracy_thresh after step 60: 0.8867781162261963: \n",
      "INFO:root:eval_roc_auc after step 60: 0.6106404881443269: \n",
      "INFO:root:eval_fbeta after step 60: 0.3013382852077484: \n",
      "INFO:root:lr after step 60: 7.2e-06\n",
      "INFO:root:train_loss after step 60: 0.5029118552803993\n",
      "INFO:root:Running evaluation\n",
      "INFO:root:  Num examples = 188\n",
      "INFO:root:  Batch size = 32\n"
     ]
    },
    {
     "data": {
      "text/html": [
       "\n",
       "    <div>\n",
       "        <style>\n",
       "            /* Turns off some styling */\n",
       "            progress {\n",
       "                /* gets rid of default border in Firefox and Opera. */\n",
       "                border: none;\n",
       "                /* Needs to be in here for Safari polyfill so background images work as expected. */\n",
       "                background-size: auto;\n",
       "            }\n",
       "            .progress-bar-interrupted, .progress-bar-interrupted::-webkit-progress-bar {\n",
       "                background: #F44336;\n",
       "            }\n",
       "        </style>\n",
       "      <progress value='6' class='' max='6', style='width:300px; height:20px; vertical-align: middle;'></progress>\n",
       "      100.00% [6/6 00:07<00:00]\n",
       "    </div>\n",
       "    "
      ],
      "text/plain": [
       "<IPython.core.display.HTML object>"
      ]
     },
     "metadata": {},
     "output_type": "display_data"
    },
    {
     "name": "stderr",
     "output_type": "stream",
     "text": [
      "INFO:root:eval_loss after step 80: 0.396735817193985: \n",
      "INFO:root:eval_accuracy_multilabel after step 80: 0.047872340425531915: \n",
      "INFO:root:eval_accuracy_thresh after step 80: 0.8867781162261963: \n",
      "INFO:root:eval_roc_auc after step 80: 0.63033332758234: \n",
      "INFO:root:eval_fbeta after step 80: 0.11696664988994598: \n",
      "INFO:root:lr after step 80: 9.600000000000001e-06\n",
      "INFO:root:train_loss after step 80: 0.4432420089840889\n",
      "INFO:root:Running evaluation\n",
      "INFO:root:  Num examples = 188\n",
      "INFO:root:  Batch size = 32\n"
     ]
    },
    {
     "data": {
      "text/html": [
       "\n",
       "    <div>\n",
       "        <style>\n",
       "            /* Turns off some styling */\n",
       "            progress {\n",
       "                /* gets rid of default border in Firefox and Opera. */\n",
       "                border: none;\n",
       "                /* Needs to be in here for Safari polyfill so background images work as expected. */\n",
       "                background-size: auto;\n",
       "            }\n",
       "            .progress-bar-interrupted, .progress-bar-interrupted::-webkit-progress-bar {\n",
       "                background: #F44336;\n",
       "            }\n",
       "        </style>\n",
       "      <progress value='6' class='' max='6', style='width:300px; height:20px; vertical-align: middle;'></progress>\n",
       "      100.00% [6/6 00:07<00:00]\n",
       "    </div>\n",
       "    "
      ],
      "text/plain": [
       "<IPython.core.display.HTML object>"
      ]
     },
     "metadata": {},
     "output_type": "display_data"
    },
    {
     "name": "stderr",
     "output_type": "stream",
     "text": [
      "INFO:root:eval_loss after epoch 2: 0.37374845643838245: \n",
      "INFO:root:eval_accuracy_multilabel after epoch 2: 0.047872340425531915: \n",
      "INFO:root:eval_accuracy_thresh after epoch 2: 0.8867781162261963: \n",
      "INFO:root:eval_roc_auc after epoch 2: 0.643541202992817: \n",
      "INFO:root:eval_fbeta after epoch 2: 0.11696664988994598: \n",
      "INFO:root:Running evaluation\n",
      "INFO:root:  Num examples = 188\n",
      "INFO:root:  Batch size = 32\n"
     ]
    },
    {
     "data": {
      "text/html": [
       "\n",
       "    <div>\n",
       "        <style>\n",
       "            /* Turns off some styling */\n",
       "            progress {\n",
       "                /* gets rid of default border in Firefox and Opera. */\n",
       "                border: none;\n",
       "                /* Needs to be in here for Safari polyfill so background images work as expected. */\n",
       "                background-size: auto;\n",
       "            }\n",
       "            .progress-bar-interrupted, .progress-bar-interrupted::-webkit-progress-bar {\n",
       "                background: #F44336;\n",
       "            }\n",
       "        </style>\n",
       "      <progress value='6' class='' max='6', style='width:300px; height:20px; vertical-align: middle;'></progress>\n",
       "      100.00% [6/6 00:07<00:00]\n",
       "    </div>\n",
       "    "
      ],
      "text/plain": [
       "<IPython.core.display.HTML object>"
      ]
     },
     "metadata": {},
     "output_type": "display_data"
    },
    {
     "name": "stderr",
     "output_type": "stream",
     "text": [
      "INFO:root:eval_loss after step 100: 0.36633211374282837: \n",
      "INFO:root:eval_accuracy_multilabel after step 100: 0.047872340425531915: \n",
      "INFO:root:eval_accuracy_thresh after step 100: 0.8867781162261963: \n",
      "INFO:root:eval_roc_auc after step 100: 0.6527046922355837: \n",
      "INFO:root:eval_fbeta after step 100: 0.11696664988994598: \n",
      "INFO:root:lr after step 100: 1.2e-05\n",
      "INFO:root:train_loss after step 100: 0.4148416742682457\n",
      "INFO:root:Running evaluation\n",
      "INFO:root:  Num examples = 188\n",
      "INFO:root:  Batch size = 32\n"
     ]
    },
    {
     "data": {
      "text/html": [
       "\n",
       "    <div>\n",
       "        <style>\n",
       "            /* Turns off some styling */\n",
       "            progress {\n",
       "                /* gets rid of default border in Firefox and Opera. */\n",
       "                border: none;\n",
       "                /* Needs to be in here for Safari polyfill so background images work as expected. */\n",
       "                background-size: auto;\n",
       "            }\n",
       "            .progress-bar-interrupted, .progress-bar-interrupted::-webkit-progress-bar {\n",
       "                background: #F44336;\n",
       "            }\n",
       "        </style>\n",
       "      <progress value='6' class='' max='6', style='width:300px; height:20px; vertical-align: middle;'></progress>\n",
       "      100.00% [6/6 00:07<00:00]\n",
       "    </div>\n",
       "    "
      ],
      "text/plain": [
       "<IPython.core.display.HTML object>"
      ]
     },
     "metadata": {},
     "output_type": "display_data"
    },
    {
     "name": "stderr",
     "output_type": "stream",
     "text": [
      "INFO:root:eval_loss after step 120: 0.35101109743118286: \n",
      "INFO:root:eval_accuracy_multilabel after step 120: 0.047872340425531915: \n",
      "INFO:root:eval_accuracy_thresh after step 120: 0.8867781162261963: \n",
      "INFO:root:eval_roc_auc after step 120: 0.6547743310156829: \n",
      "INFO:root:eval_fbeta after step 120: 0.11696664988994598: \n",
      "INFO:root:lr after step 120: 1.44e-05\n",
      "INFO:root:train_loss after step 120: 0.3915459156036377\n",
      "INFO:root:Running evaluation\n",
      "INFO:root:  Num examples = 188\n",
      "INFO:root:  Batch size = 32\n"
     ]
    },
    {
     "data": {
      "text/html": [
       "\n",
       "    <div>\n",
       "        <style>\n",
       "            /* Turns off some styling */\n",
       "            progress {\n",
       "                /* gets rid of default border in Firefox and Opera. */\n",
       "                border: none;\n",
       "                /* Needs to be in here for Safari polyfill so background images work as expected. */\n",
       "                background-size: auto;\n",
       "            }\n",
       "            .progress-bar-interrupted, .progress-bar-interrupted::-webkit-progress-bar {\n",
       "                background: #F44336;\n",
       "            }\n",
       "        </style>\n",
       "      <progress value='6' class='' max='6', style='width:300px; height:20px; vertical-align: middle;'></progress>\n",
       "      100.00% [6/6 00:07<00:00]\n",
       "    </div>\n",
       "    "
      ],
      "text/plain": [
       "<IPython.core.display.HTML object>"
      ]
     },
     "metadata": {},
     "output_type": "display_data"
    },
    {
     "name": "stderr",
     "output_type": "stream",
     "text": [
      "INFO:root:eval_loss after step 140: 0.3431871434052785: \n",
      "INFO:root:eval_accuracy_multilabel after step 140: 0.047872340425531915: \n",
      "INFO:root:eval_accuracy_thresh after step 140: 0.8867781162261963: \n",
      "INFO:root:eval_roc_auc after step 140: 0.6631830023636583: \n",
      "INFO:root:eval_fbeta after step 140: 0.0: \n",
      "INFO:root:lr after step 140: 1.6800000000000002e-05\n",
      "INFO:root:train_loss after step 140: 0.3747246503829956\n",
      "INFO:root:Running evaluation\n",
      "INFO:root:  Num examples = 188\n",
      "INFO:root:  Batch size = 32\n"
     ]
    },
    {
     "data": {
      "text/html": [
       "\n",
       "    <div>\n",
       "        <style>\n",
       "            /* Turns off some styling */\n",
       "            progress {\n",
       "                /* gets rid of default border in Firefox and Opera. */\n",
       "                border: none;\n",
       "                /* Needs to be in here for Safari polyfill so background images work as expected. */\n",
       "                background-size: auto;\n",
       "            }\n",
       "            .progress-bar-interrupted, .progress-bar-interrupted::-webkit-progress-bar {\n",
       "                background: #F44336;\n",
       "            }\n",
       "        </style>\n",
       "      <progress value='6' class='' max='6', style='width:300px; height:20px; vertical-align: middle;'></progress>\n",
       "      100.00% [6/6 00:07<00:00]\n",
       "    </div>\n",
       "    "
      ],
      "text/plain": [
       "<IPython.core.display.HTML object>"
      ]
     },
     "metadata": {},
     "output_type": "display_data"
    },
    {
     "name": "stderr",
     "output_type": "stream",
     "text": [
      "INFO:root:eval_loss after epoch 3: 0.3429449399312337: \n",
      "INFO:root:eval_accuracy_multilabel after epoch 3: 0.047872340425531915: \n",
      "INFO:root:eval_accuracy_thresh after epoch 3: 0.8867781162261963: \n",
      "INFO:root:eval_roc_auc after epoch 3: 0.6595030854080042: \n",
      "INFO:root:eval_fbeta after epoch 3: 0.0: \n",
      "INFO:root:Running evaluation\n",
      "INFO:root:  Num examples = 188\n",
      "INFO:root:  Batch size = 32\n"
     ]
    },
    {
     "data": {
      "text/html": [
       "\n",
       "    <div>\n",
       "        <style>\n",
       "            /* Turns off some styling */\n",
       "            progress {\n",
       "                /* gets rid of default border in Firefox and Opera. */\n",
       "                border: none;\n",
       "                /* Needs to be in here for Safari polyfill so background images work as expected. */\n",
       "                background-size: auto;\n",
       "            }\n",
       "            .progress-bar-interrupted, .progress-bar-interrupted::-webkit-progress-bar {\n",
       "                background: #F44336;\n",
       "            }\n",
       "        </style>\n",
       "      <progress value='6' class='' max='6', style='width:300px; height:20px; vertical-align: middle;'></progress>\n",
       "      100.00% [6/6 00:07<00:00]\n",
       "    </div>\n",
       "    "
      ],
      "text/plain": [
       "<IPython.core.display.HTML object>"
      ]
     },
     "metadata": {},
     "output_type": "display_data"
    },
    {
     "name": "stderr",
     "output_type": "stream",
     "text": [
      "INFO:root:eval_loss after step 160: 0.34257545073827106: \n",
      "INFO:root:eval_accuracy_multilabel after step 160: 0.047872340425531915: \n",
      "INFO:root:eval_accuracy_thresh after step 160: 0.8867781162261963: \n",
      "INFO:root:eval_roc_auc after step 160: 0.6664826348751748: \n",
      "INFO:root:eval_fbeta after step 160: 0.11696664988994598: \n",
      "INFO:root:lr after step 160: 1.9200000000000003e-05\n",
      "INFO:root:train_loss after step 160: 0.37271821647882464\n",
      "INFO:root:Running evaluation\n",
      "INFO:root:  Num examples = 188\n",
      "INFO:root:  Batch size = 32\n"
     ]
    },
    {
     "data": {
      "text/html": [
       "\n",
       "    <div>\n",
       "        <style>\n",
       "            /* Turns off some styling */\n",
       "            progress {\n",
       "                /* gets rid of default border in Firefox and Opera. */\n",
       "                border: none;\n",
       "                /* Needs to be in here for Safari polyfill so background images work as expected. */\n",
       "                background-size: auto;\n",
       "            }\n",
       "            .progress-bar-interrupted, .progress-bar-interrupted::-webkit-progress-bar {\n",
       "                background: #F44336;\n",
       "            }\n",
       "        </style>\n",
       "      <progress value='6' class='' max='6', style='width:300px; height:20px; vertical-align: middle;'></progress>\n",
       "      100.00% [6/6 00:07<00:00]\n",
       "    </div>\n",
       "    "
      ],
      "text/plain": [
       "<IPython.core.display.HTML object>"
      ]
     },
     "metadata": {},
     "output_type": "display_data"
    },
    {
     "name": "stderr",
     "output_type": "stream",
     "text": [
      "INFO:root:eval_loss after step 180: 0.3373168458541234: \n",
      "INFO:root:eval_accuracy_multilabel after step 180: 0.047872340425531915: \n",
      "INFO:root:eval_accuracy_thresh after step 180: 0.8867781162261963: \n",
      "INFO:root:eval_roc_auc after step 180: 0.6728482657879149: \n",
      "INFO:root:eval_fbeta after step 180: 0.0: \n",
      "INFO:root:lr after step 180: 2.16e-05\n",
      "INFO:root:train_loss after step 180: 0.37464589178562163\n",
      "INFO:root:Running evaluation\n",
      "INFO:root:  Num examples = 188\n",
      "INFO:root:  Batch size = 32\n"
     ]
    },
    {
     "data": {
      "text/html": [
       "\n",
       "    <div>\n",
       "        <style>\n",
       "            /* Turns off some styling */\n",
       "            progress {\n",
       "                /* gets rid of default border in Firefox and Opera. */\n",
       "                border: none;\n",
       "                /* Needs to be in here for Safari polyfill so background images work as expected. */\n",
       "                background-size: auto;\n",
       "            }\n",
       "            .progress-bar-interrupted, .progress-bar-interrupted::-webkit-progress-bar {\n",
       "                background: #F44336;\n",
       "            }\n",
       "        </style>\n",
       "      <progress value='6' class='' max='6', style='width:300px; height:20px; vertical-align: middle;'></progress>\n",
       "      100.00% [6/6 00:07<00:00]\n",
       "    </div>\n",
       "    "
      ],
      "text/plain": [
       "<IPython.core.display.HTML object>"
      ]
     },
     "metadata": {},
     "output_type": "display_data"
    },
    {
     "name": "stderr",
     "output_type": "stream",
     "text": [
      "INFO:root:eval_loss after epoch 4: 0.33789828419685364: \n",
      "INFO:root:eval_accuracy_multilabel after epoch 4: 0.047872340425531915: \n",
      "INFO:root:eval_accuracy_thresh after epoch 4: 0.8867781162261963: \n",
      "INFO:root:eval_roc_auc after epoch 4: 0.6628293162643848: \n",
      "INFO:root:eval_fbeta after epoch 4: 0.0: \n",
      "INFO:root:Running evaluation\n",
      "INFO:root:  Num examples = 188\n",
      "INFO:root:  Batch size = 32\n"
     ]
    },
    {
     "data": {
      "text/html": [
       "\n",
       "    <div>\n",
       "        <style>\n",
       "            /* Turns off some styling */\n",
       "            progress {\n",
       "                /* gets rid of default border in Firefox and Opera. */\n",
       "                border: none;\n",
       "                /* Needs to be in here for Safari polyfill so background images work as expected. */\n",
       "                background-size: auto;\n",
       "            }\n",
       "            .progress-bar-interrupted, .progress-bar-interrupted::-webkit-progress-bar {\n",
       "                background: #F44336;\n",
       "            }\n",
       "        </style>\n",
       "      <progress value='6' class='' max='6', style='width:300px; height:20px; vertical-align: middle;'></progress>\n",
       "      100.00% [6/6 00:07<00:00]\n",
       "    </div>\n",
       "    "
      ],
      "text/plain": [
       "<IPython.core.display.HTML object>"
      ]
     },
     "metadata": {},
     "output_type": "display_data"
    },
    {
     "name": "stderr",
     "output_type": "stream",
     "text": [
      "INFO:root:eval_loss after step 200: 0.3385683496793111: \n",
      "INFO:root:eval_accuracy_multilabel after step 200: 0.06914893617021277: \n",
      "INFO:root:eval_accuracy_thresh after step 200: 0.8867781162261963: \n",
      "INFO:root:eval_roc_auc after step 200: 0.6637624149571838: \n",
      "INFO:root:eval_fbeta after step 200: 0.10615451633930206: \n",
      "INFO:root:lr after step 200: 2.4e-05\n",
      "INFO:root:train_loss after step 200: 0.3785696804523468\n",
      "INFO:root:Running evaluation\n",
      "INFO:root:  Num examples = 188\n",
      "INFO:root:  Batch size = 32\n"
     ]
    },
    {
     "data": {
      "text/html": [
       "\n",
       "    <div>\n",
       "        <style>\n",
       "            /* Turns off some styling */\n",
       "            progress {\n",
       "                /* gets rid of default border in Firefox and Opera. */\n",
       "                border: none;\n",
       "                /* Needs to be in here for Safari polyfill so background images work as expected. */\n",
       "                background-size: auto;\n",
       "            }\n",
       "            .progress-bar-interrupted, .progress-bar-interrupted::-webkit-progress-bar {\n",
       "                background: #F44336;\n",
       "            }\n",
       "        </style>\n",
       "      <progress value='6' class='' max='6', style='width:300px; height:20px; vertical-align: middle;'></progress>\n",
       "      100.00% [6/6 00:07<00:00]\n",
       "    </div>\n",
       "    "
      ],
      "text/plain": [
       "<IPython.core.display.HTML object>"
      ]
     },
     "metadata": {},
     "output_type": "display_data"
    },
    {
     "name": "stderr",
     "output_type": "stream",
     "text": [
      "INFO:root:eval_loss after step 220: 0.3316543896993001: \n",
      "INFO:root:eval_accuracy_multilabel after step 220: 0.18617021276595744: \n",
      "INFO:root:eval_accuracy_thresh after step 220: 0.8867781162261963: \n",
      "INFO:root:eval_roc_auc after step 220: 0.6867318829327766: \n",
      "INFO:root:eval_fbeta after step 220: 0.0: \n",
      "INFO:root:lr after step 220: 2.64e-05\n",
      "INFO:root:train_loss after step 220: 0.37278774231672285\n",
      "INFO:root:Running evaluation\n",
      "INFO:root:  Num examples = 188\n",
      "INFO:root:  Batch size = 32\n"
     ]
    },
    {
     "data": {
      "text/html": [
       "\n",
       "    <div>\n",
       "        <style>\n",
       "            /* Turns off some styling */\n",
       "            progress {\n",
       "                /* gets rid of default border in Firefox and Opera. */\n",
       "                border: none;\n",
       "                /* Needs to be in here for Safari polyfill so background images work as expected. */\n",
       "                background-size: auto;\n",
       "            }\n",
       "            .progress-bar-interrupted, .progress-bar-interrupted::-webkit-progress-bar {\n",
       "                background: #F44336;\n",
       "            }\n",
       "        </style>\n",
       "      <progress value='6' class='' max='6', style='width:300px; height:20px; vertical-align: middle;'></progress>\n",
       "      100.00% [6/6 00:07<00:00]\n",
       "    </div>\n",
       "    "
      ],
      "text/plain": [
       "<IPython.core.display.HTML object>"
      ]
     },
     "metadata": {},
     "output_type": "display_data"
    },
    {
     "name": "stderr",
     "output_type": "stream",
     "text": [
      "INFO:root:eval_loss after epoch 5: 0.3237042923768361: \n",
      "INFO:root:eval_accuracy_multilabel after epoch 5: 0.1276595744680851: \n",
      "INFO:root:eval_accuracy_thresh after epoch 5: 0.8867781162261963: \n",
      "INFO:root:eval_roc_auc after epoch 5: 0.7240378587901061: \n",
      "INFO:root:eval_fbeta after epoch 5: 0.07753541320562363: \n",
      "INFO:root:Running evaluation\n",
      "INFO:root:  Num examples = 188\n",
      "INFO:root:  Batch size = 32\n"
     ]
    },
    {
     "data": {
      "text/html": [
       "\n",
       "    <div>\n",
       "        <style>\n",
       "            /* Turns off some styling */\n",
       "            progress {\n",
       "                /* gets rid of default border in Firefox and Opera. */\n",
       "                border: none;\n",
       "                /* Needs to be in here for Safari polyfill so background images work as expected. */\n",
       "                background-size: auto;\n",
       "            }\n",
       "            .progress-bar-interrupted, .progress-bar-interrupted::-webkit-progress-bar {\n",
       "                background: #F44336;\n",
       "            }\n",
       "        </style>\n",
       "      <progress value='6' class='' max='6', style='width:300px; height:20px; vertical-align: middle;'></progress>\n",
       "      100.00% [6/6 00:07<00:00]\n",
       "    </div>\n",
       "    "
      ],
      "text/plain": [
       "<IPython.core.display.HTML object>"
      ]
     },
     "metadata": {},
     "output_type": "display_data"
    },
    {
     "name": "stderr",
     "output_type": "stream",
     "text": [
      "INFO:root:eval_loss after step 240: 0.33139658470948535: \n",
      "INFO:root:eval_accuracy_multilabel after step 240: 0.18617021276595744: \n",
      "INFO:root:eval_accuracy_thresh after step 240: 0.8867781162261963: \n",
      "INFO:root:eval_roc_auc after step 240: 0.6898970859716016: \n",
      "INFO:root:eval_fbeta after step 240: 0.12625467777252197: \n",
      "INFO:root:lr after step 240: 2.88e-05\n",
      "INFO:root:train_loss after step 240: 0.36111079901456833\n",
      "INFO:root:Running evaluation\n",
      "INFO:root:  Num examples = 188\n",
      "INFO:root:  Batch size = 32\n"
     ]
    },
    {
     "data": {
      "text/html": [
       "\n",
       "    <div>\n",
       "        <style>\n",
       "            /* Turns off some styling */\n",
       "            progress {\n",
       "                /* gets rid of default border in Firefox and Opera. */\n",
       "                border: none;\n",
       "                /* Needs to be in here for Safari polyfill so background images work as expected. */\n",
       "                background-size: auto;\n",
       "            }\n",
       "            .progress-bar-interrupted, .progress-bar-interrupted::-webkit-progress-bar {\n",
       "                background: #F44336;\n",
       "            }\n",
       "        </style>\n",
       "      <progress value='6' class='' max='6', style='width:300px; height:20px; vertical-align: middle;'></progress>\n",
       "      100.00% [6/6 00:07<00:00]\n",
       "    </div>\n",
       "    "
      ],
      "text/plain": [
       "<IPython.core.display.HTML object>"
      ]
     },
     "metadata": {},
     "output_type": "display_data"
    },
    {
     "name": "stderr",
     "output_type": "stream",
     "text": [
      "INFO:root:eval_loss after step 260: 0.31256988147894543: \n",
      "INFO:root:eval_accuracy_multilabel after step 260: 0.20212765957446807: \n",
      "INFO:root:eval_accuracy_thresh after step 260: 0.8860182762145996: \n",
      "INFO:root:eval_roc_auc after step 260: 0.7551040067171604: \n",
      "INFO:root:eval_fbeta after step 260: 0.1497781127691269: \n",
      "INFO:root:lr after step 260: 3.12e-05\n",
      "INFO:root:train_loss after step 260: 0.3514014944434166\n",
      "INFO:root:Running evaluation\n",
      "INFO:root:  Num examples = 188\n",
      "INFO:root:  Batch size = 32\n"
     ]
    },
    {
     "data": {
      "text/html": [
       "\n",
       "    <div>\n",
       "        <style>\n",
       "            /* Turns off some styling */\n",
       "            progress {\n",
       "                /* gets rid of default border in Firefox and Opera. */\n",
       "                border: none;\n",
       "                /* Needs to be in here for Safari polyfill so background images work as expected. */\n",
       "                background-size: auto;\n",
       "            }\n",
       "            .progress-bar-interrupted, .progress-bar-interrupted::-webkit-progress-bar {\n",
       "                background: #F44336;\n",
       "            }\n",
       "        </style>\n",
       "      <progress value='6' class='' max='6', style='width:300px; height:20px; vertical-align: middle;'></progress>\n",
       "      100.00% [6/6 00:07<00:00]\n",
       "    </div>\n",
       "    "
      ],
      "text/plain": [
       "<IPython.core.display.HTML object>"
      ]
     },
     "metadata": {},
     "output_type": "display_data"
    },
    {
     "name": "stderr",
     "output_type": "stream",
     "text": [
      "INFO:root:eval_loss after step 280: 0.3062266657749812: \n",
      "INFO:root:eval_accuracy_multilabel after step 280: 0.2765957446808511: \n",
      "INFO:root:eval_accuracy_thresh after step 280: 0.8871580362319946: \n",
      "INFO:root:eval_roc_auc after step 280: 0.7752360782825234: \n",
      "INFO:root:eval_fbeta after step 280: 0.23648862540721893: \n",
      "INFO:root:lr after step 280: 3.3600000000000004e-05\n",
      "INFO:root:train_loss after step 280: 0.34849668145179746\n",
      "INFO:root:Running evaluation\n",
      "INFO:root:  Num examples = 188\n",
      "INFO:root:  Batch size = 32\n"
     ]
    },
    {
     "data": {
      "text/html": [
       "\n",
       "    <div>\n",
       "        <style>\n",
       "            /* Turns off some styling */\n",
       "            progress {\n",
       "                /* gets rid of default border in Firefox and Opera. */\n",
       "                border: none;\n",
       "                /* Needs to be in here for Safari polyfill so background images work as expected. */\n",
       "                background-size: auto;\n",
       "            }\n",
       "            .progress-bar-interrupted, .progress-bar-interrupted::-webkit-progress-bar {\n",
       "                background: #F44336;\n",
       "            }\n",
       "        </style>\n",
       "      <progress value='6' class='' max='6', style='width:300px; height:20px; vertical-align: middle;'></progress>\n",
       "      100.00% [6/6 00:07<00:00]\n",
       "    </div>\n",
       "    "
      ],
      "text/plain": [
       "<IPython.core.display.HTML object>"
      ]
     },
     "metadata": {},
     "output_type": "display_data"
    },
    {
     "name": "stderr",
     "output_type": "stream",
     "text": [
      "INFO:root:eval_loss after epoch 6: 0.3058999677499135: \n",
      "INFO:root:eval_accuracy_multilabel after epoch 6: 0.2978723404255319: \n",
      "INFO:root:eval_accuracy_thresh after epoch 6: 0.8901975750923157: \n",
      "INFO:root:eval_roc_auc after epoch 6: 0.7823277721226342: \n",
      "INFO:root:eval_fbeta after epoch 6: 0.22636562585830688: \n",
      "INFO:root:Running evaluation\n",
      "INFO:root:  Num examples = 188\n",
      "INFO:root:  Batch size = 32\n"
     ]
    },
    {
     "data": {
      "text/html": [
       "\n",
       "    <div>\n",
       "        <style>\n",
       "            /* Turns off some styling */\n",
       "            progress {\n",
       "                /* gets rid of default border in Firefox and Opera. */\n",
       "                border: none;\n",
       "                /* Needs to be in here for Safari polyfill so background images work as expected. */\n",
       "                background-size: auto;\n",
       "            }\n",
       "            .progress-bar-interrupted, .progress-bar-interrupted::-webkit-progress-bar {\n",
       "                background: #F44336;\n",
       "            }\n",
       "        </style>\n",
       "      <progress value='6' class='' max='6', style='width:300px; height:20px; vertical-align: middle;'></progress>\n",
       "      100.00% [6/6 00:07<00:00]\n",
       "    </div>\n",
       "    "
      ],
      "text/plain": [
       "<IPython.core.display.HTML object>"
      ]
     },
     "metadata": {},
     "output_type": "display_data"
    },
    {
     "name": "stderr",
     "output_type": "stream",
     "text": [
      "INFO:root:eval_loss after step 300: 0.30291029810905457: \n",
      "INFO:root:eval_accuracy_multilabel after step 300: 0.22340425531914893: \n",
      "INFO:root:eval_accuracy_thresh after step 300: 0.890577495098114: \n",
      "INFO:root:eval_roc_auc after step 300: 0.7756997521321808: \n",
      "INFO:root:eval_fbeta after step 300: 0.18562127649784088: \n",
      "INFO:root:lr after step 300: 3.6e-05\n",
      "INFO:root:train_loss after step 300: 0.33296217024326324\n",
      "INFO:root:Running evaluation\n",
      "INFO:root:  Num examples = 188\n",
      "INFO:root:  Batch size = 32\n"
     ]
    },
    {
     "data": {
      "text/html": [
       "\n",
       "    <div>\n",
       "        <style>\n",
       "            /* Turns off some styling */\n",
       "            progress {\n",
       "                /* gets rid of default border in Firefox and Opera. */\n",
       "                border: none;\n",
       "                /* Needs to be in here for Safari polyfill so background images work as expected. */\n",
       "                background-size: auto;\n",
       "            }\n",
       "            .progress-bar-interrupted, .progress-bar-interrupted::-webkit-progress-bar {\n",
       "                background: #F44336;\n",
       "            }\n",
       "        </style>\n",
       "      <progress value='6' class='' max='6', style='width:300px; height:20px; vertical-align: middle;'></progress>\n",
       "      100.00% [6/6 00:07<00:00]\n",
       "    </div>\n",
       "    "
      ],
      "text/plain": [
       "<IPython.core.display.HTML object>"
      ]
     },
     "metadata": {},
     "output_type": "display_data"
    },
    {
     "name": "stderr",
     "output_type": "stream",
     "text": [
      "INFO:root:eval_loss after step 320: 0.3014759471019109: \n",
      "INFO:root:eval_accuracy_multilabel after step 320: 0.2978723404255319: \n",
      "INFO:root:eval_accuracy_thresh after step 320: 0.8920972943305969: \n",
      "INFO:root:eval_roc_auc after step 320: 0.7861356486833101: \n",
      "INFO:root:eval_fbeta after step 320: 0.268721342086792: \n",
      "INFO:root:lr after step 320: 3.8400000000000005e-05\n",
      "INFO:root:train_loss after step 320: 0.3221500277519226\n",
      "INFO:root:Running evaluation\n",
      "INFO:root:  Num examples = 188\n",
      "INFO:root:  Batch size = 32\n"
     ]
    },
    {
     "data": {
      "text/html": [
       "\n",
       "    <div>\n",
       "        <style>\n",
       "            /* Turns off some styling */\n",
       "            progress {\n",
       "                /* gets rid of default border in Firefox and Opera. */\n",
       "                border: none;\n",
       "                /* Needs to be in here for Safari polyfill so background images work as expected. */\n",
       "                background-size: auto;\n",
       "            }\n",
       "            .progress-bar-interrupted, .progress-bar-interrupted::-webkit-progress-bar {\n",
       "                background: #F44336;\n",
       "            }\n",
       "        </style>\n",
       "      <progress value='6' class='' max='6', style='width:300px; height:20px; vertical-align: middle;'></progress>\n",
       "      100.00% [6/6 00:07<00:00]\n",
       "    </div>\n",
       "    "
      ],
      "text/plain": [
       "<IPython.core.display.HTML object>"
      ]
     },
     "metadata": {},
     "output_type": "display_data"
    },
    {
     "name": "stderr",
     "output_type": "stream",
     "text": [
      "INFO:root:eval_loss after epoch 7: 0.2927006234725316: \n",
      "INFO:root:eval_accuracy_multilabel after epoch 7: 0.30851063829787234: \n",
      "INFO:root:eval_accuracy_thresh after epoch 7: 0.8917173147201538: \n",
      "INFO:root:eval_roc_auc after epoch 7: 0.8014217893641127: \n",
      "INFO:root:eval_fbeta after epoch 7: 0.2410414218902588: \n",
      "INFO:root:Running evaluation\n",
      "INFO:root:  Num examples = 188\n",
      "INFO:root:  Batch size = 32\n"
     ]
    },
    {
     "data": {
      "text/html": [
       "\n",
       "    <div>\n",
       "        <style>\n",
       "            /* Turns off some styling */\n",
       "            progress {\n",
       "                /* gets rid of default border in Firefox and Opera. */\n",
       "                border: none;\n",
       "                /* Needs to be in here for Safari polyfill so background images work as expected. */\n",
       "                background-size: auto;\n",
       "            }\n",
       "            .progress-bar-interrupted, .progress-bar-interrupted::-webkit-progress-bar {\n",
       "                background: #F44336;\n",
       "            }\n",
       "        </style>\n",
       "      <progress value='6' class='' max='6', style='width:300px; height:20px; vertical-align: middle;'></progress>\n",
       "      100.00% [6/6 00:07<00:00]\n",
       "    </div>\n",
       "    "
      ],
      "text/plain": [
       "<IPython.core.display.HTML object>"
      ]
     },
     "metadata": {},
     "output_type": "display_data"
    },
    {
     "name": "stderr",
     "output_type": "stream",
     "text": [
      "INFO:root:eval_loss after step 340: 0.29008324444293976: \n",
      "INFO:root:eval_accuracy_multilabel after step 340: 0.39361702127659576: \n",
      "INFO:root:eval_accuracy_thresh after step 340: 0.8977963924407959: \n",
      "INFO:root:eval_roc_auc after step 340: 0.7986275254050137: \n",
      "INFO:root:eval_fbeta after step 340: 0.2397884577512741: \n",
      "INFO:root:lr after step 340: 4.08e-05\n",
      "INFO:root:train_loss after step 340: 0.3169857904314995\n",
      "INFO:root:Running evaluation\n",
      "INFO:root:  Num examples = 188\n",
      "INFO:root:  Batch size = 32\n"
     ]
    },
    {
     "data": {
      "text/html": [
       "\n",
       "    <div>\n",
       "        <style>\n",
       "            /* Turns off some styling */\n",
       "            progress {\n",
       "                /* gets rid of default border in Firefox and Opera. */\n",
       "                border: none;\n",
       "                /* Needs to be in here for Safari polyfill so background images work as expected. */\n",
       "                background-size: auto;\n",
       "            }\n",
       "            .progress-bar-interrupted, .progress-bar-interrupted::-webkit-progress-bar {\n",
       "                background: #F44336;\n",
       "            }\n",
       "        </style>\n",
       "      <progress value='6' class='' max='6', style='width:300px; height:20px; vertical-align: middle;'></progress>\n",
       "      100.00% [6/6 00:07<00:00]\n",
       "    </div>\n",
       "    "
      ],
      "text/plain": [
       "<IPython.core.display.HTML object>"
      ]
     },
     "metadata": {},
     "output_type": "display_data"
    },
    {
     "name": "stderr",
     "output_type": "stream",
     "text": [
      "INFO:root:eval_loss after step 360: 0.2862514356772105: \n",
      "INFO:root:eval_accuracy_multilabel after step 360: 0.3723404255319149: \n",
      "INFO:root:eval_accuracy_thresh after step 360: 0.896276593208313: \n",
      "INFO:root:eval_roc_auc after step 360: 0.8076328623269668: \n",
      "INFO:root:eval_fbeta after step 360: 0.3266519010066986: \n",
      "INFO:root:lr after step 360: 4.32e-05\n",
      "INFO:root:train_loss after step 360: 0.29434763491153715\n",
      "INFO:root:Running evaluation\n",
      "INFO:root:  Num examples = 188\n",
      "INFO:root:  Batch size = 32\n"
     ]
    },
    {
     "data": {
      "text/html": [
       "\n",
       "    <div>\n",
       "        <style>\n",
       "            /* Turns off some styling */\n",
       "            progress {\n",
       "                /* gets rid of default border in Firefox and Opera. */\n",
       "                border: none;\n",
       "                /* Needs to be in here for Safari polyfill so background images work as expected. */\n",
       "                background-size: auto;\n",
       "            }\n",
       "            .progress-bar-interrupted, .progress-bar-interrupted::-webkit-progress-bar {\n",
       "                background: #F44336;\n",
       "            }\n",
       "        </style>\n",
       "      <progress value='6' class='' max='6', style='width:300px; height:20px; vertical-align: middle;'></progress>\n",
       "      100.00% [6/6 00:07<00:00]\n",
       "    </div>\n",
       "    "
      ],
      "text/plain": [
       "<IPython.core.display.HTML object>"
      ]
     },
     "metadata": {},
     "output_type": "display_data"
    },
    {
     "name": "stderr",
     "output_type": "stream",
     "text": [
      "INFO:root:eval_loss after epoch 8: 0.2912153551975886: \n",
      "INFO:root:eval_accuracy_multilabel after epoch 8: 0.3829787234042553: \n",
      "INFO:root:eval_accuracy_thresh after epoch 8: 0.8939969539642334: \n",
      "INFO:root:eval_roc_auc after epoch 8: 0.7966614045076287: \n",
      "INFO:root:eval_fbeta after epoch 8: 0.2910662889480591: \n",
      "INFO:root:Running evaluation\n",
      "INFO:root:  Num examples = 188\n",
      "INFO:root:  Batch size = 32\n"
     ]
    },
    {
     "data": {
      "text/html": [
       "\n",
       "    <div>\n",
       "        <style>\n",
       "            /* Turns off some styling */\n",
       "            progress {\n",
       "                /* gets rid of default border in Firefox and Opera. */\n",
       "                border: none;\n",
       "                /* Needs to be in here for Safari polyfill so background images work as expected. */\n",
       "                background-size: auto;\n",
       "            }\n",
       "            .progress-bar-interrupted, .progress-bar-interrupted::-webkit-progress-bar {\n",
       "                background: #F44336;\n",
       "            }\n",
       "        </style>\n",
       "      <progress value='6' class='' max='6', style='width:300px; height:20px; vertical-align: middle;'></progress>\n",
       "      100.00% [6/6 00:07<00:00]\n",
       "    </div>\n",
       "    "
      ],
      "text/plain": [
       "<IPython.core.display.HTML object>"
      ]
     },
     "metadata": {},
     "output_type": "display_data"
    },
    {
     "name": "stderr",
     "output_type": "stream",
     "text": [
      "INFO:root:eval_loss after step 380: 0.28818843762079877: \n",
      "INFO:root:eval_accuracy_multilabel after step 380: 0.3351063829787234: \n",
      "INFO:root:eval_accuracy_thresh after step 380: 0.8943769335746765: \n",
      "INFO:root:eval_roc_auc after step 380: 0.8044978520039338: \n",
      "INFO:root:eval_fbeta after step 380: 0.28878846764564514: \n",
      "INFO:root:lr after step 380: 4.5600000000000004e-05\n",
      "INFO:root:train_loss after step 380: 0.3002920925617218\n",
      "INFO:root:Running evaluation\n",
      "INFO:root:  Num examples = 188\n",
      "INFO:root:  Batch size = 32\n"
     ]
    },
    {
     "data": {
      "text/html": [
       "\n",
       "    <div>\n",
       "        <style>\n",
       "            /* Turns off some styling */\n",
       "            progress {\n",
       "                /* gets rid of default border in Firefox and Opera. */\n",
       "                border: none;\n",
       "                /* Needs to be in here for Safari polyfill so background images work as expected. */\n",
       "                background-size: auto;\n",
       "            }\n",
       "            .progress-bar-interrupted, .progress-bar-interrupted::-webkit-progress-bar {\n",
       "                background: #F44336;\n",
       "            }\n",
       "        </style>\n",
       "      <progress value='6' class='' max='6', style='width:300px; height:20px; vertical-align: middle;'></progress>\n",
       "      100.00% [6/6 00:07<00:00]\n",
       "    </div>\n",
       "    "
      ],
      "text/plain": [
       "<IPython.core.display.HTML object>"
      ]
     },
     "metadata": {},
     "output_type": "display_data"
    },
    {
     "name": "stderr",
     "output_type": "stream",
     "text": [
      "INFO:root:eval_loss after step 400: 0.2753410389026006: \n",
      "INFO:root:eval_accuracy_multilabel after step 400: 0.40425531914893614: \n",
      "INFO:root:eval_accuracy_thresh after step 400: 0.8985562324523926: \n",
      "INFO:root:eval_roc_auc after step 400: 0.8231612636082883: \n",
      "INFO:root:eval_fbeta after step 400: 0.30285683274269104: \n",
      "INFO:root:lr after step 400: 4.8e-05\n",
      "INFO:root:train_loss after step 400: 0.2672307625412941\n",
      "INFO:root:Running evaluation\n",
      "INFO:root:  Num examples = 188\n",
      "INFO:root:  Batch size = 32\n"
     ]
    },
    {
     "data": {
      "text/html": [
       "\n",
       "    <div>\n",
       "        <style>\n",
       "            /* Turns off some styling */\n",
       "            progress {\n",
       "                /* gets rid of default border in Firefox and Opera. */\n",
       "                border: none;\n",
       "                /* Needs to be in here for Safari polyfill so background images work as expected. */\n",
       "                background-size: auto;\n",
       "            }\n",
       "            .progress-bar-interrupted, .progress-bar-interrupted::-webkit-progress-bar {\n",
       "                background: #F44336;\n",
       "            }\n",
       "        </style>\n",
       "      <progress value='6' class='' max='6', style='width:300px; height:20px; vertical-align: middle;'></progress>\n",
       "      100.00% [6/6 00:07<00:00]\n",
       "    </div>\n",
       "    "
      ],
      "text/plain": [
       "<IPython.core.display.HTML object>"
      ]
     },
     "metadata": {},
     "output_type": "display_data"
    },
    {
     "name": "stderr",
     "output_type": "stream",
     "text": [
      "INFO:root:eval_loss after step 420: 0.2738150010506312: \n",
      "INFO:root:eval_accuracy_multilabel after step 420: 0.3617021276595745: \n",
      "INFO:root:eval_accuracy_thresh after step 420: 0.9000759720802307: \n",
      "INFO:root:eval_roc_auc after step 420: 0.8228557420794442: \n",
      "INFO:root:eval_fbeta after step 420: 0.3532481789588928: \n",
      "INFO:root:lr after step 420: 5.04e-05\n",
      "INFO:root:train_loss after step 420: 0.28234087526798246\n",
      "INFO:root:Running evaluation\n",
      "INFO:root:  Num examples = 188\n",
      "INFO:root:  Batch size = 32\n"
     ]
    },
    {
     "data": {
      "text/html": [
       "\n",
       "    <div>\n",
       "        <style>\n",
       "            /* Turns off some styling */\n",
       "            progress {\n",
       "                /* gets rid of default border in Firefox and Opera. */\n",
       "                border: none;\n",
       "                /* Needs to be in here for Safari polyfill so background images work as expected. */\n",
       "                background-size: auto;\n",
       "            }\n",
       "            .progress-bar-interrupted, .progress-bar-interrupted::-webkit-progress-bar {\n",
       "                background: #F44336;\n",
       "            }\n",
       "        </style>\n",
       "      <progress value='6' class='' max='6', style='width:300px; height:20px; vertical-align: middle;'></progress>\n",
       "      100.00% [6/6 00:07<00:00]\n",
       "    </div>\n",
       "    "
      ],
      "text/plain": [
       "<IPython.core.display.HTML object>"
      ]
     },
     "metadata": {},
     "output_type": "display_data"
    },
    {
     "name": "stderr",
     "output_type": "stream",
     "text": [
      "INFO:root:eval_loss after epoch 9: 0.27347853283087414: \n",
      "INFO:root:eval_accuracy_multilabel after epoch 9: 0.3617021276595745: \n",
      "INFO:root:eval_accuracy_thresh after epoch 9: 0.9012157917022705: \n",
      "INFO:root:eval_roc_auc after epoch 9: 0.8181658068931408: \n",
      "INFO:root:eval_fbeta after epoch 9: 0.3270616829395294: \n",
      "INFO:root:Running evaluation\n",
      "INFO:root:  Num examples = 188\n",
      "INFO:root:  Batch size = 32\n"
     ]
    },
    {
     "data": {
      "text/html": [
       "\n",
       "    <div>\n",
       "        <style>\n",
       "            /* Turns off some styling */\n",
       "            progress {\n",
       "                /* gets rid of default border in Firefox and Opera. */\n",
       "                border: none;\n",
       "                /* Needs to be in here for Safari polyfill so background images work as expected. */\n",
       "                background-size: auto;\n",
       "            }\n",
       "            .progress-bar-interrupted, .progress-bar-interrupted::-webkit-progress-bar {\n",
       "                background: #F44336;\n",
       "            }\n",
       "        </style>\n",
       "      <progress value='6' class='' max='6', style='width:300px; height:20px; vertical-align: middle;'></progress>\n",
       "      100.00% [6/6 00:07<00:00]\n",
       "    </div>\n",
       "    "
      ],
      "text/plain": [
       "<IPython.core.display.HTML object>"
      ]
     },
     "metadata": {},
     "output_type": "display_data"
    },
    {
     "name": "stderr",
     "output_type": "stream",
     "text": [
      "INFO:root:eval_loss after step 440: 0.2730424602826436: \n",
      "INFO:root:eval_accuracy_multilabel after step 440: 0.40425531914893614: \n",
      "INFO:root:eval_accuracy_thresh after step 440: 0.8996960520744324: \n",
      "INFO:root:eval_roc_auc after step 440: 0.8268814375183312: \n",
      "INFO:root:eval_fbeta after step 440: 0.3144906461238861: \n",
      "INFO:root:lr after step 440: 5.28e-05\n",
      "INFO:root:train_loss after step 440: 0.2593979112803936\n",
      "INFO:root:Running evaluation\n",
      "INFO:root:  Num examples = 188\n",
      "INFO:root:  Batch size = 32\n"
     ]
    },
    {
     "data": {
      "text/html": [
       "\n",
       "    <div>\n",
       "        <style>\n",
       "            /* Turns off some styling */\n",
       "            progress {\n",
       "                /* gets rid of default border in Firefox and Opera. */\n",
       "                border: none;\n",
       "                /* Needs to be in here for Safari polyfill so background images work as expected. */\n",
       "                background-size: auto;\n",
       "            }\n",
       "            .progress-bar-interrupted, .progress-bar-interrupted::-webkit-progress-bar {\n",
       "                background: #F44336;\n",
       "            }\n",
       "        </style>\n",
       "      <progress value='6' class='' max='6', style='width:300px; height:20px; vertical-align: middle;'></progress>\n",
       "      100.00% [6/6 00:07<00:00]\n",
       "    </div>\n",
       "    "
      ],
      "text/plain": [
       "<IPython.core.display.HTML object>"
      ]
     },
     "metadata": {},
     "output_type": "display_data"
    },
    {
     "name": "stderr",
     "output_type": "stream",
     "text": [
      "INFO:root:eval_loss after step 460: 0.27865376075108844: \n",
      "INFO:root:eval_accuracy_multilabel after step 460: 0.3776595744680851: \n",
      "INFO:root:eval_accuracy_thresh after step 460: 0.9004559516906738: \n",
      "INFO:root:eval_roc_auc after step 460: 0.8138029594612469: \n",
      "INFO:root:eval_fbeta after step 460: 0.3257046937942505: \n",
      "INFO:root:lr after step 460: 5.520000000000001e-05\n",
      "INFO:root:train_loss after step 460: 0.24971631839871405\n",
      "INFO:root:Running evaluation\n",
      "INFO:root:  Num examples = 188\n",
      "INFO:root:  Batch size = 32\n"
     ]
    },
    {
     "data": {
      "text/html": [
       "\n",
       "    <div>\n",
       "        <style>\n",
       "            /* Turns off some styling */\n",
       "            progress {\n",
       "                /* gets rid of default border in Firefox and Opera. */\n",
       "                border: none;\n",
       "                /* Needs to be in here for Safari polyfill so background images work as expected. */\n",
       "                background-size: auto;\n",
       "            }\n",
       "            .progress-bar-interrupted, .progress-bar-interrupted::-webkit-progress-bar {\n",
       "                background: #F44336;\n",
       "            }\n",
       "        </style>\n",
       "      <progress value='6' class='' max='6', style='width:300px; height:20px; vertical-align: middle;'></progress>\n",
       "      100.00% [6/6 00:07<00:00]\n",
       "    </div>\n",
       "    "
      ],
      "text/plain": [
       "<IPython.core.display.HTML object>"
      ]
     },
     "metadata": {},
     "output_type": "display_data"
    },
    {
     "name": "stderr",
     "output_type": "stream",
     "text": [
      "INFO:root:eval_loss after epoch 10: 0.2874804387489955: \n",
      "INFO:root:eval_accuracy_multilabel after epoch 10: 0.3351063829787234: \n",
      "INFO:root:eval_accuracy_thresh after epoch 10: 0.8909574747085571: \n",
      "INFO:root:eval_roc_auc after epoch 10: 0.8127764071243306: \n",
      "INFO:root:eval_fbeta after epoch 10: 0.3293944299221039: \n",
      "DEBUG:urllib3.connectionpool:Starting new HTTPS connection (1): s3.amazonaws.com:443\n",
      "DEBUG:urllib3.connectionpool:https://s3.amazonaws.com:443 \"HEAD /models.huggingface.co/bert/bert-base-uncased-vocab.txt HTTP/1.1\" 200 0\n",
      "INFO:pytorch_transformers.tokenization_utils:loading file https://s3.amazonaws.com/models.huggingface.co/bert/bert-base-uncased-vocab.txt from cache at /home/aa5118/.cache/torch/pytorch_transformers/26bc1ad6c0ac742e9b52263248f6d0f00068293b33709fae12320c0e35ccfbbb.542ce4285a40d23a559526243235df47c5f75c197f04f37d1a0c124c32c9a084\n",
      "INFO:root:Writing example 0 of 1501\n",
      "INFO:root:Saving features into cached file data/phenotype_classification/transformer/original/cache/cached_train_multi_label_512\n",
      "INFO:root:Writing example 0 of 188\n",
      "INFO:root:Saving features into cached file data/phenotype_classification/transformer/original/cache/cached_dev_multi_label_512\n",
      "DEBUG:urllib3.connectionpool:Starting new HTTPS connection (1): s3.amazonaws.com:443\n",
      "DEBUG:urllib3.connectionpool:https://s3.amazonaws.com:443 \"HEAD /models.huggingface.co/bert/bert-base-uncased-config.json HTTP/1.1\" 200 0\n",
      "INFO:pytorch_transformers.modeling_utils:loading configuration file https://s3.amazonaws.com/models.huggingface.co/bert/bert-base-uncased-config.json from cache at /home/aa5118/.cache/torch/pytorch_transformers/4dad0251492946e18ac39290fcfe91b89d370fee250efe9521476438fe8ca185.bf3b9ea126d8c0001ee8a1e8b92229871d06d36d8808208cc2449280da87785c\n",
      "INFO:pytorch_transformers.modeling_utils:Model config {\n",
      "  \"attention_probs_dropout_prob\": 0.1,\n",
      "  \"finetuning_task\": null,\n",
      "  \"hidden_act\": \"gelu\",\n",
      "  \"hidden_dropout_prob\": 0.1,\n",
      "  \"hidden_size\": 768,\n",
      "  \"initializer_range\": 0.02,\n",
      "  \"intermediate_size\": 3072,\n",
      "  \"layer_norm_eps\": 1e-12,\n",
      "  \"max_position_embeddings\": 512,\n",
      "  \"num_attention_heads\": 12,\n",
      "  \"num_hidden_layers\": 12,\n",
      "  \"num_labels\": 14,\n",
      "  \"output_attentions\": false,\n",
      "  \"output_hidden_states\": false,\n",
      "  \"torchscript\": false,\n",
      "  \"type_vocab_size\": 2,\n",
      "  \"vocab_size\": 30522\n",
      "}\n",
      "\n",
      "DEBUG:urllib3.connectionpool:Starting new HTTPS connection (1): s3.amazonaws.com:443\n",
      "DEBUG:urllib3.connectionpool:https://s3.amazonaws.com:443 \"HEAD /models.huggingface.co/bert/bert-base-uncased-pytorch_model.bin HTTP/1.1\" 200 0\n",
      "INFO:pytorch_transformers.modeling_utils:loading weights file https://s3.amazonaws.com/models.huggingface.co/bert/bert-base-uncased-pytorch_model.bin from cache at /home/aa5118/.cache/torch/pytorch_transformers/aa1ef1aede4482d0dbcd4d52baad8ae300e60902e88fcb0bebdec09afd232066.36ca03ab34a1a5d5fa7bc3d03d55c4fa650fed07220e2eeebc06ce58d0e9a157\n",
      "INFO:pytorch_transformers.modeling_utils:Weights of BertForMultiLabelSequenceClassification not initialized from pretrained model: ['classifier.weight', 'classifier.bias']\n",
      "INFO:pytorch_transformers.modeling_utils:Weights from pretrained model not used in BertForMultiLabelSequenceClassification: ['cls.predictions.bias', 'cls.predictions.transform.dense.weight', 'cls.predictions.transform.dense.bias', 'cls.predictions.decoder.weight', 'cls.seq_relationship.weight', 'cls.seq_relationship.bias', 'cls.predictions.transform.LayerNorm.weight', 'cls.predictions.transform.LayerNorm.bias']\n",
      "INFO:root:***** Running training *****\n",
      "INFO:root:  Num examples = 1501\n",
      "INFO:root:  Num Epochs = 10\n",
      "INFO:root:  Total train batch size (w. parallel, distributed & accumulation) = 32\n",
      "INFO:root:  Gradient Accumulation steps = 1\n",
      "INFO:root:  Total optimization steps = 470\n"
     ]
    },
    {
     "name": "stdout",
     "output_type": "stream",
     "text": [
      "data/phenotype_classification/transformer/original/output/bert/tensorboard\n",
      "Selected optimization level O1:  Insert automatic casts around Pytorch functions and Tensor methods.\n",
      "\n",
      "Defaults for this optimization level are:\n",
      "enabled                : True\n",
      "opt_level              : O1\n",
      "cast_model_type        : None\n",
      "patch_torch_functions  : True\n",
      "keep_batchnorm_fp32    : None\n",
      "master_weights         : None\n",
      "loss_scale             : dynamic\n",
      "Processing user overrides (additional kwargs that are not None)...\n",
      "After processing overrides, optimization options are:\n",
      "enabled                : True\n",
      "opt_level              : O1\n",
      "cast_model_type        : None\n",
      "patch_torch_functions  : True\n",
      "keep_batchnorm_fp32    : None\n",
      "master_weights         : None\n",
      "loss_scale             : dynamic\n"
     ]
    },
    {
     "data": {
      "text/html": [],
      "text/plain": [
       "<IPython.core.display.HTML object>"
      ]
     },
     "metadata": {},
     "output_type": "display_data"
    },
    {
     "name": "stderr",
     "output_type": "stream",
     "text": [
      "INFO:root:Running evaluation\n",
      "INFO:root:  Num examples = 188\n",
      "INFO:root:  Batch size = 32\n"
     ]
    },
    {
     "data": {
      "text/html": [
       "\n",
       "    <div>\n",
       "        <style>\n",
       "            /* Turns off some styling */\n",
       "            progress {\n",
       "                /* gets rid of default border in Firefox and Opera. */\n",
       "                border: none;\n",
       "                /* Needs to be in here for Safari polyfill so background images work as expected. */\n",
       "                background-size: auto;\n",
       "            }\n",
       "            .progress-bar-interrupted, .progress-bar-interrupted::-webkit-progress-bar {\n",
       "                background: #F44336;\n",
       "            }\n",
       "        </style>\n",
       "      <progress value='6' class='' max='6', style='width:300px; height:20px; vertical-align: middle;'></progress>\n",
       "      100.00% [6/6 00:07<00:00]\n",
       "    </div>\n",
       "    "
      ],
      "text/plain": [
       "<IPython.core.display.HTML object>"
      ]
     },
     "metadata": {},
     "output_type": "display_data"
    },
    {
     "name": "stderr",
     "output_type": "stream",
     "text": [
      "INFO:root:eval_loss after step 20: 0.6168104112148285: \n",
      "INFO:root:eval_accuracy_multilabel after step 20: 0.0425531914893617: \n",
      "INFO:root:eval_accuracy_thresh after step 20: 0.7302431464195251: \n",
      "INFO:root:eval_roc_auc after step 20: 0.5351256304526607: \n",
      "INFO:root:eval_fbeta after step 20: 0.3417436182498932: \n",
      "INFO:root:lr after step 20: 2.4000000000000003e-06\n",
      "INFO:root:train_loss after step 20: 0.6386248201131821\n",
      "INFO:root:Running evaluation\n",
      "INFO:root:  Num examples = 188\n",
      "INFO:root:  Batch size = 32\n"
     ]
    },
    {
     "data": {
      "text/html": [
       "\n",
       "    <div>\n",
       "        <style>\n",
       "            /* Turns off some styling */\n",
       "            progress {\n",
       "                /* gets rid of default border in Firefox and Opera. */\n",
       "                border: none;\n",
       "                /* Needs to be in here for Safari polyfill so background images work as expected. */\n",
       "                background-size: auto;\n",
       "            }\n",
       "            .progress-bar-interrupted, .progress-bar-interrupted::-webkit-progress-bar {\n",
       "                background: #F44336;\n",
       "            }\n",
       "        </style>\n",
       "      <progress value='6' class='' max='6', style='width:300px; height:20px; vertical-align: middle;'></progress>\n",
       "      100.00% [6/6 00:07<00:00]\n",
       "    </div>\n",
       "    "
      ],
      "text/plain": [
       "<IPython.core.display.HTML object>"
      ]
     },
     "metadata": {},
     "output_type": "display_data"
    },
    {
     "name": "stderr",
     "output_type": "stream",
     "text": [
      "INFO:root:eval_loss after step 40: 0.5410069127877554: \n",
      "INFO:root:eval_accuracy_multilabel after step 40: 0.09574468085106383: \n",
      "INFO:root:eval_accuracy_thresh after step 40: 0.8867781162261963: \n",
      "INFO:root:eval_roc_auc after step 40: 0.5134623568721496: \n",
      "INFO:root:eval_fbeta after step 40: 0.34148284792900085: \n",
      "INFO:root:lr after step 40: 4.800000000000001e-06\n",
      "INFO:root:train_loss after step 40: 0.5882206469774246\n",
      "INFO:root:Running evaluation\n",
      "INFO:root:  Num examples = 188\n",
      "INFO:root:  Batch size = 32\n"
     ]
    },
    {
     "data": {
      "text/html": [
       "\n",
       "    <div>\n",
       "        <style>\n",
       "            /* Turns off some styling */\n",
       "            progress {\n",
       "                /* gets rid of default border in Firefox and Opera. */\n",
       "                border: none;\n",
       "                /* Needs to be in here for Safari polyfill so background images work as expected. */\n",
       "                background-size: auto;\n",
       "            }\n",
       "            .progress-bar-interrupted, .progress-bar-interrupted::-webkit-progress-bar {\n",
       "                background: #F44336;\n",
       "            }\n",
       "        </style>\n",
       "      <progress value='6' class='' max='6', style='width:300px; height:20px; vertical-align: middle;'></progress>\n",
       "      100.00% [6/6 00:07<00:00]\n",
       "    </div>\n",
       "    "
      ],
      "text/plain": [
       "<IPython.core.display.HTML object>"
      ]
     },
     "metadata": {},
     "output_type": "display_data"
    },
    {
     "name": "stderr",
     "output_type": "stream",
     "text": [
      "INFO:root:eval_loss after epoch 1: 0.512977808713913: \n",
      "INFO:root:eval_accuracy_multilabel after epoch 1: 0.09574468085106383: \n",
      "INFO:root:eval_accuracy_thresh after epoch 1: 0.8867781162261963: \n",
      "INFO:root:eval_roc_auc after epoch 1: 0.5623321428776821: \n",
      "INFO:root:eval_fbeta after epoch 1: 0.3413017988204956: \n",
      "INFO:root:Running evaluation\n",
      "INFO:root:  Num examples = 188\n",
      "INFO:root:  Batch size = 32\n"
     ]
    },
    {
     "data": {
      "text/html": [
       "\n",
       "    <div>\n",
       "        <style>\n",
       "            /* Turns off some styling */\n",
       "            progress {\n",
       "                /* gets rid of default border in Firefox and Opera. */\n",
       "                border: none;\n",
       "                /* Needs to be in here for Safari polyfill so background images work as expected. */\n",
       "                background-size: auto;\n",
       "            }\n",
       "            .progress-bar-interrupted, .progress-bar-interrupted::-webkit-progress-bar {\n",
       "                background: #F44336;\n",
       "            }\n",
       "        </style>\n",
       "      <progress value='6' class='' max='6', style='width:300px; height:20px; vertical-align: middle;'></progress>\n",
       "      100.00% [6/6 00:07<00:00]\n",
       "    </div>\n",
       "    "
      ],
      "text/plain": [
       "<IPython.core.display.HTML object>"
      ]
     },
     "metadata": {},
     "output_type": "display_data"
    },
    {
     "name": "stderr",
     "output_type": "stream",
     "text": [
      "INFO:root:eval_loss after step 60: 0.46905215084552765: \n",
      "INFO:root:eval_accuracy_multilabel after step 60: 0.13829787234042554: \n",
      "INFO:root:eval_accuracy_thresh after step 60: 0.8867781162261963: \n",
      "INFO:root:eval_roc_auc after step 60: 0.6113104788852274: \n",
      "INFO:root:eval_fbeta after step 60: 0.3259706497192383: \n",
      "INFO:root:lr after step 60: 7.2e-06\n",
      "INFO:root:train_loss after step 60: 0.5218498587608338\n",
      "INFO:root:Running evaluation\n",
      "INFO:root:  Num examples = 188\n",
      "INFO:root:  Batch size = 32\n"
     ]
    },
    {
     "data": {
      "text/html": [
       "\n",
       "    <div>\n",
       "        <style>\n",
       "            /* Turns off some styling */\n",
       "            progress {\n",
       "                /* gets rid of default border in Firefox and Opera. */\n",
       "                border: none;\n",
       "                /* Needs to be in here for Safari polyfill so background images work as expected. */\n",
       "                background-size: auto;\n",
       "            }\n",
       "            .progress-bar-interrupted, .progress-bar-interrupted::-webkit-progress-bar {\n",
       "                background: #F44336;\n",
       "            }\n",
       "        </style>\n",
       "      <progress value='6' class='' max='6', style='width:300px; height:20px; vertical-align: middle;'></progress>\n",
       "      100.00% [6/6 00:07<00:00]\n",
       "    </div>\n",
       "    "
      ],
      "text/plain": [
       "<IPython.core.display.HTML object>"
      ]
     },
     "metadata": {},
     "output_type": "display_data"
    },
    {
     "name": "stderr",
     "output_type": "stream",
     "text": [
      "INFO:root:eval_loss after step 80: 0.421964759627978: \n",
      "INFO:root:eval_accuracy_multilabel after step 80: 0.09574468085106383: \n",
      "INFO:root:eval_accuracy_thresh after step 80: 0.8867781162261963: \n",
      "INFO:root:eval_roc_auc after step 80: 0.6283794275461085: \n",
      "INFO:root:eval_fbeta after step 80: 0.23773682117462158: \n",
      "INFO:root:lr after step 80: 9.600000000000001e-06\n",
      "INFO:root:train_loss after step 80: 0.4707561761140823\n",
      "INFO:root:Running evaluation\n",
      "INFO:root:  Num examples = 188\n",
      "INFO:root:  Batch size = 32\n"
     ]
    },
    {
     "data": {
      "text/html": [
       "\n",
       "    <div>\n",
       "        <style>\n",
       "            /* Turns off some styling */\n",
       "            progress {\n",
       "                /* gets rid of default border in Firefox and Opera. */\n",
       "                border: none;\n",
       "                /* Needs to be in here for Safari polyfill so background images work as expected. */\n",
       "                background-size: auto;\n",
       "            }\n",
       "            .progress-bar-interrupted, .progress-bar-interrupted::-webkit-progress-bar {\n",
       "                background: #F44336;\n",
       "            }\n",
       "        </style>\n",
       "      <progress value='6' class='' max='6', style='width:300px; height:20px; vertical-align: middle;'></progress>\n",
       "      100.00% [6/6 00:07<00:00]\n",
       "    </div>\n",
       "    "
      ],
      "text/plain": [
       "<IPython.core.display.HTML object>"
      ]
     },
     "metadata": {},
     "output_type": "display_data"
    },
    {
     "name": "stderr",
     "output_type": "stream",
     "text": [
      "INFO:root:eval_loss after epoch 2: 0.39552480975786847: \n",
      "INFO:root:eval_accuracy_multilabel after epoch 2: 0.047872340425531915: \n",
      "INFO:root:eval_accuracy_thresh after epoch 2: 0.8867781162261963: \n",
      "INFO:root:eval_roc_auc after epoch 2: 0.6351145597902038: \n",
      "INFO:root:eval_fbeta after epoch 2: 0.14909055829048157: \n",
      "INFO:root:Running evaluation\n",
      "INFO:root:  Num examples = 188\n",
      "INFO:root:  Batch size = 32\n"
     ]
    },
    {
     "data": {
      "text/html": [
       "\n",
       "    <div>\n",
       "        <style>\n",
       "            /* Turns off some styling */\n",
       "            progress {\n",
       "                /* gets rid of default border in Firefox and Opera. */\n",
       "                border: none;\n",
       "                /* Needs to be in here for Safari polyfill so background images work as expected. */\n",
       "                background-size: auto;\n",
       "            }\n",
       "            .progress-bar-interrupted, .progress-bar-interrupted::-webkit-progress-bar {\n",
       "                background: #F44336;\n",
       "            }\n",
       "        </style>\n",
       "      <progress value='6' class='' max='6', style='width:300px; height:20px; vertical-align: middle;'></progress>\n",
       "      100.00% [6/6 00:07<00:00]\n",
       "    </div>\n",
       "    "
      ],
      "text/plain": [
       "<IPython.core.display.HTML object>"
      ]
     },
     "metadata": {},
     "output_type": "display_data"
    },
    {
     "name": "stderr",
     "output_type": "stream",
     "text": [
      "INFO:root:eval_loss after step 100: 0.38514823218186695: \n",
      "INFO:root:eval_accuracy_multilabel after step 100: 0.047872340425531915: \n",
      "INFO:root:eval_accuracy_thresh after step 100: 0.8867781162261963: \n",
      "INFO:root:eval_roc_auc after step 100: 0.6534666988722301: \n",
      "INFO:root:eval_fbeta after step 100: 0.16125187277793884: \n",
      "INFO:root:lr after step 100: 1.2e-05\n",
      "INFO:root:train_loss after step 100: 0.42956418395042417\n",
      "INFO:root:Running evaluation\n",
      "INFO:root:  Num examples = 188\n",
      "INFO:root:  Batch size = 32\n"
     ]
    },
    {
     "data": {
      "text/html": [
       "\n",
       "    <div>\n",
       "        <style>\n",
       "            /* Turns off some styling */\n",
       "            progress {\n",
       "                /* gets rid of default border in Firefox and Opera. */\n",
       "                border: none;\n",
       "                /* Needs to be in here for Safari polyfill so background images work as expected. */\n",
       "                background-size: auto;\n",
       "            }\n",
       "            .progress-bar-interrupted, .progress-bar-interrupted::-webkit-progress-bar {\n",
       "                background: #F44336;\n",
       "            }\n",
       "        </style>\n",
       "      <progress value='6' class='' max='6', style='width:300px; height:20px; vertical-align: middle;'></progress>\n",
       "      100.00% [6/6 00:07<00:00]\n",
       "    </div>\n",
       "    "
      ],
      "text/plain": [
       "<IPython.core.display.HTML object>"
      ]
     },
     "metadata": {},
     "output_type": "display_data"
    },
    {
     "name": "stderr",
     "output_type": "stream",
     "text": [
      "INFO:root:eval_loss after step 120: 0.3619111080964406: \n",
      "INFO:root:eval_accuracy_multilabel after step 120: 0.047872340425531915: \n",
      "INFO:root:eval_accuracy_thresh after step 120: 0.8867781162261963: \n",
      "INFO:root:eval_roc_auc after step 120: 0.660760396358471: \n",
      "INFO:root:eval_fbeta after step 120: 0.11164750158786774: \n",
      "INFO:root:lr after step 120: 1.44e-05\n",
      "INFO:root:train_loss after step 120: 0.40612967908382414\n",
      "INFO:root:Running evaluation\n",
      "INFO:root:  Num examples = 188\n",
      "INFO:root:  Batch size = 32\n"
     ]
    },
    {
     "data": {
      "text/html": [
       "\n",
       "    <div>\n",
       "        <style>\n",
       "            /* Turns off some styling */\n",
       "            progress {\n",
       "                /* gets rid of default border in Firefox and Opera. */\n",
       "                border: none;\n",
       "                /* Needs to be in here for Safari polyfill so background images work as expected. */\n",
       "                background-size: auto;\n",
       "            }\n",
       "            .progress-bar-interrupted, .progress-bar-interrupted::-webkit-progress-bar {\n",
       "                background: #F44336;\n",
       "            }\n",
       "        </style>\n",
       "      <progress value='6' class='' max='6', style='width:300px; height:20px; vertical-align: middle;'></progress>\n",
       "      100.00% [6/6 00:07<00:00]\n",
       "    </div>\n",
       "    "
      ],
      "text/plain": [
       "<IPython.core.display.HTML object>"
      ]
     },
     "metadata": {},
     "output_type": "display_data"
    },
    {
     "name": "stderr",
     "output_type": "stream",
     "text": [
      "INFO:root:eval_loss after step 140: 0.35002829631169635: \n",
      "INFO:root:eval_accuracy_multilabel after step 140: 0.047872340425531915: \n",
      "INFO:root:eval_accuracy_thresh after step 140: 0.8867781162261963: \n",
      "INFO:root:eval_roc_auc after step 140: 0.6538196660973183: \n",
      "INFO:root:eval_fbeta after step 140: 0.0: \n",
      "INFO:root:lr after step 140: 1.6800000000000002e-05\n",
      "INFO:root:train_loss after step 140: 0.3820280969142914\n",
      "INFO:root:Running evaluation\n",
      "INFO:root:  Num examples = 188\n",
      "INFO:root:  Batch size = 32\n"
     ]
    },
    {
     "data": {
      "text/html": [
       "\n",
       "    <div>\n",
       "        <style>\n",
       "            /* Turns off some styling */\n",
       "            progress {\n",
       "                /* gets rid of default border in Firefox and Opera. */\n",
       "                border: none;\n",
       "                /* Needs to be in here for Safari polyfill so background images work as expected. */\n",
       "                background-size: auto;\n",
       "            }\n",
       "            .progress-bar-interrupted, .progress-bar-interrupted::-webkit-progress-bar {\n",
       "                background: #F44336;\n",
       "            }\n",
       "        </style>\n",
       "      <progress value='6' class='' max='6', style='width:300px; height:20px; vertical-align: middle;'></progress>\n",
       "      100.00% [6/6 00:07<00:00]\n",
       "    </div>\n",
       "    "
      ],
      "text/plain": [
       "<IPython.core.display.HTML object>"
      ]
     },
     "metadata": {},
     "output_type": "display_data"
    },
    {
     "name": "stderr",
     "output_type": "stream",
     "text": [
      "INFO:root:eval_loss after epoch 3: 0.34962592522303265: \n",
      "INFO:root:eval_accuracy_multilabel after epoch 3: 0.047872340425531915: \n",
      "INFO:root:eval_accuracy_thresh after epoch 3: 0.8867781162261963: \n",
      "INFO:root:eval_roc_auc after epoch 3: 0.6542596170988537: \n",
      "INFO:root:eval_fbeta after epoch 3: 0.0: \n",
      "INFO:root:Running evaluation\n",
      "INFO:root:  Num examples = 188\n",
      "INFO:root:  Batch size = 32\n"
     ]
    },
    {
     "data": {
      "text/html": [
       "\n",
       "    <div>\n",
       "        <style>\n",
       "            /* Turns off some styling */\n",
       "            progress {\n",
       "                /* gets rid of default border in Firefox and Opera. */\n",
       "                border: none;\n",
       "                /* Needs to be in here for Safari polyfill so background images work as expected. */\n",
       "                background-size: auto;\n",
       "            }\n",
       "            .progress-bar-interrupted, .progress-bar-interrupted::-webkit-progress-bar {\n",
       "                background: #F44336;\n",
       "            }\n",
       "        </style>\n",
       "      <progress value='6' class='' max='6', style='width:300px; height:20px; vertical-align: middle;'></progress>\n",
       "      100.00% [6/6 00:07<00:00]\n",
       "    </div>\n",
       "    "
      ],
      "text/plain": [
       "<IPython.core.display.HTML object>"
      ]
     },
     "metadata": {},
     "output_type": "display_data"
    },
    {
     "name": "stderr",
     "output_type": "stream",
     "text": [
      "INFO:root:eval_loss after step 160: 0.3452150970697403: \n",
      "INFO:root:eval_accuracy_multilabel after step 160: 0.047872340425531915: \n",
      "INFO:root:eval_accuracy_thresh after step 160: 0.8867781162261963: \n",
      "INFO:root:eval_roc_auc after step 160: 0.6496882961531605: \n",
      "INFO:root:eval_fbeta after step 160: 0.0: \n",
      "INFO:root:lr after step 160: 1.9200000000000003e-05\n",
      "INFO:root:train_loss after step 160: 0.3818462908267975\n",
      "INFO:root:Running evaluation\n",
      "INFO:root:  Num examples = 188\n",
      "INFO:root:  Batch size = 32\n"
     ]
    },
    {
     "data": {
      "text/html": [
       "\n",
       "    <div>\n",
       "        <style>\n",
       "            /* Turns off some styling */\n",
       "            progress {\n",
       "                /* gets rid of default border in Firefox and Opera. */\n",
       "                border: none;\n",
       "                /* Needs to be in here for Safari polyfill so background images work as expected. */\n",
       "                background-size: auto;\n",
       "            }\n",
       "            .progress-bar-interrupted, .progress-bar-interrupted::-webkit-progress-bar {\n",
       "                background: #F44336;\n",
       "            }\n",
       "        </style>\n",
       "      <progress value='6' class='' max='6', style='width:300px; height:20px; vertical-align: middle;'></progress>\n",
       "      100.00% [6/6 00:07<00:00]\n",
       "    </div>\n",
       "    "
      ],
      "text/plain": [
       "<IPython.core.display.HTML object>"
      ]
     },
     "metadata": {},
     "output_type": "display_data"
    },
    {
     "name": "stderr",
     "output_type": "stream",
     "text": [
      "INFO:root:eval_loss after step 180: 0.34006396929423016: \n",
      "INFO:root:eval_accuracy_multilabel after step 180: 0.047872340425531915: \n",
      "INFO:root:eval_accuracy_thresh after step 180: 0.8867781162261963: \n",
      "INFO:root:eval_roc_auc after step 180: 0.6577389681567491: \n",
      "INFO:root:eval_fbeta after step 180: 0.0: \n",
      "INFO:root:lr after step 180: 2.16e-05\n",
      "INFO:root:train_loss after step 180: 0.37557544112205504\n",
      "INFO:root:Running evaluation\n",
      "INFO:root:  Num examples = 188\n",
      "INFO:root:  Batch size = 32\n"
     ]
    },
    {
     "data": {
      "text/html": [
       "\n",
       "    <div>\n",
       "        <style>\n",
       "            /* Turns off some styling */\n",
       "            progress {\n",
       "                /* gets rid of default border in Firefox and Opera. */\n",
       "                border: none;\n",
       "                /* Needs to be in here for Safari polyfill so background images work as expected. */\n",
       "                background-size: auto;\n",
       "            }\n",
       "            .progress-bar-interrupted, .progress-bar-interrupted::-webkit-progress-bar {\n",
       "                background: #F44336;\n",
       "            }\n",
       "        </style>\n",
       "      <progress value='6' class='' max='6', style='width:300px; height:20px; vertical-align: middle;'></progress>\n",
       "      100.00% [6/6 00:07<00:00]\n",
       "    </div>\n",
       "    "
      ],
      "text/plain": [
       "<IPython.core.display.HTML object>"
      ]
     },
     "metadata": {},
     "output_type": "display_data"
    },
    {
     "name": "stderr",
     "output_type": "stream",
     "text": [
      "INFO:root:eval_loss after epoch 4: 0.3392099638779958: \n",
      "INFO:root:eval_accuracy_multilabel after epoch 4: 0.047872340425531915: \n",
      "INFO:root:eval_accuracy_thresh after epoch 4: 0.8867781162261963: \n",
      "INFO:root:eval_roc_auc after epoch 4: 0.6693545372463092: \n",
      "INFO:root:eval_fbeta after epoch 4: 0.0: \n",
      "INFO:root:Running evaluation\n",
      "INFO:root:  Num examples = 188\n",
      "INFO:root:  Batch size = 32\n"
     ]
    },
    {
     "data": {
      "text/html": [
       "\n",
       "    <div>\n",
       "        <style>\n",
       "            /* Turns off some styling */\n",
       "            progress {\n",
       "                /* gets rid of default border in Firefox and Opera. */\n",
       "                border: none;\n",
       "                /* Needs to be in here for Safari polyfill so background images work as expected. */\n",
       "                background-size: auto;\n",
       "            }\n",
       "            .progress-bar-interrupted, .progress-bar-interrupted::-webkit-progress-bar {\n",
       "                background: #F44336;\n",
       "            }\n",
       "        </style>\n",
       "      <progress value='6' class='' max='6', style='width:300px; height:20px; vertical-align: middle;'></progress>\n",
       "      100.00% [6/6 00:07<00:00]\n",
       "    </div>\n",
       "    "
      ],
      "text/plain": [
       "<IPython.core.display.HTML object>"
      ]
     },
     "metadata": {},
     "output_type": "display_data"
    },
    {
     "name": "stderr",
     "output_type": "stream",
     "text": [
      "INFO:root:eval_loss after step 200: 0.34335148831208545: \n",
      "INFO:root:eval_accuracy_multilabel after step 200: 0.047872340425531915: \n",
      "INFO:root:eval_accuracy_thresh after step 200: 0.8867781162261963: \n",
      "INFO:root:eval_roc_auc after step 200: 0.6589143274500671: \n",
      "INFO:root:eval_fbeta after step 200: 0.11696664988994598: \n",
      "INFO:root:lr after step 200: 2.4e-05\n",
      "INFO:root:train_loss after step 200: 0.37502686232328414\n",
      "INFO:root:Running evaluation\n",
      "INFO:root:  Num examples = 188\n",
      "INFO:root:  Batch size = 32\n"
     ]
    },
    {
     "data": {
      "text/html": [
       "\n",
       "    <div>\n",
       "        <style>\n",
       "            /* Turns off some styling */\n",
       "            progress {\n",
       "                /* gets rid of default border in Firefox and Opera. */\n",
       "                border: none;\n",
       "                /* Needs to be in here for Safari polyfill so background images work as expected. */\n",
       "                background-size: auto;\n",
       "            }\n",
       "            .progress-bar-interrupted, .progress-bar-interrupted::-webkit-progress-bar {\n",
       "                background: #F44336;\n",
       "            }\n",
       "        </style>\n",
       "      <progress value='6' class='' max='6', style='width:300px; height:20px; vertical-align: middle;'></progress>\n",
       "      100.00% [6/6 00:07<00:00]\n",
       "    </div>\n",
       "    "
      ],
      "text/plain": [
       "<IPython.core.display.HTML object>"
      ]
     },
     "metadata": {},
     "output_type": "display_data"
    },
    {
     "name": "stderr",
     "output_type": "stream",
     "text": [
      "INFO:root:eval_loss after step 220: 0.33814631899197894: \n",
      "INFO:root:eval_accuracy_multilabel after step 220: 0.047872340425531915: \n",
      "INFO:root:eval_accuracy_thresh after step 220: 0.8867781162261963: \n",
      "INFO:root:eval_roc_auc after step 220: 0.6526263349493625: \n",
      "INFO:root:eval_fbeta after step 220: 0.0: \n",
      "INFO:root:lr after step 220: 2.64e-05\n",
      "INFO:root:train_loss after step 220: 0.3697801113128662\n",
      "INFO:root:Running evaluation\n",
      "INFO:root:  Num examples = 188\n",
      "INFO:root:  Batch size = 32\n"
     ]
    },
    {
     "data": {
      "text/html": [
       "\n",
       "    <div>\n",
       "        <style>\n",
       "            /* Turns off some styling */\n",
       "            progress {\n",
       "                /* gets rid of default border in Firefox and Opera. */\n",
       "                border: none;\n",
       "                /* Needs to be in here for Safari polyfill so background images work as expected. */\n",
       "                background-size: auto;\n",
       "            }\n",
       "            .progress-bar-interrupted, .progress-bar-interrupted::-webkit-progress-bar {\n",
       "                background: #F44336;\n",
       "            }\n",
       "        </style>\n",
       "      <progress value='6' class='' max='6', style='width:300px; height:20px; vertical-align: middle;'></progress>\n",
       "      100.00% [6/6 00:07<00:00]\n",
       "    </div>\n",
       "    "
      ],
      "text/plain": [
       "<IPython.core.display.HTML object>"
      ]
     },
     "metadata": {},
     "output_type": "display_data"
    },
    {
     "name": "stderr",
     "output_type": "stream",
     "text": [
      "INFO:root:eval_loss after epoch 5: 0.34092337886492413: \n",
      "INFO:root:eval_accuracy_multilabel after epoch 5: 0.047872340425531915: \n",
      "INFO:root:eval_accuracy_thresh after epoch 5: 0.8867781162261963: \n",
      "INFO:root:eval_roc_auc after epoch 5: 0.6527054111097692: \n",
      "INFO:root:eval_fbeta after epoch 5: 0.0: \n",
      "INFO:root:Running evaluation\n",
      "INFO:root:  Num examples = 188\n",
      "INFO:root:  Batch size = 32\n"
     ]
    },
    {
     "data": {
      "text/html": [
       "\n",
       "    <div>\n",
       "        <style>\n",
       "            /* Turns off some styling */\n",
       "            progress {\n",
       "                /* gets rid of default border in Firefox and Opera. */\n",
       "                border: none;\n",
       "                /* Needs to be in here for Safari polyfill so background images work as expected. */\n",
       "                background-size: auto;\n",
       "            }\n",
       "            .progress-bar-interrupted, .progress-bar-interrupted::-webkit-progress-bar {\n",
       "                background: #F44336;\n",
       "            }\n",
       "        </style>\n",
       "      <progress value='6' class='' max='6', style='width:300px; height:20px; vertical-align: middle;'></progress>\n",
       "      100.00% [6/6 00:07<00:00]\n",
       "    </div>\n",
       "    "
      ],
      "text/plain": [
       "<IPython.core.display.HTML object>"
      ]
     },
     "metadata": {},
     "output_type": "display_data"
    },
    {
     "name": "stderr",
     "output_type": "stream",
     "text": [
      "INFO:root:eval_loss after step 240: 0.34072432418664295: \n",
      "INFO:root:eval_accuracy_multilabel after step 240: 0.047872340425531915: \n",
      "INFO:root:eval_accuracy_thresh after step 240: 0.8867781162261963: \n",
      "INFO:root:eval_roc_auc after step 240: 0.6559151843480961: \n",
      "INFO:root:eval_fbeta after step 240: 0.045640841126441956: \n",
      "INFO:root:lr after step 240: 2.88e-05\n",
      "INFO:root:train_loss after step 240: 0.3791113406419754\n",
      "INFO:root:Running evaluation\n",
      "INFO:root:  Num examples = 188\n",
      "INFO:root:  Batch size = 32\n"
     ]
    },
    {
     "data": {
      "text/html": [
       "\n",
       "    <div>\n",
       "        <style>\n",
       "            /* Turns off some styling */\n",
       "            progress {\n",
       "                /* gets rid of default border in Firefox and Opera. */\n",
       "                border: none;\n",
       "                /* Needs to be in here for Safari polyfill so background images work as expected. */\n",
       "                background-size: auto;\n",
       "            }\n",
       "            .progress-bar-interrupted, .progress-bar-interrupted::-webkit-progress-bar {\n",
       "                background: #F44336;\n",
       "            }\n",
       "        </style>\n",
       "      <progress value='6' class='' max='6', style='width:300px; height:20px; vertical-align: middle;'></progress>\n",
       "      100.00% [6/6 00:07<00:00]\n",
       "    </div>\n",
       "    "
      ],
      "text/plain": [
       "<IPython.core.display.HTML object>"
      ]
     },
     "metadata": {},
     "output_type": "display_data"
    },
    {
     "name": "stderr",
     "output_type": "stream",
     "text": [
      "INFO:root:eval_loss after step 260: 0.335010493795077: \n",
      "INFO:root:eval_accuracy_multilabel after step 260: 0.047872340425531915: \n",
      "INFO:root:eval_accuracy_thresh after step 260: 0.8867781162261963: \n",
      "INFO:root:eval_roc_auc after step 260: 0.6754549035845944: \n",
      "INFO:root:eval_fbeta after step 260: 0.09485907852649689: \n",
      "INFO:root:lr after step 260: 3.12e-05\n",
      "INFO:root:train_loss after step 260: 0.3706378787755966\n",
      "INFO:root:Running evaluation\n",
      "INFO:root:  Num examples = 188\n",
      "INFO:root:  Batch size = 32\n"
     ]
    },
    {
     "data": {
      "text/html": [
       "\n",
       "    <div>\n",
       "        <style>\n",
       "            /* Turns off some styling */\n",
       "            progress {\n",
       "                /* gets rid of default border in Firefox and Opera. */\n",
       "                border: none;\n",
       "                /* Needs to be in here for Safari polyfill so background images work as expected. */\n",
       "                background-size: auto;\n",
       "            }\n",
       "            .progress-bar-interrupted, .progress-bar-interrupted::-webkit-progress-bar {\n",
       "                background: #F44336;\n",
       "            }\n",
       "        </style>\n",
       "      <progress value='6' class='' max='6', style='width:300px; height:20px; vertical-align: middle;'></progress>\n",
       "      100.00% [6/6 00:07<00:00]\n",
       "    </div>\n",
       "    "
      ],
      "text/plain": [
       "<IPython.core.display.HTML object>"
      ]
     },
     "metadata": {},
     "output_type": "display_data"
    },
    {
     "name": "stderr",
     "output_type": "stream",
     "text": [
      "INFO:root:eval_loss after step 280: 0.33040114243825275: \n",
      "INFO:root:eval_accuracy_multilabel after step 280: 0.047872340425531915: \n",
      "INFO:root:eval_accuracy_thresh after step 280: 0.8867781162261963: \n",
      "INFO:root:eval_roc_auc after step 280: 0.6979118142659145: \n",
      "INFO:root:eval_fbeta after step 280: 0.035767462104558945: \n",
      "INFO:root:lr after step 280: 3.3600000000000004e-05\n",
      "INFO:root:train_loss after step 280: 0.36604301631450653\n",
      "INFO:root:Running evaluation\n",
      "INFO:root:  Num examples = 188\n",
      "INFO:root:  Batch size = 32\n"
     ]
    },
    {
     "data": {
      "text/html": [
       "\n",
       "    <div>\n",
       "        <style>\n",
       "            /* Turns off some styling */\n",
       "            progress {\n",
       "                /* gets rid of default border in Firefox and Opera. */\n",
       "                border: none;\n",
       "                /* Needs to be in here for Safari polyfill so background images work as expected. */\n",
       "                background-size: auto;\n",
       "            }\n",
       "            .progress-bar-interrupted, .progress-bar-interrupted::-webkit-progress-bar {\n",
       "                background: #F44336;\n",
       "            }\n",
       "        </style>\n",
       "      <progress value='6' class='' max='6', style='width:300px; height:20px; vertical-align: middle;'></progress>\n",
       "      100.00% [6/6 00:07<00:00]\n",
       "    </div>\n",
       "    "
      ],
      "text/plain": [
       "<IPython.core.display.HTML object>"
      ]
     },
     "metadata": {},
     "output_type": "display_data"
    },
    {
     "name": "stderr",
     "output_type": "stream",
     "text": [
      "INFO:root:eval_loss after epoch 6: 0.32816416521867114: \n",
      "INFO:root:eval_accuracy_multilabel after epoch 6: 0.05319148936170213: \n",
      "INFO:root:eval_accuracy_thresh after epoch 6: 0.8867781162261963: \n",
      "INFO:root:eval_roc_auc after epoch 6: 0.6983417010288527: \n",
      "INFO:root:eval_fbeta after epoch 6: 0.05439967289566994: \n",
      "INFO:root:Running evaluation\n",
      "INFO:root:  Num examples = 188\n",
      "INFO:root:  Batch size = 32\n"
     ]
    },
    {
     "data": {
      "text/html": [
       "\n",
       "    <div>\n",
       "        <style>\n",
       "            /* Turns off some styling */\n",
       "            progress {\n",
       "                /* gets rid of default border in Firefox and Opera. */\n",
       "                border: none;\n",
       "                /* Needs to be in here for Safari polyfill so background images work as expected. */\n",
       "                background-size: auto;\n",
       "            }\n",
       "            .progress-bar-interrupted, .progress-bar-interrupted::-webkit-progress-bar {\n",
       "                background: #F44336;\n",
       "            }\n",
       "        </style>\n",
       "      <progress value='6' class='' max='6', style='width:300px; height:20px; vertical-align: middle;'></progress>\n",
       "      100.00% [6/6 00:07<00:00]\n",
       "    </div>\n",
       "    "
      ],
      "text/plain": [
       "<IPython.core.display.HTML object>"
      ]
     },
     "metadata": {},
     "output_type": "display_data"
    },
    {
     "name": "stderr",
     "output_type": "stream",
     "text": [
      "INFO:root:eval_loss after step 300: 0.32681674261887866: \n",
      "INFO:root:eval_accuracy_multilabel after step 300: 0.10106382978723404: \n",
      "INFO:root:eval_accuracy_thresh after step 300: 0.8871580362319946: \n",
      "INFO:root:eval_roc_auc after step 300: 0.7074735598074569: \n",
      "INFO:root:eval_fbeta after step 300: 0.07586817443370819: \n",
      "INFO:root:lr after step 300: 3.6e-05\n",
      "INFO:root:train_loss after step 300: 0.34912184774875643\n",
      "INFO:root:Running evaluation\n",
      "INFO:root:  Num examples = 188\n",
      "INFO:root:  Batch size = 32\n"
     ]
    },
    {
     "data": {
      "text/html": [
       "\n",
       "    <div>\n",
       "        <style>\n",
       "            /* Turns off some styling */\n",
       "            progress {\n",
       "                /* gets rid of default border in Firefox and Opera. */\n",
       "                border: none;\n",
       "                /* Needs to be in here for Safari polyfill so background images work as expected. */\n",
       "                background-size: auto;\n",
       "            }\n",
       "            .progress-bar-interrupted, .progress-bar-interrupted::-webkit-progress-bar {\n",
       "                background: #F44336;\n",
       "            }\n",
       "        </style>\n",
       "      <progress value='6' class='' max='6', style='width:300px; height:20px; vertical-align: middle;'></progress>\n",
       "      100.00% [6/6 00:07<00:00]\n",
       "    </div>\n",
       "    "
      ],
      "text/plain": [
       "<IPython.core.display.HTML object>"
      ]
     },
     "metadata": {},
     "output_type": "display_data"
    },
    {
     "name": "stderr",
     "output_type": "stream",
     "text": [
      "INFO:root:eval_loss after step 320: 0.32455016175905865: \n",
      "INFO:root:eval_accuracy_multilabel after step 320: 0.0851063829787234: \n",
      "INFO:root:eval_accuracy_thresh after step 320: 0.8875380158424377: \n",
      "INFO:root:eval_roc_auc after step 320: 0.7143955993397859: \n",
      "INFO:root:eval_fbeta after step 320: 0.07962185889482498: \n",
      "INFO:root:lr after step 320: 3.8400000000000005e-05\n",
      "INFO:root:train_loss after step 320: 0.3686760440468788\n",
      "INFO:root:Running evaluation\n",
      "INFO:root:  Num examples = 188\n",
      "INFO:root:  Batch size = 32\n"
     ]
    },
    {
     "data": {
      "text/html": [
       "\n",
       "    <div>\n",
       "        <style>\n",
       "            /* Turns off some styling */\n",
       "            progress {\n",
       "                /* gets rid of default border in Firefox and Opera. */\n",
       "                border: none;\n",
       "                /* Needs to be in here for Safari polyfill so background images work as expected. */\n",
       "                background-size: auto;\n",
       "            }\n",
       "            .progress-bar-interrupted, .progress-bar-interrupted::-webkit-progress-bar {\n",
       "                background: #F44336;\n",
       "            }\n",
       "        </style>\n",
       "      <progress value='6' class='' max='6', style='width:300px; height:20px; vertical-align: middle;'></progress>\n",
       "      100.00% [6/6 00:07<00:00]\n",
       "    </div>\n",
       "    "
      ],
      "text/plain": [
       "<IPython.core.display.HTML object>"
      ]
     },
     "metadata": {},
     "output_type": "display_data"
    },
    {
     "name": "stderr",
     "output_type": "stream",
     "text": [
      "INFO:root:eval_loss after epoch 7: 0.3193390717109044: \n",
      "INFO:root:eval_accuracy_multilabel after epoch 7: 0.12234042553191489: \n",
      "INFO:root:eval_accuracy_thresh after epoch 7: 0.8875380158424377: \n",
      "INFO:root:eval_roc_auc after epoch 7: 0.7288119022561146: \n",
      "INFO:root:eval_fbeta after epoch 7: 0.0734366849064827: \n",
      "INFO:root:Running evaluation\n",
      "INFO:root:  Num examples = 188\n",
      "INFO:root:  Batch size = 32\n"
     ]
    },
    {
     "data": {
      "text/html": [
       "\n",
       "    <div>\n",
       "        <style>\n",
       "            /* Turns off some styling */\n",
       "            progress {\n",
       "                /* gets rid of default border in Firefox and Opera. */\n",
       "                border: none;\n",
       "                /* Needs to be in here for Safari polyfill so background images work as expected. */\n",
       "                background-size: auto;\n",
       "            }\n",
       "            .progress-bar-interrupted, .progress-bar-interrupted::-webkit-progress-bar {\n",
       "                background: #F44336;\n",
       "            }\n",
       "        </style>\n",
       "      <progress value='6' class='' max='6', style='width:300px; height:20px; vertical-align: middle;'></progress>\n",
       "      100.00% [6/6 00:07<00:00]\n",
       "    </div>\n",
       "    "
      ],
      "text/plain": [
       "<IPython.core.display.HTML object>"
      ]
     },
     "metadata": {},
     "output_type": "display_data"
    },
    {
     "name": "stderr",
     "output_type": "stream",
     "text": [
      "INFO:root:eval_loss after step 340: 0.3181483596563339: \n",
      "INFO:root:eval_accuracy_multilabel after step 340: 0.1702127659574468: \n",
      "INFO:root:eval_accuracy_thresh after step 340: 0.8875380158424377: \n",
      "INFO:root:eval_roc_auc after step 340: 0.7306622844096318: \n",
      "INFO:root:eval_fbeta after step 340: 0.1375420242547989: \n",
      "INFO:root:lr after step 340: 4.08e-05\n",
      "INFO:root:train_loss after step 340: 0.33757384568452836\n",
      "INFO:root:Running evaluation\n",
      "INFO:root:  Num examples = 188\n",
      "INFO:root:  Batch size = 32\n"
     ]
    },
    {
     "data": {
      "text/html": [
       "\n",
       "    <div>\n",
       "        <style>\n",
       "            /* Turns off some styling */\n",
       "            progress {\n",
       "                /* gets rid of default border in Firefox and Opera. */\n",
       "                border: none;\n",
       "                /* Needs to be in here for Safari polyfill so background images work as expected. */\n",
       "                background-size: auto;\n",
       "            }\n",
       "            .progress-bar-interrupted, .progress-bar-interrupted::-webkit-progress-bar {\n",
       "                background: #F44336;\n",
       "            }\n",
       "        </style>\n",
       "      <progress value='6' class='' max='6', style='width:300px; height:20px; vertical-align: middle;'></progress>\n",
       "      100.00% [6/6 00:07<00:00]\n",
       "    </div>\n",
       "    "
      ],
      "text/plain": [
       "<IPython.core.display.HTML object>"
      ]
     },
     "metadata": {},
     "output_type": "display_data"
    },
    {
     "name": "stderr",
     "output_type": "stream",
     "text": [
      "INFO:root:eval_loss after step 360: 0.31512369215488434: \n",
      "INFO:root:eval_accuracy_multilabel after step 360: 0.19148936170212766: \n",
      "INFO:root:eval_accuracy_thresh after step 360: 0.8871580362319946: \n",
      "INFO:root:eval_roc_auc after step 360: 0.751589430824175: \n",
      "INFO:root:eval_fbeta after step 360: 0.17472992837429047: \n",
      "INFO:root:lr after step 360: 4.32e-05\n",
      "INFO:root:train_loss after step 360: 0.3513926163315773\n",
      "INFO:root:Running evaluation\n",
      "INFO:root:  Num examples = 188\n",
      "INFO:root:  Batch size = 32\n"
     ]
    },
    {
     "data": {
      "text/html": [
       "\n",
       "    <div>\n",
       "        <style>\n",
       "            /* Turns off some styling */\n",
       "            progress {\n",
       "                /* gets rid of default border in Firefox and Opera. */\n",
       "                border: none;\n",
       "                /* Needs to be in here for Safari polyfill so background images work as expected. */\n",
       "                background-size: auto;\n",
       "            }\n",
       "            .progress-bar-interrupted, .progress-bar-interrupted::-webkit-progress-bar {\n",
       "                background: #F44336;\n",
       "            }\n",
       "        </style>\n",
       "      <progress value='6' class='' max='6', style='width:300px; height:20px; vertical-align: middle;'></progress>\n",
       "      100.00% [6/6 00:07<00:00]\n",
       "    </div>\n",
       "    "
      ],
      "text/plain": [
       "<IPython.core.display.HTML object>"
      ]
     },
     "metadata": {},
     "output_type": "display_data"
    },
    {
     "name": "stderr",
     "output_type": "stream",
     "text": [
      "INFO:root:eval_loss after epoch 8: 0.31198690334955853: \n",
      "INFO:root:eval_accuracy_multilabel after epoch 8: 0.17553191489361702: \n",
      "INFO:root:eval_accuracy_thresh after epoch 8: 0.8879179358482361: \n",
      "INFO:root:eval_roc_auc after epoch 8: 0.7562053219693701: \n",
      "INFO:root:eval_fbeta after epoch 8: 0.14650824666023254: \n",
      "INFO:root:Running evaluation\n",
      "INFO:root:  Num examples = 188\n",
      "INFO:root:  Batch size = 32\n"
     ]
    },
    {
     "data": {
      "text/html": [
       "\n",
       "    <div>\n",
       "        <style>\n",
       "            /* Turns off some styling */\n",
       "            progress {\n",
       "                /* gets rid of default border in Firefox and Opera. */\n",
       "                border: none;\n",
       "                /* Needs to be in here for Safari polyfill so background images work as expected. */\n",
       "                background-size: auto;\n",
       "            }\n",
       "            .progress-bar-interrupted, .progress-bar-interrupted::-webkit-progress-bar {\n",
       "                background: #F44336;\n",
       "            }\n",
       "        </style>\n",
       "      <progress value='6' class='' max='6', style='width:300px; height:20px; vertical-align: middle;'></progress>\n",
       "      100.00% [6/6 00:07<00:00]\n",
       "    </div>\n",
       "    "
      ],
      "text/plain": [
       "<IPython.core.display.HTML object>"
      ]
     },
     "metadata": {},
     "output_type": "display_data"
    },
    {
     "name": "stderr",
     "output_type": "stream",
     "text": [
      "INFO:root:eval_loss after step 380: 0.3155854294697444: \n",
      "INFO:root:eval_accuracy_multilabel after step 380: 0.1595744680851064: \n",
      "INFO:root:eval_accuracy_thresh after step 380: 0.8882978558540344: \n",
      "INFO:root:eval_roc_auc after step 380: 0.7573921832496564: \n",
      "INFO:root:eval_fbeta after step 380: 0.2105766385793686: \n",
      "INFO:root:lr after step 380: 4.5600000000000004e-05\n",
      "INFO:root:train_loss after step 380: 0.3373250290751457\n",
      "INFO:root:Running evaluation\n",
      "INFO:root:  Num examples = 188\n",
      "INFO:root:  Batch size = 32\n"
     ]
    },
    {
     "data": {
      "text/html": [
       "\n",
       "    <div>\n",
       "        <style>\n",
       "            /* Turns off some styling */\n",
       "            progress {\n",
       "                /* gets rid of default border in Firefox and Opera. */\n",
       "                border: none;\n",
       "                /* Needs to be in here for Safari polyfill so background images work as expected. */\n",
       "                background-size: auto;\n",
       "            }\n",
       "            .progress-bar-interrupted, .progress-bar-interrupted::-webkit-progress-bar {\n",
       "                background: #F44336;\n",
       "            }\n",
       "        </style>\n",
       "      <progress value='6' class='' max='6', style='width:300px; height:20px; vertical-align: middle;'></progress>\n",
       "      100.00% [6/6 00:07<00:00]\n",
       "    </div>\n",
       "    "
      ],
      "text/plain": [
       "<IPython.core.display.HTML object>"
      ]
     },
     "metadata": {},
     "output_type": "display_data"
    },
    {
     "name": "stderr",
     "output_type": "stream",
     "text": [
      "INFO:root:eval_loss after step 400: 0.30437900125980377: \n",
      "INFO:root:eval_accuracy_multilabel after step 400: 0.23404255319148937: \n",
      "INFO:root:eval_accuracy_thresh after step 400: 0.8867781162261963: \n",
      "INFO:root:eval_roc_auc after step 400: 0.7782388157554216: \n",
      "INFO:root:eval_fbeta after step 400: 0.22171999514102936: \n",
      "INFO:root:lr after step 400: 4.8e-05\n",
      "INFO:root:train_loss after step 400: 0.3225798398256302\n",
      "INFO:root:Running evaluation\n",
      "INFO:root:  Num examples = 188\n",
      "INFO:root:  Batch size = 32\n"
     ]
    },
    {
     "data": {
      "text/html": [
       "\n",
       "    <div>\n",
       "        <style>\n",
       "            /* Turns off some styling */\n",
       "            progress {\n",
       "                /* gets rid of default border in Firefox and Opera. */\n",
       "                border: none;\n",
       "                /* Needs to be in here for Safari polyfill so background images work as expected. */\n",
       "                background-size: auto;\n",
       "            }\n",
       "            .progress-bar-interrupted, .progress-bar-interrupted::-webkit-progress-bar {\n",
       "                background: #F44336;\n",
       "            }\n",
       "        </style>\n",
       "      <progress value='6' class='' max='6', style='width:300px; height:20px; vertical-align: middle;'></progress>\n",
       "      100.00% [6/6 00:07<00:00]\n",
       "    </div>\n",
       "    "
      ],
      "text/plain": [
       "<IPython.core.display.HTML object>"
      ]
     },
     "metadata": {},
     "output_type": "display_data"
    },
    {
     "name": "stderr",
     "output_type": "stream",
     "text": [
      "INFO:root:eval_loss after step 420: 0.29876377681891125: \n",
      "INFO:root:eval_accuracy_multilabel after step 420: 0.22872340425531915: \n",
      "INFO:root:eval_accuracy_thresh after step 420: 0.8901975750923157: \n",
      "INFO:root:eval_roc_auc after step 420: 0.7817720823772307: \n",
      "INFO:root:eval_fbeta after step 420: 0.16558991372585297: \n",
      "INFO:root:lr after step 420: 5.04e-05\n",
      "INFO:root:train_loss after step 420: 0.32201103270053866\n",
      "INFO:root:Running evaluation\n",
      "INFO:root:  Num examples = 188\n",
      "INFO:root:  Batch size = 32\n"
     ]
    },
    {
     "data": {
      "text/html": [
       "\n",
       "    <div>\n",
       "        <style>\n",
       "            /* Turns off some styling */\n",
       "            progress {\n",
       "                /* gets rid of default border in Firefox and Opera. */\n",
       "                border: none;\n",
       "                /* Needs to be in here for Safari polyfill so background images work as expected. */\n",
       "                background-size: auto;\n",
       "            }\n",
       "            .progress-bar-interrupted, .progress-bar-interrupted::-webkit-progress-bar {\n",
       "                background: #F44336;\n",
       "            }\n",
       "        </style>\n",
       "      <progress value='6' class='' max='6', style='width:300px; height:20px; vertical-align: middle;'></progress>\n",
       "      100.00% [6/6 00:07<00:00]\n",
       "    </div>\n",
       "    "
      ],
      "text/plain": [
       "<IPython.core.display.HTML object>"
      ]
     },
     "metadata": {},
     "output_type": "display_data"
    },
    {
     "name": "stderr",
     "output_type": "stream",
     "text": [
      "INFO:root:eval_loss after epoch 9: 0.29697540899117786: \n",
      "INFO:root:eval_accuracy_multilabel after epoch 9: 0.14893617021276595: \n",
      "INFO:root:eval_accuracy_thresh after epoch 9: 0.8928571343421936: \n",
      "INFO:root:eval_roc_auc after epoch 9: 0.7894000563597363: \n",
      "INFO:root:eval_fbeta after epoch 9: 0.19081667065620422: \n",
      "INFO:root:Running evaluation\n",
      "INFO:root:  Num examples = 188\n",
      "INFO:root:  Batch size = 32\n"
     ]
    },
    {
     "data": {
      "text/html": [
       "\n",
       "    <div>\n",
       "        <style>\n",
       "            /* Turns off some styling */\n",
       "            progress {\n",
       "                /* gets rid of default border in Firefox and Opera. */\n",
       "                border: none;\n",
       "                /* Needs to be in here for Safari polyfill so background images work as expected. */\n",
       "                background-size: auto;\n",
       "            }\n",
       "            .progress-bar-interrupted, .progress-bar-interrupted::-webkit-progress-bar {\n",
       "                background: #F44336;\n",
       "            }\n",
       "        </style>\n",
       "      <progress value='6' class='' max='6', style='width:300px; height:20px; vertical-align: middle;'></progress>\n",
       "      100.00% [6/6 00:07<00:00]\n",
       "    </div>\n",
       "    "
      ],
      "text/plain": [
       "<IPython.core.display.HTML object>"
      ]
     },
     "metadata": {},
     "output_type": "display_data"
    },
    {
     "name": "stderr",
     "output_type": "stream",
     "text": [
      "INFO:root:eval_loss after step 440: 0.2948802461226781: \n",
      "INFO:root:eval_accuracy_multilabel after step 440: 0.22872340425531915: \n",
      "INFO:root:eval_accuracy_thresh after step 440: 0.8917173147201538: \n",
      "INFO:root:eval_roc_auc after step 440: 0.786523121869303: \n",
      "INFO:root:eval_fbeta after step 440: 0.23403243720531464: \n",
      "INFO:root:lr after step 440: 5.28e-05\n",
      "INFO:root:train_loss after step 440: 0.32089960426092146\n",
      "INFO:root:Running evaluation\n",
      "INFO:root:  Num examples = 188\n",
      "INFO:root:  Batch size = 32\n"
     ]
    },
    {
     "data": {
      "text/html": [
       "\n",
       "    <div>\n",
       "        <style>\n",
       "            /* Turns off some styling */\n",
       "            progress {\n",
       "                /* gets rid of default border in Firefox and Opera. */\n",
       "                border: none;\n",
       "                /* Needs to be in here for Safari polyfill so background images work as expected. */\n",
       "                background-size: auto;\n",
       "            }\n",
       "            .progress-bar-interrupted, .progress-bar-interrupted::-webkit-progress-bar {\n",
       "                background: #F44336;\n",
       "            }\n",
       "        </style>\n",
       "      <progress value='6' class='' max='6', style='width:300px; height:20px; vertical-align: middle;'></progress>\n",
       "      100.00% [6/6 00:07<00:00]\n",
       "    </div>\n",
       "    "
      ],
      "text/plain": [
       "<IPython.core.display.HTML object>"
      ]
     },
     "metadata": {},
     "output_type": "display_data"
    },
    {
     "name": "stderr",
     "output_type": "stream",
     "text": [
      "INFO:root:eval_loss after step 460: 0.30404085914293927: \n",
      "INFO:root:eval_accuracy_multilabel after step 460: 0.21808510638297873: \n",
      "INFO:root:eval_accuracy_thresh after step 460: 0.8917173147201538: \n",
      "INFO:root:eval_roc_auc after step 460: 0.7824686714629954: \n",
      "INFO:root:eval_fbeta after step 460: 0.30213189125061035: \n",
      "INFO:root:lr after step 460: 5.520000000000001e-05\n",
      "INFO:root:train_loss after step 460: 0.29058709293603896\n",
      "INFO:root:Running evaluation\n",
      "INFO:root:  Num examples = 188\n",
      "INFO:root:  Batch size = 32\n"
     ]
    },
    {
     "data": {
      "text/html": [
       "\n",
       "    <div>\n",
       "        <style>\n",
       "            /* Turns off some styling */\n",
       "            progress {\n",
       "                /* gets rid of default border in Firefox and Opera. */\n",
       "                border: none;\n",
       "                /* Needs to be in here for Safari polyfill so background images work as expected. */\n",
       "                background-size: auto;\n",
       "            }\n",
       "            .progress-bar-interrupted, .progress-bar-interrupted::-webkit-progress-bar {\n",
       "                background: #F44336;\n",
       "            }\n",
       "        </style>\n",
       "      <progress value='6' class='' max='6', style='width:300px; height:20px; vertical-align: middle;'></progress>\n",
       "      100.00% [6/6 00:07<00:00]\n",
       "    </div>\n",
       "    "
      ],
      "text/plain": [
       "<IPython.core.display.HTML object>"
      ]
     },
     "metadata": {},
     "output_type": "display_data"
    },
    {
     "name": "stderr",
     "output_type": "stream",
     "text": [
      "INFO:root:eval_loss after epoch 10: 0.28648675481478375: \n",
      "INFO:root:eval_accuracy_multilabel after epoch 10: 0.324468085106383: \n",
      "INFO:root:eval_accuracy_thresh after epoch 10: 0.896276593208313: \n",
      "INFO:root:eval_roc_auc after epoch 10: 0.7986433406370951: \n",
      "INFO:root:eval_fbeta after epoch 10: 0.2850111722946167: \n",
      "INFO:pytorch_transformers.tokenization_utils:Model name 'biobert' not found in model shortcut name list (bert-base-uncased, bert-large-uncased, bert-base-cased, bert-large-cased, bert-base-multilingual-uncased, bert-base-multilingual-cased, bert-base-chinese, bert-base-german-cased, bert-large-uncased-whole-word-masking, bert-large-cased-whole-word-masking, bert-large-uncased-whole-word-masking-finetuned-squad, bert-large-cased-whole-word-masking-finetuned-squad, bert-base-cased-finetuned-mrpc). Assuming 'biobert' is a path or url to a directory containing tokenizer files.\n",
      "INFO:pytorch_transformers.tokenization_utils:Didn't find file biobert/added_tokens.json. We won't load it.\n",
      "INFO:pytorch_transformers.tokenization_utils:Didn't find file biobert/special_tokens_map.json. We won't load it.\n",
      "INFO:pytorch_transformers.tokenization_utils:loading file None\n",
      "INFO:pytorch_transformers.tokenization_utils:loading file None\n",
      "INFO:pytorch_transformers.tokenization_utils:loading file biobert/vocab.txt\n",
      "INFO:root:Writing example 0 of 3001\n",
      "INFO:root:Saving features into cached file data/phenotype_classification/transformer/original_2x/cache/cached_train_multi_label_512\n",
      "INFO:root:Writing example 0 of 376\n",
      "INFO:root:Saving features into cached file data/phenotype_classification/transformer/original_2x/cache/cached_dev_multi_label_512\n",
      "INFO:pytorch_transformers.modeling_utils:loading configuration file biobert/config.json\n",
      "INFO:pytorch_transformers.modeling_utils:Model config {\n",
      "  \"attention_probs_dropout_prob\": 0.1,\n",
      "  \"finetuning_task\": null,\n",
      "  \"hidden_act\": \"gelu\",\n",
      "  \"hidden_dropout_prob\": 0.1,\n",
      "  \"hidden_size\": 768,\n",
      "  \"initializer_range\": 0.02,\n",
      "  \"intermediate_size\": 3072,\n",
      "  \"layer_norm_eps\": 1e-12,\n",
      "  \"max_position_embeddings\": 512,\n",
      "  \"num_attention_heads\": 12,\n",
      "  \"num_hidden_layers\": 12,\n",
      "  \"num_labels\": 14,\n",
      "  \"output_attentions\": false,\n",
      "  \"output_hidden_states\": false,\n",
      "  \"torchscript\": false,\n",
      "  \"type_vocab_size\": 2,\n",
      "  \"vocab_size\": 28996\n",
      "}\n",
      "\n",
      "INFO:pytorch_transformers.modeling_utils:loading weights file biobert/pytorch_model.bin\n",
      "INFO:pytorch_transformers.modeling_utils:Weights of BertForMultiLabelSequenceClassification not initialized from pretrained model: ['classifier.weight', 'classifier.bias']\n",
      "INFO:pytorch_transformers.modeling_utils:Weights from pretrained model not used in BertForMultiLabelSequenceClassification: ['cls.predictions.bias', 'cls.predictions.transform.dense.weight', 'cls.predictions.transform.dense.bias', 'cls.predictions.transform.LayerNorm.weight', 'cls.predictions.transform.LayerNorm.bias', 'cls.predictions.decoder.weight', 'cls.seq_relationship.weight', 'cls.seq_relationship.bias']\n",
      "INFO:root:***** Running training *****\n",
      "INFO:root:  Num examples = 3001\n",
      "INFO:root:  Num Epochs = 10\n",
      "INFO:root:  Total train batch size (w. parallel, distributed & accumulation) = 32\n",
      "INFO:root:  Gradient Accumulation steps = 1\n",
      "INFO:root:  Total optimization steps = 940\n"
     ]
    },
    {
     "name": "stdout",
     "output_type": "stream",
     "text": [
      "data/phenotype_classification/transformer/original_2x/output/biobert/tensorboard\n",
      "Selected optimization level O1:  Insert automatic casts around Pytorch functions and Tensor methods.\n",
      "\n",
      "Defaults for this optimization level are:\n",
      "enabled                : True\n",
      "opt_level              : O1\n",
      "cast_model_type        : None\n",
      "patch_torch_functions  : True\n",
      "keep_batchnorm_fp32    : None\n",
      "master_weights         : None\n",
      "loss_scale             : dynamic\n",
      "Processing user overrides (additional kwargs that are not None)...\n",
      "After processing overrides, optimization options are:\n",
      "enabled                : True\n",
      "opt_level              : O1\n",
      "cast_model_type        : None\n",
      "patch_torch_functions  : True\n",
      "keep_batchnorm_fp32    : None\n",
      "master_weights         : None\n",
      "loss_scale             : dynamic\n"
     ]
    },
    {
     "data": {
      "text/html": [],
      "text/plain": [
       "<IPython.core.display.HTML object>"
      ]
     },
     "metadata": {},
     "output_type": "display_data"
    },
    {
     "name": "stderr",
     "output_type": "stream",
     "text": [
      "INFO:root:Running evaluation\n",
      "INFO:root:  Num examples = 376\n",
      "INFO:root:  Batch size = 32\n"
     ]
    },
    {
     "data": {
      "text/html": [
       "\n",
       "    <div>\n",
       "        <style>\n",
       "            /* Turns off some styling */\n",
       "            progress {\n",
       "                /* gets rid of default border in Firefox and Opera. */\n",
       "                border: none;\n",
       "                /* Needs to be in here for Safari polyfill so background images work as expected. */\n",
       "                background-size: auto;\n",
       "            }\n",
       "            .progress-bar-interrupted, .progress-bar-interrupted::-webkit-progress-bar {\n",
       "                background: #F44336;\n",
       "            }\n",
       "        </style>\n",
       "      <progress value='12' class='' max='12', style='width:300px; height:20px; vertical-align: middle;'></progress>\n",
       "      100.00% [12/12 00:14<00:00]\n",
       "    </div>\n",
       "    "
      ],
      "text/plain": [
       "<IPython.core.display.HTML object>"
      ]
     },
     "metadata": {},
     "output_type": "display_data"
    },
    {
     "name": "stderr",
     "output_type": "stream",
     "text": [
      "INFO:root:eval_loss after step 20: 0.6117053925991058: \n",
      "INFO:root:eval_accuracy_multilabel after step 20: 0.15691489361702127: \n",
      "INFO:root:eval_accuracy_thresh after step 20: 0.6635638475418091: \n",
      "INFO:root:eval_roc_auc after step 20: 0.6064565266148325: \n",
      "INFO:root:eval_fbeta after step 20: 0.38101062178611755: \n",
      "INFO:root:lr after step 20: 2.4000000000000003e-06\n",
      "INFO:root:train_loss after step 20: 0.6329127281904221\n",
      "INFO:root:Running evaluation\n",
      "INFO:root:  Num examples = 376\n",
      "INFO:root:  Batch size = 32\n"
     ]
    },
    {
     "data": {
      "text/html": [
       "\n",
       "    <div>\n",
       "        <style>\n",
       "            /* Turns off some styling */\n",
       "            progress {\n",
       "                /* gets rid of default border in Firefox and Opera. */\n",
       "                border: none;\n",
       "                /* Needs to be in here for Safari polyfill so background images work as expected. */\n",
       "                background-size: auto;\n",
       "            }\n",
       "            .progress-bar-interrupted, .progress-bar-interrupted::-webkit-progress-bar {\n",
       "                background: #F44336;\n",
       "            }\n",
       "        </style>\n",
       "      <progress value='12' class='' max='12', style='width:300px; height:20px; vertical-align: middle;'></progress>\n",
       "      100.00% [12/12 00:14<00:00]\n",
       "    </div>\n",
       "    "
      ],
      "text/plain": [
       "<IPython.core.display.HTML object>"
      ]
     },
     "metadata": {},
     "output_type": "display_data"
    },
    {
     "name": "stderr",
     "output_type": "stream",
     "text": [
      "INFO:root:eval_loss after step 40: 0.5178529669841131: \n",
      "INFO:root:eval_accuracy_multilabel after step 40: 0.16489361702127658: \n",
      "INFO:root:eval_accuracy_thresh after step 40: 0.8655015230178833: \n",
      "INFO:root:eval_roc_auc after step 40: 0.6059238561602871: \n",
      "INFO:root:eval_fbeta after step 40: 0.3642561435699463: \n",
      "INFO:root:lr after step 40: 4.800000000000001e-06\n",
      "INFO:root:train_loss after step 40: 0.5677183508872986\n",
      "INFO:root:Running evaluation\n",
      "INFO:root:  Num examples = 376\n",
      "INFO:root:  Batch size = 32\n"
     ]
    },
    {
     "data": {
      "text/html": [
       "\n",
       "    <div>\n",
       "        <style>\n",
       "            /* Turns off some styling */\n",
       "            progress {\n",
       "                /* gets rid of default border in Firefox and Opera. */\n",
       "                border: none;\n",
       "                /* Needs to be in here for Safari polyfill so background images work as expected. */\n",
       "                background-size: auto;\n",
       "            }\n",
       "            .progress-bar-interrupted, .progress-bar-interrupted::-webkit-progress-bar {\n",
       "                background: #F44336;\n",
       "            }\n",
       "        </style>\n",
       "      <progress value='12' class='' max='12', style='width:300px; height:20px; vertical-align: middle;'></progress>\n",
       "      100.00% [12/12 00:14<00:00]\n",
       "    </div>\n",
       "    "
      ],
      "text/plain": [
       "<IPython.core.display.HTML object>"
      ]
     },
     "metadata": {},
     "output_type": "display_data"
    },
    {
     "name": "stderr",
     "output_type": "stream",
     "text": [
      "INFO:root:eval_loss after step 60: 0.44537948817014694: \n",
      "INFO:root:eval_accuracy_multilabel after step 60: 0.15425531914893617: \n",
      "INFO:root:eval_accuracy_thresh after step 60: 0.8662614226341248: \n",
      "INFO:root:eval_roc_auc after step 60: 0.6132740854266348: \n",
      "INFO:root:eval_fbeta after step 60: 0.26868048310279846: \n",
      "INFO:root:lr after step 60: 7.2e-06\n",
      "INFO:root:train_loss after step 60: 0.4848367065191269\n",
      "INFO:root:Running evaluation\n",
      "INFO:root:  Num examples = 376\n",
      "INFO:root:  Batch size = 32\n"
     ]
    },
    {
     "data": {
      "text/html": [
       "\n",
       "    <div>\n",
       "        <style>\n",
       "            /* Turns off some styling */\n",
       "            progress {\n",
       "                /* gets rid of default border in Firefox and Opera. */\n",
       "                border: none;\n",
       "                /* Needs to be in here for Safari polyfill so background images work as expected. */\n",
       "                background-size: auto;\n",
       "            }\n",
       "            .progress-bar-interrupted, .progress-bar-interrupted::-webkit-progress-bar {\n",
       "                background: #F44336;\n",
       "            }\n",
       "        </style>\n",
       "      <progress value='12' class='' max='12', style='width:300px; height:20px; vertical-align: middle;'></progress>\n",
       "      100.00% [12/12 00:14<00:00]\n",
       "    </div>\n",
       "    "
      ],
      "text/plain": [
       "<IPython.core.display.HTML object>"
      ]
     },
     "metadata": {},
     "output_type": "display_data"
    },
    {
     "name": "stderr",
     "output_type": "stream",
     "text": [
      "INFO:root:eval_loss after step 80: 0.41125082472960156: \n",
      "INFO:root:eval_accuracy_multilabel after step 80: 0.1595744680851064: \n",
      "INFO:root:eval_accuracy_thresh after step 80: 0.8662614226341248: \n",
      "INFO:root:eval_roc_auc after step 80: 0.6343469647129186: \n",
      "INFO:root:eval_fbeta after step 80: 0.22035013139247894: \n",
      "INFO:root:lr after step 80: 9.600000000000001e-06\n",
      "INFO:root:train_loss after step 80: 0.43723011314868926\n",
      "INFO:root:Running evaluation\n",
      "INFO:root:  Num examples = 376\n",
      "INFO:root:  Batch size = 32\n"
     ]
    },
    {
     "data": {
      "text/html": [
       "\n",
       "    <div>\n",
       "        <style>\n",
       "            /* Turns off some styling */\n",
       "            progress {\n",
       "                /* gets rid of default border in Firefox and Opera. */\n",
       "                border: none;\n",
       "                /* Needs to be in here for Safari polyfill so background images work as expected. */\n",
       "                background-size: auto;\n",
       "            }\n",
       "            .progress-bar-interrupted, .progress-bar-interrupted::-webkit-progress-bar {\n",
       "                background: #F44336;\n",
       "            }\n",
       "        </style>\n",
       "      <progress value='12' class='' max='12', style='width:300px; height:20px; vertical-align: middle;'></progress>\n",
       "      100.00% [12/12 00:14<00:00]\n",
       "    </div>\n",
       "    "
      ],
      "text/plain": [
       "<IPython.core.display.HTML object>"
      ]
     },
     "metadata": {},
     "output_type": "display_data"
    },
    {
     "name": "stderr",
     "output_type": "stream",
     "text": [
      "INFO:root:eval_loss after epoch 1: 0.39624155809481937: \n",
      "INFO:root:eval_accuracy_multilabel after epoch 1: 0.10106382978723404: \n",
      "INFO:root:eval_accuracy_thresh after epoch 1: 0.8662614226341248: \n",
      "INFO:root:eval_roc_auc after epoch 1: 0.6334540408193781: \n",
      "INFO:root:eval_fbeta after epoch 1: 0.22035013139247894: \n",
      "INFO:root:Running evaluation\n",
      "INFO:root:  Num examples = 376\n",
      "INFO:root:  Batch size = 32\n"
     ]
    },
    {
     "data": {
      "text/html": [
       "\n",
       "    <div>\n",
       "        <style>\n",
       "            /* Turns off some styling */\n",
       "            progress {\n",
       "                /* gets rid of default border in Firefox and Opera. */\n",
       "                border: none;\n",
       "                /* Needs to be in here for Safari polyfill so background images work as expected. */\n",
       "                background-size: auto;\n",
       "            }\n",
       "            .progress-bar-interrupted, .progress-bar-interrupted::-webkit-progress-bar {\n",
       "                background: #F44336;\n",
       "            }\n",
       "        </style>\n",
       "      <progress value='12' class='' max='12', style='width:300px; height:20px; vertical-align: middle;'></progress>\n",
       "      100.00% [12/12 00:14<00:00]\n",
       "    </div>\n",
       "    "
      ],
      "text/plain": [
       "<IPython.core.display.HTML object>"
      ]
     },
     "metadata": {},
     "output_type": "display_data"
    },
    {
     "name": "stderr",
     "output_type": "stream",
     "text": [
      "INFO:root:eval_loss after step 100: 0.3931389773885409: \n",
      "INFO:root:eval_accuracy_multilabel after step 100: 0.14627659574468085: \n",
      "INFO:root:eval_accuracy_thresh after step 100: 0.8662614226341248: \n",
      "INFO:root:eval_roc_auc after step 100: 0.6248998517244817: \n",
      "INFO:root:eval_fbeta after step 100: 0.016984200105071068: \n",
      "INFO:root:lr after step 100: 1.2e-05\n",
      "INFO:root:train_loss after step 100: 0.39646550863981245\n",
      "INFO:root:Running evaluation\n",
      "INFO:root:  Num examples = 376\n",
      "INFO:root:  Batch size = 32\n"
     ]
    },
    {
     "data": {
      "text/html": [
       "\n",
       "    <div>\n",
       "        <style>\n",
       "            /* Turns off some styling */\n",
       "            progress {\n",
       "                /* gets rid of default border in Firefox and Opera. */\n",
       "                border: none;\n",
       "                /* Needs to be in here for Safari polyfill so background images work as expected. */\n",
       "                background-size: auto;\n",
       "            }\n",
       "            .progress-bar-interrupted, .progress-bar-interrupted::-webkit-progress-bar {\n",
       "                background: #F44336;\n",
       "            }\n",
       "        </style>\n",
       "      <progress value='12' class='' max='12', style='width:300px; height:20px; vertical-align: middle;'></progress>\n",
       "      100.00% [12/12 00:14<00:00]\n",
       "    </div>\n",
       "    "
      ],
      "text/plain": [
       "<IPython.core.display.HTML object>"
      ]
     },
     "metadata": {},
     "output_type": "display_data"
    },
    {
     "name": "stderr",
     "output_type": "stream",
     "text": [
      "INFO:root:eval_loss after step 120: 0.3832535296678543: \n",
      "INFO:root:eval_accuracy_multilabel after step 120: 0.08776595744680851: \n",
      "INFO:root:eval_accuracy_thresh after step 120: 0.8662614226341248: \n",
      "INFO:root:eval_roc_auc after step 120: 0.6430421090011962: \n",
      "INFO:root:eval_fbeta after step 120: 0.1166997030377388: \n",
      "INFO:root:lr after step 120: 1.44e-05\n",
      "INFO:root:train_loss after step 120: 0.3866190627217293\n",
      "INFO:root:Running evaluation\n",
      "INFO:root:  Num examples = 376\n",
      "INFO:root:  Batch size = 32\n"
     ]
    },
    {
     "data": {
      "text/html": [
       "\n",
       "    <div>\n",
       "        <style>\n",
       "            /* Turns off some styling */\n",
       "            progress {\n",
       "                /* gets rid of default border in Firefox and Opera. */\n",
       "                border: none;\n",
       "                /* Needs to be in here for Safari polyfill so background images work as expected. */\n",
       "                background-size: auto;\n",
       "            }\n",
       "            .progress-bar-interrupted, .progress-bar-interrupted::-webkit-progress-bar {\n",
       "                background: #F44336;\n",
       "            }\n",
       "        </style>\n",
       "      <progress value='12' class='' max='12', style='width:300px; height:20px; vertical-align: middle;'></progress>\n",
       "      100.00% [12/12 00:14<00:00]\n",
       "    </div>\n",
       "    "
      ],
      "text/plain": [
       "<IPython.core.display.HTML object>"
      ]
     },
     "metadata": {},
     "output_type": "display_data"
    },
    {
     "name": "stderr",
     "output_type": "stream",
     "text": [
      "INFO:root:eval_loss after step 140: 0.3791631609201431: \n",
      "INFO:root:eval_accuracy_multilabel after step 140: 0.08776595744680851: \n",
      "INFO:root:eval_accuracy_thresh after step 140: 0.8662614226341248: \n",
      "INFO:root:eval_roc_auc after step 140: 0.6449257687898724: \n",
      "INFO:root:eval_fbeta after step 140: 0.08297102898359299: \n",
      "INFO:root:lr after step 140: 1.6800000000000002e-05\n",
      "INFO:root:train_loss after step 140: 0.37441820502281187\n",
      "INFO:root:Running evaluation\n",
      "INFO:root:  Num examples = 376\n",
      "INFO:root:  Batch size = 32\n"
     ]
    },
    {
     "data": {
      "text/html": [
       "\n",
       "    <div>\n",
       "        <style>\n",
       "            /* Turns off some styling */\n",
       "            progress {\n",
       "                /* gets rid of default border in Firefox and Opera. */\n",
       "                border: none;\n",
       "                /* Needs to be in here for Safari polyfill so background images work as expected. */\n",
       "                background-size: auto;\n",
       "            }\n",
       "            .progress-bar-interrupted, .progress-bar-interrupted::-webkit-progress-bar {\n",
       "                background: #F44336;\n",
       "            }\n",
       "        </style>\n",
       "      <progress value='12' class='' max='12', style='width:300px; height:20px; vertical-align: middle;'></progress>\n",
       "      100.00% [12/12 00:14<00:00]\n",
       "    </div>\n",
       "    "
      ],
      "text/plain": [
       "<IPython.core.display.HTML object>"
      ]
     },
     "metadata": {},
     "output_type": "display_data"
    },
    {
     "name": "stderr",
     "output_type": "stream",
     "text": [
      "INFO:root:eval_loss after step 160: 0.37737539907296497: \n",
      "INFO:root:eval_accuracy_multilabel after step 160: 0.08776595744680851: \n",
      "INFO:root:eval_accuracy_thresh after step 160: 0.8662614226341248: \n",
      "INFO:root:eval_roc_auc after step 160: 0.6474358614932217: \n",
      "INFO:root:eval_fbeta after step 160: 0.0: \n",
      "INFO:root:lr after step 160: 1.9200000000000003e-05\n",
      "INFO:root:train_loss after step 160: 0.3791820675134659\n",
      "INFO:root:Running evaluation\n",
      "INFO:root:  Num examples = 376\n",
      "INFO:root:  Batch size = 32\n"
     ]
    },
    {
     "data": {
      "text/html": [
       "\n",
       "    <div>\n",
       "        <style>\n",
       "            /* Turns off some styling */\n",
       "            progress {\n",
       "                /* gets rid of default border in Firefox and Opera. */\n",
       "                border: none;\n",
       "                /* Needs to be in here for Safari polyfill so background images work as expected. */\n",
       "                background-size: auto;\n",
       "            }\n",
       "            .progress-bar-interrupted, .progress-bar-interrupted::-webkit-progress-bar {\n",
       "                background: #F44336;\n",
       "            }\n",
       "        </style>\n",
       "      <progress value='12' class='' max='12', style='width:300px; height:20px; vertical-align: middle;'></progress>\n",
       "      100.00% [12/12 00:14<00:00]\n",
       "    </div>\n",
       "    "
      ],
      "text/plain": [
       "<IPython.core.display.HTML object>"
      ]
     },
     "metadata": {},
     "output_type": "display_data"
    },
    {
     "name": "stderr",
     "output_type": "stream",
     "text": [
      "INFO:root:eval_loss after step 180: 0.3772873009244601: \n",
      "INFO:root:eval_accuracy_multilabel after step 180: 0.08776595744680851: \n",
      "INFO:root:eval_accuracy_thresh after step 180: 0.8662614226341248: \n",
      "INFO:root:eval_roc_auc after step 180: 0.6581110758074162: \n",
      "INFO:root:eval_fbeta after step 180: 0.11817725002765656: \n",
      "INFO:root:lr after step 180: 2.16e-05\n",
      "INFO:root:train_loss after step 180: 0.3710113033652306\n",
      "INFO:root:Running evaluation\n",
      "INFO:root:  Num examples = 376\n",
      "INFO:root:  Batch size = 32\n"
     ]
    },
    {
     "data": {
      "text/html": [
       "\n",
       "    <div>\n",
       "        <style>\n",
       "            /* Turns off some styling */\n",
       "            progress {\n",
       "                /* gets rid of default border in Firefox and Opera. */\n",
       "                border: none;\n",
       "                /* Needs to be in here for Safari polyfill so background images work as expected. */\n",
       "                background-size: auto;\n",
       "            }\n",
       "            .progress-bar-interrupted, .progress-bar-interrupted::-webkit-progress-bar {\n",
       "                background: #F44336;\n",
       "            }\n",
       "        </style>\n",
       "      <progress value='12' class='' max='12', style='width:300px; height:20px; vertical-align: middle;'></progress>\n",
       "      100.00% [12/12 00:14<00:00]\n",
       "    </div>\n",
       "    "
      ],
      "text/plain": [
       "<IPython.core.display.HTML object>"
      ]
     },
     "metadata": {},
     "output_type": "display_data"
    },
    {
     "name": "stderr",
     "output_type": "stream",
     "text": [
      "INFO:root:eval_loss after epoch 2: 0.37725691745678586: \n",
      "INFO:root:eval_accuracy_multilabel after epoch 2: 0.08776595744680851: \n",
      "INFO:root:eval_accuracy_thresh after epoch 2: 0.8662614226341248: \n",
      "INFO:root:eval_roc_auc after epoch 2: 0.6527005769039074: \n",
      "INFO:root:eval_fbeta after epoch 2: 0.025229323655366898: \n",
      "INFO:root:Running evaluation\n",
      "INFO:root:  Num examples = 376\n",
      "INFO:root:  Batch size = 32\n"
     ]
    },
    {
     "data": {
      "text/html": [
       "\n",
       "    <div>\n",
       "        <style>\n",
       "            /* Turns off some styling */\n",
       "            progress {\n",
       "                /* gets rid of default border in Firefox and Opera. */\n",
       "                border: none;\n",
       "                /* Needs to be in here for Safari polyfill so background images work as expected. */\n",
       "                background-size: auto;\n",
       "            }\n",
       "            .progress-bar-interrupted, .progress-bar-interrupted::-webkit-progress-bar {\n",
       "                background: #F44336;\n",
       "            }\n",
       "        </style>\n",
       "      <progress value='12' class='' max='12', style='width:300px; height:20px; vertical-align: middle;'></progress>\n",
       "      100.00% [12/12 00:14<00:00]\n",
       "    </div>\n",
       "    "
      ],
      "text/plain": [
       "<IPython.core.display.HTML object>"
      ]
     },
     "metadata": {},
     "output_type": "display_data"
    },
    {
     "name": "stderr",
     "output_type": "stream",
     "text": [
      "INFO:root:eval_loss after step 200: 0.3789601648847262: \n",
      "INFO:root:eval_accuracy_multilabel after step 200: 0.08776595744680851: \n",
      "INFO:root:eval_accuracy_thresh after step 200: 0.8662614226341248: \n",
      "INFO:root:eval_roc_auc after step 200: 0.6397699237440191: \n",
      "INFO:root:eval_fbeta after step 200: 0.0: \n",
      "INFO:root:lr after step 200: 2.4e-05\n",
      "INFO:root:train_loss after step 200: 0.3676414221525192\n",
      "INFO:root:Running evaluation\n",
      "INFO:root:  Num examples = 376\n",
      "INFO:root:  Batch size = 32\n"
     ]
    },
    {
     "data": {
      "text/html": [
       "\n",
       "    <div>\n",
       "        <style>\n",
       "            /* Turns off some styling */\n",
       "            progress {\n",
       "                /* gets rid of default border in Firefox and Opera. */\n",
       "                border: none;\n",
       "                /* Needs to be in here for Safari polyfill so background images work as expected. */\n",
       "                background-size: auto;\n",
       "            }\n",
       "            .progress-bar-interrupted, .progress-bar-interrupted::-webkit-progress-bar {\n",
       "                background: #F44336;\n",
       "            }\n",
       "        </style>\n",
       "      <progress value='12' class='' max='12', style='width:300px; height:20px; vertical-align: middle;'></progress>\n",
       "      100.00% [12/12 00:14<00:00]\n",
       "    </div>\n",
       "    "
      ],
      "text/plain": [
       "<IPython.core.display.HTML object>"
      ]
     },
     "metadata": {},
     "output_type": "display_data"
    },
    {
     "name": "stderr",
     "output_type": "stream",
     "text": [
      "INFO:root:eval_loss after step 220: 0.3776593630512555: \n",
      "INFO:root:eval_accuracy_multilabel after step 220: 0.09308510638297872: \n",
      "INFO:root:eval_accuracy_thresh after step 220: 0.8662614226341248: \n",
      "INFO:root:eval_roc_auc after step 220: 0.6622423868620415: \n",
      "INFO:root:eval_fbeta after step 220: 0.17862741649150848: \n",
      "INFO:root:lr after step 220: 2.64e-05\n",
      "INFO:root:train_loss after step 220: 0.36884785145521165\n",
      "INFO:root:Running evaluation\n",
      "INFO:root:  Num examples = 376\n",
      "INFO:root:  Batch size = 32\n"
     ]
    },
    {
     "data": {
      "text/html": [
       "\n",
       "    <div>\n",
       "        <style>\n",
       "            /* Turns off some styling */\n",
       "            progress {\n",
       "                /* gets rid of default border in Firefox and Opera. */\n",
       "                border: none;\n",
       "                /* Needs to be in here for Safari polyfill so background images work as expected. */\n",
       "                background-size: auto;\n",
       "            }\n",
       "            .progress-bar-interrupted, .progress-bar-interrupted::-webkit-progress-bar {\n",
       "                background: #F44336;\n",
       "            }\n",
       "        </style>\n",
       "      <progress value='12' class='' max='12', style='width:300px; height:20px; vertical-align: middle;'></progress>\n",
       "      100.00% [12/12 00:14<00:00]\n",
       "    </div>\n",
       "    "
      ],
      "text/plain": [
       "<IPython.core.display.HTML object>"
      ]
     },
     "metadata": {},
     "output_type": "display_data"
    },
    {
     "name": "stderr",
     "output_type": "stream",
     "text": [
      "INFO:root:eval_loss after step 240: 0.37400661905606586: \n",
      "INFO:root:eval_accuracy_multilabel after step 240: 0.08776595744680851: \n",
      "INFO:root:eval_accuracy_thresh after step 240: 0.8662614226341248: \n",
      "INFO:root:eval_roc_auc after step 240: 0.6636385441586923: \n",
      "INFO:root:eval_fbeta after step 240: 0.08207060396671295: \n",
      "INFO:root:lr after step 240: 2.88e-05\n",
      "INFO:root:train_loss after step 240: 0.3724533304572105\n",
      "INFO:root:Running evaluation\n",
      "INFO:root:  Num examples = 376\n",
      "INFO:root:  Batch size = 32\n"
     ]
    },
    {
     "data": {
      "text/html": [
       "\n",
       "    <div>\n",
       "        <style>\n",
       "            /* Turns off some styling */\n",
       "            progress {\n",
       "                /* gets rid of default border in Firefox and Opera. */\n",
       "                border: none;\n",
       "                /* Needs to be in here for Safari polyfill so background images work as expected. */\n",
       "                background-size: auto;\n",
       "            }\n",
       "            .progress-bar-interrupted, .progress-bar-interrupted::-webkit-progress-bar {\n",
       "                background: #F44336;\n",
       "            }\n",
       "        </style>\n",
       "      <progress value='12' class='' max='12', style='width:300px; height:20px; vertical-align: middle;'></progress>\n",
       "      100.00% [12/12 00:14<00:00]\n",
       "    </div>\n",
       "    "
      ],
      "text/plain": [
       "<IPython.core.display.HTML object>"
      ]
     },
     "metadata": {},
     "output_type": "display_data"
    },
    {
     "name": "stderr",
     "output_type": "stream",
     "text": [
      "INFO:root:eval_loss after step 260: 0.36860495805740356: \n",
      "INFO:root:eval_accuracy_multilabel after step 260: 0.10638297872340426: \n",
      "INFO:root:eval_accuracy_thresh after step 260: 0.8662614226341248: \n",
      "INFO:root:eval_roc_auc after step 260: 0.6862253289473684: \n",
      "INFO:root:eval_fbeta after step 260: 0.10631096363067627: \n",
      "INFO:root:lr after step 260: 3.12e-05\n",
      "INFO:root:train_loss after step 260: 0.3609752967953682\n",
      "INFO:root:Running evaluation\n",
      "INFO:root:  Num examples = 376\n",
      "INFO:root:  Batch size = 32\n"
     ]
    },
    {
     "data": {
      "text/html": [
       "\n",
       "    <div>\n",
       "        <style>\n",
       "            /* Turns off some styling */\n",
       "            progress {\n",
       "                /* gets rid of default border in Firefox and Opera. */\n",
       "                border: none;\n",
       "                /* Needs to be in here for Safari polyfill so background images work as expected. */\n",
       "                background-size: auto;\n",
       "            }\n",
       "            .progress-bar-interrupted, .progress-bar-interrupted::-webkit-progress-bar {\n",
       "                background: #F44336;\n",
       "            }\n",
       "        </style>\n",
       "      <progress value='12' class='' max='12', style='width:300px; height:20px; vertical-align: middle;'></progress>\n",
       "      100.00% [12/12 00:14<00:00]\n",
       "    </div>\n",
       "    "
      ],
      "text/plain": [
       "<IPython.core.display.HTML object>"
      ]
     },
     "metadata": {},
     "output_type": "display_data"
    },
    {
     "name": "stderr",
     "output_type": "stream",
     "text": [
      "INFO:root:eval_loss after step 280: 0.35963888466358185: \n",
      "INFO:root:eval_accuracy_multilabel after step 280: 0.15691489361702127: \n",
      "INFO:root:eval_accuracy_thresh after step 280: 0.8675912022590637: \n",
      "INFO:root:eval_roc_auc after step 280: 0.7123500112141149: \n",
      "INFO:root:eval_fbeta after step 280: 0.11089780181646347: \n",
      "INFO:root:lr after step 280: 3.3600000000000004e-05\n",
      "INFO:root:train_loss after step 280: 0.3672733336687088\n",
      "INFO:root:Running evaluation\n",
      "INFO:root:  Num examples = 376\n",
      "INFO:root:  Batch size = 32\n"
     ]
    },
    {
     "data": {
      "text/html": [
       "\n",
       "    <div>\n",
       "        <style>\n",
       "            /* Turns off some styling */\n",
       "            progress {\n",
       "                /* gets rid of default border in Firefox and Opera. */\n",
       "                border: none;\n",
       "                /* Needs to be in here for Safari polyfill so background images work as expected. */\n",
       "                background-size: auto;\n",
       "            }\n",
       "            .progress-bar-interrupted, .progress-bar-interrupted::-webkit-progress-bar {\n",
       "                background: #F44336;\n",
       "            }\n",
       "        </style>\n",
       "      <progress value='12' class='' max='12', style='width:300px; height:20px; vertical-align: middle;'></progress>\n",
       "      100.00% [12/12 00:14<00:00]\n",
       "    </div>\n",
       "    "
      ],
      "text/plain": [
       "<IPython.core.display.HTML object>"
      ]
     },
     "metadata": {},
     "output_type": "display_data"
    },
    {
     "name": "stderr",
     "output_type": "stream",
     "text": [
      "INFO:root:eval_loss after epoch 3: 0.35747497032086056: \n",
      "INFO:root:eval_accuracy_multilabel after epoch 3: 0.14627659574468085: \n",
      "INFO:root:eval_accuracy_thresh after epoch 3: 0.8660714626312256: \n",
      "INFO:root:eval_roc_auc after epoch 3: 0.7177759295255184: \n",
      "INFO:root:eval_fbeta after epoch 3: 0.1401984840631485: \n",
      "INFO:root:Running evaluation\n",
      "INFO:root:  Num examples = 376\n",
      "INFO:root:  Batch size = 32\n"
     ]
    },
    {
     "data": {
      "text/html": [
       "\n",
       "    <div>\n",
       "        <style>\n",
       "            /* Turns off some styling */\n",
       "            progress {\n",
       "                /* gets rid of default border in Firefox and Opera. */\n",
       "                border: none;\n",
       "                /* Needs to be in here for Safari polyfill so background images work as expected. */\n",
       "                background-size: auto;\n",
       "            }\n",
       "            .progress-bar-interrupted, .progress-bar-interrupted::-webkit-progress-bar {\n",
       "                background: #F44336;\n",
       "            }\n",
       "        </style>\n",
       "      <progress value='12' class='' max='12', style='width:300px; height:20px; vertical-align: middle;'></progress>\n",
       "      100.00% [12/12 00:14<00:00]\n",
       "    </div>\n",
       "    "
      ],
      "text/plain": [
       "<IPython.core.display.HTML object>"
      ]
     },
     "metadata": {},
     "output_type": "display_data"
    },
    {
     "name": "stderr",
     "output_type": "stream",
     "text": [
      "INFO:root:eval_loss after step 300: 0.3440324018398921: \n",
      "INFO:root:eval_accuracy_multilabel after step 300: 0.25: \n",
      "INFO:root:eval_accuracy_thresh after step 300: 0.8687310218811035: \n",
      "INFO:root:eval_roc_auc after step 300: 0.7521842603668261: \n",
      "INFO:root:eval_fbeta after step 300: 0.23185665905475616: \n",
      "INFO:root:lr after step 300: 3.6e-05\n",
      "INFO:root:train_loss after step 300: 0.34352619796991346\n",
      "INFO:root:Running evaluation\n",
      "INFO:root:  Num examples = 376\n",
      "INFO:root:  Batch size = 32\n"
     ]
    },
    {
     "data": {
      "text/html": [
       "\n",
       "    <div>\n",
       "        <style>\n",
       "            /* Turns off some styling */\n",
       "            progress {\n",
       "                /* gets rid of default border in Firefox and Opera. */\n",
       "                border: none;\n",
       "                /* Needs to be in here for Safari polyfill so background images work as expected. */\n",
       "                background-size: auto;\n",
       "            }\n",
       "            .progress-bar-interrupted, .progress-bar-interrupted::-webkit-progress-bar {\n",
       "                background: #F44336;\n",
       "            }\n",
       "        </style>\n",
       "      <progress value='12' class='' max='12', style='width:300px; height:20px; vertical-align: middle;'></progress>\n",
       "      100.00% [12/12 00:14<00:00]\n",
       "    </div>\n",
       "    "
      ],
      "text/plain": [
       "<IPython.core.display.HTML object>"
      ]
     },
     "metadata": {},
     "output_type": "display_data"
    },
    {
     "name": "stderr",
     "output_type": "stream",
     "text": [
      "INFO:root:eval_loss after step 320: 0.3323151369889577: \n",
      "INFO:root:eval_accuracy_multilabel after step 320: 0.4095744680851064: \n",
      "INFO:root:eval_accuracy_thresh after step 320: 0.8774695992469788: \n",
      "INFO:root:eval_roc_auc after step 320: 0.769785125099681: \n",
      "INFO:root:eval_fbeta after step 320: 0.24921715259552002: \n",
      "INFO:root:lr after step 320: 3.8400000000000005e-05\n",
      "INFO:root:train_loss after step 320: 0.3284214407205582\n",
      "INFO:root:Running evaluation\n",
      "INFO:root:  Num examples = 376\n",
      "INFO:root:  Batch size = 32\n"
     ]
    },
    {
     "data": {
      "text/html": [
       "\n",
       "    <div>\n",
       "        <style>\n",
       "            /* Turns off some styling */\n",
       "            progress {\n",
       "                /* gets rid of default border in Firefox and Opera. */\n",
       "                border: none;\n",
       "                /* Needs to be in here for Safari polyfill so background images work as expected. */\n",
       "                background-size: auto;\n",
       "            }\n",
       "            .progress-bar-interrupted, .progress-bar-interrupted::-webkit-progress-bar {\n",
       "                background: #F44336;\n",
       "            }\n",
       "        </style>\n",
       "      <progress value='12' class='' max='12', style='width:300px; height:20px; vertical-align: middle;'></progress>\n",
       "      100.00% [12/12 00:14<00:00]\n",
       "    </div>\n",
       "    "
      ],
      "text/plain": [
       "<IPython.core.display.HTML object>"
      ]
     },
     "metadata": {},
     "output_type": "display_data"
    },
    {
     "name": "stderr",
     "output_type": "stream",
     "text": [
      "INFO:root:eval_loss after step 340: 0.32126639783382416: \n",
      "INFO:root:eval_accuracy_multilabel after step 340: 0.3776595744680851: \n",
      "INFO:root:eval_accuracy_thresh after step 340: 0.8778495788574219: \n",
      "INFO:root:eval_roc_auc after step 340: 0.8047895172946572: \n",
      "INFO:root:eval_fbeta after step 340: 0.35956689715385437: \n",
      "INFO:root:lr after step 340: 4.08e-05\n",
      "INFO:root:train_loss after step 340: 0.33399702310562135\n",
      "INFO:root:Running evaluation\n",
      "INFO:root:  Num examples = 376\n",
      "INFO:root:  Batch size = 32\n"
     ]
    },
    {
     "data": {
      "text/html": [
       "\n",
       "    <div>\n",
       "        <style>\n",
       "            /* Turns off some styling */\n",
       "            progress {\n",
       "                /* gets rid of default border in Firefox and Opera. */\n",
       "                border: none;\n",
       "                /* Needs to be in here for Safari polyfill so background images work as expected. */\n",
       "                background-size: auto;\n",
       "            }\n",
       "            .progress-bar-interrupted, .progress-bar-interrupted::-webkit-progress-bar {\n",
       "                background: #F44336;\n",
       "            }\n",
       "        </style>\n",
       "      <progress value='12' class='' max='12', style='width:300px; height:20px; vertical-align: middle;'></progress>\n",
       "      100.00% [12/12 00:14<00:00]\n",
       "    </div>\n",
       "    "
      ],
      "text/plain": [
       "<IPython.core.display.HTML object>"
      ]
     },
     "metadata": {},
     "output_type": "display_data"
    },
    {
     "name": "stderr",
     "output_type": "stream",
     "text": [
      "INFO:root:eval_loss after step 360: 0.30647679915030795: \n",
      "INFO:root:eval_accuracy_multilabel after step 360: 0.43882978723404253: \n",
      "INFO:root:eval_accuracy_thresh after step 360: 0.8805091381072998: \n",
      "INFO:root:eval_roc_auc after step 360: 0.823003576056619: \n",
      "INFO:root:eval_fbeta after step 360: 0.33599400520324707: \n",
      "INFO:root:lr after step 360: 4.32e-05\n",
      "INFO:root:train_loss after step 360: 0.3036912217736244\n",
      "INFO:root:Running evaluation\n",
      "INFO:root:  Num examples = 376\n",
      "INFO:root:  Batch size = 32\n"
     ]
    },
    {
     "data": {
      "text/html": [
       "\n",
       "    <div>\n",
       "        <style>\n",
       "            /* Turns off some styling */\n",
       "            progress {\n",
       "                /* gets rid of default border in Firefox and Opera. */\n",
       "                border: none;\n",
       "                /* Needs to be in here for Safari polyfill so background images work as expected. */\n",
       "                background-size: auto;\n",
       "            }\n",
       "            .progress-bar-interrupted, .progress-bar-interrupted::-webkit-progress-bar {\n",
       "                background: #F44336;\n",
       "            }\n",
       "        </style>\n",
       "      <progress value='12' class='' max='12', style='width:300px; height:20px; vertical-align: middle;'></progress>\n",
       "      100.00% [12/12 00:14<00:00]\n",
       "    </div>\n",
       "    "
      ],
      "text/plain": [
       "<IPython.core.display.HTML object>"
      ]
     },
     "metadata": {},
     "output_type": "display_data"
    },
    {
     "name": "stderr",
     "output_type": "stream",
     "text": [
      "INFO:root:eval_loss after epoch 4: 0.2997166191538175: \n",
      "INFO:root:eval_accuracy_multilabel after epoch 4: 0.4601063829787234: \n",
      "INFO:root:eval_accuracy_thresh after epoch 4: 0.8844984769821167: \n",
      "INFO:root:eval_roc_auc after epoch 4: 0.8364066238038277: \n",
      "INFO:root:eval_fbeta after epoch 4: 0.4042868912220001: \n",
      "INFO:root:Running evaluation\n",
      "INFO:root:  Num examples = 376\n",
      "INFO:root:  Batch size = 32\n"
     ]
    },
    {
     "data": {
      "text/html": [
       "\n",
       "    <div>\n",
       "        <style>\n",
       "            /* Turns off some styling */\n",
       "            progress {\n",
       "                /* gets rid of default border in Firefox and Opera. */\n",
       "                border: none;\n",
       "                /* Needs to be in here for Safari polyfill so background images work as expected. */\n",
       "                background-size: auto;\n",
       "            }\n",
       "            .progress-bar-interrupted, .progress-bar-interrupted::-webkit-progress-bar {\n",
       "                background: #F44336;\n",
       "            }\n",
       "        </style>\n",
       "      <progress value='12' class='' max='12', style='width:300px; height:20px; vertical-align: middle;'></progress>\n",
       "      100.00% [12/12 00:14<00:00]\n",
       "    </div>\n",
       "    "
      ],
      "text/plain": [
       "<IPython.core.display.HTML object>"
      ]
     },
     "metadata": {},
     "output_type": "display_data"
    },
    {
     "name": "stderr",
     "output_type": "stream",
     "text": [
      "INFO:root:eval_loss after step 380: 0.29767608394225437: \n",
      "INFO:root:eval_accuracy_multilabel after step 380: 0.4521276595744681: \n",
      "INFO:root:eval_accuracy_thresh after step 380: 0.8848784565925598: \n",
      "INFO:root:eval_roc_auc after step 380: 0.8363729814593301: \n",
      "INFO:root:eval_fbeta after step 380: 0.35141047835350037: \n",
      "INFO:root:lr after step 380: 4.5600000000000004e-05\n",
      "INFO:root:train_loss after step 380: 0.30166812241077423\n",
      "INFO:root:Running evaluation\n",
      "INFO:root:  Num examples = 376\n",
      "INFO:root:  Batch size = 32\n"
     ]
    },
    {
     "data": {
      "text/html": [
       "\n",
       "    <div>\n",
       "        <style>\n",
       "            /* Turns off some styling */\n",
       "            progress {\n",
       "                /* gets rid of default border in Firefox and Opera. */\n",
       "                border: none;\n",
       "                /* Needs to be in here for Safari polyfill so background images work as expected. */\n",
       "                background-size: auto;\n",
       "            }\n",
       "            .progress-bar-interrupted, .progress-bar-interrupted::-webkit-progress-bar {\n",
       "                background: #F44336;\n",
       "            }\n",
       "        </style>\n",
       "      <progress value='12' class='' max='12', style='width:300px; height:20px; vertical-align: middle;'></progress>\n",
       "      100.00% [12/12 00:14<00:00]\n",
       "    </div>\n",
       "    "
      ],
      "text/plain": [
       "<IPython.core.display.HTML object>"
      ]
     },
     "metadata": {},
     "output_type": "display_data"
    },
    {
     "name": "stderr",
     "output_type": "stream",
     "text": [
      "INFO:root:eval_loss after step 400: 0.28226334353288013: \n",
      "INFO:root:eval_accuracy_multilabel after step 400: 0.48404255319148937: \n",
      "INFO:root:eval_accuracy_thresh after step 400: 0.8928571343421936: \n",
      "INFO:root:eval_roc_auc after step 400: 0.8582294470195375: \n",
      "INFO:root:eval_fbeta after step 400: 0.40067845582962036: \n",
      "INFO:root:lr after step 400: 4.8e-05\n",
      "INFO:root:train_loss after step 400: 0.29417201578617097\n",
      "INFO:root:Running evaluation\n",
      "INFO:root:  Num examples = 376\n",
      "INFO:root:  Batch size = 32\n"
     ]
    },
    {
     "data": {
      "text/html": [
       "\n",
       "    <div>\n",
       "        <style>\n",
       "            /* Turns off some styling */\n",
       "            progress {\n",
       "                /* gets rid of default border in Firefox and Opera. */\n",
       "                border: none;\n",
       "                /* Needs to be in here for Safari polyfill so background images work as expected. */\n",
       "                background-size: auto;\n",
       "            }\n",
       "            .progress-bar-interrupted, .progress-bar-interrupted::-webkit-progress-bar {\n",
       "                background: #F44336;\n",
       "            }\n",
       "        </style>\n",
       "      <progress value='12' class='' max='12', style='width:300px; height:20px; vertical-align: middle;'></progress>\n",
       "      100.00% [12/12 00:14<00:00]\n",
       "    </div>\n",
       "    "
      ],
      "text/plain": [
       "<IPython.core.display.HTML object>"
      ]
     },
     "metadata": {},
     "output_type": "display_data"
    },
    {
     "name": "stderr",
     "output_type": "stream",
     "text": [
      "INFO:root:eval_loss after step 420: 0.27204101408521336: \n",
      "INFO:root:eval_accuracy_multilabel after step 420: 0.5106382978723404: \n",
      "INFO:root:eval_accuracy_thresh after step 420: 0.9008358716964722: \n",
      "INFO:root:eval_roc_auc after step 420: 0.8677393279007176: \n",
      "INFO:root:eval_fbeta after step 420: 0.4545802175998688: \n",
      "INFO:root:lr after step 420: 5.04e-05\n",
      "INFO:root:train_loss after step 420: 0.2729350499808788\n",
      "INFO:root:Running evaluation\n",
      "INFO:root:  Num examples = 376\n",
      "INFO:root:  Batch size = 32\n"
     ]
    },
    {
     "data": {
      "text/html": [
       "\n",
       "    <div>\n",
       "        <style>\n",
       "            /* Turns off some styling */\n",
       "            progress {\n",
       "                /* gets rid of default border in Firefox and Opera. */\n",
       "                border: none;\n",
       "                /* Needs to be in here for Safari polyfill so background images work as expected. */\n",
       "                background-size: auto;\n",
       "            }\n",
       "            .progress-bar-interrupted, .progress-bar-interrupted::-webkit-progress-bar {\n",
       "                background: #F44336;\n",
       "            }\n",
       "        </style>\n",
       "      <progress value='12' class='' max='12', style='width:300px; height:20px; vertical-align: middle;'></progress>\n",
       "      100.00% [12/12 00:14<00:00]\n",
       "    </div>\n",
       "    "
      ],
      "text/plain": [
       "<IPython.core.display.HTML object>"
      ]
     },
     "metadata": {},
     "output_type": "display_data"
    },
    {
     "name": "stderr",
     "output_type": "stream",
     "text": [
      "INFO:root:eval_loss after step 440: 0.2695640077193578: \n",
      "INFO:root:eval_accuracy_multilabel after step 440: 0.4946808510638298: \n",
      "INFO:root:eval_accuracy_thresh after step 440: 0.900645911693573: \n",
      "INFO:root:eval_roc_auc after step 440: 0.8767603045255183: \n",
      "INFO:root:eval_fbeta after step 440: 0.4969664216041565: \n",
      "INFO:root:lr after step 440: 5.28e-05\n",
      "INFO:root:train_loss after step 440: 0.2778170481324196\n",
      "INFO:root:Running evaluation\n",
      "INFO:root:  Num examples = 376\n",
      "INFO:root:  Batch size = 32\n"
     ]
    },
    {
     "data": {
      "text/html": [
       "\n",
       "    <div>\n",
       "        <style>\n",
       "            /* Turns off some styling */\n",
       "            progress {\n",
       "                /* gets rid of default border in Firefox and Opera. */\n",
       "                border: none;\n",
       "                /* Needs to be in here for Safari polyfill so background images work as expected. */\n",
       "                background-size: auto;\n",
       "            }\n",
       "            .progress-bar-interrupted, .progress-bar-interrupted::-webkit-progress-bar {\n",
       "                background: #F44336;\n",
       "            }\n",
       "        </style>\n",
       "      <progress value='12' class='' max='12', style='width:300px; height:20px; vertical-align: middle;'></progress>\n",
       "      100.00% [12/12 00:14<00:00]\n",
       "    </div>\n",
       "    "
      ],
      "text/plain": [
       "<IPython.core.display.HTML object>"
      ]
     },
     "metadata": {},
     "output_type": "display_data"
    },
    {
     "name": "stderr",
     "output_type": "stream",
     "text": [
      "INFO:root:eval_loss after step 460: 0.255771250774463: \n",
      "INFO:root:eval_accuracy_multilabel after step 460: 0.523936170212766: \n",
      "INFO:root:eval_accuracy_thresh after step 460: 0.9069148898124695: \n",
      "INFO:root:eval_roc_auc after step 460: 0.8825199985047848: \n",
      "INFO:root:eval_fbeta after step 460: 0.46928906440734863: \n",
      "INFO:root:lr after step 460: 5.520000000000001e-05\n",
      "INFO:root:train_loss after step 460: 0.2631070278584957\n",
      "INFO:root:Running evaluation\n",
      "INFO:root:  Num examples = 376\n",
      "INFO:root:  Batch size = 32\n"
     ]
    },
    {
     "data": {
      "text/html": [
       "\n",
       "    <div>\n",
       "        <style>\n",
       "            /* Turns off some styling */\n",
       "            progress {\n",
       "                /* gets rid of default border in Firefox and Opera. */\n",
       "                border: none;\n",
       "                /* Needs to be in here for Safari polyfill so background images work as expected. */\n",
       "                background-size: auto;\n",
       "            }\n",
       "            .progress-bar-interrupted, .progress-bar-interrupted::-webkit-progress-bar {\n",
       "                background: #F44336;\n",
       "            }\n",
       "        </style>\n",
       "      <progress value='12' class='' max='12', style='width:300px; height:20px; vertical-align: middle;'></progress>\n",
       "      100.00% [12/12 00:14<00:00]\n",
       "    </div>\n",
       "    "
      ],
      "text/plain": [
       "<IPython.core.display.HTML object>"
      ]
     },
     "metadata": {},
     "output_type": "display_data"
    },
    {
     "name": "stderr",
     "output_type": "stream",
     "text": [
      "INFO:root:eval_loss after epoch 5: 0.2542271427810192: \n",
      "INFO:root:eval_accuracy_multilabel after epoch 5: 0.5452127659574468: \n",
      "INFO:root:eval_accuracy_thresh after epoch 5: 0.9002659916877747: \n",
      "INFO:root:eval_roc_auc after epoch 5: 0.8902976101475278: \n",
      "INFO:root:eval_fbeta after epoch 5: 0.44934558868408203: \n",
      "INFO:root:Running evaluation\n",
      "INFO:root:  Num examples = 376\n",
      "INFO:root:  Batch size = 32\n"
     ]
    },
    {
     "data": {
      "text/html": [
       "\n",
       "    <div>\n",
       "        <style>\n",
       "            /* Turns off some styling */\n",
       "            progress {\n",
       "                /* gets rid of default border in Firefox and Opera. */\n",
       "                border: none;\n",
       "                /* Needs to be in here for Safari polyfill so background images work as expected. */\n",
       "                background-size: auto;\n",
       "            }\n",
       "            .progress-bar-interrupted, .progress-bar-interrupted::-webkit-progress-bar {\n",
       "                background: #F44336;\n",
       "            }\n",
       "        </style>\n",
       "      <progress value='12' class='' max='12', style='width:300px; height:20px; vertical-align: middle;'></progress>\n",
       "      100.00% [12/12 00:14<00:00]\n",
       "    </div>\n",
       "    "
      ],
      "text/plain": [
       "<IPython.core.display.HTML object>"
      ]
     },
     "metadata": {},
     "output_type": "display_data"
    },
    {
     "name": "stderr",
     "output_type": "stream",
     "text": [
      "INFO:root:eval_loss after step 480: 0.2451170695324739: \n",
      "INFO:root:eval_accuracy_multilabel after step 480: 0.5186170212765957: \n",
      "INFO:root:eval_accuracy_thresh after step 480: 0.9065349698066711: \n",
      "INFO:root:eval_roc_auc after step 480: 0.8984223920952951: \n",
      "INFO:root:eval_fbeta after step 480: 0.5041243433952332: \n",
      "INFO:root:lr after step 480: 5.76e-05\n",
      "INFO:root:train_loss after step 480: 0.2474733769893646\n",
      "INFO:root:Running evaluation\n",
      "INFO:root:  Num examples = 376\n",
      "INFO:root:  Batch size = 32\n"
     ]
    },
    {
     "data": {
      "text/html": [
       "\n",
       "    <div>\n",
       "        <style>\n",
       "            /* Turns off some styling */\n",
       "            progress {\n",
       "                /* gets rid of default border in Firefox and Opera. */\n",
       "                border: none;\n",
       "                /* Needs to be in here for Safari polyfill so background images work as expected. */\n",
       "                background-size: auto;\n",
       "            }\n",
       "            .progress-bar-interrupted, .progress-bar-interrupted::-webkit-progress-bar {\n",
       "                background: #F44336;\n",
       "            }\n",
       "        </style>\n",
       "      <progress value='12' class='' max='12', style='width:300px; height:20px; vertical-align: middle;'></progress>\n",
       "      100.00% [12/12 00:14<00:00]\n",
       "    </div>\n",
       "    "
      ],
      "text/plain": [
       "<IPython.core.display.HTML object>"
      ]
     },
     "metadata": {},
     "output_type": "display_data"
    },
    {
     "name": "stderr",
     "output_type": "stream",
     "text": [
      "INFO:root:eval_loss after step 500: 0.23641017576058707: \n",
      "INFO:root:eval_accuracy_multilabel after step 500: 0.526595744680851: \n",
      "INFO:root:eval_accuracy_thresh after step 500: 0.9116641283035278: \n",
      "INFO:root:eval_roc_auc after step 500: 0.907116913377193: \n",
      "INFO:root:eval_fbeta after step 500: 0.507437527179718: \n",
      "INFO:root:lr after step 500: 6e-05\n",
      "INFO:root:train_loss after step 500: 0.231788931787014\n",
      "INFO:root:Running evaluation\n",
      "INFO:root:  Num examples = 376\n",
      "INFO:root:  Batch size = 32\n"
     ]
    },
    {
     "data": {
      "text/html": [
       "\n",
       "    <div>\n",
       "        <style>\n",
       "            /* Turns off some styling */\n",
       "            progress {\n",
       "                /* gets rid of default border in Firefox and Opera. */\n",
       "                border: none;\n",
       "                /* Needs to be in here for Safari polyfill so background images work as expected. */\n",
       "                background-size: auto;\n",
       "            }\n",
       "            .progress-bar-interrupted, .progress-bar-interrupted::-webkit-progress-bar {\n",
       "                background: #F44336;\n",
       "            }\n",
       "        </style>\n",
       "      <progress value='12' class='' max='12', style='width:300px; height:20px; vertical-align: middle;'></progress>\n",
       "      100.00% [12/12 00:14<00:00]\n",
       "    </div>\n",
       "    "
      ],
      "text/plain": [
       "<IPython.core.display.HTML object>"
      ]
     },
     "metadata": {},
     "output_type": "display_data"
    },
    {
     "name": "stderr",
     "output_type": "stream",
     "text": [
      "INFO:root:eval_loss after step 520: 0.22922664135694504: \n",
      "INFO:root:eval_accuracy_multilabel after step 520: 0.5132978723404256: \n",
      "INFO:root:eval_accuracy_thresh after step 520: 0.9133738875389099: \n",
      "INFO:root:eval_roc_auc after step 520: 0.9103445536782295: \n",
      "INFO:root:eval_fbeta after step 520: 0.5520377159118652: \n",
      "INFO:root:lr after step 520: 5.969464325642798e-05\n",
      "INFO:root:train_loss after step 520: 0.22897428199648856\n",
      "INFO:root:Running evaluation\n",
      "INFO:root:  Num examples = 376\n",
      "INFO:root:  Batch size = 32\n"
     ]
    },
    {
     "data": {
      "text/html": [
       "\n",
       "    <div>\n",
       "        <style>\n",
       "            /* Turns off some styling */\n",
       "            progress {\n",
       "                /* gets rid of default border in Firefox and Opera. */\n",
       "                border: none;\n",
       "                /* Needs to be in here for Safari polyfill so background images work as expected. */\n",
       "                background-size: auto;\n",
       "            }\n",
       "            .progress-bar-interrupted, .progress-bar-interrupted::-webkit-progress-bar {\n",
       "                background: #F44336;\n",
       "            }\n",
       "        </style>\n",
       "      <progress value='12' class='' max='12', style='width:300px; height:20px; vertical-align: middle;'></progress>\n",
       "      100.00% [12/12 00:14<00:00]\n",
       "    </div>\n",
       "    "
      ],
      "text/plain": [
       "<IPython.core.display.HTML object>"
      ]
     },
     "metadata": {},
     "output_type": "display_data"
    },
    {
     "name": "stderr",
     "output_type": "stream",
     "text": [
      "INFO:root:eval_loss after step 540: 0.21765092263619104: \n",
      "INFO:root:eval_accuracy_multilabel after step 540: 0.5585106382978723: \n",
      "INFO:root:eval_accuracy_thresh after step 540: 0.9207826852798462: \n",
      "INFO:root:eval_roc_auc after step 540: 0.9213412392842903: \n",
      "INFO:root:eval_fbeta after step 540: 0.5563710331916809: \n",
      "INFO:root:lr after step 540: 5.878478920843492e-05\n",
      "INFO:root:train_loss after step 540: 0.22326066568493844\n",
      "INFO:root:Running evaluation\n",
      "INFO:root:  Num examples = 376\n",
      "INFO:root:  Batch size = 32\n"
     ]
    },
    {
     "data": {
      "text/html": [
       "\n",
       "    <div>\n",
       "        <style>\n",
       "            /* Turns off some styling */\n",
       "            progress {\n",
       "                /* gets rid of default border in Firefox and Opera. */\n",
       "                border: none;\n",
       "                /* Needs to be in here for Safari polyfill so background images work as expected. */\n",
       "                background-size: auto;\n",
       "            }\n",
       "            .progress-bar-interrupted, .progress-bar-interrupted::-webkit-progress-bar {\n",
       "                background: #F44336;\n",
       "            }\n",
       "        </style>\n",
       "      <progress value='12' class='' max='12', style='width:300px; height:20px; vertical-align: middle;'></progress>\n",
       "      100.00% [12/12 00:14<00:00]\n",
       "    </div>\n",
       "    "
      ],
      "text/plain": [
       "<IPython.core.display.HTML object>"
      ]
     },
     "metadata": {},
     "output_type": "display_data"
    },
    {
     "name": "stderr",
     "output_type": "stream",
     "text": [
      "INFO:root:eval_loss after step 560: 0.20840253805120787: \n",
      "INFO:root:eval_accuracy_multilabel after step 560: 0.5851063829787234: \n",
      "INFO:root:eval_accuracy_thresh after step 560: 0.9192629456520081: \n",
      "INFO:root:eval_roc_auc after step 560: 0.9322932241826156: \n",
      "INFO:root:eval_fbeta after step 560: 0.5527920722961426: \n",
      "INFO:root:lr after step 560: 5.728895986063555e-05\n",
      "INFO:root:train_loss after step 560: 0.2187669172883034\n",
      "INFO:root:Running evaluation\n",
      "INFO:root:  Num examples = 376\n",
      "INFO:root:  Batch size = 32\n"
     ]
    },
    {
     "data": {
      "text/html": [
       "\n",
       "    <div>\n",
       "        <style>\n",
       "            /* Turns off some styling */\n",
       "            progress {\n",
       "                /* gets rid of default border in Firefox and Opera. */\n",
       "                border: none;\n",
       "                /* Needs to be in here for Safari polyfill so background images work as expected. */\n",
       "                background-size: auto;\n",
       "            }\n",
       "            .progress-bar-interrupted, .progress-bar-interrupted::-webkit-progress-bar {\n",
       "                background: #F44336;\n",
       "            }\n",
       "        </style>\n",
       "      <progress value='12' class='' max='12', style='width:300px; height:20px; vertical-align: middle;'></progress>\n",
       "      100.00% [12/12 00:14<00:00]\n",
       "    </div>\n",
       "    "
      ],
      "text/plain": [
       "<IPython.core.display.HTML object>"
      ]
     },
     "metadata": {},
     "output_type": "display_data"
    },
    {
     "name": "stderr",
     "output_type": "stream",
     "text": [
      "INFO:root:eval_loss after epoch 6: 0.20608860378464064: \n",
      "INFO:root:eval_accuracy_multilabel after epoch 6: 0.5691489361702128: \n",
      "INFO:root:eval_accuracy_thresh after epoch 6: 0.9230623245239258: \n",
      "INFO:root:eval_roc_auc after epoch 6: 0.9375210264653111: \n",
      "INFO:root:eval_fbeta after epoch 6: 0.6121448278427124: \n",
      "INFO:root:Running evaluation\n",
      "INFO:root:  Num examples = 376\n",
      "INFO:root:  Batch size = 32\n"
     ]
    },
    {
     "data": {
      "text/html": [
       "\n",
       "    <div>\n",
       "        <style>\n",
       "            /* Turns off some styling */\n",
       "            progress {\n",
       "                /* gets rid of default border in Firefox and Opera. */\n",
       "                border: none;\n",
       "                /* Needs to be in here for Safari polyfill so background images work as expected. */\n",
       "                background-size: auto;\n",
       "            }\n",
       "            .progress-bar-interrupted, .progress-bar-interrupted::-webkit-progress-bar {\n",
       "                background: #F44336;\n",
       "            }\n",
       "        </style>\n",
       "      <progress value='12' class='' max='12', style='width:300px; height:20px; vertical-align: middle;'></progress>\n",
       "      100.00% [12/12 00:14<00:00]\n",
       "    </div>\n",
       "    "
      ],
      "text/plain": [
       "<IPython.core.display.HTML object>"
      ]
     },
     "metadata": {},
     "output_type": "display_data"
    },
    {
     "name": "stderr",
     "output_type": "stream",
     "text": [
      "INFO:root:eval_loss after step 580: 0.2018375446399053: \n",
      "INFO:root:eval_accuracy_multilabel after step 580: 0.5372340425531915: \n",
      "INFO:root:eval_accuracy_thresh after step 580: 0.9217325448989868: \n",
      "INFO:root:eval_roc_auc after step 580: 0.9355289635665869: \n",
      "INFO:root:eval_fbeta after step 580: 0.587344765663147: \n",
      "INFO:root:lr after step 580: 5.5237605984935435e-05\n",
      "INFO:root:train_loss after step 580: 0.2051673337817192\n",
      "INFO:root:Running evaluation\n",
      "INFO:root:  Num examples = 376\n",
      "INFO:root:  Batch size = 32\n"
     ]
    },
    {
     "data": {
      "text/html": [
       "\n",
       "    <div>\n",
       "        <style>\n",
       "            /* Turns off some styling */\n",
       "            progress {\n",
       "                /* gets rid of default border in Firefox and Opera. */\n",
       "                border: none;\n",
       "                /* Needs to be in here for Safari polyfill so background images work as expected. */\n",
       "                background-size: auto;\n",
       "            }\n",
       "            .progress-bar-interrupted, .progress-bar-interrupted::-webkit-progress-bar {\n",
       "                background: #F44336;\n",
       "            }\n",
       "        </style>\n",
       "      <progress value='12' class='' max='12', style='width:300px; height:20px; vertical-align: middle;'></progress>\n",
       "      100.00% [12/12 00:14<00:00]\n",
       "    </div>\n",
       "    "
      ],
      "text/plain": [
       "<IPython.core.display.HTML object>"
      ]
     },
     "metadata": {},
     "output_type": "display_data"
    },
    {
     "name": "stderr",
     "output_type": "stream",
     "text": [
      "INFO:root:eval_loss after step 600: 0.19405078887939453: \n",
      "INFO:root:eval_accuracy_multilabel after step 600: 0.5718085106382979: \n",
      "INFO:root:eval_accuracy_thresh after step 600: 0.9287614226341248: \n",
      "INFO:root:eval_roc_auc after step 600: 0.9415472051933812: \n",
      "INFO:root:eval_fbeta after step 600: 0.598660409450531: \n",
      "INFO:root:lr after step 600: 5.267248723062775e-05\n",
      "INFO:root:train_loss after step 600: 0.1794436551630497\n",
      "INFO:root:Running evaluation\n",
      "INFO:root:  Num examples = 376\n",
      "INFO:root:  Batch size = 32\n"
     ]
    },
    {
     "data": {
      "text/html": [
       "\n",
       "    <div>\n",
       "        <style>\n",
       "            /* Turns off some styling */\n",
       "            progress {\n",
       "                /* gets rid of default border in Firefox and Opera. */\n",
       "                border: none;\n",
       "                /* Needs to be in here for Safari polyfill so background images work as expected. */\n",
       "                background-size: auto;\n",
       "            }\n",
       "            .progress-bar-interrupted, .progress-bar-interrupted::-webkit-progress-bar {\n",
       "                background: #F44336;\n",
       "            }\n",
       "        </style>\n",
       "      <progress value='12' class='' max='12', style='width:300px; height:20px; vertical-align: middle;'></progress>\n",
       "      100.00% [12/12 00:14<00:00]\n",
       "    </div>\n",
       "    "
      ],
      "text/plain": [
       "<IPython.core.display.HTML object>"
      ]
     },
     "metadata": {},
     "output_type": "display_data"
    },
    {
     "name": "stderr",
     "output_type": "stream",
     "text": [
      "INFO:root:eval_loss after step 620: 0.18538517132401466: \n",
      "INFO:root:eval_accuracy_multilabel after step 620: 0.5398936170212766: \n",
      "INFO:root:eval_accuracy_thresh after step 620: 0.9302811622619629: \n",
      "INFO:root:eval_roc_auc after step 620: 0.9498168361244019: \n",
      "INFO:root:eval_fbeta after step 620: 0.6269500255584717: \n",
      "INFO:root:lr after step 620: 4.964582201835856e-05\n",
      "INFO:root:train_loss after step 620: 0.18093932867050172\n",
      "INFO:root:Running evaluation\n",
      "INFO:root:  Num examples = 376\n",
      "INFO:root:  Batch size = 32\n"
     ]
    },
    {
     "data": {
      "text/html": [
       "\n",
       "    <div>\n",
       "        <style>\n",
       "            /* Turns off some styling */\n",
       "            progress {\n",
       "                /* gets rid of default border in Firefox and Opera. */\n",
       "                border: none;\n",
       "                /* Needs to be in here for Safari polyfill so background images work as expected. */\n",
       "                background-size: auto;\n",
       "            }\n",
       "            .progress-bar-interrupted, .progress-bar-interrupted::-webkit-progress-bar {\n",
       "                background: #F44336;\n",
       "            }\n",
       "        </style>\n",
       "      <progress value='12' class='' max='12', style='width:300px; height:20px; vertical-align: middle;'></progress>\n",
       "      100.00% [12/12 00:14<00:00]\n",
       "    </div>\n",
       "    "
      ],
      "text/plain": [
       "<IPython.core.display.HTML object>"
      ]
     },
     "metadata": {},
     "output_type": "display_data"
    },
    {
     "name": "stderr",
     "output_type": "stream",
     "text": [
      "INFO:root:eval_loss after step 640: 0.1783585473895073: \n",
      "INFO:root:eval_accuracy_multilabel after step 640: 0.5718085106382979: \n",
      "INFO:root:eval_accuracy_thresh after step 640: 0.9340805411338806: \n",
      "INFO:root:eval_roc_auc after step 640: 0.9513484973086124: \n",
      "INFO:root:eval_fbeta after step 640: 0.6506778597831726: \n",
      "INFO:root:lr after step 640: 4.6219224523667933e-05\n",
      "INFO:root:train_loss after step 640: 0.17800946310162544\n",
      "INFO:root:Running evaluation\n",
      "INFO:root:  Num examples = 376\n",
      "INFO:root:  Batch size = 32\n"
     ]
    },
    {
     "data": {
      "text/html": [
       "\n",
       "    <div>\n",
       "        <style>\n",
       "            /* Turns off some styling */\n",
       "            progress {\n",
       "                /* gets rid of default border in Firefox and Opera. */\n",
       "                border: none;\n",
       "                /* Needs to be in here for Safari polyfill so background images work as expected. */\n",
       "                background-size: auto;\n",
       "            }\n",
       "            .progress-bar-interrupted, .progress-bar-interrupted::-webkit-progress-bar {\n",
       "                background: #F44336;\n",
       "            }\n",
       "        </style>\n",
       "      <progress value='12' class='' max='12', style='width:300px; height:20px; vertical-align: middle;'></progress>\n",
       "      100.00% [12/12 00:14<00:00]\n",
       "    </div>\n",
       "    "
      ],
      "text/plain": [
       "<IPython.core.display.HTML object>"
      ]
     },
     "metadata": {},
     "output_type": "display_data"
    },
    {
     "name": "stderr",
     "output_type": "stream",
     "text": [
      "INFO:root:eval_loss after epoch 7: 0.16877854615449905: \n",
      "INFO:root:eval_accuracy_multilabel after epoch 7: 0.598404255319149: \n",
      "INFO:root:eval_accuracy_thresh after epoch 7: 0.9403495788574219: \n",
      "INFO:root:eval_roc_auc after epoch 7: 0.9600439531000797: \n",
      "INFO:root:eval_fbeta after epoch 7: 0.6662832498550415: \n",
      "INFO:root:Running evaluation\n",
      "INFO:root:  Num examples = 376\n",
      "INFO:root:  Batch size = 32\n"
     ]
    },
    {
     "data": {
      "text/html": [
       "\n",
       "    <div>\n",
       "        <style>\n",
       "            /* Turns off some styling */\n",
       "            progress {\n",
       "                /* gets rid of default border in Firefox and Opera. */\n",
       "                border: none;\n",
       "                /* Needs to be in here for Safari polyfill so background images work as expected. */\n",
       "                background-size: auto;\n",
       "            }\n",
       "            .progress-bar-interrupted, .progress-bar-interrupted::-webkit-progress-bar {\n",
       "                background: #F44336;\n",
       "            }\n",
       "        </style>\n",
       "      <progress value='12' class='' max='12', style='width:300px; height:20px; vertical-align: middle;'></progress>\n",
       "      100.00% [12/12 00:14<00:00]\n",
       "    </div>\n",
       "    "
      ],
      "text/plain": [
       "<IPython.core.display.HTML object>"
      ]
     },
     "metadata": {},
     "output_type": "display_data"
    },
    {
     "name": "stderr",
     "output_type": "stream",
     "text": [
      "INFO:root:eval_loss after step 660: 0.16976625844836235: \n",
      "INFO:root:eval_accuracy_multilabel after step 660: 0.5824468085106383: \n",
      "INFO:root:eval_accuracy_thresh after step 660: 0.9399695992469788: \n",
      "INFO:root:eval_roc_auc after step 660: 0.9593910424142742: \n",
      "INFO:root:eval_fbeta after step 660: 0.6639363765716553: \n",
      "INFO:root:lr after step 660: 4.24624503900566e-05\n",
      "INFO:root:train_loss after step 660: 0.1677791118621826\n",
      "INFO:root:Running evaluation\n",
      "INFO:root:  Num examples = 376\n",
      "INFO:root:  Batch size = 32\n"
     ]
    },
    {
     "data": {
      "text/html": [
       "\n",
       "    <div>\n",
       "        <style>\n",
       "            /* Turns off some styling */\n",
       "            progress {\n",
       "                /* gets rid of default border in Firefox and Opera. */\n",
       "                border: none;\n",
       "                /* Needs to be in here for Safari polyfill so background images work as expected. */\n",
       "                background-size: auto;\n",
       "            }\n",
       "            .progress-bar-interrupted, .progress-bar-interrupted::-webkit-progress-bar {\n",
       "                background: #F44336;\n",
       "            }\n",
       "        </style>\n",
       "      <progress value='12' class='' max='12', style='width:300px; height:20px; vertical-align: middle;'></progress>\n",
       "      100.00% [12/12 00:14<00:00]\n",
       "    </div>\n",
       "    "
      ],
      "text/plain": [
       "<IPython.core.display.HTML object>"
      ]
     },
     "metadata": {},
     "output_type": "display_data"
    },
    {
     "name": "stderr",
     "output_type": "stream",
     "text": [
      "INFO:root:eval_loss after step 680: 0.16051511963208517: \n",
      "INFO:root:eval_accuracy_multilabel after step 680: 0.5824468085106383: \n",
      "INFO:root:eval_accuracy_thresh after step 680: 0.9443389177322388: \n",
      "INFO:root:eval_roc_auc after step 680: 0.9659098696670654: \n",
      "INFO:root:eval_fbeta after step 680: 0.6872113347053528: \n",
      "INFO:root:lr after step 680: 3.845197670524289e-05\n",
      "INFO:root:train_loss after step 680: 0.15294451154768468\n",
      "INFO:root:Running evaluation\n",
      "INFO:root:  Num examples = 376\n",
      "INFO:root:  Batch size = 32\n"
     ]
    },
    {
     "data": {
      "text/html": [
       "\n",
       "    <div>\n",
       "        <style>\n",
       "            /* Turns off some styling */\n",
       "            progress {\n",
       "                /* gets rid of default border in Firefox and Opera. */\n",
       "                border: none;\n",
       "                /* Needs to be in here for Safari polyfill so background images work as expected. */\n",
       "                background-size: auto;\n",
       "            }\n",
       "            .progress-bar-interrupted, .progress-bar-interrupted::-webkit-progress-bar {\n",
       "                background: #F44336;\n",
       "            }\n",
       "        </style>\n",
       "      <progress value='12' class='' max='12', style='width:300px; height:20px; vertical-align: middle;'></progress>\n",
       "      100.00% [12/12 00:14<00:00]\n",
       "    </div>\n",
       "    "
      ],
      "text/plain": [
       "<IPython.core.display.HTML object>"
      ]
     },
     "metadata": {},
     "output_type": "display_data"
    },
    {
     "name": "stderr",
     "output_type": "stream",
     "text": [
      "INFO:root:eval_loss after step 700: 0.15405994902054468: \n",
      "INFO:root:eval_accuracy_multilabel after step 700: 0.625: \n",
      "INFO:root:eval_accuracy_thresh after step 700: 0.9473784565925598: \n",
      "INFO:root:eval_roc_auc after step 700: 0.9700167277212918: \n",
      "INFO:root:eval_fbeta after step 700: 0.7006576061248779: \n",
      "INFO:root:lr after step 700: 3.426944514819856e-05\n",
      "INFO:root:train_loss after step 700: 0.14644106552004815\n",
      "INFO:root:Running evaluation\n",
      "INFO:root:  Num examples = 376\n",
      "INFO:root:  Batch size = 32\n"
     ]
    },
    {
     "data": {
      "text/html": [
       "\n",
       "    <div>\n",
       "        <style>\n",
       "            /* Turns off some styling */\n",
       "            progress {\n",
       "                /* gets rid of default border in Firefox and Opera. */\n",
       "                border: none;\n",
       "                /* Needs to be in here for Safari polyfill so background images work as expected. */\n",
       "                background-size: auto;\n",
       "            }\n",
       "            .progress-bar-interrupted, .progress-bar-interrupted::-webkit-progress-bar {\n",
       "                background: #F44336;\n",
       "            }\n",
       "        </style>\n",
       "      <progress value='12' class='' max='12', style='width:300px; height:20px; vertical-align: middle;'></progress>\n",
       "      100.00% [12/12 00:14<00:00]\n",
       "    </div>\n",
       "    "
      ],
      "text/plain": [
       "<IPython.core.display.HTML object>"
      ]
     },
     "metadata": {},
     "output_type": "display_data"
    },
    {
     "name": "stderr",
     "output_type": "stream",
     "text": [
      "INFO:root:eval_loss after step 720: 0.14486787716547647: \n",
      "INFO:root:eval_accuracy_multilabel after step 720: 0.6196808510638298: \n",
      "INFO:root:eval_accuracy_thresh after step 720: 0.9479483366012573: \n",
      "INFO:root:eval_roc_auc after step 720: 0.9735702003588516: \n",
      "INFO:root:eval_fbeta after step 720: 0.7091067433357239: \n",
      "INFO:root:lr after step 720: 3e-05\n",
      "INFO:root:train_loss after step 720: 0.14544934555888175\n",
      "INFO:root:Running evaluation\n",
      "INFO:root:  Num examples = 376\n",
      "INFO:root:  Batch size = 32\n"
     ]
    },
    {
     "data": {
      "text/html": [
       "\n",
       "    <div>\n",
       "        <style>\n",
       "            /* Turns off some styling */\n",
       "            progress {\n",
       "                /* gets rid of default border in Firefox and Opera. */\n",
       "                border: none;\n",
       "                /* Needs to be in here for Safari polyfill so background images work as expected. */\n",
       "                background-size: auto;\n",
       "            }\n",
       "            .progress-bar-interrupted, .progress-bar-interrupted::-webkit-progress-bar {\n",
       "                background: #F44336;\n",
       "            }\n",
       "        </style>\n",
       "      <progress value='12' class='' max='12', style='width:300px; height:20px; vertical-align: middle;'></progress>\n",
       "      100.00% [12/12 00:14<00:00]\n",
       "    </div>\n",
       "    "
      ],
      "text/plain": [
       "<IPython.core.display.HTML object>"
      ]
     },
     "metadata": {},
     "output_type": "display_data"
    },
    {
     "name": "stderr",
     "output_type": "stream",
     "text": [
      "INFO:root:eval_loss after step 740: 0.13898373395204544: \n",
      "INFO:root:eval_accuracy_multilabel after step 740: 0.6117021276595744: \n",
      "INFO:root:eval_accuracy_thresh after step 740: 0.9540273547172546: \n",
      "INFO:root:eval_roc_auc after step 740: 0.9776499576355662: \n",
      "INFO:root:eval_fbeta after step 740: 0.7233090996742249: \n",
      "INFO:root:lr after step 740: 2.573055485180145e-05\n",
      "INFO:root:train_loss after step 740: 0.14054662585258484\n",
      "INFO:root:Running evaluation\n",
      "INFO:root:  Num examples = 376\n",
      "INFO:root:  Batch size = 32\n"
     ]
    },
    {
     "data": {
      "text/html": [
       "\n",
       "    <div>\n",
       "        <style>\n",
       "            /* Turns off some styling */\n",
       "            progress {\n",
       "                /* gets rid of default border in Firefox and Opera. */\n",
       "                border: none;\n",
       "                /* Needs to be in here for Safari polyfill so background images work as expected. */\n",
       "                background-size: auto;\n",
       "            }\n",
       "            .progress-bar-interrupted, .progress-bar-interrupted::-webkit-progress-bar {\n",
       "                background: #F44336;\n",
       "            }\n",
       "        </style>\n",
       "      <progress value='12' class='' max='12', style='width:300px; height:20px; vertical-align: middle;'></progress>\n",
       "      100.00% [12/12 00:14<00:00]\n",
       "    </div>\n",
       "    "
      ],
      "text/plain": [
       "<IPython.core.display.HTML object>"
      ]
     },
     "metadata": {},
     "output_type": "display_data"
    },
    {
     "name": "stderr",
     "output_type": "stream",
     "text": [
      "INFO:root:eval_loss after epoch 8: 0.13368158787488937: \n",
      "INFO:root:eval_accuracy_multilabel after epoch 8: 0.601063829787234: \n",
      "INFO:root:eval_accuracy_thresh after epoch 8: 0.9545972943305969: \n",
      "INFO:root:eval_roc_auc after epoch 8: 0.9791372296152312: \n",
      "INFO:root:eval_fbeta after epoch 8: 0.728154182434082: \n",
      "INFO:root:Running evaluation\n",
      "INFO:root:  Num examples = 376\n",
      "INFO:root:  Batch size = 32\n"
     ]
    },
    {
     "data": {
      "text/html": [
       "\n",
       "    <div>\n",
       "        <style>\n",
       "            /* Turns off some styling */\n",
       "            progress {\n",
       "                /* gets rid of default border in Firefox and Opera. */\n",
       "                border: none;\n",
       "                /* Needs to be in here for Safari polyfill so background images work as expected. */\n",
       "                background-size: auto;\n",
       "            }\n",
       "            .progress-bar-interrupted, .progress-bar-interrupted::-webkit-progress-bar {\n",
       "                background: #F44336;\n",
       "            }\n",
       "        </style>\n",
       "      <progress value='12' class='' max='12', style='width:300px; height:20px; vertical-align: middle;'></progress>\n",
       "      100.00% [12/12 00:14<00:00]\n",
       "    </div>\n",
       "    "
      ],
      "text/plain": [
       "<IPython.core.display.HTML object>"
      ]
     },
     "metadata": {},
     "output_type": "display_data"
    },
    {
     "name": "stderr",
     "output_type": "stream",
     "text": [
      "INFO:root:eval_loss after step 760: 0.1310586972783009: \n",
      "INFO:root:eval_accuracy_multilabel after step 760: 0.6170212765957447: \n",
      "INFO:root:eval_accuracy_thresh after step 760: 0.9566869139671326: \n",
      "INFO:root:eval_roc_auc after step 760: 0.980832118470893: \n",
      "INFO:root:eval_fbeta after step 760: 0.7279695272445679: \n",
      "INFO:root:lr after step 760: 2.154802329475711e-05\n",
      "INFO:root:train_loss after step 760: 0.12491403259336949\n",
      "INFO:root:Running evaluation\n",
      "INFO:root:  Num examples = 376\n",
      "INFO:root:  Batch size = 32\n"
     ]
    },
    {
     "data": {
      "text/html": [
       "\n",
       "    <div>\n",
       "        <style>\n",
       "            /* Turns off some styling */\n",
       "            progress {\n",
       "                /* gets rid of default border in Firefox and Opera. */\n",
       "                border: none;\n",
       "                /* Needs to be in here for Safari polyfill so background images work as expected. */\n",
       "                background-size: auto;\n",
       "            }\n",
       "            .progress-bar-interrupted, .progress-bar-interrupted::-webkit-progress-bar {\n",
       "                background: #F44336;\n",
       "            }\n",
       "        </style>\n",
       "      <progress value='12' class='' max='12', style='width:300px; height:20px; vertical-align: middle;'></progress>\n",
       "      100.00% [12/12 00:14<00:00]\n",
       "    </div>\n",
       "    "
      ],
      "text/plain": [
       "<IPython.core.display.HTML object>"
      ]
     },
     "metadata": {},
     "output_type": "display_data"
    },
    {
     "name": "stderr",
     "output_type": "stream",
     "text": [
      "INFO:root:eval_loss after step 780: 0.12864878649512926: \n",
      "INFO:root:eval_accuracy_multilabel after step 780: 0.6170212765957447: \n",
      "INFO:root:eval_accuracy_thresh after step 780: 0.9582067131996155: \n",
      "INFO:root:eval_roc_auc after step 780: 0.981233334579346: \n",
      "INFO:root:eval_fbeta after step 780: 0.7360183596611023: \n",
      "INFO:root:lr after step 780: 1.753754960994341e-05\n",
      "INFO:root:train_loss after step 780: 0.11912533976137638\n",
      "INFO:root:Running evaluation\n",
      "INFO:root:  Num examples = 376\n",
      "INFO:root:  Batch size = 32\n"
     ]
    },
    {
     "data": {
      "text/html": [
       "\n",
       "    <div>\n",
       "        <style>\n",
       "            /* Turns off some styling */\n",
       "            progress {\n",
       "                /* gets rid of default border in Firefox and Opera. */\n",
       "                border: none;\n",
       "                /* Needs to be in here for Safari polyfill so background images work as expected. */\n",
       "                background-size: auto;\n",
       "            }\n",
       "            .progress-bar-interrupted, .progress-bar-interrupted::-webkit-progress-bar {\n",
       "                background: #F44336;\n",
       "            }\n",
       "        </style>\n",
       "      <progress value='12' class='' max='12', style='width:300px; height:20px; vertical-align: middle;'></progress>\n",
       "      100.00% [12/12 00:14<00:00]\n",
       "    </div>\n",
       "    "
      ],
      "text/plain": [
       "<IPython.core.display.HTML object>"
      ]
     },
     "metadata": {},
     "output_type": "display_data"
    },
    {
     "name": "stderr",
     "output_type": "stream",
     "text": [
      "INFO:root:eval_loss after step 820: 0.12006076487402122: \n",
      "INFO:root:eval_accuracy_multilabel after step 820: 0.625: \n",
      "INFO:root:eval_accuracy_thresh after step 820: 0.9621960520744324: \n",
      "INFO:root:eval_roc_auc after step 820: 0.9842158218700159: \n",
      "INFO:root:eval_fbeta after step 820: 0.7492263317108154: \n",
      "INFO:root:lr after step 820: 1.035417798164145e-05\n",
      "INFO:root:train_loss after step 820: 0.11239382810890675\n",
      "INFO:root:Running evaluation\n",
      "INFO:root:  Num examples = 376\n",
      "INFO:root:  Batch size = 32\n"
     ]
    },
    {
     "data": {
      "text/html": [
       "\n",
       "    <div>\n",
       "        <style>\n",
       "            /* Turns off some styling */\n",
       "            progress {\n",
       "                /* gets rid of default border in Firefox and Opera. */\n",
       "                border: none;\n",
       "                /* Needs to be in here for Safari polyfill so background images work as expected. */\n",
       "                background-size: auto;\n",
       "            }\n",
       "            .progress-bar-interrupted, .progress-bar-interrupted::-webkit-progress-bar {\n",
       "                background: #F44336;\n",
       "            }\n",
       "        </style>\n",
       "      <progress value='12' class='' max='12', style='width:300px; height:20px; vertical-align: middle;'></progress>\n",
       "      100.00% [12/12 00:14<00:00]\n",
       "    </div>\n",
       "    "
      ],
      "text/plain": [
       "<IPython.core.display.HTML object>"
      ]
     },
     "metadata": {},
     "output_type": "display_data"
    },
    {
     "name": "stderr",
     "output_type": "stream",
     "text": [
      "INFO:root:eval_loss after step 840: 0.11673032057782014: \n",
      "INFO:root:eval_accuracy_multilabel after step 840: 0.6223404255319149: \n",
      "INFO:root:eval_accuracy_thresh after step 840: 0.9637157917022705: \n",
      "INFO:root:eval_roc_auc after step 840: 0.9852797610147528: \n",
      "INFO:root:eval_fbeta after step 840: 0.7502970099449158: \n",
      "INFO:root:lr after step 840: 7.3275127693722555e-06\n",
      "INFO:root:train_loss after step 840: 0.11365534737706184\n",
      "INFO:root:Running evaluation\n",
      "INFO:root:  Num examples = 376\n",
      "INFO:root:  Batch size = 32\n"
     ]
    },
    {
     "data": {
      "text/html": [
       "\n",
       "    <div>\n",
       "        <style>\n",
       "            /* Turns off some styling */\n",
       "            progress {\n",
       "                /* gets rid of default border in Firefox and Opera. */\n",
       "                border: none;\n",
       "                /* Needs to be in here for Safari polyfill so background images work as expected. */\n",
       "                background-size: auto;\n",
       "            }\n",
       "            .progress-bar-interrupted, .progress-bar-interrupted::-webkit-progress-bar {\n",
       "                background: #F44336;\n",
       "            }\n",
       "        </style>\n",
       "      <progress value='12' class='' max='12', style='width:300px; height:20px; vertical-align: middle;'></progress>\n",
       "      100.00% [12/12 00:14<00:00]\n",
       "    </div>\n",
       "    "
      ],
      "text/plain": [
       "<IPython.core.display.HTML object>"
      ]
     },
     "metadata": {},
     "output_type": "display_data"
    },
    {
     "name": "stderr",
     "output_type": "stream",
     "text": [
      "INFO:root:eval_loss after epoch 9: 0.11660859609643619: \n",
      "INFO:root:eval_accuracy_multilabel after epoch 9: 0.6276595744680851: \n",
      "INFO:root:eval_accuracy_thresh after epoch 9: 0.9646656513214111: \n",
      "INFO:root:eval_roc_auc after epoch 9: 0.9859118009868421: \n",
      "INFO:root:eval_fbeta after epoch 9: 0.7564111948013306: \n",
      "INFO:root:Running evaluation\n",
      "INFO:root:  Num examples = 376\n",
      "INFO:root:  Batch size = 32\n"
     ]
    },
    {
     "data": {
      "text/html": [
       "\n",
       "    <div>\n",
       "        <style>\n",
       "            /* Turns off some styling */\n",
       "            progress {\n",
       "                /* gets rid of default border in Firefox and Opera. */\n",
       "                border: none;\n",
       "                /* Needs to be in here for Safari polyfill so background images work as expected. */\n",
       "                background-size: auto;\n",
       "            }\n",
       "            .progress-bar-interrupted, .progress-bar-interrupted::-webkit-progress-bar {\n",
       "                background: #F44336;\n",
       "            }\n",
       "        </style>\n",
       "      <progress value='12' class='' max='12', style='width:300px; height:20px; vertical-align: middle;'></progress>\n",
       "      100.00% [12/12 00:14<00:00]\n",
       "    </div>\n",
       "    "
      ],
      "text/plain": [
       "<IPython.core.display.HTML object>"
      ]
     },
     "metadata": {},
     "output_type": "display_data"
    },
    {
     "name": "stderr",
     "output_type": "stream",
     "text": [
      "INFO:root:eval_loss after step 860: 0.11517772637307644: \n",
      "INFO:root:eval_accuracy_multilabel after step 860: 0.6303191489361702: \n",
      "INFO:root:eval_accuracy_thresh after step 860: 0.9652355909347534: \n",
      "INFO:root:eval_roc_auc after step 860: 0.9865050588118023: \n",
      "INFO:root:eval_fbeta after step 860: 0.7565292119979858: \n",
      "INFO:root:lr after step 860: 4.76239401506456e-06\n",
      "INFO:root:train_loss after step 860: 0.10962763614952564\n",
      "INFO:root:Running evaluation\n",
      "INFO:root:  Num examples = 376\n",
      "INFO:root:  Batch size = 32\n"
     ]
    },
    {
     "data": {
      "text/html": [
       "\n",
       "    <div>\n",
       "        <style>\n",
       "            /* Turns off some styling */\n",
       "            progress {\n",
       "                /* gets rid of default border in Firefox and Opera. */\n",
       "                border: none;\n",
       "                /* Needs to be in here for Safari polyfill so background images work as expected. */\n",
       "                background-size: auto;\n",
       "            }\n",
       "            .progress-bar-interrupted, .progress-bar-interrupted::-webkit-progress-bar {\n",
       "                background: #F44336;\n",
       "            }\n",
       "        </style>\n",
       "      <progress value='12' class='' max='12', style='width:300px; height:20px; vertical-align: middle;'></progress>\n",
       "      100.00% [12/12 00:14<00:00]\n",
       "    </div>\n",
       "    "
      ],
      "text/plain": [
       "<IPython.core.display.HTML object>"
      ]
     },
     "metadata": {},
     "output_type": "display_data"
    },
    {
     "name": "stderr",
     "output_type": "stream",
     "text": [
      "INFO:root:eval_loss after step 880: 0.11390307048956554: \n",
      "INFO:root:eval_accuracy_multilabel after step 880: 0.6276595744680851: \n",
      "INFO:root:eval_accuracy_thresh after step 880: 0.9659954309463501: \n",
      "INFO:root:eval_roc_auc after step 880: 0.9870424018141946: \n",
      "INFO:root:eval_fbeta after step 880: 0.7563086748123169: \n",
      "INFO:root:lr after step 880: 2.711040139364447e-06\n",
      "INFO:root:train_loss after step 880: 0.10665244571864604\n",
      "INFO:root:Running evaluation\n",
      "INFO:root:  Num examples = 376\n",
      "INFO:root:  Batch size = 32\n"
     ]
    },
    {
     "data": {
      "text/html": [
       "\n",
       "    <div>\n",
       "        <style>\n",
       "            /* Turns off some styling */\n",
       "            progress {\n",
       "                /* gets rid of default border in Firefox and Opera. */\n",
       "                border: none;\n",
       "                /* Needs to be in here for Safari polyfill so background images work as expected. */\n",
       "                background-size: auto;\n",
       "            }\n",
       "            .progress-bar-interrupted, .progress-bar-interrupted::-webkit-progress-bar {\n",
       "                background: #F44336;\n",
       "            }\n",
       "        </style>\n",
       "      <progress value='12' class='' max='12', style='width:300px; height:20px; vertical-align: middle;'></progress>\n",
       "      100.00% [12/12 00:14<00:00]\n",
       "    </div>\n",
       "    "
      ],
      "text/plain": [
       "<IPython.core.display.HTML object>"
      ]
     },
     "metadata": {},
     "output_type": "display_data"
    },
    {
     "name": "stderr",
     "output_type": "stream",
     "text": [
      "INFO:root:eval_loss after step 900: 0.11328119970858097: \n",
      "INFO:root:eval_accuracy_multilabel after step 900: 0.625: \n",
      "INFO:root:eval_accuracy_thresh after step 900: 0.9665653705596924: \n",
      "INFO:root:eval_roc_auc after step 900: 0.9871237041467305: \n",
      "INFO:root:eval_fbeta after step 900: 0.7603403925895691: \n",
      "INFO:root:lr after step 900: 1.2152107915650823e-06\n",
      "INFO:root:train_loss after step 900: 0.10137793645262719\n",
      "INFO:root:Running evaluation\n",
      "INFO:root:  Num examples = 376\n",
      "INFO:root:  Batch size = 32\n"
     ]
    },
    {
     "data": {
      "text/html": [
       "\n",
       "    <div>\n",
       "        <style>\n",
       "            /* Turns off some styling */\n",
       "            progress {\n",
       "                /* gets rid of default border in Firefox and Opera. */\n",
       "                border: none;\n",
       "                /* Needs to be in here for Safari polyfill so background images work as expected. */\n",
       "                background-size: auto;\n",
       "            }\n",
       "            .progress-bar-interrupted, .progress-bar-interrupted::-webkit-progress-bar {\n",
       "                background: #F44336;\n",
       "            }\n",
       "        </style>\n",
       "      <progress value='12' class='' max='12', style='width:300px; height:20px; vertical-align: middle;'></progress>\n",
       "      100.00% [12/12 00:14<00:00]\n",
       "    </div>\n",
       "    "
      ],
      "text/plain": [
       "<IPython.core.display.HTML object>"
      ]
     },
     "metadata": {},
     "output_type": "display_data"
    },
    {
     "name": "stderr",
     "output_type": "stream",
     "text": [
      "INFO:root:eval_loss after step 920: 0.11315881895522277: \n",
      "INFO:root:eval_accuracy_multilabel after step 920: 0.6329787234042553: \n",
      "INFO:root:eval_accuracy_thresh after step 920: 0.9663754105567932: \n",
      "INFO:root:eval_roc_auc after step 920: 0.9872201143839713: \n",
      "INFO:root:eval_fbeta after step 920: 0.7591171264648438: \n",
      "INFO:root:lr after step 920: 3.053567435720195e-07\n",
      "INFO:root:train_loss after step 920: 0.10774710439145566\n",
      "INFO:root:Running evaluation\n",
      "INFO:root:  Num examples = 376\n",
      "INFO:root:  Batch size = 32\n"
     ]
    },
    {
     "data": {
      "text/html": [
       "\n",
       "    <div>\n",
       "        <style>\n",
       "            /* Turns off some styling */\n",
       "            progress {\n",
       "                /* gets rid of default border in Firefox and Opera. */\n",
       "                border: none;\n",
       "                /* Needs to be in here for Safari polyfill so background images work as expected. */\n",
       "                background-size: auto;\n",
       "            }\n",
       "            .progress-bar-interrupted, .progress-bar-interrupted::-webkit-progress-bar {\n",
       "                background: #F44336;\n",
       "            }\n",
       "        </style>\n",
       "      <progress value='12' class='' max='12', style='width:300px; height:20px; vertical-align: middle;'></progress>\n",
       "      100.00% [12/12 00:14<00:00]\n",
       "    </div>\n",
       "    "
      ],
      "text/plain": [
       "<IPython.core.display.HTML object>"
      ]
     },
     "metadata": {},
     "output_type": "display_data"
    },
    {
     "name": "stderr",
     "output_type": "stream",
     "text": [
      "INFO:root:eval_loss after step 940: 0.11314999560515086: \n",
      "INFO:root:eval_accuracy_multilabel after step 940: 0.6329787234042553: \n",
      "INFO:root:eval_accuracy_thresh after step 940: 0.9663754105567932: \n",
      "INFO:root:eval_roc_auc after step 940: 0.9872453461423445: \n",
      "INFO:root:eval_fbeta after step 940: 0.7584326267242432: \n",
      "INFO:root:lr after step 940: 0.0\n",
      "INFO:root:train_loss after step 940: 0.10382835976779461\n",
      "INFO:root:Running evaluation\n",
      "INFO:root:  Num examples = 376\n",
      "INFO:root:  Batch size = 32\n"
     ]
    },
    {
     "data": {
      "text/html": [
       "\n",
       "    <div>\n",
       "        <style>\n",
       "            /* Turns off some styling */\n",
       "            progress {\n",
       "                /* gets rid of default border in Firefox and Opera. */\n",
       "                border: none;\n",
       "                /* Needs to be in here for Safari polyfill so background images work as expected. */\n",
       "                background-size: auto;\n",
       "            }\n",
       "            .progress-bar-interrupted, .progress-bar-interrupted::-webkit-progress-bar {\n",
       "                background: #F44336;\n",
       "            }\n",
       "        </style>\n",
       "      <progress value='12' class='' max='12', style='width:300px; height:20px; vertical-align: middle;'></progress>\n",
       "      100.00% [12/12 00:14<00:00]\n",
       "    </div>\n",
       "    "
      ],
      "text/plain": [
       "<IPython.core.display.HTML object>"
      ]
     },
     "metadata": {},
     "output_type": "display_data"
    },
    {
     "name": "stderr",
     "output_type": "stream",
     "text": [
      "INFO:root:eval_loss after epoch 10: 0.11314999560515086: \n",
      "INFO:root:eval_accuracy_multilabel after epoch 10: 0.6329787234042553: \n",
      "INFO:root:eval_accuracy_thresh after epoch 10: 0.9663754105567932: \n",
      "INFO:root:eval_roc_auc after epoch 10: 0.9872453461423445: \n",
      "INFO:root:eval_fbeta after epoch 10: 0.7584326267242432: \n",
      "DEBUG:urllib3.connectionpool:Starting new HTTPS connection (1): s3.amazonaws.com:443\n",
      "DEBUG:urllib3.connectionpool:https://s3.amazonaws.com:443 \"HEAD /models.huggingface.co/bert/bert-base-uncased-vocab.txt HTTP/1.1\" 200 0\n",
      "INFO:pytorch_transformers.tokenization_utils:loading file https://s3.amazonaws.com/models.huggingface.co/bert/bert-base-uncased-vocab.txt from cache at /home/aa5118/.cache/torch/pytorch_transformers/26bc1ad6c0ac742e9b52263248f6d0f00068293b33709fae12320c0e35ccfbbb.542ce4285a40d23a559526243235df47c5f75c197f04f37d1a0c124c32c9a084\n",
      "INFO:root:Writing example 0 of 3001\n",
      "INFO:root:Saving features into cached file data/phenotype_classification/transformer/original_2x/cache/cached_train_multi_label_512\n",
      "INFO:root:Writing example 0 of 376\n",
      "INFO:root:Saving features into cached file data/phenotype_classification/transformer/original_2x/cache/cached_dev_multi_label_512\n",
      "DEBUG:urllib3.connectionpool:Starting new HTTPS connection (1): s3.amazonaws.com:443\n",
      "DEBUG:urllib3.connectionpool:https://s3.amazonaws.com:443 \"HEAD /models.huggingface.co/bert/bert-base-uncased-config.json HTTP/1.1\" 200 0\n",
      "INFO:pytorch_transformers.modeling_utils:loading configuration file https://s3.amazonaws.com/models.huggingface.co/bert/bert-base-uncased-config.json from cache at /home/aa5118/.cache/torch/pytorch_transformers/4dad0251492946e18ac39290fcfe91b89d370fee250efe9521476438fe8ca185.bf3b9ea126d8c0001ee8a1e8b92229871d06d36d8808208cc2449280da87785c\n",
      "INFO:pytorch_transformers.modeling_utils:Model config {\n",
      "  \"attention_probs_dropout_prob\": 0.1,\n",
      "  \"finetuning_task\": null,\n",
      "  \"hidden_act\": \"gelu\",\n",
      "  \"hidden_dropout_prob\": 0.1,\n",
      "  \"hidden_size\": 768,\n",
      "  \"initializer_range\": 0.02,\n",
      "  \"intermediate_size\": 3072,\n",
      "  \"layer_norm_eps\": 1e-12,\n",
      "  \"max_position_embeddings\": 512,\n",
      "  \"num_attention_heads\": 12,\n",
      "  \"num_hidden_layers\": 12,\n",
      "  \"num_labels\": 14,\n",
      "  \"output_attentions\": false,\n",
      "  \"output_hidden_states\": false,\n",
      "  \"torchscript\": false,\n",
      "  \"type_vocab_size\": 2,\n",
      "  \"vocab_size\": 30522\n",
      "}\n",
      "\n",
      "DEBUG:urllib3.connectionpool:Starting new HTTPS connection (1): s3.amazonaws.com:443\n",
      "DEBUG:urllib3.connectionpool:https://s3.amazonaws.com:443 \"HEAD /models.huggingface.co/bert/bert-base-uncased-pytorch_model.bin HTTP/1.1\" 200 0\n",
      "INFO:pytorch_transformers.modeling_utils:loading weights file https://s3.amazonaws.com/models.huggingface.co/bert/bert-base-uncased-pytorch_model.bin from cache at /home/aa5118/.cache/torch/pytorch_transformers/aa1ef1aede4482d0dbcd4d52baad8ae300e60902e88fcb0bebdec09afd232066.36ca03ab34a1a5d5fa7bc3d03d55c4fa650fed07220e2eeebc06ce58d0e9a157\n",
      "INFO:pytorch_transformers.modeling_utils:Weights of BertForMultiLabelSequenceClassification not initialized from pretrained model: ['classifier.weight', 'classifier.bias']\n",
      "INFO:pytorch_transformers.modeling_utils:Weights from pretrained model not used in BertForMultiLabelSequenceClassification: ['cls.predictions.bias', 'cls.predictions.transform.dense.weight', 'cls.predictions.transform.dense.bias', 'cls.predictions.decoder.weight', 'cls.seq_relationship.weight', 'cls.seq_relationship.bias', 'cls.predictions.transform.LayerNorm.weight', 'cls.predictions.transform.LayerNorm.bias']\n",
      "INFO:root:***** Running training *****\n",
      "INFO:root:  Num examples = 3001\n",
      "INFO:root:  Num Epochs = 10\n",
      "INFO:root:  Total train batch size (w. parallel, distributed & accumulation) = 32\n",
      "INFO:root:  Gradient Accumulation steps = 1\n",
      "INFO:root:  Total optimization steps = 940\n"
     ]
    },
    {
     "name": "stdout",
     "output_type": "stream",
     "text": [
      "data/phenotype_classification/transformer/original_2x/output/bert/tensorboard\n",
      "Selected optimization level O1:  Insert automatic casts around Pytorch functions and Tensor methods.\n",
      "\n",
      "Defaults for this optimization level are:\n",
      "enabled                : True\n",
      "opt_level              : O1\n",
      "cast_model_type        : None\n",
      "patch_torch_functions  : True\n",
      "keep_batchnorm_fp32    : None\n",
      "master_weights         : None\n",
      "loss_scale             : dynamic\n",
      "Processing user overrides (additional kwargs that are not None)...\n",
      "After processing overrides, optimization options are:\n",
      "enabled                : True\n",
      "opt_level              : O1\n",
      "cast_model_type        : None\n",
      "patch_torch_functions  : True\n",
      "keep_batchnorm_fp32    : None\n",
      "master_weights         : None\n",
      "loss_scale             : dynamic\n"
     ]
    },
    {
     "data": {
      "text/html": [],
      "text/plain": [
       "<IPython.core.display.HTML object>"
      ]
     },
     "metadata": {},
     "output_type": "display_data"
    },
    {
     "name": "stderr",
     "output_type": "stream",
     "text": [
      "INFO:root:Running evaluation\n",
      "INFO:root:  Num examples = 376\n",
      "INFO:root:  Batch size = 32\n"
     ]
    },
    {
     "data": {
      "text/html": [
       "\n",
       "    <div>\n",
       "        <style>\n",
       "            /* Turns off some styling */\n",
       "            progress {\n",
       "                /* gets rid of default border in Firefox and Opera. */\n",
       "                border: none;\n",
       "                /* Needs to be in here for Safari polyfill so background images work as expected. */\n",
       "                background-size: auto;\n",
       "            }\n",
       "            .progress-bar-interrupted, .progress-bar-interrupted::-webkit-progress-bar {\n",
       "                background: #F44336;\n",
       "            }\n",
       "        </style>\n",
       "      <progress value='12' class='' max='12', style='width:300px; height:20px; vertical-align: middle;'></progress>\n",
       "      100.00% [12/12 00:14<00:00]\n",
       "    </div>\n",
       "    "
      ],
      "text/plain": [
       "<IPython.core.display.HTML object>"
      ]
     },
     "metadata": {},
     "output_type": "display_data"
    },
    {
     "name": "stderr",
     "output_type": "stream",
     "text": [
      "INFO:root:eval_loss after step 20: 0.6382280538479487: \n",
      "INFO:root:eval_accuracy_multilabel after step 20: 0.0398936170212766: \n",
      "INFO:root:eval_accuracy_thresh after step 20: 0.6451367735862732: \n",
      "INFO:root:eval_roc_auc after step 20: 0.5223978581040669: \n",
      "INFO:root:eval_fbeta after step 20: 0.38101062178611755: \n",
      "INFO:root:lr after step 20: 2.4000000000000003e-06\n",
      "INFO:root:train_loss after step 20: 0.6651126950979233\n",
      "INFO:root:Running evaluation\n",
      "INFO:root:  Num examples = 376\n",
      "INFO:root:  Batch size = 32\n"
     ]
    },
    {
     "data": {
      "text/html": [
       "\n",
       "    <div>\n",
       "        <style>\n",
       "            /* Turns off some styling */\n",
       "            progress {\n",
       "                /* gets rid of default border in Firefox and Opera. */\n",
       "                border: none;\n",
       "                /* Needs to be in here for Safari polyfill so background images work as expected. */\n",
       "                background-size: auto;\n",
       "            }\n",
       "            .progress-bar-interrupted, .progress-bar-interrupted::-webkit-progress-bar {\n",
       "                background: #F44336;\n",
       "            }\n",
       "        </style>\n",
       "      <progress value='12' class='' max='12', style='width:300px; height:20px; vertical-align: middle;'></progress>\n",
       "      100.00% [12/12 00:14<00:00]\n",
       "    </div>\n",
       "    "
      ],
      "text/plain": [
       "<IPython.core.display.HTML object>"
      ]
     },
     "metadata": {},
     "output_type": "display_data"
    },
    {
     "name": "stderr",
     "output_type": "stream",
     "text": [
      "INFO:root:eval_loss after step 40: 0.558442085981369: \n",
      "INFO:root:eval_accuracy_multilabel after step 40: 0.0851063829787234: \n",
      "INFO:root:eval_accuracy_thresh after step 40: 0.8444148898124695: \n",
      "INFO:root:eval_roc_auc after step 40: 0.5980942234848485: \n",
      "INFO:root:eval_fbeta after step 40: 0.37516698241233826: \n",
      "INFO:root:lr after step 40: 4.800000000000001e-06\n",
      "INFO:root:train_loss after step 40: 0.6039296388626099\n",
      "INFO:root:Running evaluation\n",
      "INFO:root:  Num examples = 376\n",
      "INFO:root:  Batch size = 32\n"
     ]
    },
    {
     "data": {
      "text/html": [
       "\n",
       "    <div>\n",
       "        <style>\n",
       "            /* Turns off some styling */\n",
       "            progress {\n",
       "                /* gets rid of default border in Firefox and Opera. */\n",
       "                border: none;\n",
       "                /* Needs to be in here for Safari polyfill so background images work as expected. */\n",
       "                background-size: auto;\n",
       "            }\n",
       "            .progress-bar-interrupted, .progress-bar-interrupted::-webkit-progress-bar {\n",
       "                background: #F44336;\n",
       "            }\n",
       "        </style>\n",
       "      <progress value='12' class='' max='12', style='width:300px; height:20px; vertical-align: middle;'></progress>\n",
       "      100.00% [12/12 00:14<00:00]\n",
       "    </div>\n",
       "    "
      ],
      "text/plain": [
       "<IPython.core.display.HTML object>"
      ]
     },
     "metadata": {},
     "output_type": "display_data"
    },
    {
     "name": "stderr",
     "output_type": "stream",
     "text": [
      "INFO:root:eval_loss after step 60: 0.49541763961315155: \n",
      "INFO:root:eval_accuracy_multilabel after step 60: 0.08776595744680851: \n",
      "INFO:root:eval_accuracy_thresh after step 60: 0.8656914830207825: \n",
      "INFO:root:eval_roc_auc after step 60: 0.6079531436901915: \n",
      "INFO:root:eval_fbeta after step 60: 0.3738793730735779: \n",
      "INFO:root:lr after step 60: 7.2e-06\n",
      "INFO:root:train_loss after step 60: 0.5332295387983322\n",
      "INFO:root:Running evaluation\n",
      "INFO:root:  Num examples = 376\n",
      "INFO:root:  Batch size = 32\n"
     ]
    },
    {
     "data": {
      "text/html": [
       "\n",
       "    <div>\n",
       "        <style>\n",
       "            /* Turns off some styling */\n",
       "            progress {\n",
       "                /* gets rid of default border in Firefox and Opera. */\n",
       "                border: none;\n",
       "                /* Needs to be in here for Safari polyfill so background images work as expected. */\n",
       "                background-size: auto;\n",
       "            }\n",
       "            .progress-bar-interrupted, .progress-bar-interrupted::-webkit-progress-bar {\n",
       "                background: #F44336;\n",
       "            }\n",
       "        </style>\n",
       "      <progress value='12' class='' max='12', style='width:300px; height:20px; vertical-align: middle;'></progress>\n",
       "      100.00% [12/12 00:14<00:00]\n",
       "    </div>\n",
       "    "
      ],
      "text/plain": [
       "<IPython.core.display.HTML object>"
      ]
     },
     "metadata": {},
     "output_type": "display_data"
    },
    {
     "name": "stderr",
     "output_type": "stream",
     "text": [
      "INFO:root:eval_loss after step 80: 0.4502706900238991: \n",
      "INFO:root:eval_accuracy_multilabel after step 80: 0.08776595744680851: \n",
      "INFO:root:eval_accuracy_thresh after step 80: 0.8643617033958435: \n",
      "INFO:root:eval_roc_auc after step 80: 0.6313510827850877: \n",
      "INFO:root:eval_fbeta after step 80: 0.3434670567512512: \n",
      "INFO:root:lr after step 80: 9.600000000000001e-06\n",
      "INFO:root:train_loss after step 80: 0.4756103068590164\n",
      "INFO:root:Running evaluation\n",
      "INFO:root:  Num examples = 376\n",
      "INFO:root:  Batch size = 32\n"
     ]
    },
    {
     "data": {
      "text/html": [
       "\n",
       "    <div>\n",
       "        <style>\n",
       "            /* Turns off some styling */\n",
       "            progress {\n",
       "                /* gets rid of default border in Firefox and Opera. */\n",
       "                border: none;\n",
       "                /* Needs to be in here for Safari polyfill so background images work as expected. */\n",
       "                background-size: auto;\n",
       "            }\n",
       "            .progress-bar-interrupted, .progress-bar-interrupted::-webkit-progress-bar {\n",
       "                background: #F44336;\n",
       "            }\n",
       "        </style>\n",
       "      <progress value='12' class='' max='12', style='width:300px; height:20px; vertical-align: middle;'></progress>\n",
       "      100.00% [12/12 00:14<00:00]\n",
       "    </div>\n",
       "    "
      ],
      "text/plain": [
       "<IPython.core.display.HTML object>"
      ]
     },
     "metadata": {},
     "output_type": "display_data"
    },
    {
     "name": "stderr",
     "output_type": "stream",
     "text": [
      "INFO:root:eval_loss after epoch 1: 0.42403187851111096: \n",
      "INFO:root:eval_accuracy_multilabel after epoch 1: 0.08776595744680851: \n",
      "INFO:root:eval_accuracy_thresh after epoch 1: 0.8662614226341248: \n",
      "INFO:root:eval_roc_auc after epoch 1: 0.6321623928429028: \n",
      "INFO:root:eval_fbeta after epoch 1: 0.26637011766433716: \n",
      "INFO:root:Running evaluation\n",
      "INFO:root:  Num examples = 376\n",
      "INFO:root:  Batch size = 32\n"
     ]
    },
    {
     "data": {
      "text/html": [
       "\n",
       "    <div>\n",
       "        <style>\n",
       "            /* Turns off some styling */\n",
       "            progress {\n",
       "                /* gets rid of default border in Firefox and Opera. */\n",
       "                border: none;\n",
       "                /* Needs to be in here for Safari polyfill so background images work as expected. */\n",
       "                background-size: auto;\n",
       "            }\n",
       "            .progress-bar-interrupted, .progress-bar-interrupted::-webkit-progress-bar {\n",
       "                background: #F44336;\n",
       "            }\n",
       "        </style>\n",
       "      <progress value='12' class='' max='12', style='width:300px; height:20px; vertical-align: middle;'></progress>\n",
       "      100.00% [12/12 00:14<00:00]\n",
       "    </div>\n",
       "    "
      ],
      "text/plain": [
       "<IPython.core.display.HTML object>"
      ]
     },
     "metadata": {},
     "output_type": "display_data"
    },
    {
     "name": "stderr",
     "output_type": "stream",
     "text": [
      "INFO:root:eval_loss after step 100: 0.4135235051314036: \n",
      "INFO:root:eval_accuracy_multilabel after step 100: 0.08776595744680851: \n",
      "INFO:root:eval_accuracy_thresh after step 100: 0.8662614226341248: \n",
      "INFO:root:eval_roc_auc after step 100: 0.6406075558213716: \n",
      "INFO:root:eval_fbeta after step 100: 0.14560067653656006: \n",
      "INFO:root:lr after step 100: 1.2e-05\n",
      "INFO:root:train_loss after step 100: 0.4320788010954857\n",
      "INFO:root:Running evaluation\n",
      "INFO:root:  Num examples = 376\n",
      "INFO:root:  Batch size = 32\n"
     ]
    },
    {
     "data": {
      "text/html": [
       "\n",
       "    <div>\n",
       "        <style>\n",
       "            /* Turns off some styling */\n",
       "            progress {\n",
       "                /* gets rid of default border in Firefox and Opera. */\n",
       "                border: none;\n",
       "                /* Needs to be in here for Safari polyfill so background images work as expected. */\n",
       "                background-size: auto;\n",
       "            }\n",
       "            .progress-bar-interrupted, .progress-bar-interrupted::-webkit-progress-bar {\n",
       "                background: #F44336;\n",
       "            }\n",
       "        </style>\n",
       "      <progress value='12' class='' max='12', style='width:300px; height:20px; vertical-align: middle;'></progress>\n",
       "      100.00% [12/12 00:14<00:00]\n",
       "    </div>\n",
       "    "
      ],
      "text/plain": [
       "<IPython.core.display.HTML object>"
      ]
     },
     "metadata": {},
     "output_type": "display_data"
    },
    {
     "name": "stderr",
     "output_type": "stream",
     "text": [
      "INFO:root:eval_loss after step 120: 0.3916874478260676: \n",
      "INFO:root:eval_accuracy_multilabel after step 120: 0.08776595744680851: \n",
      "INFO:root:eval_accuracy_thresh after step 120: 0.8662614226341248: \n",
      "INFO:root:eval_roc_auc after step 120: 0.6414761824661085: \n",
      "INFO:root:eval_fbeta after step 120: 0.11148484796285629: \n",
      "INFO:root:lr after step 120: 1.44e-05\n",
      "INFO:root:train_loss after step 120: 0.399710938334465\n",
      "INFO:root:Running evaluation\n",
      "INFO:root:  Num examples = 376\n",
      "INFO:root:  Batch size = 32\n"
     ]
    },
    {
     "data": {
      "text/html": [
       "\n",
       "    <div>\n",
       "        <style>\n",
       "            /* Turns off some styling */\n",
       "            progress {\n",
       "                /* gets rid of default border in Firefox and Opera. */\n",
       "                border: none;\n",
       "                /* Needs to be in here for Safari polyfill so background images work as expected. */\n",
       "                background-size: auto;\n",
       "            }\n",
       "            .progress-bar-interrupted, .progress-bar-interrupted::-webkit-progress-bar {\n",
       "                background: #F44336;\n",
       "            }\n",
       "        </style>\n",
       "      <progress value='12' class='' max='12', style='width:300px; height:20px; vertical-align: middle;'></progress>\n",
       "      100.00% [12/12 00:14<00:00]\n",
       "    </div>\n",
       "    "
      ],
      "text/plain": [
       "<IPython.core.display.HTML object>"
      ]
     },
     "metadata": {},
     "output_type": "display_data"
    },
    {
     "name": "stderr",
     "output_type": "stream",
     "text": [
      "INFO:root:eval_loss after step 140: 0.3842996930082639: \n",
      "INFO:root:eval_accuracy_multilabel after step 140: 0.08776595744680851: \n",
      "INFO:root:eval_accuracy_thresh after step 140: 0.8662614226341248: \n",
      "INFO:root:eval_roc_auc after step 140: 0.6336530913576556: \n",
      "INFO:root:eval_fbeta after step 140: 0.11817725002765656: \n",
      "INFO:root:lr after step 140: 1.6800000000000002e-05\n",
      "INFO:root:train_loss after step 140: 0.3842389896512032\n",
      "INFO:root:Running evaluation\n",
      "INFO:root:  Num examples = 376\n",
      "INFO:root:  Batch size = 32\n"
     ]
    },
    {
     "data": {
      "text/html": [
       "\n",
       "    <div>\n",
       "        <style>\n",
       "            /* Turns off some styling */\n",
       "            progress {\n",
       "                /* gets rid of default border in Firefox and Opera. */\n",
       "                border: none;\n",
       "                /* Needs to be in here for Safari polyfill so background images work as expected. */\n",
       "                background-size: auto;\n",
       "            }\n",
       "            .progress-bar-interrupted, .progress-bar-interrupted::-webkit-progress-bar {\n",
       "                background: #F44336;\n",
       "            }\n",
       "        </style>\n",
       "      <progress value='12' class='' max='12', style='width:300px; height:20px; vertical-align: middle;'></progress>\n",
       "      100.00% [12/12 00:14<00:00]\n",
       "    </div>\n",
       "    "
      ],
      "text/plain": [
       "<IPython.core.display.HTML object>"
      ]
     },
     "metadata": {},
     "output_type": "display_data"
    },
    {
     "name": "stderr",
     "output_type": "stream",
     "text": [
      "INFO:root:eval_loss after step 160: 0.37951523313919705: \n",
      "INFO:root:eval_accuracy_multilabel after step 160: 0.07712765957446809: \n",
      "INFO:root:eval_accuracy_thresh after step 160: 0.8662614226341248: \n",
      "INFO:root:eval_roc_auc after step 160: 0.6392406798245613: \n",
      "INFO:root:eval_fbeta after step 160: 0.022531012073159218: \n",
      "INFO:root:lr after step 160: 1.9200000000000003e-05\n",
      "INFO:root:train_loss after step 160: 0.3780908152461052\n",
      "INFO:root:Running evaluation\n",
      "INFO:root:  Num examples = 376\n",
      "INFO:root:  Batch size = 32\n"
     ]
    },
    {
     "data": {
      "text/html": [
       "\n",
       "    <div>\n",
       "        <style>\n",
       "            /* Turns off some styling */\n",
       "            progress {\n",
       "                /* gets rid of default border in Firefox and Opera. */\n",
       "                border: none;\n",
       "                /* Needs to be in here for Safari polyfill so background images work as expected. */\n",
       "                background-size: auto;\n",
       "            }\n",
       "            .progress-bar-interrupted, .progress-bar-interrupted::-webkit-progress-bar {\n",
       "                background: #F44336;\n",
       "            }\n",
       "        </style>\n",
       "      <progress value='12' class='' max='12', style='width:300px; height:20px; vertical-align: middle;'></progress>\n",
       "      100.00% [12/12 00:14<00:00]\n",
       "    </div>\n",
       "    "
      ],
      "text/plain": [
       "<IPython.core.display.HTML object>"
      ]
     },
     "metadata": {},
     "output_type": "display_data"
    },
    {
     "name": "stderr",
     "output_type": "stream",
     "text": [
      "INFO:root:eval_loss after step 180: 0.3774275754888852: \n",
      "INFO:root:eval_accuracy_multilabel after step 180: 0.08776595744680851: \n",
      "INFO:root:eval_accuracy_thresh after step 180: 0.8662614226341248: \n",
      "INFO:root:eval_roc_auc after step 180: 0.6419345594098884: \n",
      "INFO:root:eval_fbeta after step 180: 0.033911921083927155: \n",
      "INFO:root:lr after step 180: 2.16e-05\n",
      "INFO:root:train_loss after step 180: 0.38038247674703596\n",
      "INFO:root:Running evaluation\n",
      "INFO:root:  Num examples = 376\n",
      "INFO:root:  Batch size = 32\n"
     ]
    },
    {
     "data": {
      "text/html": [
       "\n",
       "    <div>\n",
       "        <style>\n",
       "            /* Turns off some styling */\n",
       "            progress {\n",
       "                /* gets rid of default border in Firefox and Opera. */\n",
       "                border: none;\n",
       "                /* Needs to be in here for Safari polyfill so background images work as expected. */\n",
       "                background-size: auto;\n",
       "            }\n",
       "            .progress-bar-interrupted, .progress-bar-interrupted::-webkit-progress-bar {\n",
       "                background: #F44336;\n",
       "            }\n",
       "        </style>\n",
       "      <progress value='12' class='' max='12', style='width:300px; height:20px; vertical-align: middle;'></progress>\n",
       "      100.00% [12/12 00:14<00:00]\n",
       "    </div>\n",
       "    "
      ],
      "text/plain": [
       "<IPython.core.display.HTML object>"
      ]
     },
     "metadata": {},
     "output_type": "display_data"
    },
    {
     "name": "stderr",
     "output_type": "stream",
     "text": [
      "INFO:root:eval_loss after epoch 2: 0.38004377981026966: \n",
      "INFO:root:eval_accuracy_multilabel after epoch 2: 0.08776595744680851: \n",
      "INFO:root:eval_accuracy_thresh after epoch 2: 0.8662614226341248: \n",
      "INFO:root:eval_roc_auc after epoch 2: 0.6414744691985645: \n",
      "INFO:root:eval_fbeta after epoch 2: 0.12063871324062347: \n",
      "INFO:root:Running evaluation\n",
      "INFO:root:  Num examples = 376\n",
      "INFO:root:  Batch size = 32\n"
     ]
    },
    {
     "data": {
      "text/html": [
       "\n",
       "    <div>\n",
       "        <style>\n",
       "            /* Turns off some styling */\n",
       "            progress {\n",
       "                /* gets rid of default border in Firefox and Opera. */\n",
       "                border: none;\n",
       "                /* Needs to be in here for Safari polyfill so background images work as expected. */\n",
       "                background-size: auto;\n",
       "            }\n",
       "            .progress-bar-interrupted, .progress-bar-interrupted::-webkit-progress-bar {\n",
       "                background: #F44336;\n",
       "            }\n",
       "        </style>\n",
       "      <progress value='12' class='' max='12', style='width:300px; height:20px; vertical-align: middle;'></progress>\n",
       "      100.00% [12/12 00:14<00:00]\n",
       "    </div>\n",
       "    "
      ],
      "text/plain": [
       "<IPython.core.display.HTML object>"
      ]
     },
     "metadata": {},
     "output_type": "display_data"
    },
    {
     "name": "stderr",
     "output_type": "stream",
     "text": [
      "INFO:root:eval_loss after step 200: 0.37656106303135556: \n",
      "INFO:root:eval_accuracy_multilabel after step 200: 0.08776595744680851: \n",
      "INFO:root:eval_accuracy_thresh after step 200: 0.8662614226341248: \n",
      "INFO:root:eval_roc_auc after step 200: 0.647435394238437: \n",
      "INFO:root:eval_fbeta after step 200: 0.1050063967704773: \n",
      "INFO:root:lr after step 200: 2.4e-05\n",
      "INFO:root:train_loss after step 200: 0.3727929949760437\n",
      "INFO:root:Running evaluation\n",
      "INFO:root:  Num examples = 376\n",
      "INFO:root:  Batch size = 32\n"
     ]
    },
    {
     "data": {
      "text/html": [
       "\n",
       "    <div>\n",
       "        <style>\n",
       "            /* Turns off some styling */\n",
       "            progress {\n",
       "                /* gets rid of default border in Firefox and Opera. */\n",
       "                border: none;\n",
       "                /* Needs to be in here for Safari polyfill so background images work as expected. */\n",
       "                background-size: auto;\n",
       "            }\n",
       "            .progress-bar-interrupted, .progress-bar-interrupted::-webkit-progress-bar {\n",
       "                background: #F44336;\n",
       "            }\n",
       "        </style>\n",
       "      <progress value='12' class='' max='12', style='width:300px; height:20px; vertical-align: middle;'></progress>\n",
       "      100.00% [12/12 00:14<00:00]\n",
       "    </div>\n",
       "    "
      ],
      "text/plain": [
       "<IPython.core.display.HTML object>"
      ]
     },
     "metadata": {},
     "output_type": "display_data"
    },
    {
     "name": "stderr",
     "output_type": "stream",
     "text": [
      "INFO:root:eval_loss after step 220: 0.3737833723425865: \n",
      "INFO:root:eval_accuracy_multilabel after step 220: 0.10372340425531915: \n",
      "INFO:root:eval_accuracy_thresh after step 220: 0.8662614226341248: \n",
      "INFO:root:eval_roc_auc after step 220: 0.653194153708134: \n",
      "INFO:root:eval_fbeta after step 220: 0.0450885146856308: \n",
      "INFO:root:lr after step 220: 2.64e-05\n",
      "INFO:root:train_loss after step 220: 0.37551104128360746\n",
      "INFO:root:Running evaluation\n",
      "INFO:root:  Num examples = 376\n",
      "INFO:root:  Batch size = 32\n"
     ]
    },
    {
     "data": {
      "text/html": [
       "\n",
       "    <div>\n",
       "        <style>\n",
       "            /* Turns off some styling */\n",
       "            progress {\n",
       "                /* gets rid of default border in Firefox and Opera. */\n",
       "                border: none;\n",
       "                /* Needs to be in here for Safari polyfill so background images work as expected. */\n",
       "                background-size: auto;\n",
       "            }\n",
       "            .progress-bar-interrupted, .progress-bar-interrupted::-webkit-progress-bar {\n",
       "                background: #F44336;\n",
       "            }\n",
       "        </style>\n",
       "      <progress value='12' class='' max='12', style='width:300px; height:20px; vertical-align: middle;'></progress>\n",
       "      100.00% [12/12 00:14<00:00]\n",
       "    </div>\n",
       "    "
      ],
      "text/plain": [
       "<IPython.core.display.HTML object>"
      ]
     },
     "metadata": {},
     "output_type": "display_data"
    },
    {
     "name": "stderr",
     "output_type": "stream",
     "text": [
      "INFO:root:eval_loss after step 240: 0.373253936568896: \n",
      "INFO:root:eval_accuracy_multilabel after step 240: 0.09308510638297872: \n",
      "INFO:root:eval_accuracy_thresh after step 240: 0.8662614226341248: \n",
      "INFO:root:eval_roc_auc after step 240: 0.6616642369417863: \n",
      "INFO:root:eval_fbeta after step 240: 0.08099286258220673: \n",
      "INFO:root:lr after step 240: 2.88e-05\n",
      "INFO:root:train_loss after step 240: 0.37662182450294496\n",
      "INFO:root:Running evaluation\n",
      "INFO:root:  Num examples = 376\n",
      "INFO:root:  Batch size = 32\n"
     ]
    },
    {
     "data": {
      "text/html": [
       "\n",
       "    <div>\n",
       "        <style>\n",
       "            /* Turns off some styling */\n",
       "            progress {\n",
       "                /* gets rid of default border in Firefox and Opera. */\n",
       "                border: none;\n",
       "                /* Needs to be in here for Safari polyfill so background images work as expected. */\n",
       "                background-size: auto;\n",
       "            }\n",
       "            .progress-bar-interrupted, .progress-bar-interrupted::-webkit-progress-bar {\n",
       "                background: #F44336;\n",
       "            }\n",
       "        </style>\n",
       "      <progress value='12' class='' max='12', style='width:300px; height:20px; vertical-align: middle;'></progress>\n",
       "      100.00% [12/12 00:14<00:00]\n",
       "    </div>\n",
       "    "
      ],
      "text/plain": [
       "<IPython.core.display.HTML object>"
      ]
     },
     "metadata": {},
     "output_type": "display_data"
    },
    {
     "name": "stderr",
     "output_type": "stream",
     "text": [
      "INFO:root:eval_loss after step 260: 0.374094953139623: \n",
      "INFO:root:eval_accuracy_multilabel after step 260: 0.09308510638297872: \n",
      "INFO:root:eval_accuracy_thresh after step 260: 0.8662614226341248: \n",
      "INFO:root:eval_roc_auc after step 260: 0.6537233976275917: \n",
      "INFO:root:eval_fbeta after step 260: 0.08432884514331818: \n",
      "INFO:root:lr after step 260: 3.12e-05\n",
      "INFO:root:train_loss after step 260: 0.37142002284526826\n",
      "INFO:root:Running evaluation\n",
      "INFO:root:  Num examples = 376\n",
      "INFO:root:  Batch size = 32\n"
     ]
    },
    {
     "data": {
      "text/html": [
       "\n",
       "    <div>\n",
       "        <style>\n",
       "            /* Turns off some styling */\n",
       "            progress {\n",
       "                /* gets rid of default border in Firefox and Opera. */\n",
       "                border: none;\n",
       "                /* Needs to be in here for Safari polyfill so background images work as expected. */\n",
       "                background-size: auto;\n",
       "            }\n",
       "            .progress-bar-interrupted, .progress-bar-interrupted::-webkit-progress-bar {\n",
       "                background: #F44336;\n",
       "            }\n",
       "        </style>\n",
       "      <progress value='12' class='' max='12', style='width:300px; height:20px; vertical-align: middle;'></progress>\n",
       "      100.00% [12/12 00:14<00:00]\n",
       "    </div>\n",
       "    "
      ],
      "text/plain": [
       "<IPython.core.display.HTML object>"
      ]
     },
     "metadata": {},
     "output_type": "display_data"
    },
    {
     "name": "stderr",
     "output_type": "stream",
     "text": [
      "INFO:root:eval_loss after step 280: 0.3724478781223297: \n",
      "INFO:root:eval_accuracy_multilabel after step 280: 0.08776595744680851: \n",
      "INFO:root:eval_accuracy_thresh after step 280: 0.8687310218811035: \n",
      "INFO:root:eval_roc_auc after step 280: 0.669334379984051: \n",
      "INFO:root:eval_fbeta after step 280: 0.15822471678256989: \n",
      "INFO:root:lr after step 280: 3.3600000000000004e-05\n",
      "INFO:root:train_loss after step 280: 0.3572603762149811\n",
      "INFO:root:Running evaluation\n",
      "INFO:root:  Num examples = 376\n",
      "INFO:root:  Batch size = 32\n"
     ]
    },
    {
     "data": {
      "text/html": [
       "\n",
       "    <div>\n",
       "        <style>\n",
       "            /* Turns off some styling */\n",
       "            progress {\n",
       "                /* gets rid of default border in Firefox and Opera. */\n",
       "                border: none;\n",
       "                /* Needs to be in here for Safari polyfill so background images work as expected. */\n",
       "                background-size: auto;\n",
       "            }\n",
       "            .progress-bar-interrupted, .progress-bar-interrupted::-webkit-progress-bar {\n",
       "                background: #F44336;\n",
       "            }\n",
       "        </style>\n",
       "      <progress value='12' class='' max='12', style='width:300px; height:20px; vertical-align: middle;'></progress>\n",
       "      100.00% [12/12 00:14<00:00]\n",
       "    </div>\n",
       "    "
      ],
      "text/plain": [
       "<IPython.core.display.HTML object>"
      ]
     },
     "metadata": {},
     "output_type": "display_data"
    },
    {
     "name": "stderr",
     "output_type": "stream",
     "text": [
      "INFO:root:eval_loss after epoch 3: 0.3725009361902873: \n",
      "INFO:root:eval_accuracy_multilabel after epoch 3: 0.08776595744680851: \n",
      "INFO:root:eval_accuracy_thresh after epoch 3: 0.8666413426399231: \n",
      "INFO:root:eval_roc_auc after epoch 3: 0.6663078149920255: \n",
      "INFO:root:eval_fbeta after epoch 3: 0.13528220355510712: \n",
      "INFO:root:Running evaluation\n",
      "INFO:root:  Num examples = 376\n",
      "INFO:root:  Batch size = 32\n"
     ]
    },
    {
     "data": {
      "text/html": [
       "\n",
       "    <div>\n",
       "        <style>\n",
       "            /* Turns off some styling */\n",
       "            progress {\n",
       "                /* gets rid of default border in Firefox and Opera. */\n",
       "                border: none;\n",
       "                /* Needs to be in here for Safari polyfill so background images work as expected. */\n",
       "                background-size: auto;\n",
       "            }\n",
       "            .progress-bar-interrupted, .progress-bar-interrupted::-webkit-progress-bar {\n",
       "                background: #F44336;\n",
       "            }\n",
       "        </style>\n",
       "      <progress value='12' class='' max='12', style='width:300px; height:20px; vertical-align: middle;'></progress>\n",
       "      100.00% [12/12 00:14<00:00]\n",
       "    </div>\n",
       "    "
      ],
      "text/plain": [
       "<IPython.core.display.HTML object>"
      ]
     },
     "metadata": {},
     "output_type": "display_data"
    },
    {
     "name": "stderr",
     "output_type": "stream",
     "text": [
      "INFO:root:eval_loss after step 300: 0.36995947857697803: \n",
      "INFO:root:eval_accuracy_multilabel after step 300: 0.10372340425531915: \n",
      "INFO:root:eval_accuracy_thresh after step 300: 0.8675912022590637: \n",
      "INFO:root:eval_roc_auc after step 300: 0.6685875510865232: \n",
      "INFO:root:eval_fbeta after step 300: 0.16539353132247925: \n",
      "INFO:root:lr after step 300: 3.6e-05\n",
      "INFO:root:train_loss after step 300: 0.3520405650138855\n",
      "INFO:root:Running evaluation\n",
      "INFO:root:  Num examples = 376\n",
      "INFO:root:  Batch size = 32\n"
     ]
    },
    {
     "data": {
      "text/html": [
       "\n",
       "    <div>\n",
       "        <style>\n",
       "            /* Turns off some styling */\n",
       "            progress {\n",
       "                /* gets rid of default border in Firefox and Opera. */\n",
       "                border: none;\n",
       "                /* Needs to be in here for Safari polyfill so background images work as expected. */\n",
       "                background-size: auto;\n",
       "            }\n",
       "            .progress-bar-interrupted, .progress-bar-interrupted::-webkit-progress-bar {\n",
       "                background: #F44336;\n",
       "            }\n",
       "        </style>\n",
       "      <progress value='12' class='' max='12', style='width:300px; height:20px; vertical-align: middle;'></progress>\n",
       "      100.00% [12/12 00:14<00:00]\n",
       "    </div>\n",
       "    "
      ],
      "text/plain": [
       "<IPython.core.display.HTML object>"
      ]
     },
     "metadata": {},
     "output_type": "display_data"
    },
    {
     "name": "stderr",
     "output_type": "stream",
     "text": [
      "INFO:root:eval_loss after step 320: 0.36087414373954135: \n",
      "INFO:root:eval_accuracy_multilabel after step 320: 0.1622340425531915: \n",
      "INFO:root:eval_accuracy_thresh after step 320: 0.8666413426399231: \n",
      "INFO:root:eval_roc_auc after step 320: 0.6967303067683412: \n",
      "INFO:root:eval_fbeta after step 320: 0.13312549889087677: \n",
      "INFO:root:lr after step 320: 3.8400000000000005e-05\n",
      "INFO:root:train_loss after step 320: 0.361592598259449\n",
      "INFO:root:Running evaluation\n",
      "INFO:root:  Num examples = 376\n",
      "INFO:root:  Batch size = 32\n"
     ]
    },
    {
     "data": {
      "text/html": [
       "\n",
       "    <div>\n",
       "        <style>\n",
       "            /* Turns off some styling */\n",
       "            progress {\n",
       "                /* gets rid of default border in Firefox and Opera. */\n",
       "                border: none;\n",
       "                /* Needs to be in here for Safari polyfill so background images work as expected. */\n",
       "                background-size: auto;\n",
       "            }\n",
       "            .progress-bar-interrupted, .progress-bar-interrupted::-webkit-progress-bar {\n",
       "                background: #F44336;\n",
       "            }\n",
       "        </style>\n",
       "      <progress value='12' class='' max='12', style='width:300px; height:20px; vertical-align: middle;'></progress>\n",
       "      100.00% [12/12 00:14<00:00]\n",
       "    </div>\n",
       "    "
      ],
      "text/plain": [
       "<IPython.core.display.HTML object>"
      ]
     },
     "metadata": {},
     "output_type": "display_data"
    },
    {
     "name": "stderr",
     "output_type": "stream",
     "text": [
      "INFO:root:eval_loss after step 340: 0.34977229684591293: \n",
      "INFO:root:eval_accuracy_multilabel after step 340: 0.2047872340425532: \n",
      "INFO:root:eval_accuracy_thresh after step 340: 0.8712006211280823: \n",
      "INFO:root:eval_roc_auc after step 340: 0.7260662754186603: \n",
      "INFO:root:eval_fbeta after step 340: 0.2370711714029312: \n",
      "INFO:root:lr after step 340: 4.08e-05\n",
      "INFO:root:train_loss after step 340: 0.3539153814315796\n",
      "INFO:root:Running evaluation\n",
      "INFO:root:  Num examples = 376\n",
      "INFO:root:  Batch size = 32\n"
     ]
    },
    {
     "data": {
      "text/html": [
       "\n",
       "    <div>\n",
       "        <style>\n",
       "            /* Turns off some styling */\n",
       "            progress {\n",
       "                /* gets rid of default border in Firefox and Opera. */\n",
       "                border: none;\n",
       "                /* Needs to be in here for Safari polyfill so background images work as expected. */\n",
       "                background-size: auto;\n",
       "            }\n",
       "            .progress-bar-interrupted, .progress-bar-interrupted::-webkit-progress-bar {\n",
       "                background: #F44336;\n",
       "            }\n",
       "        </style>\n",
       "      <progress value='12' class='' max='12', style='width:300px; height:20px; vertical-align: middle;'></progress>\n",
       "      100.00% [12/12 00:14<00:00]\n",
       "    </div>\n",
       "    "
      ],
      "text/plain": [
       "<IPython.core.display.HTML object>"
      ]
     },
     "metadata": {},
     "output_type": "display_data"
    },
    {
     "name": "stderr",
     "output_type": "stream",
     "text": [
      "INFO:root:eval_loss after step 360: 0.3475448365012805: \n",
      "INFO:root:eval_accuracy_multilabel after step 360: 0.2632978723404255: \n",
      "INFO:root:eval_accuracy_thresh after step 360: 0.8732903003692627: \n",
      "INFO:root:eval_roc_auc after step 360: 0.7488164436303827: \n",
      "INFO:root:eval_fbeta after step 360: 0.264405220746994: \n",
      "INFO:root:lr after step 360: 4.32e-05\n",
      "INFO:root:train_loss after step 360: 0.34329123646020887\n",
      "INFO:root:Running evaluation\n",
      "INFO:root:  Num examples = 376\n",
      "INFO:root:  Batch size = 32\n"
     ]
    },
    {
     "data": {
      "text/html": [
       "\n",
       "    <div>\n",
       "        <style>\n",
       "            /* Turns off some styling */\n",
       "            progress {\n",
       "                /* gets rid of default border in Firefox and Opera. */\n",
       "                border: none;\n",
       "                /* Needs to be in here for Safari polyfill so background images work as expected. */\n",
       "                background-size: auto;\n",
       "            }\n",
       "            .progress-bar-interrupted, .progress-bar-interrupted::-webkit-progress-bar {\n",
       "                background: #F44336;\n",
       "            }\n",
       "        </style>\n",
       "      <progress value='12' class='' max='12', style='width:300px; height:20px; vertical-align: middle;'></progress>\n",
       "      100.00% [12/12 00:14<00:00]\n",
       "    </div>\n",
       "    "
      ],
      "text/plain": [
       "<IPython.core.display.HTML object>"
      ]
     },
     "metadata": {},
     "output_type": "display_data"
    },
    {
     "name": "stderr",
     "output_type": "stream",
     "text": [
      "INFO:root:eval_loss after epoch 4: 0.3350159327189128: \n",
      "INFO:root:eval_accuracy_multilabel after epoch 4: 0.27393617021276595: \n",
      "INFO:root:eval_accuracy_thresh after epoch 4: 0.8778495788574219: \n",
      "INFO:root:eval_roc_auc after epoch 4: 0.7587523051236045: \n",
      "INFO:root:eval_fbeta after epoch 4: 0.2589394152164459: \n",
      "INFO:root:Running evaluation\n",
      "INFO:root:  Num examples = 376\n",
      "INFO:root:  Batch size = 32\n"
     ]
    },
    {
     "data": {
      "text/html": [
       "\n",
       "    <div>\n",
       "        <style>\n",
       "            /* Turns off some styling */\n",
       "            progress {\n",
       "                /* gets rid of default border in Firefox and Opera. */\n",
       "                border: none;\n",
       "                /* Needs to be in here for Safari polyfill so background images work as expected. */\n",
       "                background-size: auto;\n",
       "            }\n",
       "            .progress-bar-interrupted, .progress-bar-interrupted::-webkit-progress-bar {\n",
       "                background: #F44336;\n",
       "            }\n",
       "        </style>\n",
       "      <progress value='12' class='' max='12', style='width:300px; height:20px; vertical-align: middle;'></progress>\n",
       "      100.00% [12/12 00:14<00:00]\n",
       "    </div>\n",
       "    "
      ],
      "text/plain": [
       "<IPython.core.display.HTML object>"
      ]
     },
     "metadata": {},
     "output_type": "display_data"
    },
    {
     "name": "stderr",
     "output_type": "stream",
     "text": [
      "INFO:root:eval_loss after step 380: 0.33235084762175876: \n",
      "INFO:root:eval_accuracy_multilabel after step 380: 0.3271276595744681: \n",
      "INFO:root:eval_accuracy_thresh after step 380: 0.8768997192382812: \n",
      "INFO:root:eval_roc_auc after step 380: 0.7642657558313397: \n",
      "INFO:root:eval_fbeta after step 380: 0.23586556315422058: \n",
      "INFO:root:lr after step 380: 4.5600000000000004e-05\n",
      "INFO:root:train_loss after step 380: 0.3361831307411194\n",
      "INFO:root:Running evaluation\n",
      "INFO:root:  Num examples = 376\n",
      "INFO:root:  Batch size = 32\n"
     ]
    },
    {
     "data": {
      "text/html": [
       "\n",
       "    <div>\n",
       "        <style>\n",
       "            /* Turns off some styling */\n",
       "            progress {\n",
       "                /* gets rid of default border in Firefox and Opera. */\n",
       "                border: none;\n",
       "                /* Needs to be in here for Safari polyfill so background images work as expected. */\n",
       "                background-size: auto;\n",
       "            }\n",
       "            .progress-bar-interrupted, .progress-bar-interrupted::-webkit-progress-bar {\n",
       "                background: #F44336;\n",
       "            }\n",
       "        </style>\n",
       "      <progress value='12' class='' max='12', style='width:300px; height:20px; vertical-align: middle;'></progress>\n",
       "      100.00% [12/12 00:14<00:00]\n",
       "    </div>\n",
       "    "
      ],
      "text/plain": [
       "<IPython.core.display.HTML object>"
      ]
     },
     "metadata": {},
     "output_type": "display_data"
    },
    {
     "name": "stderr",
     "output_type": "stream",
     "text": [
      "INFO:root:eval_loss after step 400: 0.32970546931028366: \n",
      "INFO:root:eval_accuracy_multilabel after step 400: 0.26595744680851063: \n",
      "INFO:root:eval_accuracy_thresh after step 400: 0.8770896792411804: \n",
      "INFO:root:eval_roc_auc after step 400: 0.7936585738137959: \n",
      "INFO:root:eval_fbeta after step 400: 0.38554590940475464: \n",
      "INFO:root:lr after step 400: 4.8e-05\n",
      "INFO:root:train_loss after step 400: 0.32306510508060454\n",
      "INFO:root:Running evaluation\n",
      "INFO:root:  Num examples = 376\n",
      "INFO:root:  Batch size = 32\n"
     ]
    },
    {
     "data": {
      "text/html": [
       "\n",
       "    <div>\n",
       "        <style>\n",
       "            /* Turns off some styling */\n",
       "            progress {\n",
       "                /* gets rid of default border in Firefox and Opera. */\n",
       "                border: none;\n",
       "                /* Needs to be in here for Safari polyfill so background images work as expected. */\n",
       "                background-size: auto;\n",
       "            }\n",
       "            .progress-bar-interrupted, .progress-bar-interrupted::-webkit-progress-bar {\n",
       "                background: #F44336;\n",
       "            }\n",
       "        </style>\n",
       "      <progress value='12' class='' max='12', style='width:300px; height:20px; vertical-align: middle;'></progress>\n",
       "      100.00% [12/12 00:14<00:00]\n",
       "    </div>\n",
       "    "
      ],
      "text/plain": [
       "<IPython.core.display.HTML object>"
      ]
     },
     "metadata": {},
     "output_type": "display_data"
    },
    {
     "name": "stderr",
     "output_type": "stream",
     "text": [
      "INFO:root:eval_loss after step 420: 0.31578996529181796: \n",
      "INFO:root:eval_accuracy_multilabel after step 420: 0.2872340425531915: \n",
      "INFO:root:eval_accuracy_thresh after step 420: 0.8787993788719177: \n",
      "INFO:root:eval_roc_auc after step 420: 0.8000183786881978: \n",
      "INFO:root:eval_fbeta after step 420: 0.3766002058982849: \n",
      "INFO:root:lr after step 420: 5.04e-05\n",
      "INFO:root:train_loss after step 420: 0.3049935385584831\n",
      "INFO:root:Running evaluation\n",
      "INFO:root:  Num examples = 376\n",
      "INFO:root:  Batch size = 32\n"
     ]
    },
    {
     "data": {
      "text/html": [
       "\n",
       "    <div>\n",
       "        <style>\n",
       "            /* Turns off some styling */\n",
       "            progress {\n",
       "                /* gets rid of default border in Firefox and Opera. */\n",
       "                border: none;\n",
       "                /* Needs to be in here for Safari polyfill so background images work as expected. */\n",
       "                background-size: auto;\n",
       "            }\n",
       "            .progress-bar-interrupted, .progress-bar-interrupted::-webkit-progress-bar {\n",
       "                background: #F44336;\n",
       "            }\n",
       "        </style>\n",
       "      <progress value='12' class='' max='12', style='width:300px; height:20px; vertical-align: middle;'></progress>\n",
       "      100.00% [12/12 00:14<00:00]\n",
       "    </div>\n",
       "    "
      ],
      "text/plain": [
       "<IPython.core.display.HTML object>"
      ]
     },
     "metadata": {},
     "output_type": "display_data"
    },
    {
     "name": "stderr",
     "output_type": "stream",
     "text": [
      "INFO:root:eval_loss after step 440: 0.3062935769557953: \n",
      "INFO:root:eval_accuracy_multilabel after step 440: 0.43351063829787234: \n",
      "INFO:root:eval_accuracy_thresh after step 440: 0.8951367735862732: \n",
      "INFO:root:eval_roc_auc after step 440: 0.8153522789573364: \n",
      "INFO:root:eval_fbeta after step 440: 0.3981267809867859: \n",
      "INFO:root:lr after step 440: 5.28e-05\n",
      "INFO:root:train_loss after step 440: 0.3105488896369934\n",
      "INFO:root:Running evaluation\n",
      "INFO:root:  Num examples = 376\n",
      "INFO:root:  Batch size = 32\n"
     ]
    },
    {
     "data": {
      "text/html": [
       "\n",
       "    <div>\n",
       "        <style>\n",
       "            /* Turns off some styling */\n",
       "            progress {\n",
       "                /* gets rid of default border in Firefox and Opera. */\n",
       "                border: none;\n",
       "                /* Needs to be in here for Safari polyfill so background images work as expected. */\n",
       "                background-size: auto;\n",
       "            }\n",
       "            .progress-bar-interrupted, .progress-bar-interrupted::-webkit-progress-bar {\n",
       "                background: #F44336;\n",
       "            }\n",
       "        </style>\n",
       "      <progress value='12' class='' max='12', style='width:300px; height:20px; vertical-align: middle;'></progress>\n",
       "      100.00% [12/12 00:14<00:00]\n",
       "    </div>\n",
       "    "
      ],
      "text/plain": [
       "<IPython.core.display.HTML object>"
      ]
     },
     "metadata": {},
     "output_type": "display_data"
    },
    {
     "name": "stderr",
     "output_type": "stream",
     "text": [
      "INFO:root:eval_loss after step 460: 0.29407331099112827: \n",
      "INFO:root:eval_accuracy_multilabel after step 460: 0.4521276595744681: \n",
      "INFO:root:eval_accuracy_thresh after step 460: 0.8939969539642334: \n",
      "INFO:root:eval_roc_auc after step 460: 0.8392023649322169: \n",
      "INFO:root:eval_fbeta after step 460: 0.4717917740345001: \n",
      "INFO:root:lr after step 460: 5.520000000000001e-05\n",
      "INFO:root:train_loss after step 460: 0.2973130434751511\n",
      "INFO:root:Running evaluation\n",
      "INFO:root:  Num examples = 376\n",
      "INFO:root:  Batch size = 32\n"
     ]
    },
    {
     "data": {
      "text/html": [
       "\n",
       "    <div>\n",
       "        <style>\n",
       "            /* Turns off some styling */\n",
       "            progress {\n",
       "                /* gets rid of default border in Firefox and Opera. */\n",
       "                border: none;\n",
       "                /* Needs to be in here for Safari polyfill so background images work as expected. */\n",
       "                background-size: auto;\n",
       "            }\n",
       "            .progress-bar-interrupted, .progress-bar-interrupted::-webkit-progress-bar {\n",
       "                background: #F44336;\n",
       "            }\n",
       "        </style>\n",
       "      <progress value='12' class='' max='12', style='width:300px; height:20px; vertical-align: middle;'></progress>\n",
       "      100.00% [12/12 00:14<00:00]\n",
       "    </div>\n",
       "    "
      ],
      "text/plain": [
       "<IPython.core.display.HTML object>"
      ]
     },
     "metadata": {},
     "output_type": "display_data"
    },
    {
     "name": "stderr",
     "output_type": "stream",
     "text": [
      "INFO:root:eval_loss after epoch 5: 0.2849983622630437: \n",
      "INFO:root:eval_accuracy_multilabel after epoch 5: 0.4308510638297872: \n",
      "INFO:root:eval_accuracy_thresh after epoch 5: 0.8941869139671326: \n",
      "INFO:root:eval_roc_auc after epoch 5: 0.8439805123604466: \n",
      "INFO:root:eval_fbeta after epoch 5: 0.412905216217041: \n",
      "INFO:root:Running evaluation\n",
      "INFO:root:  Num examples = 376\n",
      "INFO:root:  Batch size = 32\n"
     ]
    },
    {
     "data": {
      "text/html": [
       "\n",
       "    <div>\n",
       "        <style>\n",
       "            /* Turns off some styling */\n",
       "            progress {\n",
       "                /* gets rid of default border in Firefox and Opera. */\n",
       "                border: none;\n",
       "                /* Needs to be in here for Safari polyfill so background images work as expected. */\n",
       "                background-size: auto;\n",
       "            }\n",
       "            .progress-bar-interrupted, .progress-bar-interrupted::-webkit-progress-bar {\n",
       "                background: #F44336;\n",
       "            }\n",
       "        </style>\n",
       "      <progress value='12' class='' max='12', style='width:300px; height:20px; vertical-align: middle;'></progress>\n",
       "      100.00% [12/12 00:14<00:00]\n",
       "    </div>\n",
       "    "
      ],
      "text/plain": [
       "<IPython.core.display.HTML object>"
      ]
     },
     "metadata": {},
     "output_type": "display_data"
    },
    {
     "name": "stderr",
     "output_type": "stream",
     "text": [
      "INFO:root:eval_loss after step 480: 0.2717057565848033: \n",
      "INFO:root:eval_accuracy_multilabel after step 480: 0.4920212765957447: \n",
      "INFO:root:eval_accuracy_thresh after step 480: 0.8958966732025146: \n",
      "INFO:root:eval_roc_auc after step 480: 0.8685900431120414: \n",
      "INFO:root:eval_fbeta after step 480: 0.445234477519989: \n",
      "INFO:root:lr after step 480: 5.76e-05\n",
      "INFO:root:train_loss after step 480: 0.2895387999713421\n",
      "INFO:root:Running evaluation\n",
      "INFO:root:  Num examples = 376\n",
      "INFO:root:  Batch size = 32\n"
     ]
    },
    {
     "data": {
      "text/html": [
       "\n",
       "    <div>\n",
       "        <style>\n",
       "            /* Turns off some styling */\n",
       "            progress {\n",
       "                /* gets rid of default border in Firefox and Opera. */\n",
       "                border: none;\n",
       "                /* Needs to be in here for Safari polyfill so background images work as expected. */\n",
       "                background-size: auto;\n",
       "            }\n",
       "            .progress-bar-interrupted, .progress-bar-interrupted::-webkit-progress-bar {\n",
       "                background: #F44336;\n",
       "            }\n",
       "        </style>\n",
       "      <progress value='12' class='' max='12', style='width:300px; height:20px; vertical-align: middle;'></progress>\n",
       "      100.00% [12/12 00:14<00:00]\n",
       "    </div>\n",
       "    "
      ],
      "text/plain": [
       "<IPython.core.display.HTML object>"
      ]
     },
     "metadata": {},
     "output_type": "display_data"
    },
    {
     "name": "stderr",
     "output_type": "stream",
     "text": [
      "INFO:root:eval_loss after step 500: 0.27295153588056564: \n",
      "INFO:root:eval_accuracy_multilabel after step 500: 0.46808510638297873: \n",
      "INFO:root:eval_accuracy_thresh after step 500: 0.8991261720657349: \n",
      "INFO:root:eval_roc_auc after step 500: 0.8538185618520734: \n",
      "INFO:root:eval_fbeta after step 500: 0.4392823278903961: \n",
      "INFO:root:lr after step 500: 6e-05\n",
      "INFO:root:train_loss after step 500: 0.258198457211256\n",
      "INFO:root:Running evaluation\n",
      "INFO:root:  Num examples = 376\n",
      "INFO:root:  Batch size = 32\n"
     ]
    },
    {
     "data": {
      "text/html": [
       "\n",
       "    <div>\n",
       "        <style>\n",
       "            /* Turns off some styling */\n",
       "            progress {\n",
       "                /* gets rid of default border in Firefox and Opera. */\n",
       "                border: none;\n",
       "                /* Needs to be in here for Safari polyfill so background images work as expected. */\n",
       "                background-size: auto;\n",
       "            }\n",
       "            .progress-bar-interrupted, .progress-bar-interrupted::-webkit-progress-bar {\n",
       "                background: #F44336;\n",
       "            }\n",
       "        </style>\n",
       "      <progress value='12' class='' max='12', style='width:300px; height:20px; vertical-align: middle;'></progress>\n",
       "      100.00% [12/12 00:14<00:00]\n",
       "    </div>\n",
       "    "
      ],
      "text/plain": [
       "<IPython.core.display.HTML object>"
      ]
     },
     "metadata": {},
     "output_type": "display_data"
    },
    {
     "name": "stderr",
     "output_type": "stream",
     "text": [
      "INFO:root:eval_loss after step 520: 0.2733690030872822: \n",
      "INFO:root:eval_accuracy_multilabel after step 520: 0.4308510638297872: \n",
      "INFO:root:eval_accuracy_thresh after step 520: 0.8970364928245544: \n",
      "INFO:root:eval_roc_auc after step 520: 0.8636464874900318: \n",
      "INFO:root:eval_fbeta after step 520: 0.5067996382713318: \n",
      "INFO:root:lr after step 520: 5.969464325642798e-05\n",
      "INFO:root:train_loss after step 520: 0.25242322236299514\n",
      "INFO:root:Running evaluation\n",
      "INFO:root:  Num examples = 376\n",
      "INFO:root:  Batch size = 32\n"
     ]
    },
    {
     "data": {
      "text/html": [
       "\n",
       "    <div>\n",
       "        <style>\n",
       "            /* Turns off some styling */\n",
       "            progress {\n",
       "                /* gets rid of default border in Firefox and Opera. */\n",
       "                border: none;\n",
       "                /* Needs to be in here for Safari polyfill so background images work as expected. */\n",
       "                background-size: auto;\n",
       "            }\n",
       "            .progress-bar-interrupted, .progress-bar-interrupted::-webkit-progress-bar {\n",
       "                background: #F44336;\n",
       "            }\n",
       "        </style>\n",
       "      <progress value='12' class='' max='12', style='width:300px; height:20px; vertical-align: middle;'></progress>\n",
       "      100.00% [12/12 00:14<00:00]\n",
       "    </div>\n",
       "    "
      ],
      "text/plain": [
       "<IPython.core.display.HTML object>"
      ]
     },
     "metadata": {},
     "output_type": "display_data"
    },
    {
     "name": "stderr",
     "output_type": "stream",
     "text": [
      "INFO:root:eval_loss after step 540: 0.2527858739097913: \n",
      "INFO:root:eval_accuracy_multilabel after step 540: 0.42819148936170215: \n",
      "INFO:root:eval_accuracy_thresh after step 540: 0.9029255509376526: \n",
      "INFO:root:eval_roc_auc after step 540: 0.8835619766746411: \n",
      "INFO:root:eval_fbeta after step 540: 0.4866953492164612: \n",
      "INFO:root:lr after step 540: 5.878478920843492e-05\n",
      "INFO:root:train_loss after step 540: 0.2601075701415539\n",
      "INFO:root:Running evaluation\n",
      "INFO:root:  Num examples = 376\n",
      "INFO:root:  Batch size = 32\n"
     ]
    },
    {
     "data": {
      "text/html": [
       "\n",
       "    <div>\n",
       "        <style>\n",
       "            /* Turns off some styling */\n",
       "            progress {\n",
       "                /* gets rid of default border in Firefox and Opera. */\n",
       "                border: none;\n",
       "                /* Needs to be in here for Safari polyfill so background images work as expected. */\n",
       "                background-size: auto;\n",
       "            }\n",
       "            .progress-bar-interrupted, .progress-bar-interrupted::-webkit-progress-bar {\n",
       "                background: #F44336;\n",
       "            }\n",
       "        </style>\n",
       "      <progress value='12' class='' max='12', style='width:300px; height:20px; vertical-align: middle;'></progress>\n",
       "      100.00% [12/12 00:14<00:00]\n",
       "    </div>\n",
       "    "
      ],
      "text/plain": [
       "<IPython.core.display.HTML object>"
      ]
     },
     "metadata": {},
     "output_type": "display_data"
    },
    {
     "name": "stderr",
     "output_type": "stream",
     "text": [
      "INFO:root:eval_loss after step 560: 0.24693730721871057: \n",
      "INFO:root:eval_accuracy_multilabel after step 560: 0.4787234042553192: \n",
      "INFO:root:eval_accuracy_thresh after step 560: 0.912044107913971: \n",
      "INFO:root:eval_roc_auc after step 560: 0.8986997856858054: \n",
      "INFO:root:eval_fbeta after step 560: 0.5509953498840332: \n",
      "INFO:root:lr after step 560: 5.728895986063555e-05\n",
      "INFO:root:train_loss after step 560: 0.2596549466252327\n",
      "INFO:root:Running evaluation\n",
      "INFO:root:  Num examples = 376\n",
      "INFO:root:  Batch size = 32\n"
     ]
    },
    {
     "data": {
      "text/html": [
       "\n",
       "    <div>\n",
       "        <style>\n",
       "            /* Turns off some styling */\n",
       "            progress {\n",
       "                /* gets rid of default border in Firefox and Opera. */\n",
       "                border: none;\n",
       "                /* Needs to be in here for Safari polyfill so background images work as expected. */\n",
       "                background-size: auto;\n",
       "            }\n",
       "            .progress-bar-interrupted, .progress-bar-interrupted::-webkit-progress-bar {\n",
       "                background: #F44336;\n",
       "            }\n",
       "        </style>\n",
       "      <progress value='12' class='' max='12', style='width:300px; height:20px; vertical-align: middle;'></progress>\n",
       "      100.00% [12/12 00:14<00:00]\n",
       "    </div>\n",
       "    "
      ],
      "text/plain": [
       "<IPython.core.display.HTML object>"
      ]
     },
     "metadata": {},
     "output_type": "display_data"
    },
    {
     "name": "stderr",
     "output_type": "stream",
     "text": [
      "INFO:root:eval_loss after epoch 6: 0.2383527768154939: \n",
      "INFO:root:eval_accuracy_multilabel after epoch 6: 0.46808510638297873: \n",
      "INFO:root:eval_accuracy_thresh after epoch 6: 0.9093844890594482: \n",
      "INFO:root:eval_roc_auc after epoch 6: 0.901318904505582: \n",
      "INFO:root:eval_fbeta after epoch 6: 0.5027181506156921: \n",
      "INFO:root:Running evaluation\n",
      "INFO:root:  Num examples = 376\n",
      "INFO:root:  Batch size = 32\n"
     ]
    },
    {
     "data": {
      "text/html": [
       "\n",
       "    <div>\n",
       "        <style>\n",
       "            /* Turns off some styling */\n",
       "            progress {\n",
       "                /* gets rid of default border in Firefox and Opera. */\n",
       "                border: none;\n",
       "                /* Needs to be in here for Safari polyfill so background images work as expected. */\n",
       "                background-size: auto;\n",
       "            }\n",
       "            .progress-bar-interrupted, .progress-bar-interrupted::-webkit-progress-bar {\n",
       "                background: #F44336;\n",
       "            }\n",
       "        </style>\n",
       "      <progress value='12' class='' max='12', style='width:300px; height:20px; vertical-align: middle;'></progress>\n",
       "      100.00% [12/12 00:14<00:00]\n",
       "    </div>\n",
       "    "
      ],
      "text/plain": [
       "<IPython.core.display.HTML object>"
      ]
     },
     "metadata": {},
     "output_type": "display_data"
    },
    {
     "name": "stderr",
     "output_type": "stream",
     "text": [
      "INFO:root:eval_loss after step 580: 0.22806462521354356: \n",
      "INFO:root:eval_accuracy_multilabel after step 580: 0.4973404255319149: \n",
      "INFO:root:eval_accuracy_thresh after step 580: 0.9154635071754456: \n",
      "INFO:root:eval_roc_auc after step 580: 0.9103121573464913: \n",
      "INFO:root:eval_fbeta after step 580: 0.5339313745498657: \n",
      "INFO:root:lr after step 580: 5.5237605984935435e-05\n",
      "INFO:root:train_loss after step 580: 0.2217001847922802\n",
      "INFO:root:Running evaluation\n",
      "INFO:root:  Num examples = 376\n",
      "INFO:root:  Batch size = 32\n"
     ]
    },
    {
     "data": {
      "text/html": [
       "\n",
       "    <div>\n",
       "        <style>\n",
       "            /* Turns off some styling */\n",
       "            progress {\n",
       "                /* gets rid of default border in Firefox and Opera. */\n",
       "                border: none;\n",
       "                /* Needs to be in here for Safari polyfill so background images work as expected. */\n",
       "                background-size: auto;\n",
       "            }\n",
       "            .progress-bar-interrupted, .progress-bar-interrupted::-webkit-progress-bar {\n",
       "                background: #F44336;\n",
       "            }\n",
       "        </style>\n",
       "      <progress value='12' class='' max='12', style='width:300px; height:20px; vertical-align: middle;'></progress>\n",
       "      100.00% [12/12 00:14<00:00]\n",
       "    </div>\n",
       "    "
      ],
      "text/plain": [
       "<IPython.core.display.HTML object>"
      ]
     },
     "metadata": {},
     "output_type": "display_data"
    },
    {
     "name": "stderr",
     "output_type": "stream",
     "text": [
      "INFO:root:eval_loss after step 600: 0.2182245266934236: \n",
      "INFO:root:eval_accuracy_multilabel after step 600: 0.5292553191489362: \n",
      "INFO:root:eval_accuracy_thresh after step 600: 0.9211626052856445: \n",
      "INFO:root:eval_roc_auc after step 600: 0.916445343650319: \n",
      "INFO:root:eval_fbeta after step 600: 0.5545096397399902: \n",
      "INFO:root:lr after step 600: 5.267248723062775e-05\n",
      "INFO:root:train_loss after step 600: 0.22282858341932296\n",
      "INFO:root:Running evaluation\n",
      "INFO:root:  Num examples = 376\n",
      "INFO:root:  Batch size = 32\n"
     ]
    },
    {
     "data": {
      "text/html": [
       "\n",
       "    <div>\n",
       "        <style>\n",
       "            /* Turns off some styling */\n",
       "            progress {\n",
       "                /* gets rid of default border in Firefox and Opera. */\n",
       "                border: none;\n",
       "                /* Needs to be in here for Safari polyfill so background images work as expected. */\n",
       "                background-size: auto;\n",
       "            }\n",
       "            .progress-bar-interrupted, .progress-bar-interrupted::-webkit-progress-bar {\n",
       "                background: #F44336;\n",
       "            }\n",
       "        </style>\n",
       "      <progress value='12' class='' max='12', style='width:300px; height:20px; vertical-align: middle;'></progress>\n",
       "      100.00% [12/12 00:14<00:00]\n",
       "    </div>\n",
       "    "
      ],
      "text/plain": [
       "<IPython.core.display.HTML object>"
      ]
     },
     "metadata": {},
     "output_type": "display_data"
    },
    {
     "name": "stderr",
     "output_type": "stream",
     "text": [
      "INFO:root:eval_loss after step 620: 0.21146428088347116: \n",
      "INFO:root:eval_accuracy_multilabel after step 620: 0.526595744680851: \n",
      "INFO:root:eval_accuracy_thresh after step 620: 0.924962043762207: \n",
      "INFO:root:eval_roc_auc after step 620: 0.9223737166068582: \n",
      "INFO:root:eval_fbeta after step 620: 0.5950745344161987: \n",
      "INFO:root:lr after step 620: 4.964582201835856e-05\n",
      "INFO:root:train_loss after step 620: 0.20323487147688865\n",
      "INFO:root:Running evaluation\n",
      "INFO:root:  Num examples = 376\n",
      "INFO:root:  Batch size = 32\n"
     ]
    },
    {
     "data": {
      "text/html": [
       "\n",
       "    <div>\n",
       "        <style>\n",
       "            /* Turns off some styling */\n",
       "            progress {\n",
       "                /* gets rid of default border in Firefox and Opera. */\n",
       "                border: none;\n",
       "                /* Needs to be in here for Safari polyfill so background images work as expected. */\n",
       "                background-size: auto;\n",
       "            }\n",
       "            .progress-bar-interrupted, .progress-bar-interrupted::-webkit-progress-bar {\n",
       "                background: #F44336;\n",
       "            }\n",
       "        </style>\n",
       "      <progress value='12' class='' max='12', style='width:300px; height:20px; vertical-align: middle;'></progress>\n",
       "      100.00% [12/12 00:14<00:00]\n",
       "    </div>\n",
       "    "
      ],
      "text/plain": [
       "<IPython.core.display.HTML object>"
      ]
     },
     "metadata": {},
     "output_type": "display_data"
    },
    {
     "name": "stderr",
     "output_type": "stream",
     "text": [
      "INFO:root:eval_loss after step 640: 0.19696818167964616: \n",
      "INFO:root:eval_accuracy_multilabel after step 640: 0.5292553191489362: \n",
      "INFO:root:eval_accuracy_thresh after step 640: 0.9280015230178833: \n",
      "INFO:root:eval_roc_auc after step 640: 0.9350333619916267: \n",
      "INFO:root:eval_fbeta after step 640: 0.5809414982795715: \n",
      "INFO:root:lr after step 640: 4.6219224523667933e-05\n",
      "INFO:root:train_loss after step 640: 0.20382243543863296\n",
      "INFO:root:Running evaluation\n",
      "INFO:root:  Num examples = 376\n",
      "INFO:root:  Batch size = 32\n"
     ]
    },
    {
     "data": {
      "text/html": [
       "\n",
       "    <div>\n",
       "        <style>\n",
       "            /* Turns off some styling */\n",
       "            progress {\n",
       "                /* gets rid of default border in Firefox and Opera. */\n",
       "                border: none;\n",
       "                /* Needs to be in here for Safari polyfill so background images work as expected. */\n",
       "                background-size: auto;\n",
       "            }\n",
       "            .progress-bar-interrupted, .progress-bar-interrupted::-webkit-progress-bar {\n",
       "                background: #F44336;\n",
       "            }\n",
       "        </style>\n",
       "      <progress value='12' class='' max='12', style='width:300px; height:20px; vertical-align: middle;'></progress>\n",
       "      100.00% [12/12 00:14<00:00]\n",
       "    </div>\n",
       "    "
      ],
      "text/plain": [
       "<IPython.core.display.HTML object>"
      ]
     },
     "metadata": {},
     "output_type": "display_data"
    },
    {
     "name": "stderr",
     "output_type": "stream",
     "text": [
      "INFO:root:eval_loss after epoch 7: 0.19158807645241419: \n",
      "INFO:root:eval_accuracy_multilabel after epoch 7: 0.5398936170212766: \n",
      "INFO:root:eval_accuracy_thresh after epoch 7: 0.9327507615089417: \n",
      "INFO:root:eval_roc_auc after epoch 7: 0.9365239047547846: \n",
      "INFO:root:eval_fbeta after epoch 7: 0.6177889704704285: \n",
      "INFO:root:Running evaluation\n",
      "INFO:root:  Num examples = 376\n",
      "INFO:root:  Batch size = 32\n"
     ]
    },
    {
     "data": {
      "text/html": [
       "\n",
       "    <div>\n",
       "        <style>\n",
       "            /* Turns off some styling */\n",
       "            progress {\n",
       "                /* gets rid of default border in Firefox and Opera. */\n",
       "                border: none;\n",
       "                /* Needs to be in here for Safari polyfill so background images work as expected. */\n",
       "                background-size: auto;\n",
       "            }\n",
       "            .progress-bar-interrupted, .progress-bar-interrupted::-webkit-progress-bar {\n",
       "                background: #F44336;\n",
       "            }\n",
       "        </style>\n",
       "      <progress value='12' class='' max='12', style='width:300px; height:20px; vertical-align: middle;'></progress>\n",
       "      100.00% [12/12 00:14<00:00]\n",
       "    </div>\n",
       "    "
      ],
      "text/plain": [
       "<IPython.core.display.HTML object>"
      ]
     },
     "metadata": {},
     "output_type": "display_data"
    },
    {
     "name": "stderr",
     "output_type": "stream",
     "text": [
      "INFO:root:eval_loss after step 660: 0.19023054465651512: \n",
      "INFO:root:eval_accuracy_multilabel after step 660: 0.5345744680851063: \n",
      "INFO:root:eval_accuracy_thresh after step 660: 0.9348404407501221: \n",
      "INFO:root:eval_roc_auc after step 660: 0.9387665719696969: \n",
      "INFO:root:eval_fbeta after step 660: 0.6275178790092468: \n",
      "INFO:root:lr after step 660: 4.24624503900566e-05\n",
      "INFO:root:train_loss after step 660: 0.19277693554759026\n",
      "INFO:root:Running evaluation\n",
      "INFO:root:  Num examples = 376\n",
      "INFO:root:  Batch size = 32\n"
     ]
    },
    {
     "data": {
      "text/html": [
       "\n",
       "    <div>\n",
       "        <style>\n",
       "            /* Turns off some styling */\n",
       "            progress {\n",
       "                /* gets rid of default border in Firefox and Opera. */\n",
       "                border: none;\n",
       "                /* Needs to be in here for Safari polyfill so background images work as expected. */\n",
       "                background-size: auto;\n",
       "            }\n",
       "            .progress-bar-interrupted, .progress-bar-interrupted::-webkit-progress-bar {\n",
       "                background: #F44336;\n",
       "            }\n",
       "        </style>\n",
       "      <progress value='12' class='' max='12', style='width:300px; height:20px; vertical-align: middle;'></progress>\n",
       "      100.00% [12/12 00:14<00:00]\n",
       "    </div>\n",
       "    "
      ],
      "text/plain": [
       "<IPython.core.display.HTML object>"
      ]
     },
     "metadata": {},
     "output_type": "display_data"
    },
    {
     "name": "stderr",
     "output_type": "stream",
     "text": [
      "INFO:root:eval_loss after step 680: 0.18656699359416962: \n",
      "INFO:root:eval_accuracy_multilabel after step 680: 0.574468085106383: \n",
      "INFO:root:eval_accuracy_thresh after step 680: 0.9411094188690186: \n",
      "INFO:root:eval_roc_auc after step 680: 0.9504504336124402: \n",
      "INFO:root:eval_fbeta after step 680: 0.6550090312957764: \n",
      "INFO:root:lr after step 680: 3.845197670524289e-05\n",
      "INFO:root:train_loss after step 680: 0.17208859249949454\n",
      "INFO:root:Running evaluation\n",
      "INFO:root:  Num examples = 376\n",
      "INFO:root:  Batch size = 32\n"
     ]
    },
    {
     "data": {
      "text/html": [
       "\n",
       "    <div>\n",
       "        <style>\n",
       "            /* Turns off some styling */\n",
       "            progress {\n",
       "                /* gets rid of default border in Firefox and Opera. */\n",
       "                border: none;\n",
       "                /* Needs to be in here for Safari polyfill so background images work as expected. */\n",
       "                background-size: auto;\n",
       "            }\n",
       "            .progress-bar-interrupted, .progress-bar-interrupted::-webkit-progress-bar {\n",
       "                background: #F44336;\n",
       "            }\n",
       "        </style>\n",
       "      <progress value='12' class='' max='12', style='width:300px; height:20px; vertical-align: middle;'></progress>\n",
       "      100.00% [12/12 00:14<00:00]\n",
       "    </div>\n",
       "    "
      ],
      "text/plain": [
       "<IPython.core.display.HTML object>"
      ]
     },
     "metadata": {},
     "output_type": "display_data"
    },
    {
     "name": "stderr",
     "output_type": "stream",
     "text": [
      "INFO:root:eval_loss after step 700: 0.1698215069870154: \n",
      "INFO:root:eval_accuracy_multilabel after step 700: 0.5425531914893617: \n",
      "INFO:root:eval_accuracy_thresh after step 700: 0.9439589977264404: \n",
      "INFO:root:eval_roc_auc after step 700: 0.9541570100677831: \n",
      "INFO:root:eval_fbeta after step 700: 0.6556284427642822: \n",
      "INFO:root:lr after step 700: 3.426944514819856e-05\n",
      "INFO:root:train_loss after step 700: 0.16643343046307563\n",
      "INFO:root:Running evaluation\n",
      "INFO:root:  Num examples = 376\n",
      "INFO:root:  Batch size = 32\n"
     ]
    },
    {
     "data": {
      "text/html": [
       "\n",
       "    <div>\n",
       "        <style>\n",
       "            /* Turns off some styling */\n",
       "            progress {\n",
       "                /* gets rid of default border in Firefox and Opera. */\n",
       "                border: none;\n",
       "                /* Needs to be in here for Safari polyfill so background images work as expected. */\n",
       "                background-size: auto;\n",
       "            }\n",
       "            .progress-bar-interrupted, .progress-bar-interrupted::-webkit-progress-bar {\n",
       "                background: #F44336;\n",
       "            }\n",
       "        </style>\n",
       "      <progress value='12' class='' max='12', style='width:300px; height:20px; vertical-align: middle;'></progress>\n",
       "      100.00% [12/12 00:14<00:00]\n",
       "    </div>\n",
       "    "
      ],
      "text/plain": [
       "<IPython.core.display.HTML object>"
      ]
     },
     "metadata": {},
     "output_type": "display_data"
    },
    {
     "name": "stderr",
     "output_type": "stream",
     "text": [
      "INFO:root:eval_loss after step 720: 0.1624588780105114: \n",
      "INFO:root:eval_accuracy_multilabel after step 720: 0.5425531914893617: \n",
      "INFO:root:eval_accuracy_thresh after step 720: 0.9473784565925598: \n",
      "INFO:root:eval_roc_auc after step 720: 0.9605309883373205: \n",
      "INFO:root:eval_fbeta after step 720: 0.6774908900260925: \n",
      "INFO:root:lr after step 720: 3e-05\n",
      "INFO:root:train_loss after step 720: 0.16628207489848137\n",
      "INFO:root:Running evaluation\n",
      "INFO:root:  Num examples = 376\n",
      "INFO:root:  Batch size = 32\n"
     ]
    },
    {
     "data": {
      "text/html": [
       "\n",
       "    <div>\n",
       "        <style>\n",
       "            /* Turns off some styling */\n",
       "            progress {\n",
       "                /* gets rid of default border in Firefox and Opera. */\n",
       "                border: none;\n",
       "                /* Needs to be in here for Safari polyfill so background images work as expected. */\n",
       "                background-size: auto;\n",
       "            }\n",
       "            .progress-bar-interrupted, .progress-bar-interrupted::-webkit-progress-bar {\n",
       "                background: #F44336;\n",
       "            }\n",
       "        </style>\n",
       "      <progress value='12' class='' max='12', style='width:300px; height:20px; vertical-align: middle;'></progress>\n",
       "      100.00% [12/12 00:14<00:00]\n",
       "    </div>\n",
       "    "
      ],
      "text/plain": [
       "<IPython.core.display.HTML object>"
      ]
     },
     "metadata": {},
     "output_type": "display_data"
    },
    {
     "name": "stderr",
     "output_type": "stream",
     "text": [
      "INFO:root:eval_loss after step 740: 0.15306006806592146: \n",
      "INFO:root:eval_accuracy_multilabel after step 740: 0.5452127659574468: \n",
      "INFO:root:eval_accuracy_thresh after step 740: 0.9523176550865173: \n",
      "INFO:root:eval_roc_auc after step 740: 0.9626169694477671: \n",
      "INFO:root:eval_fbeta after step 740: 0.6934199929237366: \n",
      "INFO:root:lr after step 740: 2.573055485180145e-05\n",
      "INFO:root:train_loss after step 740: 0.15547022074460984\n",
      "INFO:root:Running evaluation\n",
      "INFO:root:  Num examples = 376\n",
      "INFO:root:  Batch size = 32\n"
     ]
    },
    {
     "data": {
      "text/html": [
       "\n",
       "    <div>\n",
       "        <style>\n",
       "            /* Turns off some styling */\n",
       "            progress {\n",
       "                /* gets rid of default border in Firefox and Opera. */\n",
       "                border: none;\n",
       "                /* Needs to be in here for Safari polyfill so background images work as expected. */\n",
       "                background-size: auto;\n",
       "            }\n",
       "            .progress-bar-interrupted, .progress-bar-interrupted::-webkit-progress-bar {\n",
       "                background: #F44336;\n",
       "            }\n",
       "        </style>\n",
       "      <progress value='12' class='' max='12', style='width:300px; height:20px; vertical-align: middle;'></progress>\n",
       "      100.00% [12/12 00:14<00:00]\n",
       "    </div>\n",
       "    "
      ],
      "text/plain": [
       "<IPython.core.display.HTML object>"
      ]
     },
     "metadata": {},
     "output_type": "display_data"
    },
    {
     "name": "stderr",
     "output_type": "stream",
     "text": [
      "INFO:root:eval_loss after epoch 8: 0.14780312528212866: \n",
      "INFO:root:eval_accuracy_multilabel after epoch 8: 0.5531914893617021: \n",
      "INFO:root:eval_accuracy_thresh after epoch 8: 0.9547872543334961: \n",
      "INFO:root:eval_roc_auc after epoch 8: 0.9675608365729664: \n",
      "INFO:root:eval_fbeta after epoch 8: 0.7022637724876404: \n",
      "INFO:root:Running evaluation\n",
      "INFO:root:  Num examples = 376\n",
      "INFO:root:  Batch size = 32\n"
     ]
    },
    {
     "data": {
      "text/html": [
       "\n",
       "    <div>\n",
       "        <style>\n",
       "            /* Turns off some styling */\n",
       "            progress {\n",
       "                /* gets rid of default border in Firefox and Opera. */\n",
       "                border: none;\n",
       "                /* Needs to be in here for Safari polyfill so background images work as expected. */\n",
       "                background-size: auto;\n",
       "            }\n",
       "            .progress-bar-interrupted, .progress-bar-interrupted::-webkit-progress-bar {\n",
       "                background: #F44336;\n",
       "            }\n",
       "        </style>\n",
       "      <progress value='12' class='' max='12', style='width:300px; height:20px; vertical-align: middle;'></progress>\n",
       "      100.00% [12/12 00:14<00:00]\n",
       "    </div>\n",
       "    "
      ],
      "text/plain": [
       "<IPython.core.display.HTML object>"
      ]
     },
     "metadata": {},
     "output_type": "display_data"
    },
    {
     "name": "stderr",
     "output_type": "stream",
     "text": [
      "INFO:root:eval_loss after step 760: 0.1448595511416594: \n",
      "INFO:root:eval_accuracy_multilabel after step 760: 0.5797872340425532: \n",
      "INFO:root:eval_accuracy_thresh after step 760: 0.9551671743392944: \n",
      "INFO:root:eval_roc_auc after step 760: 0.9693030739134769: \n",
      "INFO:root:eval_fbeta after step 760: 0.696286678314209: \n",
      "INFO:root:lr after step 760: 2.154802329475711e-05\n",
      "INFO:root:train_loss after step 760: 0.14713641293346882\n",
      "INFO:root:Running evaluation\n",
      "INFO:root:  Num examples = 376\n",
      "INFO:root:  Batch size = 32\n"
     ]
    },
    {
     "data": {
      "text/html": [
       "\n",
       "    <div>\n",
       "        <style>\n",
       "            /* Turns off some styling */\n",
       "            progress {\n",
       "                /* gets rid of default border in Firefox and Opera. */\n",
       "                border: none;\n",
       "                /* Needs to be in here for Safari polyfill so background images work as expected. */\n",
       "                background-size: auto;\n",
       "            }\n",
       "            .progress-bar-interrupted, .progress-bar-interrupted::-webkit-progress-bar {\n",
       "                background: #F44336;\n",
       "            }\n",
       "        </style>\n",
       "      <progress value='12' class='' max='12', style='width:300px; height:20px; vertical-align: middle;'></progress>\n",
       "      100.00% [12/12 00:14<00:00]\n",
       "    </div>\n",
       "    "
      ],
      "text/plain": [
       "<IPython.core.display.HTML object>"
      ]
     },
     "metadata": {},
     "output_type": "display_data"
    },
    {
     "name": "stderr",
     "output_type": "stream",
     "text": [
      "INFO:root:eval_loss after step 780: 0.1420874564598004: \n",
      "INFO:root:eval_accuracy_multilabel after step 780: 0.5638297872340425: \n",
      "INFO:root:eval_accuracy_thresh after step 780: 0.9599164128303528: \n",
      "INFO:root:eval_roc_auc after step 780: 0.9724238686204147: \n",
      "INFO:root:eval_fbeta after step 780: 0.7099393010139465: \n",
      "INFO:root:lr after step 780: 1.753754960994341e-05\n",
      "INFO:root:train_loss after step 780: 0.13847305588424205\n",
      "INFO:root:Running evaluation\n",
      "INFO:root:  Num examples = 376\n",
      "INFO:root:  Batch size = 32\n"
     ]
    },
    {
     "data": {
      "text/html": [
       "\n",
       "    <div>\n",
       "        <style>\n",
       "            /* Turns off some styling */\n",
       "            progress {\n",
       "                /* gets rid of default border in Firefox and Opera. */\n",
       "                border: none;\n",
       "                /* Needs to be in here for Safari polyfill so background images work as expected. */\n",
       "                background-size: auto;\n",
       "            }\n",
       "            .progress-bar-interrupted, .progress-bar-interrupted::-webkit-progress-bar {\n",
       "                background: #F44336;\n",
       "            }\n",
       "        </style>\n",
       "      <progress value='12' class='' max='12', style='width:300px; height:20px; vertical-align: middle;'></progress>\n",
       "      100.00% [12/12 00:14<00:00]\n",
       "    </div>\n",
       "    "
      ],
      "text/plain": [
       "<IPython.core.display.HTML object>"
      ]
     },
     "metadata": {},
     "output_type": "display_data"
    },
    {
     "name": "stderr",
     "output_type": "stream",
     "text": [
      "INFO:root:eval_loss after step 800: 0.13680805762608847: \n",
      "INFO:root:eval_accuracy_multilabel after step 800: 0.550531914893617: \n",
      "INFO:root:eval_accuracy_thresh after step 800: 0.9593465328216553: \n",
      "INFO:root:eval_roc_auc after step 800: 0.9734851599880383: \n",
      "INFO:root:eval_fbeta after step 800: 0.7130834460258484: \n",
      "INFO:root:lr after step 800: 1.3780775476332083e-05\n",
      "INFO:root:train_loss after step 800: 0.1344921063631773\n",
      "INFO:root:Running evaluation\n",
      "INFO:root:  Num examples = 376\n",
      "INFO:root:  Batch size = 32\n"
     ]
    },
    {
     "data": {
      "text/html": [
       "\n",
       "    <div>\n",
       "        <style>\n",
       "            /* Turns off some styling */\n",
       "            progress {\n",
       "                /* gets rid of default border in Firefox and Opera. */\n",
       "                border: none;\n",
       "                /* Needs to be in here for Safari polyfill so background images work as expected. */\n",
       "                background-size: auto;\n",
       "            }\n",
       "            .progress-bar-interrupted, .progress-bar-interrupted::-webkit-progress-bar {\n",
       "                background: #F44336;\n",
       "            }\n",
       "        </style>\n",
       "      <progress value='12' class='' max='12', style='width:300px; height:20px; vertical-align: middle;'></progress>\n",
       "      100.00% [12/12 00:14<00:00]\n",
       "    </div>\n",
       "    "
      ],
      "text/plain": [
       "<IPython.core.display.HTML object>"
      ]
     },
     "metadata": {},
     "output_type": "display_data"
    },
    {
     "name": "stderr",
     "output_type": "stream",
     "text": [
      "INFO:root:eval_loss after step 820: 0.1318874123195807: \n",
      "INFO:root:eval_accuracy_multilabel after step 820: 0.5452127659574468: \n",
      "INFO:root:eval_accuracy_thresh after step 820: 0.9614361524581909: \n",
      "INFO:root:eval_roc_auc after step 820: 0.9766785349381977: \n",
      "INFO:root:eval_fbeta after step 820: 0.7197984457015991: \n",
      "INFO:root:lr after step 820: 1.035417798164145e-05\n",
      "INFO:root:train_loss after step 820: 0.1235019788146019\n",
      "INFO:root:Running evaluation\n",
      "INFO:root:  Num examples = 376\n",
      "INFO:root:  Batch size = 32\n"
     ]
    },
    {
     "data": {
      "text/html": [
       "\n",
       "    <div>\n",
       "        <style>\n",
       "            /* Turns off some styling */\n",
       "            progress {\n",
       "                /* gets rid of default border in Firefox and Opera. */\n",
       "                border: none;\n",
       "                /* Needs to be in here for Safari polyfill so background images work as expected. */\n",
       "                background-size: auto;\n",
       "            }\n",
       "            .progress-bar-interrupted, .progress-bar-interrupted::-webkit-progress-bar {\n",
       "                background: #F44336;\n",
       "            }\n",
       "        </style>\n",
       "      <progress value='12' class='' max='12', style='width:300px; height:20px; vertical-align: middle;'></progress>\n",
       "      100.00% [12/12 00:14<00:00]\n",
       "    </div>\n",
       "    "
      ],
      "text/plain": [
       "<IPython.core.display.HTML object>"
      ]
     },
     "metadata": {},
     "output_type": "display_data"
    },
    {
     "name": "stderr",
     "output_type": "stream",
     "text": [
      "INFO:root:eval_loss after step 840: 0.12795358647902808: \n",
      "INFO:root:eval_accuracy_multilabel after step 840: 0.5664893617021277: \n",
      "INFO:root:eval_accuracy_thresh after step 840: 0.964475691318512: \n",
      "INFO:root:eval_roc_auc after step 840: 0.9789824125299044: \n",
      "INFO:root:eval_fbeta after step 840: 0.7247323989868164: \n",
      "INFO:root:lr after step 840: 7.3275127693722555e-06\n",
      "INFO:root:train_loss after step 840: 0.13364980295300483\n",
      "INFO:root:Running evaluation\n",
      "INFO:root:  Num examples = 376\n",
      "INFO:root:  Batch size = 32\n"
     ]
    },
    {
     "data": {
      "text/html": [
       "\n",
       "    <div>\n",
       "        <style>\n",
       "            /* Turns off some styling */\n",
       "            progress {\n",
       "                /* gets rid of default border in Firefox and Opera. */\n",
       "                border: none;\n",
       "                /* Needs to be in here for Safari polyfill so background images work as expected. */\n",
       "                background-size: auto;\n",
       "            }\n",
       "            .progress-bar-interrupted, .progress-bar-interrupted::-webkit-progress-bar {\n",
       "                background: #F44336;\n",
       "            }\n",
       "        </style>\n",
       "      <progress value='12' class='' max='12', style='width:300px; height:20px; vertical-align: middle;'></progress>\n",
       "      100.00% [12/12 00:14<00:00]\n",
       "    </div>\n",
       "    "
      ],
      "text/plain": [
       "<IPython.core.display.HTML object>"
      ]
     },
     "metadata": {},
     "output_type": "display_data"
    },
    {
     "name": "stderr",
     "output_type": "stream",
     "text": [
      "INFO:root:eval_loss after epoch 9: 0.12688010496397814: \n",
      "INFO:root:eval_accuracy_multilabel after epoch 9: 0.5611702127659575: \n",
      "INFO:root:eval_accuracy_thresh after epoch 9: 0.9650456309318542: \n",
      "INFO:root:eval_roc_auc after epoch 9: 0.9788238574063: \n",
      "INFO:root:eval_fbeta after epoch 9: 0.7235589027404785: \n",
      "INFO:root:Running evaluation\n",
      "INFO:root:  Num examples = 376\n",
      "INFO:root:  Batch size = 32\n"
     ]
    },
    {
     "data": {
      "text/html": [
       "\n",
       "    <div>\n",
       "        <style>\n",
       "            /* Turns off some styling */\n",
       "            progress {\n",
       "                /* gets rid of default border in Firefox and Opera. */\n",
       "                border: none;\n",
       "                /* Needs to be in here for Safari polyfill so background images work as expected. */\n",
       "                background-size: auto;\n",
       "            }\n",
       "            .progress-bar-interrupted, .progress-bar-interrupted::-webkit-progress-bar {\n",
       "                background: #F44336;\n",
       "            }\n",
       "        </style>\n",
       "      <progress value='12' class='' max='12', style='width:300px; height:20px; vertical-align: middle;'></progress>\n",
       "      100.00% [12/12 00:14<00:00]\n",
       "    </div>\n",
       "    "
      ],
      "text/plain": [
       "<IPython.core.display.HTML object>"
      ]
     },
     "metadata": {},
     "output_type": "display_data"
    },
    {
     "name": "stderr",
     "output_type": "stream",
     "text": [
      "INFO:root:eval_loss after step 860: 0.12626786592106023: \n",
      "INFO:root:eval_accuracy_multilabel after step 860: 0.5611702127659575: \n",
      "INFO:root:eval_accuracy_thresh after step 860: 0.9652355909347534: \n",
      "INFO:root:eval_roc_auc after step 860: 0.9794206975179425: \n",
      "INFO:root:eval_fbeta after step 860: 0.7286032438278198: \n",
      "INFO:root:lr after step 860: 4.76239401506456e-06\n",
      "INFO:root:train_loss after step 860: 0.12455603443086147\n",
      "INFO:root:Running evaluation\n",
      "INFO:root:  Num examples = 376\n",
      "INFO:root:  Batch size = 32\n"
     ]
    },
    {
     "data": {
      "text/html": [
       "\n",
       "    <div>\n",
       "        <style>\n",
       "            /* Turns off some styling */\n",
       "            progress {\n",
       "                /* gets rid of default border in Firefox and Opera. */\n",
       "                border: none;\n",
       "                /* Needs to be in here for Safari polyfill so background images work as expected. */\n",
       "                background-size: auto;\n",
       "            }\n",
       "            .progress-bar-interrupted, .progress-bar-interrupted::-webkit-progress-bar {\n",
       "                background: #F44336;\n",
       "            }\n",
       "        </style>\n",
       "      <progress value='12' class='' max='12', style='width:300px; height:20px; vertical-align: middle;'></progress>\n",
       "      100.00% [12/12 00:14<00:00]\n",
       "    </div>\n",
       "    "
      ],
      "text/plain": [
       "<IPython.core.display.HTML object>"
      ]
     },
     "metadata": {},
     "output_type": "display_data"
    },
    {
     "name": "stderr",
     "output_type": "stream",
     "text": [
      "INFO:root:eval_loss after step 880: 0.12470618449151516: \n",
      "INFO:root:eval_accuracy_multilabel after step 880: 0.5558510638297872: \n",
      "INFO:root:eval_accuracy_thresh after step 880: 0.9656155109405518: \n",
      "INFO:root:eval_roc_auc after step 880: 0.9804020883173844: \n",
      "INFO:root:eval_fbeta after step 880: 0.728894054889679: \n",
      "INFO:root:lr after step 880: 2.711040139364447e-06\n",
      "INFO:root:train_loss after step 880: 0.12364947348833084\n",
      "INFO:root:Running evaluation\n",
      "INFO:root:  Num examples = 376\n",
      "INFO:root:  Batch size = 32\n"
     ]
    },
    {
     "data": {
      "text/html": [
       "\n",
       "    <div>\n",
       "        <style>\n",
       "            /* Turns off some styling */\n",
       "            progress {\n",
       "                /* gets rid of default border in Firefox and Opera. */\n",
       "                border: none;\n",
       "                /* Needs to be in here for Safari polyfill so background images work as expected. */\n",
       "                background-size: auto;\n",
       "            }\n",
       "            .progress-bar-interrupted, .progress-bar-interrupted::-webkit-progress-bar {\n",
       "                background: #F44336;\n",
       "            }\n",
       "        </style>\n",
       "      <progress value='12' class='' max='12', style='width:300px; height:20px; vertical-align: middle;'></progress>\n",
       "      100.00% [12/12 00:14<00:00]\n",
       "    </div>\n",
       "    "
      ],
      "text/plain": [
       "<IPython.core.display.HTML object>"
      ]
     },
     "metadata": {},
     "output_type": "display_data"
    },
    {
     "name": "stderr",
     "output_type": "stream",
     "text": [
      "INFO:root:eval_loss after step 900: 0.12454178122182687: \n",
      "INFO:root:eval_accuracy_multilabel after step 900: 0.5452127659574468: \n",
      "INFO:root:eval_accuracy_thresh after step 900: 0.9658054709434509: \n",
      "INFO:root:eval_roc_auc after step 900: 0.9806051883971292: \n",
      "INFO:root:eval_fbeta after step 900: 0.7313688397407532: \n",
      "INFO:root:lr after step 900: 1.2152107915650823e-06\n",
      "INFO:root:train_loss after step 900: 0.11855292432010174\n",
      "INFO:root:Running evaluation\n",
      "INFO:root:  Num examples = 376\n",
      "INFO:root:  Batch size = 32\n"
     ]
    },
    {
     "data": {
      "text/html": [
       "\n",
       "    <div>\n",
       "        <style>\n",
       "            /* Turns off some styling */\n",
       "            progress {\n",
       "                /* gets rid of default border in Firefox and Opera. */\n",
       "                border: none;\n",
       "                /* Needs to be in here for Safari polyfill so background images work as expected. */\n",
       "                background-size: auto;\n",
       "            }\n",
       "            .progress-bar-interrupted, .progress-bar-interrupted::-webkit-progress-bar {\n",
       "                background: #F44336;\n",
       "            }\n",
       "        </style>\n",
       "      <progress value='12' class='' max='12', style='width:300px; height:20px; vertical-align: middle;'></progress>\n",
       "      100.00% [12/12 00:14<00:00]\n",
       "    </div>\n",
       "    "
      ],
      "text/plain": [
       "<IPython.core.display.HTML object>"
      ]
     },
     "metadata": {},
     "output_type": "display_data"
    },
    {
     "name": "stderr",
     "output_type": "stream",
     "text": [
      "INFO:root:eval_loss after step 920: 0.12379382488628228: \n",
      "INFO:root:eval_accuracy_multilabel after step 920: 0.5478723404255319: \n",
      "INFO:root:eval_accuracy_thresh after step 920: 0.9663754105567932: \n",
      "INFO:root:eval_roc_auc after step 920: 0.9808177893241627: \n",
      "INFO:root:eval_fbeta after step 920: 0.7329977750778198: \n",
      "INFO:root:lr after step 920: 3.053567435720195e-07\n",
      "INFO:root:train_loss after step 920: 0.11797427535057067\n",
      "INFO:root:Running evaluation\n",
      "INFO:root:  Num examples = 376\n",
      "INFO:root:  Batch size = 32\n"
     ]
    },
    {
     "data": {
      "text/html": [
       "\n",
       "    <div>\n",
       "        <style>\n",
       "            /* Turns off some styling */\n",
       "            progress {\n",
       "                /* gets rid of default border in Firefox and Opera. */\n",
       "                border: none;\n",
       "                /* Needs to be in here for Safari polyfill so background images work as expected. */\n",
       "                background-size: auto;\n",
       "            }\n",
       "            .progress-bar-interrupted, .progress-bar-interrupted::-webkit-progress-bar {\n",
       "                background: #F44336;\n",
       "            }\n",
       "        </style>\n",
       "      <progress value='12' class='' max='12', style='width:300px; height:20px; vertical-align: middle;'></progress>\n",
       "      100.00% [12/12 00:14<00:00]\n",
       "    </div>\n",
       "    "
      ],
      "text/plain": [
       "<IPython.core.display.HTML object>"
      ]
     },
     "metadata": {},
     "output_type": "display_data"
    },
    {
     "name": "stderr",
     "output_type": "stream",
     "text": [
      "INFO:root:eval_loss after step 940: 0.12375071210165818: \n",
      "INFO:root:eval_accuracy_multilabel after step 940: 0.5478723404255319: \n",
      "INFO:root:eval_accuracy_thresh after step 940: 0.9667553305625916: \n",
      "INFO:root:eval_roc_auc after step 940: 0.9808486281399522: \n",
      "INFO:root:eval_fbeta after step 940: 0.7330515384674072: \n",
      "INFO:root:lr after step 940: 0.0\n",
      "INFO:root:train_loss after step 940: 0.11781796663999558\n",
      "INFO:root:Running evaluation\n",
      "INFO:root:  Num examples = 376\n",
      "INFO:root:  Batch size = 32\n"
     ]
    },
    {
     "data": {
      "text/html": [
       "\n",
       "    <div>\n",
       "        <style>\n",
       "            /* Turns off some styling */\n",
       "            progress {\n",
       "                /* gets rid of default border in Firefox and Opera. */\n",
       "                border: none;\n",
       "                /* Needs to be in here for Safari polyfill so background images work as expected. */\n",
       "                background-size: auto;\n",
       "            }\n",
       "            .progress-bar-interrupted, .progress-bar-interrupted::-webkit-progress-bar {\n",
       "                background: #F44336;\n",
       "            }\n",
       "        </style>\n",
       "      <progress value='12' class='' max='12', style='width:300px; height:20px; vertical-align: middle;'></progress>\n",
       "      100.00% [12/12 00:14<00:00]\n",
       "    </div>\n",
       "    "
      ],
      "text/plain": [
       "<IPython.core.display.HTML object>"
      ]
     },
     "metadata": {},
     "output_type": "display_data"
    },
    {
     "name": "stderr",
     "output_type": "stream",
     "text": [
      "INFO:root:eval_loss after epoch 10: 0.12375071210165818: \n",
      "INFO:root:eval_accuracy_multilabel after epoch 10: 0.5478723404255319: \n",
      "INFO:root:eval_accuracy_thresh after epoch 10: 0.9667553305625916: \n",
      "INFO:root:eval_roc_auc after epoch 10: 0.9808486281399522: \n",
      "INFO:root:eval_fbeta after epoch 10: 0.7330515384674072: \n",
      "INFO:pytorch_transformers.tokenization_utils:Model name 'biobert' not found in model shortcut name list (bert-base-uncased, bert-large-uncased, bert-base-cased, bert-large-cased, bert-base-multilingual-uncased, bert-base-multilingual-cased, bert-base-chinese, bert-base-german-cased, bert-large-uncased-whole-word-masking, bert-large-cased-whole-word-masking, bert-large-uncased-whole-word-masking-finetuned-squad, bert-large-cased-whole-word-masking-finetuned-squad, bert-base-cased-finetuned-mrpc). Assuming 'biobert' is a path or url to a directory containing tokenizer files.\n",
      "INFO:pytorch_transformers.tokenization_utils:Didn't find file biobert/added_tokens.json. We won't load it.\n",
      "INFO:pytorch_transformers.tokenization_utils:Didn't find file biobert/special_tokens_map.json. We won't load it.\n",
      "INFO:pytorch_transformers.tokenization_utils:loading file None\n",
      "INFO:pytorch_transformers.tokenization_utils:loading file None\n",
      "INFO:pytorch_transformers.tokenization_utils:loading file biobert/vocab.txt\n",
      "INFO:root:Writing example 0 of 1501\n",
      "INFO:root:Saving features into cached file data/phenotype_classification/transformer/synthetic/cache/cached_train_multi_label_512\n",
      "INFO:root:Writing example 0 of 188\n",
      "INFO:root:Saving features into cached file data/phenotype_classification/transformer/synthetic/cache/cached_dev_multi_label_512\n",
      "INFO:pytorch_transformers.modeling_utils:loading configuration file biobert/config.json\n",
      "INFO:pytorch_transformers.modeling_utils:Model config {\n",
      "  \"attention_probs_dropout_prob\": 0.1,\n",
      "  \"finetuning_task\": null,\n",
      "  \"hidden_act\": \"gelu\",\n",
      "  \"hidden_dropout_prob\": 0.1,\n",
      "  \"hidden_size\": 768,\n",
      "  \"initializer_range\": 0.02,\n",
      "  \"intermediate_size\": 3072,\n",
      "  \"layer_norm_eps\": 1e-12,\n",
      "  \"max_position_embeddings\": 512,\n",
      "  \"num_attention_heads\": 12,\n",
      "  \"num_hidden_layers\": 12,\n",
      "  \"num_labels\": 14,\n",
      "  \"output_attentions\": false,\n",
      "  \"output_hidden_states\": false,\n",
      "  \"torchscript\": false,\n",
      "  \"type_vocab_size\": 2,\n",
      "  \"vocab_size\": 28996\n",
      "}\n",
      "\n",
      "INFO:pytorch_transformers.modeling_utils:loading weights file biobert/pytorch_model.bin\n",
      "INFO:pytorch_transformers.modeling_utils:Weights of BertForMultiLabelSequenceClassification not initialized from pretrained model: ['classifier.weight', 'classifier.bias']\n",
      "INFO:pytorch_transformers.modeling_utils:Weights from pretrained model not used in BertForMultiLabelSequenceClassification: ['cls.predictions.bias', 'cls.predictions.transform.dense.weight', 'cls.predictions.transform.dense.bias', 'cls.predictions.transform.LayerNorm.weight', 'cls.predictions.transform.LayerNorm.bias', 'cls.predictions.decoder.weight', 'cls.seq_relationship.weight', 'cls.seq_relationship.bias']\n",
      "INFO:root:***** Running training *****\n",
      "INFO:root:  Num examples = 1501\n",
      "INFO:root:  Num Epochs = 10\n",
      "INFO:root:  Total train batch size (w. parallel, distributed & accumulation) = 32\n",
      "INFO:root:  Gradient Accumulation steps = 1\n",
      "INFO:root:  Total optimization steps = 470\n"
     ]
    },
    {
     "name": "stdout",
     "output_type": "stream",
     "text": [
      "data/phenotype_classification/transformer/synthetic/output/biobert/tensorboard\n",
      "Selected optimization level O1:  Insert automatic casts around Pytorch functions and Tensor methods.\n",
      "\n",
      "Defaults for this optimization level are:\n",
      "enabled                : True\n",
      "opt_level              : O1\n",
      "cast_model_type        : None\n",
      "patch_torch_functions  : True\n",
      "keep_batchnorm_fp32    : None\n",
      "master_weights         : None\n",
      "loss_scale             : dynamic\n",
      "Processing user overrides (additional kwargs that are not None)...\n",
      "After processing overrides, optimization options are:\n",
      "enabled                : True\n",
      "opt_level              : O1\n",
      "cast_model_type        : None\n",
      "patch_torch_functions  : True\n",
      "keep_batchnorm_fp32    : None\n",
      "master_weights         : None\n",
      "loss_scale             : dynamic\n"
     ]
    },
    {
     "data": {
      "text/html": [
       "\n",
       "    <div>\n",
       "        <style>\n",
       "            /* Turns off some styling */\n",
       "            progress {\n",
       "                /* gets rid of default border in Firefox and Opera. */\n",
       "                border: none;\n",
       "                /* Needs to be in here for Safari polyfill so background images work as expected. */\n",
       "                background-size: auto;\n",
       "            }\n",
       "            .progress-bar-interrupted, .progress-bar-interrupted::-webkit-progress-bar {\n",
       "                background: #F44336;\n",
       "            }\n",
       "        </style>\n",
       "      <progress value='4' class='' max='10', style='width:300px; height:20px; vertical-align: middle;'></progress>\n",
       "      40.00% [4/10 12:25<18:38]\n",
       "    </div>\n",
       "    \n",
       "\n",
       "\n",
       "    <div>\n",
       "        <style>\n",
       "            /* Turns off some styling */\n",
       "            progress {\n",
       "                /* gets rid of default border in Firefox and Opera. */\n",
       "                border: none;\n",
       "                /* Needs to be in here for Safari polyfill so background images work as expected. */\n",
       "                background-size: auto;\n",
       "            }\n",
       "            .progress-bar-interrupted, .progress-bar-interrupted::-webkit-progress-bar {\n",
       "                background: #F44336;\n",
       "            }\n",
       "        </style>\n",
       "      <progress value='0' class='progress-bar-interrupted' max='47', style='width:300px; height:20px; vertical-align: middle;'></progress>\n",
       "      Interrupted\n",
       "    </div>\n",
       "    "
      ],
      "text/plain": [
       "<IPython.core.display.HTML object>"
      ]
     },
     "metadata": {},
     "output_type": "display_data"
    },
    {
     "name": "stderr",
     "output_type": "stream",
     "text": [
      "INFO:root:Running evaluation\n",
      "INFO:root:  Num examples = 188\n",
      "INFO:root:  Batch size = 32\n"
     ]
    },
    {
     "data": {
      "text/html": [
       "\n",
       "    <div>\n",
       "        <style>\n",
       "            /* Turns off some styling */\n",
       "            progress {\n",
       "                /* gets rid of default border in Firefox and Opera. */\n",
       "                border: none;\n",
       "                /* Needs to be in here for Safari polyfill so background images work as expected. */\n",
       "                background-size: auto;\n",
       "            }\n",
       "            .progress-bar-interrupted, .progress-bar-interrupted::-webkit-progress-bar {\n",
       "                background: #F44336;\n",
       "            }\n",
       "        </style>\n",
       "      <progress value='6' class='' max='6', style='width:300px; height:20px; vertical-align: middle;'></progress>\n",
       "      100.00% [6/6 00:07<00:00]\n",
       "    </div>\n",
       "    "
      ],
      "text/plain": [
       "<IPython.core.display.HTML object>"
      ]
     },
     "metadata": {},
     "output_type": "display_data"
    },
    {
     "name": "stderr",
     "output_type": "stream",
     "text": [
      "INFO:root:eval_loss after step 20: 0.6970422069231669: \n",
      "INFO:root:eval_accuracy_multilabel after step 20: 0.11170212765957446: \n",
      "INFO:root:eval_accuracy_thresh after step 20: 0.4407294988632202: \n",
      "INFO:root:eval_roc_auc after step 20: 0.6002800733826769: \n",
      "INFO:root:eval_fbeta after step 20: 0.34148284792900085: \n",
      "INFO:root:lr after step 20: 2.4000000000000003e-06\n",
      "INFO:root:train_loss after step 20: 0.727754658460617\n",
      "INFO:root:Running evaluation\n",
      "INFO:root:  Num examples = 188\n",
      "INFO:root:  Batch size = 32\n"
     ]
    },
    {
     "data": {
      "text/html": [
       "\n",
       "    <div>\n",
       "        <style>\n",
       "            /* Turns off some styling */\n",
       "            progress {\n",
       "                /* gets rid of default border in Firefox and Opera. */\n",
       "                border: none;\n",
       "                /* Needs to be in here for Safari polyfill so background images work as expected. */\n",
       "                background-size: auto;\n",
       "            }\n",
       "            .progress-bar-interrupted, .progress-bar-interrupted::-webkit-progress-bar {\n",
       "                background: #F44336;\n",
       "            }\n",
       "        </style>\n",
       "      <progress value='6' class='' max='6', style='width:300px; height:20px; vertical-align: middle;'></progress>\n",
       "      100.00% [6/6 00:07<00:00]\n",
       "    </div>\n",
       "    "
      ],
      "text/plain": [
       "<IPython.core.display.HTML object>"
      ]
     },
     "metadata": {},
     "output_type": "display_data"
    },
    {
     "name": "stderr",
     "output_type": "stream",
     "text": [
      "INFO:root:eval_loss after step 40: 0.5759041905403137: \n",
      "INFO:root:eval_accuracy_multilabel after step 40: 0.05319148936170213: \n",
      "INFO:root:eval_accuracy_thresh after step 40: 0.8332067131996155: \n",
      "INFO:root:eval_roc_auc after step 40: 0.6330039451815301: \n",
      "INFO:root:eval_fbeta after step 40: 0.3426564633846283: \n",
      "INFO:root:lr after step 40: 4.800000000000001e-06\n",
      "INFO:root:train_loss after step 40: 0.6513714492321014\n",
      "INFO:root:Running evaluation\n",
      "INFO:root:  Num examples = 188\n",
      "INFO:root:  Batch size = 32\n"
     ]
    },
    {
     "data": {
      "text/html": [
       "\n",
       "    <div>\n",
       "        <style>\n",
       "            /* Turns off some styling */\n",
       "            progress {\n",
       "                /* gets rid of default border in Firefox and Opera. */\n",
       "                border: none;\n",
       "                /* Needs to be in here for Safari polyfill so background images work as expected. */\n",
       "                background-size: auto;\n",
       "            }\n",
       "            .progress-bar-interrupted, .progress-bar-interrupted::-webkit-progress-bar {\n",
       "                background: #F44336;\n",
       "            }\n",
       "        </style>\n",
       "      <progress value='6' class='' max='6', style='width:300px; height:20px; vertical-align: middle;'></progress>\n",
       "      100.00% [6/6 00:07<00:00]\n",
       "    </div>\n",
       "    "
      ],
      "text/plain": [
       "<IPython.core.display.HTML object>"
      ]
     },
     "metadata": {},
     "output_type": "display_data"
    },
    {
     "name": "stderr",
     "output_type": "stream",
     "text": [
      "INFO:root:eval_loss after epoch 1: 0.5094102223714193: \n",
      "INFO:root:eval_accuracy_multilabel after epoch 1: 0.0425531914893617: \n",
      "INFO:root:eval_accuracy_thresh after epoch 1: 0.8856382966041565: \n",
      "INFO:root:eval_roc_auc after epoch 1: 0.6091366033482284: \n",
      "INFO:root:eval_fbeta after epoch 1: 0.3377731740474701: \n",
      "INFO:root:Running evaluation\n",
      "INFO:root:  Num examples = 188\n",
      "INFO:root:  Batch size = 32\n"
     ]
    },
    {
     "data": {
      "text/html": [
       "\n",
       "    <div>\n",
       "        <style>\n",
       "            /* Turns off some styling */\n",
       "            progress {\n",
       "                /* gets rid of default border in Firefox and Opera. */\n",
       "                border: none;\n",
       "                /* Needs to be in here for Safari polyfill so background images work as expected. */\n",
       "                background-size: auto;\n",
       "            }\n",
       "            .progress-bar-interrupted, .progress-bar-interrupted::-webkit-progress-bar {\n",
       "                background: #F44336;\n",
       "            }\n",
       "        </style>\n",
       "      <progress value='6' class='' max='6', style='width:300px; height:20px; vertical-align: middle;'></progress>\n",
       "      100.00% [6/6 00:07<00:00]\n",
       "    </div>\n",
       "    "
      ],
      "text/plain": [
       "<IPython.core.display.HTML object>"
      ]
     },
     "metadata": {},
     "output_type": "display_data"
    },
    {
     "name": "stderr",
     "output_type": "stream",
     "text": [
      "INFO:root:eval_loss after step 60: 0.4425976574420929: \n",
      "INFO:root:eval_accuracy_multilabel after step 60: 0.047872340425531915: \n",
      "INFO:root:eval_accuracy_thresh after step 60: 0.8867781162261963: \n",
      "INFO:root:eval_roc_auc after step 60: 0.6254687059689561: \n",
      "INFO:root:eval_fbeta after step 60: 0.31542277336120605: \n",
      "INFO:root:lr after step 60: 7.2e-06\n",
      "INFO:root:train_loss after step 60: 0.522059878706932\n",
      "INFO:root:Running evaluation\n",
      "INFO:root:  Num examples = 188\n",
      "INFO:root:  Batch size = 32\n"
     ]
    },
    {
     "data": {
      "text/html": [
       "\n",
       "    <div>\n",
       "        <style>\n",
       "            /* Turns off some styling */\n",
       "            progress {\n",
       "                /* gets rid of default border in Firefox and Opera. */\n",
       "                border: none;\n",
       "                /* Needs to be in here for Safari polyfill so background images work as expected. */\n",
       "                background-size: auto;\n",
       "            }\n",
       "            .progress-bar-interrupted, .progress-bar-interrupted::-webkit-progress-bar {\n",
       "                background: #F44336;\n",
       "            }\n",
       "        </style>\n",
       "      <progress value='6' class='' max='6', style='width:300px; height:20px; vertical-align: middle;'></progress>\n",
       "      100.00% [6/6 00:07<00:00]\n",
       "    </div>\n",
       "    "
      ],
      "text/plain": [
       "<IPython.core.display.HTML object>"
      ]
     },
     "metadata": {},
     "output_type": "display_data"
    },
    {
     "name": "stderr",
     "output_type": "stream",
     "text": [
      "INFO:root:eval_loss after step 80: 0.39222991466522217: \n",
      "INFO:root:eval_accuracy_multilabel after step 80: 0.047872340425531915: \n",
      "INFO:root:eval_accuracy_thresh after step 80: 0.8867781162261963: \n",
      "INFO:root:eval_roc_auc after step 80: 0.6367054283627496: \n",
      "INFO:root:eval_fbeta after step 80: 0.17409798502922058: \n",
      "INFO:root:lr after step 80: 9.600000000000001e-06\n",
      "INFO:root:train_loss after step 80: 0.43665044009685516\n",
      "INFO:root:Running evaluation\n",
      "INFO:root:  Num examples = 188\n",
      "INFO:root:  Batch size = 32\n"
     ]
    },
    {
     "data": {
      "text/html": [
       "\n",
       "    <div>\n",
       "        <style>\n",
       "            /* Turns off some styling */\n",
       "            progress {\n",
       "                /* gets rid of default border in Firefox and Opera. */\n",
       "                border: none;\n",
       "                /* Needs to be in here for Safari polyfill so background images work as expected. */\n",
       "                background-size: auto;\n",
       "            }\n",
       "            .progress-bar-interrupted, .progress-bar-interrupted::-webkit-progress-bar {\n",
       "                background: #F44336;\n",
       "            }\n",
       "        </style>\n",
       "      <progress value='6' class='' max='6', style='width:300px; height:20px; vertical-align: middle;'></progress>\n",
       "      100.00% [6/6 00:07<00:00]\n",
       "    </div>\n",
       "    "
      ],
      "text/plain": [
       "<IPython.core.display.HTML object>"
      ]
     },
     "metadata": {},
     "output_type": "display_data"
    },
    {
     "name": "stderr",
     "output_type": "stream",
     "text": [
      "INFO:root:eval_loss after epoch 2: 0.37447085479895276: \n",
      "INFO:root:eval_accuracy_multilabel after epoch 2: 0.047872340425531915: \n",
      "INFO:root:eval_accuracy_thresh after epoch 2: 0.8867781162261963: \n",
      "INFO:root:eval_roc_auc after epoch 2: 0.6384134734275346: \n",
      "INFO:root:eval_fbeta after epoch 2: 0.12116622179746628: \n",
      "INFO:root:Running evaluation\n",
      "INFO:root:  Num examples = 188\n",
      "INFO:root:  Batch size = 32\n"
     ]
    },
    {
     "data": {
      "text/html": [
       "\n",
       "    <div>\n",
       "        <style>\n",
       "            /* Turns off some styling */\n",
       "            progress {\n",
       "                /* gets rid of default border in Firefox and Opera. */\n",
       "                border: none;\n",
       "                /* Needs to be in here for Safari polyfill so background images work as expected. */\n",
       "                background-size: auto;\n",
       "            }\n",
       "            .progress-bar-interrupted, .progress-bar-interrupted::-webkit-progress-bar {\n",
       "                background: #F44336;\n",
       "            }\n",
       "        </style>\n",
       "      <progress value='6' class='' max='6', style='width:300px; height:20px; vertical-align: middle;'></progress>\n",
       "      100.00% [6/6 00:07<00:00]\n",
       "    </div>\n",
       "    "
      ],
      "text/plain": [
       "<IPython.core.display.HTML object>"
      ]
     },
     "metadata": {},
     "output_type": "display_data"
    },
    {
     "name": "stderr",
     "output_type": "stream",
     "text": [
      "INFO:root:eval_loss after step 100: 0.36834605038166046: \n",
      "INFO:root:eval_accuracy_multilabel after step 100: 0.047872340425531915: \n",
      "INFO:root:eval_accuracy_thresh after step 100: 0.8867781162261963: \n",
      "INFO:root:eval_roc_auc after step 100: 0.6324568819263527: \n",
      "INFO:root:eval_fbeta after step 100: 0.11696664988994598: \n",
      "INFO:root:lr after step 100: 1.2e-05\n",
      "INFO:root:train_loss after step 100: 0.410517780482769\n",
      "INFO:root:Running evaluation\n",
      "INFO:root:  Num examples = 188\n",
      "INFO:root:  Batch size = 32\n"
     ]
    },
    {
     "data": {
      "text/html": [
       "\n",
       "    <div>\n",
       "        <style>\n",
       "            /* Turns off some styling */\n",
       "            progress {\n",
       "                /* gets rid of default border in Firefox and Opera. */\n",
       "                border: none;\n",
       "                /* Needs to be in here for Safari polyfill so background images work as expected. */\n",
       "                background-size: auto;\n",
       "            }\n",
       "            .progress-bar-interrupted, .progress-bar-interrupted::-webkit-progress-bar {\n",
       "                background: #F44336;\n",
       "            }\n",
       "        </style>\n",
       "      <progress value='6' class='' max='6', style='width:300px; height:20px; vertical-align: middle;'></progress>\n",
       "      100.00% [6/6 00:07<00:00]\n",
       "    </div>\n",
       "    "
      ],
      "text/plain": [
       "<IPython.core.display.HTML object>"
      ]
     },
     "metadata": {},
     "output_type": "display_data"
    },
    {
     "name": "stderr",
     "output_type": "stream",
     "text": [
      "INFO:root:eval_loss after step 120: 0.35520951449871063: \n",
      "INFO:root:eval_accuracy_multilabel after step 120: 0.047872340425531915: \n",
      "INFO:root:eval_accuracy_thresh after step 120: 0.8867781162261963: \n",
      "INFO:root:eval_roc_auc after step 120: 0.6423665625736846: \n",
      "INFO:root:eval_fbeta after step 120: 0.0: \n",
      "INFO:root:lr after step 120: 1.44e-05\n",
      "INFO:root:train_loss after step 120: 0.39286255836486816\n",
      "INFO:root:Running evaluation\n",
      "INFO:root:  Num examples = 188\n",
      "INFO:root:  Batch size = 32\n"
     ]
    },
    {
     "data": {
      "text/html": [
       "\n",
       "    <div>\n",
       "        <style>\n",
       "            /* Turns off some styling */\n",
       "            progress {\n",
       "                /* gets rid of default border in Firefox and Opera. */\n",
       "                border: none;\n",
       "                /* Needs to be in here for Safari polyfill so background images work as expected. */\n",
       "                background-size: auto;\n",
       "            }\n",
       "            .progress-bar-interrupted, .progress-bar-interrupted::-webkit-progress-bar {\n",
       "                background: #F44336;\n",
       "            }\n",
       "        </style>\n",
       "      <progress value='6' class='' max='6', style='width:300px; height:20px; vertical-align: middle;'></progress>\n",
       "      100.00% [6/6 00:07<00:00]\n",
       "    </div>\n",
       "    "
      ],
      "text/plain": [
       "<IPython.core.display.HTML object>"
      ]
     },
     "metadata": {},
     "output_type": "display_data"
    },
    {
     "name": "stderr",
     "output_type": "stream",
     "text": [
      "INFO:root:eval_loss after step 140: 0.3452451328436534: \n",
      "INFO:root:eval_accuracy_multilabel after step 140: 0.047872340425531915: \n",
      "INFO:root:eval_accuracy_thresh after step 140: 0.8867781162261963: \n",
      "INFO:root:eval_roc_auc after step 140: 0.6490456226313095: \n",
      "INFO:root:eval_fbeta after step 140: 0.0: \n",
      "INFO:root:lr after step 140: 1.6800000000000002e-05\n",
      "INFO:root:train_loss after step 140: 0.37900543957948685\n",
      "INFO:root:Running evaluation\n",
      "INFO:root:  Num examples = 188\n",
      "INFO:root:  Batch size = 32\n"
     ]
    },
    {
     "data": {
      "text/html": [
       "\n",
       "    <div>\n",
       "        <style>\n",
       "            /* Turns off some styling */\n",
       "            progress {\n",
       "                /* gets rid of default border in Firefox and Opera. */\n",
       "                border: none;\n",
       "                /* Needs to be in here for Safari polyfill so background images work as expected. */\n",
       "                background-size: auto;\n",
       "            }\n",
       "            .progress-bar-interrupted, .progress-bar-interrupted::-webkit-progress-bar {\n",
       "                background: #F44336;\n",
       "            }\n",
       "        </style>\n",
       "      <progress value='6' class='' max='6', style='width:300px; height:20px; vertical-align: middle;'></progress>\n",
       "      100.00% [6/6 00:07<00:00]\n",
       "    </div>\n",
       "    "
      ],
      "text/plain": [
       "<IPython.core.display.HTML object>"
      ]
     },
     "metadata": {},
     "output_type": "display_data"
    },
    {
     "name": "stderr",
     "output_type": "stream",
     "text": [
      "INFO:root:eval_loss after epoch 3: 0.34555651744206745: \n",
      "INFO:root:eval_accuracy_multilabel after epoch 3: 0.047872340425531915: \n",
      "INFO:root:eval_accuracy_thresh after epoch 3: 0.8867781162261963: \n",
      "INFO:root:eval_roc_auc after epoch 3: 0.6474986053840801: \n",
      "INFO:root:eval_fbeta after epoch 3: 0.0: \n",
      "INFO:root:Running evaluation\n",
      "INFO:root:  Num examples = 188\n",
      "INFO:root:  Batch size = 32\n"
     ]
    },
    {
     "data": {
      "text/html": [
       "\n",
       "    <div>\n",
       "        <style>\n",
       "            /* Turns off some styling */\n",
       "            progress {\n",
       "                /* gets rid of default border in Firefox and Opera. */\n",
       "                border: none;\n",
       "                /* Needs to be in here for Safari polyfill so background images work as expected. */\n",
       "                background-size: auto;\n",
       "            }\n",
       "            .progress-bar-interrupted, .progress-bar-interrupted::-webkit-progress-bar {\n",
       "                background: #F44336;\n",
       "            }\n",
       "        </style>\n",
       "      <progress value='6' class='' max='6', style='width:300px; height:20px; vertical-align: middle;'></progress>\n",
       "      100.00% [6/6 00:07<00:00]\n",
       "    </div>\n",
       "    "
      ],
      "text/plain": [
       "<IPython.core.display.HTML object>"
      ]
     },
     "metadata": {},
     "output_type": "display_data"
    },
    {
     "name": "stderr",
     "output_type": "stream",
     "text": [
      "INFO:root:eval_loss after step 160: 0.34090517461299896: \n",
      "INFO:root:eval_accuracy_multilabel after step 160: 0.047872340425531915: \n",
      "INFO:root:eval_accuracy_thresh after step 160: 0.8867781162261963: \n",
      "INFO:root:eval_roc_auc after step 160: 0.6538901157674989: \n",
      "INFO:root:eval_fbeta after step 160: 0.0: \n",
      "INFO:root:lr after step 160: 1.9200000000000003e-05\n",
      "INFO:root:train_loss after step 160: 0.37666564583778384\n",
      "INFO:root:Running evaluation\n",
      "INFO:root:  Num examples = 188\n",
      "INFO:root:  Batch size = 32\n"
     ]
    },
    {
     "data": {
      "text/html": [
       "\n",
       "    <div>\n",
       "        <style>\n",
       "            /* Turns off some styling */\n",
       "            progress {\n",
       "                /* gets rid of default border in Firefox and Opera. */\n",
       "                border: none;\n",
       "                /* Needs to be in here for Safari polyfill so background images work as expected. */\n",
       "                background-size: auto;\n",
       "            }\n",
       "            .progress-bar-interrupted, .progress-bar-interrupted::-webkit-progress-bar {\n",
       "                background: #F44336;\n",
       "            }\n",
       "        </style>\n",
       "      <progress value='6' class='' max='6', style='width:300px; height:20px; vertical-align: middle;'></progress>\n",
       "      100.00% [6/6 00:07<00:00]\n",
       "    </div>\n",
       "    "
      ],
      "text/plain": [
       "<IPython.core.display.HTML object>"
      ]
     },
     "metadata": {},
     "output_type": "display_data"
    },
    {
     "name": "stderr",
     "output_type": "stream",
     "text": [
      "INFO:root:eval_loss after step 180: 0.3399626662333806: \n",
      "INFO:root:eval_accuracy_multilabel after step 180: 0.047872340425531915: \n",
      "INFO:root:eval_accuracy_thresh after step 180: 0.8867781162261963: \n",
      "INFO:root:eval_roc_auc after step 180: 0.6610328496747813: \n",
      "INFO:root:eval_fbeta after step 180: 0.0: \n",
      "INFO:root:lr after step 180: 2.16e-05\n",
      "INFO:root:train_loss after step 180: 0.37570609897375107\n",
      "INFO:root:Running evaluation\n",
      "INFO:root:  Num examples = 188\n",
      "INFO:root:  Batch size = 32\n"
     ]
    },
    {
     "data": {
      "text/html": [
       "\n",
       "    <div>\n",
       "        <style>\n",
       "            /* Turns off some styling */\n",
       "            progress {\n",
       "                /* gets rid of default border in Firefox and Opera. */\n",
       "                border: none;\n",
       "                /* Needs to be in here for Safari polyfill so background images work as expected. */\n",
       "                background-size: auto;\n",
       "            }\n",
       "            .progress-bar-interrupted, .progress-bar-interrupted::-webkit-progress-bar {\n",
       "                background: #F44336;\n",
       "            }\n",
       "        </style>\n",
       "      <progress value='6' class='' max='6', style='width:300px; height:20px; vertical-align: middle;'></progress>\n",
       "      100.00% [6/6 00:07<00:00]\n",
       "    </div>\n",
       "    "
      ],
      "text/plain": [
       "<IPython.core.display.HTML object>"
      ]
     },
     "metadata": {},
     "output_type": "display_data"
    },
    {
     "name": "stderr",
     "output_type": "stream",
     "text": [
      "INFO:root:eval_loss after epoch 4: 0.33833127717177075: \n",
      "INFO:root:eval_accuracy_multilabel after epoch 4: 0.047872340425531915: \n",
      "INFO:root:eval_accuracy_thresh after epoch 4: 0.8867781162261963: \n",
      "INFO:root:eval_roc_auc after epoch 4: 0.6603463248276139: \n",
      "INFO:root:eval_fbeta after epoch 4: 0.0: \n",
      "INFO:root:Running evaluation\n",
      "INFO:root:  Num examples = 188\n",
      "INFO:root:  Batch size = 32\n"
     ]
    },
    {
     "data": {
      "text/html": [
       "\n",
       "    <div>\n",
       "        <style>\n",
       "            /* Turns off some styling */\n",
       "            progress {\n",
       "                /* gets rid of default border in Firefox and Opera. */\n",
       "                border: none;\n",
       "                /* Needs to be in here for Safari polyfill so background images work as expected. */\n",
       "                background-size: auto;\n",
       "            }\n",
       "            .progress-bar-interrupted, .progress-bar-interrupted::-webkit-progress-bar {\n",
       "                background: #F44336;\n",
       "            }\n",
       "        </style>\n",
       "      <progress value='6' class='' max='6', style='width:300px; height:20px; vertical-align: middle;'></progress>\n",
       "      100.00% [6/6 00:07<00:00]\n",
       "    </div>\n",
       "    "
      ],
      "text/plain": [
       "<IPython.core.display.HTML object>"
      ]
     },
     "metadata": {},
     "output_type": "display_data"
    },
    {
     "name": "stderr",
     "output_type": "stream",
     "text": [
      "INFO:root:eval_loss after step 200: 0.34463849663734436: \n",
      "INFO:root:eval_accuracy_multilabel after step 200: 0.047872340425531915: \n",
      "INFO:root:eval_accuracy_thresh after step 200: 0.8867781162261963: \n",
      "INFO:root:eval_roc_auc after step 200: 0.6527981458797008: \n",
      "INFO:root:eval_fbeta after step 200: 0.11696664988994598: \n",
      "INFO:root:lr after step 200: 2.4e-05\n",
      "INFO:root:train_loss after step 200: 0.37602600604295733\n",
      "INFO:root:Running evaluation\n",
      "INFO:root:  Num examples = 188\n",
      "INFO:root:  Batch size = 32\n"
     ]
    },
    {
     "data": {
      "text/html": [
       "\n",
       "    <div>\n",
       "        <style>\n",
       "            /* Turns off some styling */\n",
       "            progress {\n",
       "                /* gets rid of default border in Firefox and Opera. */\n",
       "                border: none;\n",
       "                /* Needs to be in here for Safari polyfill so background images work as expected. */\n",
       "                background-size: auto;\n",
       "            }\n",
       "            .progress-bar-interrupted, .progress-bar-interrupted::-webkit-progress-bar {\n",
       "                background: #F44336;\n",
       "            }\n",
       "        </style>\n",
       "      <progress value='6' class='' max='6', style='width:300px; height:20px; vertical-align: middle;'></progress>\n",
       "      100.00% [6/6 00:07<00:00]\n",
       "    </div>\n",
       "    "
      ],
      "text/plain": [
       "<IPython.core.display.HTML object>"
      ]
     },
     "metadata": {},
     "output_type": "display_data"
    },
    {
     "name": "stderr",
     "output_type": "stream",
     "text": [
      "INFO:root:eval_loss after step 220: 0.3385680715243022: \n",
      "INFO:root:eval_accuracy_multilabel after step 220: 0.047872340425531915: \n",
      "INFO:root:eval_accuracy_thresh after step 220: 0.8867781162261963: \n",
      "INFO:root:eval_roc_auc after step 220: 0.6561955452804473: \n",
      "INFO:root:eval_fbeta after step 220: 0.0: \n",
      "INFO:root:lr after step 220: 2.64e-05\n",
      "INFO:root:train_loss after step 220: 0.3774724841117859\n"
     ]
    },
    {
     "ename": "KeyboardInterrupt",
     "evalue": "",
     "output_type": "error",
     "traceback": [
      "\u001b[0;31m---------------------------------------------------------------------------\u001b[0m",
      "\u001b[0;31mKeyboardInterrupt\u001b[0m                         Traceback (most recent call last)",
      "\u001b[0;32m<ipython-input-8-c4f9ebc2cc43>\u001b[0m in \u001b[0;36m<module>\u001b[0;34m\u001b[0m\n\u001b[1;32m      1\u001b[0m \u001b[0;32mfor\u001b[0m \u001b[0mdirectory\u001b[0m \u001b[0;32min\u001b[0m \u001b[0;34m[\u001b[0m\u001b[0;34m'original'\u001b[0m\u001b[0;34m,\u001b[0m\u001b[0;34m'original_2x'\u001b[0m\u001b[0;34m,\u001b[0m\u001b[0;34m'synthetic'\u001b[0m\u001b[0;34m,\u001b[0m\u001b[0;34m'combined'\u001b[0m\u001b[0;34m]\u001b[0m\u001b[0;34m:\u001b[0m\u001b[0;34m\u001b[0m\u001b[0;34m\u001b[0m\u001b[0m\n\u001b[1;32m      2\u001b[0m     \u001b[0;32mfor\u001b[0m \u001b[0mmodel\u001b[0m \u001b[0;32min\u001b[0m \u001b[0;34m[\u001b[0m\u001b[0;34m'biobert'\u001b[0m\u001b[0;34m,\u001b[0m\u001b[0;34m'bert'\u001b[0m\u001b[0;34m]\u001b[0m\u001b[0;34m:\u001b[0m\u001b[0;34m\u001b[0m\u001b[0;34m\u001b[0m\u001b[0m\n\u001b[0;32m----> 3\u001b[0;31m         \u001b[0mtrain\u001b[0m\u001b[0;34m(\u001b[0m\u001b[0;34m'transformer/'\u001b[0m\u001b[0;34m+\u001b[0m\u001b[0mdirectory\u001b[0m\u001b[0;34m,\u001b[0m \u001b[0mmodel\u001b[0m\u001b[0;34m)\u001b[0m\u001b[0;34m\u001b[0m\u001b[0;34m\u001b[0m\u001b[0m\n\u001b[0m",
      "\u001b[0;32m<ipython-input-7-321040be65cd>\u001b[0m in \u001b[0;36mtrain\u001b[0;34m(path_to_directory, model)\u001b[0m\n\u001b[1;32m     51\u001b[0m                 \u001b[0mlr\u001b[0m\u001b[0;34m=\u001b[0m\u001b[0;36m6e-5\u001b[0m\u001b[0;34m,\u001b[0m\u001b[0;34m\u001b[0m\u001b[0;34m\u001b[0m\u001b[0m\n\u001b[1;32m     52\u001b[0m                 \u001b[0mvalidate\u001b[0m\u001b[0;34m=\u001b[0m\u001b[0;32mTrue\u001b[0m\u001b[0;34m,\u001b[0m \u001b[0;31m# Evaluate the model after each epoch\u001b[0m\u001b[0;34m\u001b[0m\u001b[0;34m\u001b[0m\u001b[0m\n\u001b[0;32m---> 53\u001b[0;31m                 schedule_type=\"warmup_cosine\")\n\u001b[0m\u001b[1;32m     54\u001b[0m \u001b[0;34m\u001b[0m\u001b[0m\n\u001b[1;32m     55\u001b[0m     \u001b[0mlearner\u001b[0m\u001b[0;34m.\u001b[0m\u001b[0msave_model\u001b[0m\u001b[0;34m(\u001b[0m\u001b[0;34m)\u001b[0m\u001b[0;34m\u001b[0m\u001b[0;34m\u001b[0m\u001b[0m\n",
      "\u001b[0;32m~/anaconda3/lib/python3.7/site-packages/fast_bert/learner_cls.py\u001b[0m in \u001b[0;36mfit\u001b[0;34m(self, epochs, lr, validate, schedule_type)\u001b[0m\n\u001b[1;32m    270\u001b[0m                 \u001b[0;32mif\u001b[0m \u001b[0mself\u001b[0m\u001b[0;34m.\u001b[0m\u001b[0mis_fp16\u001b[0m\u001b[0;34m:\u001b[0m\u001b[0;34m\u001b[0m\u001b[0;34m\u001b[0m\u001b[0m\n\u001b[1;32m    271\u001b[0m                     \u001b[0;32mwith\u001b[0m \u001b[0mamp\u001b[0m\u001b[0;34m.\u001b[0m\u001b[0mscale_loss\u001b[0m\u001b[0;34m(\u001b[0m\u001b[0mloss\u001b[0m\u001b[0;34m,\u001b[0m \u001b[0moptimizer\u001b[0m\u001b[0;34m)\u001b[0m \u001b[0;32mas\u001b[0m \u001b[0mscaled_loss\u001b[0m\u001b[0;34m:\u001b[0m\u001b[0;34m\u001b[0m\u001b[0;34m\u001b[0m\u001b[0m\n\u001b[0;32m--> 272\u001b[0;31m                         \u001b[0mscaled_loss\u001b[0m\u001b[0;34m.\u001b[0m\u001b[0mbackward\u001b[0m\u001b[0;34m(\u001b[0m\u001b[0;34m)\u001b[0m\u001b[0;34m\u001b[0m\u001b[0;34m\u001b[0m\u001b[0m\n\u001b[0m\u001b[1;32m    273\u001b[0m                     \u001b[0mtorch\u001b[0m\u001b[0;34m.\u001b[0m\u001b[0mnn\u001b[0m\u001b[0;34m.\u001b[0m\u001b[0mutils\u001b[0m\u001b[0;34m.\u001b[0m\u001b[0mclip_grad_norm_\u001b[0m\u001b[0;34m(\u001b[0m\u001b[0mamp\u001b[0m\u001b[0;34m.\u001b[0m\u001b[0mmaster_params\u001b[0m\u001b[0;34m(\u001b[0m\u001b[0moptimizer\u001b[0m\u001b[0;34m)\u001b[0m\u001b[0;34m,\u001b[0m \u001b[0mself\u001b[0m\u001b[0;34m.\u001b[0m\u001b[0mmax_grad_norm\u001b[0m\u001b[0;34m)\u001b[0m\u001b[0;34m\u001b[0m\u001b[0;34m\u001b[0m\u001b[0m\n\u001b[1;32m    274\u001b[0m                 \u001b[0;32melse\u001b[0m\u001b[0;34m:\u001b[0m\u001b[0;34m\u001b[0m\u001b[0;34m\u001b[0m\u001b[0m\n",
      "\u001b[0;32m~/anaconda3/lib/python3.7/site-packages/torch/tensor.py\u001b[0m in \u001b[0;36mbackward\u001b[0;34m(self, gradient, retain_graph, create_graph)\u001b[0m\n\u001b[1;32m    105\u001b[0m                 \u001b[0mproducts\u001b[0m\u001b[0;34m.\u001b[0m \u001b[0mDefaults\u001b[0m \u001b[0mto\u001b[0m\u001b[0;31m \u001b[0m\u001b[0;31m`\u001b[0m\u001b[0;31m`\u001b[0m\u001b[0;32mFalse\u001b[0m\u001b[0;31m`\u001b[0m\u001b[0;31m`\u001b[0m\u001b[0;34m.\u001b[0m\u001b[0;34m\u001b[0m\u001b[0;34m\u001b[0m\u001b[0m\n\u001b[1;32m    106\u001b[0m         \"\"\"\n\u001b[0;32m--> 107\u001b[0;31m         \u001b[0mtorch\u001b[0m\u001b[0;34m.\u001b[0m\u001b[0mautograd\u001b[0m\u001b[0;34m.\u001b[0m\u001b[0mbackward\u001b[0m\u001b[0;34m(\u001b[0m\u001b[0mself\u001b[0m\u001b[0;34m,\u001b[0m \u001b[0mgradient\u001b[0m\u001b[0;34m,\u001b[0m \u001b[0mretain_graph\u001b[0m\u001b[0;34m,\u001b[0m \u001b[0mcreate_graph\u001b[0m\u001b[0;34m)\u001b[0m\u001b[0;34m\u001b[0m\u001b[0;34m\u001b[0m\u001b[0m\n\u001b[0m\u001b[1;32m    108\u001b[0m \u001b[0;34m\u001b[0m\u001b[0m\n\u001b[1;32m    109\u001b[0m     \u001b[0;32mdef\u001b[0m \u001b[0mregister_hook\u001b[0m\u001b[0;34m(\u001b[0m\u001b[0mself\u001b[0m\u001b[0;34m,\u001b[0m \u001b[0mhook\u001b[0m\u001b[0;34m)\u001b[0m\u001b[0;34m:\u001b[0m\u001b[0;34m\u001b[0m\u001b[0;34m\u001b[0m\u001b[0m\n",
      "\u001b[0;32m~/anaconda3/lib/python3.7/site-packages/torch/autograd/__init__.py\u001b[0m in \u001b[0;36mbackward\u001b[0;34m(tensors, grad_tensors, retain_graph, create_graph, grad_variables)\u001b[0m\n\u001b[1;32m     91\u001b[0m     Variable._execution_engine.run_backward(\n\u001b[1;32m     92\u001b[0m         \u001b[0mtensors\u001b[0m\u001b[0;34m,\u001b[0m \u001b[0mgrad_tensors\u001b[0m\u001b[0;34m,\u001b[0m \u001b[0mretain_graph\u001b[0m\u001b[0;34m,\u001b[0m \u001b[0mcreate_graph\u001b[0m\u001b[0;34m,\u001b[0m\u001b[0;34m\u001b[0m\u001b[0;34m\u001b[0m\u001b[0m\n\u001b[0;32m---> 93\u001b[0;31m         allow_unreachable=True)  # allow_unreachable flag\n\u001b[0m\u001b[1;32m     94\u001b[0m \u001b[0;34m\u001b[0m\u001b[0m\n\u001b[1;32m     95\u001b[0m \u001b[0;34m\u001b[0m\u001b[0m\n",
      "\u001b[0;31mKeyboardInterrupt\u001b[0m: "
     ]
    }
   ],
   "source": [
    "for directory in ['original','original_2x','synthetic','combined']:\n",
    "    for model in ['biobert','bert']:\n",
    "        train('transformer/'+directory, model)"
   ]
  },
  {
   "cell_type": "code",
   "execution_count": null,
   "metadata": {},
   "outputs": [],
   "source": []
  }
 ],
 "metadata": {
  "kernelspec": {
   "display_name": "Python [conda env:root] *",
   "language": "python",
   "name": "conda-root-py"
  },
  "language_info": {
   "codemirror_mode": {
    "name": "ipython",
    "version": 3
   },
   "file_extension": ".py",
   "mimetype": "text/x-python",
   "name": "python",
   "nbconvert_exporter": "python",
   "pygments_lexer": "ipython3",
   "version": "3.7.3"
  }
 },
 "nbformat": 4,
 "nbformat_minor": 2
}
