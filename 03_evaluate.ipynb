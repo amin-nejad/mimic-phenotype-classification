{
 "cells": [
  {
   "cell_type": "markdown",
   "metadata": {},
   "source": [
    "# Model inference"
   ]
  },
  {
   "cell_type": "code",
   "execution_count": null,
   "metadata": {},
   "outputs": [],
   "source": [
    "BASE = Path('data/phenotype_classification/')\n",
    "\n",
    "DATA_PATH = BASE/'transformer/original/' # change this as necessary\n",
    "LABEL_PATH = BASE\n",
    "OUTPUT_DIR = BASE/'transformer/original/output' # change this as necessary"
   ]
  },
  {
   "cell_type": "code",
   "execution_count": null,
   "metadata": {},
   "outputs": [],
   "source": [
    "test_dataset = pd.read_csv(DATA_PATH/'test.csv')\n",
    "test_text = list(test_dataset['text'].values)\n",
    "\n",
    "MODEL_PATH = OUTPUT_DIR/'model_out'\n",
    "\n",
    "predictor = BertClassificationPredictor(model_path=MODEL_PATH,\n",
    "                                        label_path=LABEL_PATH,\n",
    "                                        multi_label=True,\n",
    "                                        model_type='bert',\n",
    "                                        do_lower_case=True)"
   ]
  },
  {
   "cell_type": "code",
   "execution_count": null,
   "metadata": {},
   "outputs": [],
   "source": [
    "predictions = predictor.predict_batch(test_text)"
   ]
  },
  {
   "cell_type": "code",
   "execution_count": null,
   "metadata": {},
   "outputs": [],
   "source": [
    "pd.DataFrame(predictions).to_csv(OUTPUT_DIR/'predictions.csv')"
   ]
  },
  {
   "cell_type": "code",
   "execution_count": null,
   "metadata": {},
   "outputs": [],
   "source": [
    "pd.DataFrame(predictions)"
   ]
  }
 ],
 "metadata": {
  "kernelspec": {
   "display_name": "Python 3",
   "language": "python",
   "name": "python3"
  },
  "language_info": {
   "codemirror_mode": {
    "name": "ipython",
    "version": 3
   },
   "file_extension": ".py",
   "mimetype": "text/x-python",
   "name": "python",
   "nbconvert_exporter": "python",
   "pygments_lexer": "ipython3",
   "version": "3.7.3"
  }
 },
 "nbformat": 4,
 "nbformat_minor": 2
}
