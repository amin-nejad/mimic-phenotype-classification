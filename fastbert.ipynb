{
 "cells": [
  {
   "cell_type": "markdown",
   "metadata": {},
   "source": [
    "# Train"
   ]
  },
  {
   "cell_type": "code",
   "execution_count": 1,
   "metadata": {},
   "outputs": [],
   "source": [
    "import pandas as pd\n",
    "import numpy as np\n",
    "from pathlib import Path\n",
    "import torch\n",
    "import apex\n",
    "import os\n",
    "import logging\n",
    "\n",
    "from pytorch_transformers import BertTokenizer\n",
    "from fast_bert.data_cls import BertDataBunch\n",
    "from fast_bert.learner_cls import BertLearner\n",
    "from fast_bert.metrics import accuracy_multilabel, accuracy_thresh, fbeta, roc_auc\n",
    "from fast_bert.prediction import BertClassificationPredictor"
   ]
  },
  {
   "cell_type": "markdown",
   "metadata": {},
   "source": [
    "Let's first:\n",
    "\n",
    "1. Assign our paths\n",
    "2. Check gpu status\n",
    "3. Import our labels\n",
    "4. Create a logger object\n",
    "5. Decide the metrics we want to report"
   ]
  },
  {
   "cell_type": "code",
   "execution_count": 2,
   "metadata": {},
   "outputs": [],
   "source": [
    "BASE = Path('data/phenotype_classification/')\n",
    "\n",
    "DATA_PATH = BASE/'transformer/original/' # change this as necessary\n",
    "LABEL_PATH = BASE\n",
    "OUTPUT_DIR = BASE/'transformer/original/output' # change this as necessary\n",
    "OUTPUT_DIR.mkdir(exist_ok=True)"
   ]
  },
  {
   "cell_type": "code",
   "execution_count": 3,
   "metadata": {},
   "outputs": [
    {
     "name": "stdout",
     "output_type": "stream",
     "text": [
      "True\n"
     ]
    }
   ],
   "source": [
    "# check if (multiple) GPUs are available\n",
    "\n",
    "multi_gpu=False\n",
    "\n",
    "if torch.cuda.is_available():\n",
    "    \n",
    "    device_cuda = torch.device(\"cuda\")\n",
    "    \n",
    "    if torch.cuda.device_count() > 1:\n",
    "        multi_gpu = True\n",
    "else:\n",
    "    device_cuda = torch.device(\"cpu\")\n",
    "    \n",
    "print (multi_gpu)"
   ]
  },
  {
   "cell_type": "code",
   "execution_count": 4,
   "metadata": {},
   "outputs": [
    {
     "data": {
      "text/plain": [
       "['Advanced.Cancer',\n",
       " 'Advanced.Heart.Disease',\n",
       " 'Advanced.Lung.Disease',\n",
       " 'Alcohol.Abuse',\n",
       " 'Chronic.Neurological.Dystrophies',\n",
       " 'Chronic.Pain.Fibromyalgia',\n",
       " 'Dementia',\n",
       " 'Depression',\n",
       " 'Developmental.Delay.Retardation',\n",
       " 'Non.Adherence',\n",
       " 'Obesity',\n",
       " 'Other.Substance.Abuse',\n",
       " 'Schizophrenia.and.other.Psychiatric.Disorders',\n",
       " 'Unsure']"
      ]
     },
     "execution_count": 4,
     "metadata": {},
     "output_type": "execute_result"
    }
   ],
   "source": [
    "categories = pd.read_csv(LABEL_PATH/'labels.csv', sep=',',header=None,names=[\"name\"])\n",
    "labels = list(categories['name'])\n",
    "labels"
   ]
  },
  {
   "cell_type": "code",
   "execution_count": 5,
   "metadata": {},
   "outputs": [],
   "source": [
    "logging.basicConfig(level=logging.NOTSET)\n",
    "logger = logging.getLogger()"
   ]
  },
  {
   "cell_type": "code",
   "execution_count": 6,
   "metadata": {},
   "outputs": [],
   "source": [
    "metrics = []\n",
    "metrics.append({'name': 'accuracy_multilabel', 'function': accuracy_multilabel})\n",
    "metrics.append({'name': 'accuracy_thresh', 'function': accuracy_thresh})\n",
    "metrics.append({'name': 'roc_auc', 'function': roc_auc})\n",
    "metrics.append({'name': 'fbeta', 'function': fbeta})"
   ]
  },
  {
   "cell_type": "markdown",
   "metadata": {},
   "source": [
    "## Pipeline"
   ]
  },
  {
   "cell_type": "markdown",
   "metadata": {},
   "source": [
    "#### Create a DataBunch object"
   ]
  },
  {
   "cell_type": "code",
   "execution_count": 9,
   "metadata": {},
   "outputs": [
    {
     "name": "stderr",
     "output_type": "stream",
     "text": [
      "DEBUG:urllib3.connectionpool:Starting new HTTPS connection (1): s3.amazonaws.com:443\n",
      "DEBUG:urllib3.connectionpool:https://s3.amazonaws.com:443 \"HEAD /models.huggingface.co/bert/bert-base-uncased-vocab.txt HTTP/1.1\" 200 0\n",
      "INFO:pytorch_transformers.tokenization_utils:loading file https://s3.amazonaws.com/models.huggingface.co/bert/bert-base-uncased-vocab.txt from cache at /home/aa5118/.cache/torch/pytorch_transformers/26bc1ad6c0ac742e9b52263248f6d0f00068293b33709fae12320c0e35ccfbbb.542ce4285a40d23a559526243235df47c5f75c197f04f37d1a0c124c32c9a084\n",
      "INFO:root:Writing example 0 of 1501\n",
      "INFO:root:Saving features into cached file data/phenotype_classification/transformer/original/cache/cached_train_multi_label_512\n",
      "INFO:root:Writing example 0 of 188\n",
      "INFO:root:Saving features into cached file data/phenotype_classification/transformer/original/cache/cached_dev_multi_label_512\n"
     ]
    }
   ],
   "source": [
    "databunch = BertDataBunch(DATA_PATH, \n",
    "                          LABEL_PATH,\n",
    "                          tokenizer='bert-base-uncased',\n",
    "                          train_file='train.csv',\n",
    "                          val_file='val.csv',\n",
    "                          text_col='text',\n",
    "                          label_file='labels.csv',\n",
    "                          label_col=labels,\n",
    "                          batch_size_per_gpu=8,\n",
    "                          max_seq_length=512,\n",
    "                          multi_gpu=multi_gpu,\n",
    "                          multi_label=True,\n",
    "                          model_type='bert',\n",
    "                          clear_cache=True)"
   ]
  },
  {
   "cell_type": "markdown",
   "metadata": {},
   "source": [
    "#### Create a Learner object"
   ]
  },
  {
   "cell_type": "code",
   "execution_count": 9,
   "metadata": {},
   "outputs": [
    {
     "name": "stderr",
     "output_type": "stream",
     "text": [
      "DEBUG:urllib3.connectionpool:Starting new HTTPS connection (1): s3.amazonaws.com:443\n",
      "DEBUG:urllib3.connectionpool:https://s3.amazonaws.com:443 \"HEAD /models.huggingface.co/bert/bert-base-uncased-config.json HTTP/1.1\" 200 0\n",
      "INFO:pytorch_transformers.modeling_utils:loading configuration file https://s3.amazonaws.com/models.huggingface.co/bert/bert-base-uncased-config.json from cache at /home/aa5118/.cache/torch/pytorch_transformers/4dad0251492946e18ac39290fcfe91b89d370fee250efe9521476438fe8ca185.bf3b9ea126d8c0001ee8a1e8b92229871d06d36d8808208cc2449280da87785c\n",
      "INFO:pytorch_transformers.modeling_utils:Model config {\n",
      "  \"attention_probs_dropout_prob\": 0.1,\n",
      "  \"finetuning_task\": null,\n",
      "  \"hidden_act\": \"gelu\",\n",
      "  \"hidden_dropout_prob\": 0.1,\n",
      "  \"hidden_size\": 768,\n",
      "  \"initializer_range\": 0.02,\n",
      "  \"intermediate_size\": 3072,\n",
      "  \"layer_norm_eps\": 1e-12,\n",
      "  \"max_position_embeddings\": 512,\n",
      "  \"num_attention_heads\": 12,\n",
      "  \"num_hidden_layers\": 12,\n",
      "  \"num_labels\": 14,\n",
      "  \"output_attentions\": false,\n",
      "  \"output_hidden_states\": false,\n",
      "  \"torchscript\": false,\n",
      "  \"type_vocab_size\": 2,\n",
      "  \"vocab_size\": 30522\n",
      "}\n",
      "\n",
      "DEBUG:urllib3.connectionpool:Starting new HTTPS connection (1): s3.amazonaws.com:443\n",
      "DEBUG:urllib3.connectionpool:https://s3.amazonaws.com:443 \"HEAD /models.huggingface.co/bert/bert-base-uncased-pytorch_model.bin HTTP/1.1\" 200 0\n",
      "INFO:pytorch_transformers.modeling_utils:loading weights file https://s3.amazonaws.com/models.huggingface.co/bert/bert-base-uncased-pytorch_model.bin from cache at /home/aa5118/.cache/torch/pytorch_transformers/aa1ef1aede4482d0dbcd4d52baad8ae300e60902e88fcb0bebdec09afd232066.36ca03ab34a1a5d5fa7bc3d03d55c4fa650fed07220e2eeebc06ce58d0e9a157\n",
      "INFO:pytorch_transformers.modeling_utils:Weights of BertForMultiLabelSequenceClassification not initialized from pretrained model: ['classifier.weight', 'classifier.bias']\n",
      "INFO:pytorch_transformers.modeling_utils:Weights from pretrained model not used in BertForMultiLabelSequenceClassification: ['cls.predictions.bias', 'cls.predictions.transform.dense.weight', 'cls.predictions.transform.dense.bias', 'cls.predictions.decoder.weight', 'cls.seq_relationship.weight', 'cls.seq_relationship.bias', 'cls.predictions.transform.LayerNorm.weight', 'cls.predictions.transform.LayerNorm.bias']\n"
     ]
    }
   ],
   "source": [
    "learner = BertLearner.from_pretrained_model(databunch,\n",
    "                                            pretrained_path='bert-base-uncased',\n",
    "                                            metrics=metrics,\n",
    "                                            device=device_cuda,\n",
    "                                            logger=logger,\n",
    "                                            output_dir=OUTPUT_DIR,\n",
    "                                            finetuned_wgts_path=None,\n",
    "                                            warmup_steps=500,\n",
    "                                            multi_gpu=multi_gpu,\n",
    "                                            is_fp16=True,\n",
    "                                            multi_label=True,\n",
    "                                            logging_steps=20)"
   ]
  },
  {
   "cell_type": "markdown",
   "metadata": {},
   "source": [
    "#### Train the model"
   ]
  },
  {
   "cell_type": "code",
   "execution_count": 10,
   "metadata": {},
   "outputs": [
    {
     "name": "stderr",
     "output_type": "stream",
     "text": [
      "INFO:root:***** Running training *****\n",
      "INFO:root:  Num examples = 1501\n",
      "INFO:root:  Num Epochs = 20\n",
      "INFO:root:  Total train batch size (w. parallel, distributed & accumulation) = 32\n",
      "INFO:root:  Gradient Accumulation steps = 1\n",
      "INFO:root:  Total optimization steps = 940\n"
     ]
    },
    {
     "name": "stdout",
     "output_type": "stream",
     "text": [
      "data/phenotype_classification/transformer/original/output/tensorboard\n",
      "Selected optimization level O1:  Insert automatic casts around Pytorch functions and Tensor methods.\n",
      "\n",
      "Defaults for this optimization level are:\n",
      "enabled                : True\n",
      "opt_level              : O1\n",
      "cast_model_type        : None\n",
      "patch_torch_functions  : True\n",
      "keep_batchnorm_fp32    : None\n",
      "master_weights         : None\n",
      "loss_scale             : dynamic\n",
      "Processing user overrides (additional kwargs that are not None)...\n",
      "After processing overrides, optimization options are:\n",
      "enabled                : True\n",
      "opt_level              : O1\n",
      "cast_model_type        : None\n",
      "patch_torch_functions  : True\n",
      "keep_batchnorm_fp32    : None\n",
      "master_weights         : None\n",
      "loss_scale             : dynamic\n"
     ]
    },
    {
     "data": {
      "text/html": [],
      "text/plain": [
       "<IPython.core.display.HTML object>"
      ]
     },
     "metadata": {},
     "output_type": "display_data"
    },
    {
     "name": "stderr",
     "output_type": "stream",
     "text": [
      "/home/aa5118/anaconda3/lib/python3.7/site-packages/torch/nn/parallel/_functions.py:61: UserWarning: Was asked to gather along dimension 0, but all input tensors were scalars; will instead unsqueeze and return a vector.\n",
      "  warnings.warn('Was asked to gather along dimension 0, but all '\n",
      "INFO:root:Running evaluation\n",
      "INFO:root:  Num examples = 188\n",
      "INFO:root:  Batch size = 32\n"
     ]
    },
    {
     "data": {
      "text/html": [
       "\n",
       "    <div>\n",
       "        <style>\n",
       "            /* Turns off some styling */\n",
       "            progress {\n",
       "                /* gets rid of default border in Firefox and Opera. */\n",
       "                border: none;\n",
       "                /* Needs to be in here for Safari polyfill so background images work as expected. */\n",
       "                background-size: auto;\n",
       "            }\n",
       "            .progress-bar-interrupted, .progress-bar-interrupted::-webkit-progress-bar {\n",
       "                background: #F44336;\n",
       "            }\n",
       "        </style>\n",
       "      <progress value='6' class='' max='6', style='width:300px; height:20px; vertical-align: middle;'></progress>\n",
       "      100.00% [6/6 00:07<00:00]\n",
       "    </div>\n",
       "    "
      ],
      "text/plain": [
       "<IPython.core.display.HTML object>"
      ]
     },
     "metadata": {},
     "output_type": "display_data"
    },
    {
     "name": "stderr",
     "output_type": "stream",
     "text": [
      "INFO:root:eval_loss after step 20: 0.6848235229651133: \n",
      "INFO:root:eval_accuracy_multilabel after step 20: 0.026595744680851064: \n",
      "INFO:root:eval_accuracy_thresh after step 20: 0.5167173147201538: \n",
      "INFO:root:eval_roc_auc after step 20: 0.41002714468924506: \n",
      "INFO:root:eval_fbeta after step 20: 0.32542797923088074: \n",
      "INFO:root:lr after step 20: 2.4000000000000003e-06\n",
      "INFO:root:train_loss after step 20: 0.715276351571083\n",
      "INFO:root:Running evaluation\n",
      "INFO:root:  Num examples = 188\n",
      "INFO:root:  Batch size = 32\n"
     ]
    },
    {
     "data": {
      "text/html": [
       "\n",
       "    <div>\n",
       "        <style>\n",
       "            /* Turns off some styling */\n",
       "            progress {\n",
       "                /* gets rid of default border in Firefox and Opera. */\n",
       "                border: none;\n",
       "                /* Needs to be in here for Safari polyfill so background images work as expected. */\n",
       "                background-size: auto;\n",
       "            }\n",
       "            .progress-bar-interrupted, .progress-bar-interrupted::-webkit-progress-bar {\n",
       "                background: #F44336;\n",
       "            }\n",
       "        </style>\n",
       "      <progress value='6' class='' max='6', style='width:300px; height:20px; vertical-align: middle;'></progress>\n",
       "      100.00% [6/6 00:07<00:00]\n",
       "    </div>\n",
       "    "
      ],
      "text/plain": [
       "<IPython.core.display.HTML object>"
      ]
     },
     "metadata": {},
     "output_type": "display_data"
    },
    {
     "name": "stderr",
     "output_type": "stream",
     "text": [
      "INFO:root:eval_loss after step 40: 0.5737837851047516: \n",
      "INFO:root:eval_accuracy_multilabel after step 40: 0.0797872340425532: \n",
      "INFO:root:eval_accuracy_thresh after step 40: 0.822568416595459: \n",
      "INFO:root:eval_roc_auc after step 40: 0.5991413766728202: \n",
      "INFO:root:eval_fbeta after step 40: 0.3410872220993042: \n",
      "INFO:root:lr after step 40: 4.800000000000001e-06\n",
      "INFO:root:train_loss after step 40: 0.6381511867046357\n",
      "INFO:root:Running evaluation\n",
      "INFO:root:  Num examples = 188\n",
      "INFO:root:  Batch size = 32\n"
     ]
    },
    {
     "data": {
      "text/html": [
       "\n",
       "    <div>\n",
       "        <style>\n",
       "            /* Turns off some styling */\n",
       "            progress {\n",
       "                /* gets rid of default border in Firefox and Opera. */\n",
       "                border: none;\n",
       "                /* Needs to be in here for Safari polyfill so background images work as expected. */\n",
       "                background-size: auto;\n",
       "            }\n",
       "            .progress-bar-interrupted, .progress-bar-interrupted::-webkit-progress-bar {\n",
       "                background: #F44336;\n",
       "            }\n",
       "        </style>\n",
       "      <progress value='6' class='' max='6', style='width:300px; height:20px; vertical-align: middle;'></progress>\n",
       "      100.00% [6/6 00:07<00:00]\n",
       "    </div>\n",
       "    "
      ],
      "text/plain": [
       "<IPython.core.display.HTML object>"
      ]
     },
     "metadata": {},
     "output_type": "display_data"
    },
    {
     "name": "stderr",
     "output_type": "stream",
     "text": [
      "INFO:root:eval_loss after epoch 1: 0.5580857396125793: \n",
      "INFO:root:eval_accuracy_multilabel after epoch 1: 0.0797872340425532: \n",
      "INFO:root:eval_accuracy_thresh after epoch 1: 0.8237082362174988: \n",
      "INFO:root:eval_roc_auc after epoch 1: 0.5791796782894245: \n",
      "INFO:root:eval_fbeta after epoch 1: 0.32421910762786865: \n",
      "INFO:root:Running evaluation\n",
      "INFO:root:  Num examples = 188\n",
      "INFO:root:  Batch size = 32\n"
     ]
    },
    {
     "data": {
      "text/html": [
       "\n",
       "    <div>\n",
       "        <style>\n",
       "            /* Turns off some styling */\n",
       "            progress {\n",
       "                /* gets rid of default border in Firefox and Opera. */\n",
       "                border: none;\n",
       "                /* Needs to be in here for Safari polyfill so background images work as expected. */\n",
       "                background-size: auto;\n",
       "            }\n",
       "            .progress-bar-interrupted, .progress-bar-interrupted::-webkit-progress-bar {\n",
       "                background: #F44336;\n",
       "            }\n",
       "        </style>\n",
       "      <progress value='6' class='' max='6', style='width:300px; height:20px; vertical-align: middle;'></progress>\n",
       "      100.00% [6/6 00:07<00:00]\n",
       "    </div>\n",
       "    "
      ],
      "text/plain": [
       "<IPython.core.display.HTML object>"
      ]
     },
     "metadata": {},
     "output_type": "display_data"
    },
    {
     "name": "stderr",
     "output_type": "stream",
     "text": [
      "INFO:root:eval_loss after step 60: 0.4910062899192174: \n",
      "INFO:root:eval_accuracy_multilabel after step 60: 0.0851063829787234: \n",
      "INFO:root:eval_accuracy_thresh after step 60: 0.8867781162261963: \n",
      "INFO:root:eval_roc_auc after step 60: 0.6083242755185959: \n",
      "INFO:root:eval_fbeta after step 60: 0.341076523065567: \n",
      "INFO:root:lr after step 60: 7.2e-06\n",
      "INFO:root:train_loss after step 60: 0.5493393182754517\n",
      "INFO:root:Running evaluation\n",
      "INFO:root:  Num examples = 188\n",
      "INFO:root:  Batch size = 32\n"
     ]
    },
    {
     "data": {
      "text/html": [
       "\n",
       "    <div>\n",
       "        <style>\n",
       "            /* Turns off some styling */\n",
       "            progress {\n",
       "                /* gets rid of default border in Firefox and Opera. */\n",
       "                border: none;\n",
       "                /* Needs to be in here for Safari polyfill so background images work as expected. */\n",
       "                background-size: auto;\n",
       "            }\n",
       "            .progress-bar-interrupted, .progress-bar-interrupted::-webkit-progress-bar {\n",
       "                background: #F44336;\n",
       "            }\n",
       "        </style>\n",
       "      <progress value='6' class='' max='6', style='width:300px; height:20px; vertical-align: middle;'></progress>\n",
       "      100.00% [6/6 00:07<00:00]\n",
       "    </div>\n",
       "    "
      ],
      "text/plain": [
       "<IPython.core.display.HTML object>"
      ]
     },
     "metadata": {},
     "output_type": "display_data"
    },
    {
     "name": "stderr",
     "output_type": "stream",
     "text": [
      "INFO:root:eval_loss after step 80: 0.42475944260756177: \n",
      "INFO:root:eval_accuracy_multilabel after step 80: 0.10638297872340426: \n",
      "INFO:root:eval_accuracy_thresh after step 80: 0.8867781162261963: \n",
      "INFO:root:eval_roc_auc after step 80: 0.643564925840939: \n",
      "INFO:root:eval_fbeta after step 80: 0.2973541021347046: \n",
      "INFO:root:lr after step 80: 9.600000000000001e-06\n",
      "INFO:root:train_loss after step 80: 0.47869707494974134\n",
      "INFO:root:Running evaluation\n",
      "INFO:root:  Num examples = 188\n",
      "INFO:root:  Batch size = 32\n"
     ]
    },
    {
     "data": {
      "text/html": [
       "\n",
       "    <div>\n",
       "        <style>\n",
       "            /* Turns off some styling */\n",
       "            progress {\n",
       "                /* gets rid of default border in Firefox and Opera. */\n",
       "                border: none;\n",
       "                /* Needs to be in here for Safari polyfill so background images work as expected. */\n",
       "                background-size: auto;\n",
       "            }\n",
       "            .progress-bar-interrupted, .progress-bar-interrupted::-webkit-progress-bar {\n",
       "                background: #F44336;\n",
       "            }\n",
       "        </style>\n",
       "      <progress value='6' class='' max='6', style='width:300px; height:20px; vertical-align: middle;'></progress>\n",
       "      100.00% [6/6 00:07<00:00]\n",
       "    </div>\n",
       "    "
      ],
      "text/plain": [
       "<IPython.core.display.HTML object>"
      ]
     },
     "metadata": {},
     "output_type": "display_data"
    },
    {
     "name": "stderr",
     "output_type": "stream",
     "text": [
      "INFO:root:eval_loss after epoch 2: 0.39617985983689624: \n",
      "INFO:root:eval_accuracy_multilabel after epoch 2: 0.05319148936170213: \n",
      "INFO:root:eval_accuracy_thresh after epoch 2: 0.8867781162261963: \n",
      "INFO:root:eval_roc_auc after epoch 2: 0.6615748808106601: \n",
      "INFO:root:eval_fbeta after epoch 2: 0.24539975821971893: \n",
      "INFO:root:Running evaluation\n",
      "INFO:root:  Num examples = 188\n",
      "INFO:root:  Batch size = 32\n"
     ]
    },
    {
     "data": {
      "text/html": [
       "\n",
       "    <div>\n",
       "        <style>\n",
       "            /* Turns off some styling */\n",
       "            progress {\n",
       "                /* gets rid of default border in Firefox and Opera. */\n",
       "                border: none;\n",
       "                /* Needs to be in here for Safari polyfill so background images work as expected. */\n",
       "                background-size: auto;\n",
       "            }\n",
       "            .progress-bar-interrupted, .progress-bar-interrupted::-webkit-progress-bar {\n",
       "                background: #F44336;\n",
       "            }\n",
       "        </style>\n",
       "      <progress value='6' class='' max='6', style='width:300px; height:20px; vertical-align: middle;'></progress>\n",
       "      100.00% [6/6 00:07<00:00]\n",
       "    </div>\n",
       "    "
      ],
      "text/plain": [
       "<IPython.core.display.HTML object>"
      ]
     },
     "metadata": {},
     "output_type": "display_data"
    },
    {
     "name": "stderr",
     "output_type": "stream",
     "text": [
      "INFO:root:eval_loss after step 100: 0.3839411735534668: \n",
      "INFO:root:eval_accuracy_multilabel after step 100: 0.05851063829787234: \n",
      "INFO:root:eval_accuracy_thresh after step 100: 0.8867781162261963: \n",
      "INFO:root:eval_roc_auc after step 100: 0.6532445667489059: \n",
      "INFO:root:eval_fbeta after step 100: 0.19284003973007202: \n",
      "INFO:root:lr after step 100: 1.2e-05\n",
      "INFO:root:train_loss after step 100: 0.43761933147907256\n",
      "INFO:root:Running evaluation\n",
      "INFO:root:  Num examples = 188\n",
      "INFO:root:  Batch size = 32\n"
     ]
    },
    {
     "data": {
      "text/html": [
       "\n",
       "    <div>\n",
       "        <style>\n",
       "            /* Turns off some styling */\n",
       "            progress {\n",
       "                /* gets rid of default border in Firefox and Opera. */\n",
       "                border: none;\n",
       "                /* Needs to be in here for Safari polyfill so background images work as expected. */\n",
       "                background-size: auto;\n",
       "            }\n",
       "            .progress-bar-interrupted, .progress-bar-interrupted::-webkit-progress-bar {\n",
       "                background: #F44336;\n",
       "            }\n",
       "        </style>\n",
       "      <progress value='6' class='' max='6', style='width:300px; height:20px; vertical-align: middle;'></progress>\n",
       "      100.00% [6/6 00:07<00:00]\n",
       "    </div>\n",
       "    "
      ],
      "text/plain": [
       "<IPython.core.display.HTML object>"
      ]
     },
     "metadata": {},
     "output_type": "display_data"
    },
    {
     "name": "stderr",
     "output_type": "stream",
     "text": [
      "INFO:root:eval_loss after step 120: 0.36205873390038806: \n",
      "INFO:root:eval_accuracy_multilabel after step 120: 0.047872340425531915: \n",
      "INFO:root:eval_accuracy_thresh after step 120: 0.8867781162261963: \n",
      "INFO:root:eval_roc_auc after step 120: 0.6707347756824991: \n",
      "INFO:root:eval_fbeta after step 120: 0.12755055725574493: \n",
      "INFO:root:lr after step 120: 1.44e-05\n",
      "INFO:root:train_loss after step 120: 0.40733384191989896\n",
      "INFO:root:Running evaluation\n",
      "INFO:root:  Num examples = 188\n",
      "INFO:root:  Batch size = 32\n"
     ]
    },
    {
     "data": {
      "text/html": [
       "\n",
       "    <div>\n",
       "        <style>\n",
       "            /* Turns off some styling */\n",
       "            progress {\n",
       "                /* gets rid of default border in Firefox and Opera. */\n",
       "                border: none;\n",
       "                /* Needs to be in here for Safari polyfill so background images work as expected. */\n",
       "                background-size: auto;\n",
       "            }\n",
       "            .progress-bar-interrupted, .progress-bar-interrupted::-webkit-progress-bar {\n",
       "                background: #F44336;\n",
       "            }\n",
       "        </style>\n",
       "      <progress value='6' class='' max='6', style='width:300px; height:20px; vertical-align: middle;'></progress>\n",
       "      100.00% [6/6 00:07<00:00]\n",
       "    </div>\n",
       "    "
      ],
      "text/plain": [
       "<IPython.core.display.HTML object>"
      ]
     },
     "metadata": {},
     "output_type": "display_data"
    },
    {
     "name": "stderr",
     "output_type": "stream",
     "text": [
      "INFO:root:eval_loss after step 140: 0.34749147295951843: \n",
      "INFO:root:eval_accuracy_multilabel after step 140: 0.047872340425531915: \n",
      "INFO:root:eval_accuracy_thresh after step 140: 0.8867781162261963: \n",
      "INFO:root:eval_roc_auc after step 140: 0.6568080260865066: \n",
      "INFO:root:eval_fbeta after step 140: 0.002045826520770788: \n",
      "INFO:root:lr after step 140: 1.6800000000000002e-05\n",
      "INFO:root:train_loss after step 140: 0.38489552289247514\n",
      "INFO:root:Running evaluation\n",
      "INFO:root:  Num examples = 188\n",
      "INFO:root:  Batch size = 32\n"
     ]
    },
    {
     "data": {
      "text/html": [
       "\n",
       "    <div>\n",
       "        <style>\n",
       "            /* Turns off some styling */\n",
       "            progress {\n",
       "                /* gets rid of default border in Firefox and Opera. */\n",
       "                border: none;\n",
       "                /* Needs to be in here for Safari polyfill so background images work as expected. */\n",
       "                background-size: auto;\n",
       "            }\n",
       "            .progress-bar-interrupted, .progress-bar-interrupted::-webkit-progress-bar {\n",
       "                background: #F44336;\n",
       "            }\n",
       "        </style>\n",
       "      <progress value='6' class='' max='6', style='width:300px; height:20px; vertical-align: middle;'></progress>\n",
       "      100.00% [6/6 00:07<00:00]\n",
       "    </div>\n",
       "    "
      ],
      "text/plain": [
       "<IPython.core.display.HTML object>"
      ]
     },
     "metadata": {},
     "output_type": "display_data"
    },
    {
     "name": "stderr",
     "output_type": "stream",
     "text": [
      "INFO:root:eval_loss after epoch 3: 0.3469454348087311: \n",
      "INFO:root:eval_accuracy_multilabel after epoch 3: 0.047872340425531915: \n",
      "INFO:root:eval_accuracy_thresh after epoch 3: 0.8867781162261963: \n",
      "INFO:root:eval_roc_auc after epoch 3: 0.6577936025948483: \n",
      "INFO:root:eval_fbeta after epoch 3: 0.010001818649470806: \n",
      "INFO:root:Running evaluation\n",
      "INFO:root:  Num examples = 188\n",
      "INFO:root:  Batch size = 32\n"
     ]
    },
    {
     "data": {
      "text/html": [
       "\n",
       "    <div>\n",
       "        <style>\n",
       "            /* Turns off some styling */\n",
       "            progress {\n",
       "                /* gets rid of default border in Firefox and Opera. */\n",
       "                border: none;\n",
       "                /* Needs to be in here for Safari polyfill so background images work as expected. */\n",
       "                background-size: auto;\n",
       "            }\n",
       "            .progress-bar-interrupted, .progress-bar-interrupted::-webkit-progress-bar {\n",
       "                background: #F44336;\n",
       "            }\n",
       "        </style>\n",
       "      <progress value='6' class='' max='6', style='width:300px; height:20px; vertical-align: middle;'></progress>\n",
       "      100.00% [6/6 00:07<00:00]\n",
       "    </div>\n",
       "    "
      ],
      "text/plain": [
       "<IPython.core.display.HTML object>"
      ]
     },
     "metadata": {},
     "output_type": "display_data"
    },
    {
     "name": "stderr",
     "output_type": "stream",
     "text": [
      "INFO:root:eval_loss after step 160: 0.3416449874639511: \n",
      "INFO:root:eval_accuracy_multilabel after step 160: 0.047872340425531915: \n",
      "INFO:root:eval_accuracy_thresh after step 160: 0.8867781162261963: \n",
      "INFO:root:eval_roc_auc after step 160: 0.6565772674729559: \n",
      "INFO:root:eval_fbeta after step 160: 0.0: \n",
      "INFO:root:lr after step 160: 1.9200000000000003e-05\n",
      "INFO:root:train_loss after step 160: 0.3810590222477913\n",
      "INFO:root:Running evaluation\n",
      "INFO:root:  Num examples = 188\n",
      "INFO:root:  Batch size = 32\n"
     ]
    },
    {
     "data": {
      "text/html": [
       "\n",
       "    <div>\n",
       "        <style>\n",
       "            /* Turns off some styling */\n",
       "            progress {\n",
       "                /* gets rid of default border in Firefox and Opera. */\n",
       "                border: none;\n",
       "                /* Needs to be in here for Safari polyfill so background images work as expected. */\n",
       "                background-size: auto;\n",
       "            }\n",
       "            .progress-bar-interrupted, .progress-bar-interrupted::-webkit-progress-bar {\n",
       "                background: #F44336;\n",
       "            }\n",
       "        </style>\n",
       "      <progress value='6' class='' max='6', style='width:300px; height:20px; vertical-align: middle;'></progress>\n",
       "      100.00% [6/6 00:07<00:00]\n",
       "    </div>\n",
       "    "
      ],
      "text/plain": [
       "<IPython.core.display.HTML object>"
      ]
     },
     "metadata": {},
     "output_type": "display_data"
    },
    {
     "name": "stderr",
     "output_type": "stream",
     "text": [
      "INFO:root:eval_loss after step 180: 0.3432370076576869: \n",
      "INFO:root:eval_accuracy_multilabel after step 180: 0.047872340425531915: \n",
      "INFO:root:eval_accuracy_thresh after step 180: 0.8867781162261963: \n",
      "INFO:root:eval_roc_auc after step 180: 0.6674049504551911: \n",
      "INFO:root:eval_fbeta after step 180: 0.12017826735973358: \n",
      "INFO:root:lr after step 180: 2.16e-05\n",
      "INFO:root:train_loss after step 180: 0.37624176442623136\n",
      "INFO:root:Running evaluation\n",
      "INFO:root:  Num examples = 188\n",
      "INFO:root:  Batch size = 32\n"
     ]
    },
    {
     "data": {
      "text/html": [
       "\n",
       "    <div>\n",
       "        <style>\n",
       "            /* Turns off some styling */\n",
       "            progress {\n",
       "                /* gets rid of default border in Firefox and Opera. */\n",
       "                border: none;\n",
       "                /* Needs to be in here for Safari polyfill so background images work as expected. */\n",
       "                background-size: auto;\n",
       "            }\n",
       "            .progress-bar-interrupted, .progress-bar-interrupted::-webkit-progress-bar {\n",
       "                background: #F44336;\n",
       "            }\n",
       "        </style>\n",
       "      <progress value='6' class='' max='6', style='width:300px; height:20px; vertical-align: middle;'></progress>\n",
       "      100.00% [6/6 00:07<00:00]\n",
       "    </div>\n",
       "    "
      ],
      "text/plain": [
       "<IPython.core.display.HTML object>"
      ]
     },
     "metadata": {},
     "output_type": "display_data"
    },
    {
     "name": "stderr",
     "output_type": "stream",
     "text": [
      "INFO:root:eval_loss after epoch 4: 0.33995052178700763: \n",
      "INFO:root:eval_accuracy_multilabel after epoch 4: 0.047872340425531915: \n",
      "INFO:root:eval_accuracy_thresh after epoch 4: 0.8867781162261963: \n",
      "INFO:root:eval_roc_auc after epoch 4: 0.6546844717424936: \n",
      "INFO:root:eval_fbeta after epoch 4: 0.0: \n",
      "INFO:root:Running evaluation\n",
      "INFO:root:  Num examples = 188\n",
      "INFO:root:  Batch size = 32\n"
     ]
    },
    {
     "data": {
      "text/html": [
       "\n",
       "    <div>\n",
       "        <style>\n",
       "            /* Turns off some styling */\n",
       "            progress {\n",
       "                /* gets rid of default border in Firefox and Opera. */\n",
       "                border: none;\n",
       "                /* Needs to be in here for Safari polyfill so background images work as expected. */\n",
       "                background-size: auto;\n",
       "            }\n",
       "            .progress-bar-interrupted, .progress-bar-interrupted::-webkit-progress-bar {\n",
       "                background: #F44336;\n",
       "            }\n",
       "        </style>\n",
       "      <progress value='6' class='' max='6', style='width:300px; height:20px; vertical-align: middle;'></progress>\n",
       "      100.00% [6/6 00:07<00:00]\n",
       "    </div>\n",
       "    "
      ],
      "text/plain": [
       "<IPython.core.display.HTML object>"
      ]
     },
     "metadata": {},
     "output_type": "display_data"
    },
    {
     "name": "stderr",
     "output_type": "stream",
     "text": [
      "INFO:root:eval_loss after step 200: 0.33830442031224567: \n",
      "INFO:root:eval_accuracy_multilabel after step 200: 0.047872340425531915: \n",
      "INFO:root:eval_accuracy_thresh after step 200: 0.8867781162261963: \n",
      "INFO:root:eval_roc_auc after step 200: 0.667814708740935: \n",
      "INFO:root:eval_fbeta after step 200: 0.027354096993803978: \n",
      "INFO:root:lr after step 200: 2.4e-05\n",
      "INFO:root:train_loss after step 200: 0.3689279228448868\n",
      "INFO:root:Running evaluation\n",
      "INFO:root:  Num examples = 188\n",
      "INFO:root:  Batch size = 32\n"
     ]
    },
    {
     "data": {
      "text/html": [
       "\n",
       "    <div>\n",
       "        <style>\n",
       "            /* Turns off some styling */\n",
       "            progress {\n",
       "                /* gets rid of default border in Firefox and Opera. */\n",
       "                border: none;\n",
       "                /* Needs to be in here for Safari polyfill so background images work as expected. */\n",
       "                background-size: auto;\n",
       "            }\n",
       "            .progress-bar-interrupted, .progress-bar-interrupted::-webkit-progress-bar {\n",
       "                background: #F44336;\n",
       "            }\n",
       "        </style>\n",
       "      <progress value='6' class='' max='6', style='width:300px; height:20px; vertical-align: middle;'></progress>\n",
       "      100.00% [6/6 00:07<00:00]\n",
       "    </div>\n",
       "    "
      ],
      "text/plain": [
       "<IPython.core.display.HTML object>"
      ]
     },
     "metadata": {},
     "output_type": "display_data"
    },
    {
     "name": "stderr",
     "output_type": "stream",
     "text": [
      "INFO:root:eval_loss after step 220: 0.33772335946559906: \n",
      "INFO:root:eval_accuracy_multilabel after step 220: 0.047872340425531915: \n",
      "INFO:root:eval_accuracy_thresh after step 220: 0.8867781162261963: \n",
      "INFO:root:eval_roc_auc after step 220: 0.6688678594227153: \n",
      "INFO:root:eval_fbeta after step 220: 0.04393598809838295: \n",
      "INFO:root:lr after step 220: 2.64e-05\n",
      "INFO:root:train_loss after step 220: 0.37574382275342944\n",
      "INFO:root:Running evaluation\n",
      "INFO:root:  Num examples = 188\n",
      "INFO:root:  Batch size = 32\n"
     ]
    },
    {
     "data": {
      "text/html": [
       "\n",
       "    <div>\n",
       "        <style>\n",
       "            /* Turns off some styling */\n",
       "            progress {\n",
       "                /* gets rid of default border in Firefox and Opera. */\n",
       "                border: none;\n",
       "                /* Needs to be in here for Safari polyfill so background images work as expected. */\n",
       "                background-size: auto;\n",
       "            }\n",
       "            .progress-bar-interrupted, .progress-bar-interrupted::-webkit-progress-bar {\n",
       "                background: #F44336;\n",
       "            }\n",
       "        </style>\n",
       "      <progress value='6' class='' max='6', style='width:300px; height:20px; vertical-align: middle;'></progress>\n",
       "      100.00% [6/6 00:07<00:00]\n",
       "    </div>\n",
       "    "
      ],
      "text/plain": [
       "<IPython.core.display.HTML object>"
      ]
     },
     "metadata": {},
     "output_type": "display_data"
    },
    {
     "name": "stderr",
     "output_type": "stream",
     "text": [
      "INFO:root:eval_loss after epoch 5: 0.3348299413919449: \n",
      "INFO:root:eval_accuracy_multilabel after epoch 5: 0.047872340425531915: \n",
      "INFO:root:eval_accuracy_thresh after epoch 5: 0.8867781162261963: \n",
      "INFO:root:eval_roc_auc after epoch 5: 0.6738194648125464: \n",
      "INFO:root:eval_fbeta after epoch 5: 0.0667455717921257: \n",
      "INFO:root:Running evaluation\n",
      "INFO:root:  Num examples = 188\n",
      "INFO:root:  Batch size = 32\n"
     ]
    },
    {
     "data": {
      "text/html": [
       "\n",
       "    <div>\n",
       "        <style>\n",
       "            /* Turns off some styling */\n",
       "            progress {\n",
       "                /* gets rid of default border in Firefox and Opera. */\n",
       "                border: none;\n",
       "                /* Needs to be in here for Safari polyfill so background images work as expected. */\n",
       "                background-size: auto;\n",
       "            }\n",
       "            .progress-bar-interrupted, .progress-bar-interrupted::-webkit-progress-bar {\n",
       "                background: #F44336;\n",
       "            }\n",
       "        </style>\n",
       "      <progress value='6' class='' max='6', style='width:300px; height:20px; vertical-align: middle;'></progress>\n",
       "      100.00% [6/6 00:07<00:00]\n",
       "    </div>\n",
       "    "
      ],
      "text/plain": [
       "<IPython.core.display.HTML object>"
      ]
     },
     "metadata": {},
     "output_type": "display_data"
    },
    {
     "name": "stderr",
     "output_type": "stream",
     "text": [
      "INFO:root:eval_loss after step 240: 0.33370732764403027: \n",
      "INFO:root:eval_accuracy_multilabel after step 240: 0.0851063829787234: \n",
      "INFO:root:eval_accuracy_thresh after step 240: 0.8867781162261963: \n",
      "INFO:root:eval_roc_auc after step 240: 0.6775576105772273: \n",
      "INFO:root:eval_fbeta after step 240: 0.023428820073604584: \n",
      "INFO:root:lr after step 240: 2.88e-05\n",
      "INFO:root:train_loss after step 240: 0.37144800275564194\n",
      "INFO:root:Running evaluation\n",
      "INFO:root:  Num examples = 188\n",
      "INFO:root:  Batch size = 32\n"
     ]
    },
    {
     "data": {
      "text/html": [
       "\n",
       "    <div>\n",
       "        <style>\n",
       "            /* Turns off some styling */\n",
       "            progress {\n",
       "                /* gets rid of default border in Firefox and Opera. */\n",
       "                border: none;\n",
       "                /* Needs to be in here for Safari polyfill so background images work as expected. */\n",
       "                background-size: auto;\n",
       "            }\n",
       "            .progress-bar-interrupted, .progress-bar-interrupted::-webkit-progress-bar {\n",
       "                background: #F44336;\n",
       "            }\n",
       "        </style>\n",
       "      <progress value='6' class='' max='6', style='width:300px; height:20px; vertical-align: middle;'></progress>\n",
       "      100.00% [6/6 00:07<00:00]\n",
       "    </div>\n",
       "    "
      ],
      "text/plain": [
       "<IPython.core.display.HTML object>"
      ]
     },
     "metadata": {},
     "output_type": "display_data"
    },
    {
     "name": "stderr",
     "output_type": "stream",
     "text": [
      "INFO:root:eval_loss after step 260: 0.3330939511458079: \n",
      "INFO:root:eval_accuracy_multilabel after step 260: 0.047872340425531915: \n",
      "INFO:root:eval_accuracy_thresh after step 260: 0.886398196220398: \n",
      "INFO:root:eval_roc_auc after step 260: 0.6885585422381717: \n",
      "INFO:root:eval_fbeta after step 260: 0.12998396158218384: \n",
      "INFO:root:lr after step 260: 3.12e-05\n",
      "INFO:root:train_loss after step 260: 0.3620541974902153\n",
      "INFO:root:Running evaluation\n",
      "INFO:root:  Num examples = 188\n",
      "INFO:root:  Batch size = 32\n"
     ]
    },
    {
     "data": {
      "text/html": [
       "\n",
       "    <div>\n",
       "        <style>\n",
       "            /* Turns off some styling */\n",
       "            progress {\n",
       "                /* gets rid of default border in Firefox and Opera. */\n",
       "                border: none;\n",
       "                /* Needs to be in here for Safari polyfill so background images work as expected. */\n",
       "                background-size: auto;\n",
       "            }\n",
       "            .progress-bar-interrupted, .progress-bar-interrupted::-webkit-progress-bar {\n",
       "                background: #F44336;\n",
       "            }\n",
       "        </style>\n",
       "      <progress value='6' class='' max='6', style='width:300px; height:20px; vertical-align: middle;'></progress>\n",
       "      100.00% [6/6 00:07<00:00]\n",
       "    </div>\n",
       "    "
      ],
      "text/plain": [
       "<IPython.core.display.HTML object>"
      ]
     },
     "metadata": {},
     "output_type": "display_data"
    },
    {
     "name": "stderr",
     "output_type": "stream",
     "text": [
      "INFO:root:eval_loss after step 280: 0.33705511192480725: \n",
      "INFO:root:eval_accuracy_multilabel after step 280: 0.10638297872340426: \n",
      "INFO:root:eval_accuracy_thresh after step 280: 0.886398196220398: \n",
      "INFO:root:eval_roc_auc after step 280: 0.7085418068471329: \n",
      "INFO:root:eval_fbeta after step 280: 0.1493101567029953: \n",
      "INFO:root:lr after step 280: 3.3600000000000004e-05\n",
      "INFO:root:train_loss after step 280: 0.3609879553318024\n",
      "INFO:root:Running evaluation\n",
      "INFO:root:  Num examples = 188\n",
      "INFO:root:  Batch size = 32\n"
     ]
    },
    {
     "data": {
      "text/html": [
       "\n",
       "    <div>\n",
       "        <style>\n",
       "            /* Turns off some styling */\n",
       "            progress {\n",
       "                /* gets rid of default border in Firefox and Opera. */\n",
       "                border: none;\n",
       "                /* Needs to be in here for Safari polyfill so background images work as expected. */\n",
       "                background-size: auto;\n",
       "            }\n",
       "            .progress-bar-interrupted, .progress-bar-interrupted::-webkit-progress-bar {\n",
       "                background: #F44336;\n",
       "            }\n",
       "        </style>\n",
       "      <progress value='6' class='' max='6', style='width:300px; height:20px; vertical-align: middle;'></progress>\n",
       "      100.00% [6/6 00:07<00:00]\n",
       "    </div>\n",
       "    "
      ],
      "text/plain": [
       "<IPython.core.display.HTML object>"
      ]
     },
     "metadata": {},
     "output_type": "display_data"
    },
    {
     "name": "stderr",
     "output_type": "stream",
     "text": [
      "INFO:root:eval_loss after epoch 6: 0.3302903175354004: \n",
      "INFO:root:eval_accuracy_multilabel after epoch 6: 0.1276595744680851: \n",
      "INFO:root:eval_accuracy_thresh after epoch 6: 0.8879179358482361: \n",
      "INFO:root:eval_roc_auc after epoch 6: 0.7130326138840484: \n",
      "INFO:root:eval_fbeta after epoch 6: 0.14225047826766968: \n",
      "INFO:root:Running evaluation\n",
      "INFO:root:  Num examples = 188\n",
      "INFO:root:  Batch size = 32\n"
     ]
    },
    {
     "data": {
      "text/html": [
       "\n",
       "    <div>\n",
       "        <style>\n",
       "            /* Turns off some styling */\n",
       "            progress {\n",
       "                /* gets rid of default border in Firefox and Opera. */\n",
       "                border: none;\n",
       "                /* Needs to be in here for Safari polyfill so background images work as expected. */\n",
       "                background-size: auto;\n",
       "            }\n",
       "            .progress-bar-interrupted, .progress-bar-interrupted::-webkit-progress-bar {\n",
       "                background: #F44336;\n",
       "            }\n",
       "        </style>\n",
       "      <progress value='6' class='' max='6', style='width:300px; height:20px; vertical-align: middle;'></progress>\n",
       "      100.00% [6/6 00:07<00:00]\n",
       "    </div>\n",
       "    "
      ],
      "text/plain": [
       "<IPython.core.display.HTML object>"
      ]
     },
     "metadata": {},
     "output_type": "display_data"
    },
    {
     "name": "stderr",
     "output_type": "stream",
     "text": [
      "INFO:root:eval_loss after step 300: 0.3231101334095001: \n",
      "INFO:root:eval_accuracy_multilabel after step 300: 0.22340425531914893: \n",
      "INFO:root:eval_accuracy_thresh after step 300: 0.8848784565925598: \n",
      "INFO:root:eval_roc_auc after step 300: 0.729054881730819: \n",
      "INFO:root:eval_fbeta after step 300: 0.1427101194858551: \n",
      "INFO:root:lr after step 300: 3.6e-05\n",
      "INFO:root:train_loss after step 300: 0.35896016359329225\n",
      "INFO:root:Running evaluation\n",
      "INFO:root:  Num examples = 188\n",
      "INFO:root:  Batch size = 32\n"
     ]
    },
    {
     "data": {
      "text/html": [
       "\n",
       "    <div>\n",
       "        <style>\n",
       "            /* Turns off some styling */\n",
       "            progress {\n",
       "                /* gets rid of default border in Firefox and Opera. */\n",
       "                border: none;\n",
       "                /* Needs to be in here for Safari polyfill so background images work as expected. */\n",
       "                background-size: auto;\n",
       "            }\n",
       "            .progress-bar-interrupted, .progress-bar-interrupted::-webkit-progress-bar {\n",
       "                background: #F44336;\n",
       "            }\n",
       "        </style>\n",
       "      <progress value='6' class='' max='6', style='width:300px; height:20px; vertical-align: middle;'></progress>\n",
       "      100.00% [6/6 00:07<00:00]\n",
       "    </div>\n",
       "    "
      ],
      "text/plain": [
       "<IPython.core.display.HTML object>"
      ]
     },
     "metadata": {},
     "output_type": "display_data"
    },
    {
     "name": "stderr",
     "output_type": "stream",
     "text": [
      "INFO:root:eval_loss after step 320: 0.3176308472951253: \n",
      "INFO:root:eval_accuracy_multilabel after step 320: 0.19148936170212766: \n",
      "INFO:root:eval_accuracy_thresh after step 320: 0.8860182762145996: \n",
      "INFO:root:eval_roc_auc after step 320: 0.7503860354376217: \n",
      "INFO:root:eval_fbeta after step 320: 0.15726444125175476: \n",
      "INFO:root:lr after step 320: 3.8400000000000005e-05\n",
      "INFO:root:train_loss after step 320: 0.35287884473800657\n",
      "INFO:root:Running evaluation\n",
      "INFO:root:  Num examples = 188\n",
      "INFO:root:  Batch size = 32\n"
     ]
    },
    {
     "data": {
      "text/html": [
       "\n",
       "    <div>\n",
       "        <style>\n",
       "            /* Turns off some styling */\n",
       "            progress {\n",
       "                /* gets rid of default border in Firefox and Opera. */\n",
       "                border: none;\n",
       "                /* Needs to be in here for Safari polyfill so background images work as expected. */\n",
       "                background-size: auto;\n",
       "            }\n",
       "            .progress-bar-interrupted, .progress-bar-interrupted::-webkit-progress-bar {\n",
       "                background: #F44336;\n",
       "            }\n",
       "        </style>\n",
       "      <progress value='6' class='' max='6', style='width:300px; height:20px; vertical-align: middle;'></progress>\n",
       "      100.00% [6/6 00:07<00:00]\n",
       "    </div>\n",
       "    "
      ],
      "text/plain": [
       "<IPython.core.display.HTML object>"
      ]
     },
     "metadata": {},
     "output_type": "display_data"
    },
    {
     "name": "stderr",
     "output_type": "stream",
     "text": [
      "INFO:root:eval_loss after epoch 7: 0.3151118556658427: \n",
      "INFO:root:eval_accuracy_multilabel after epoch 7: 0.10106382978723404: \n",
      "INFO:root:eval_accuracy_thresh after epoch 7: 0.8871580362319946: \n",
      "INFO:root:eval_roc_auc after epoch 7: 0.7428206035092562: \n",
      "INFO:root:eval_fbeta after epoch 7: 0.1157122254371643: \n",
      "INFO:root:Running evaluation\n",
      "INFO:root:  Num examples = 188\n",
      "INFO:root:  Batch size = 32\n"
     ]
    },
    {
     "data": {
      "text/html": [
       "\n",
       "    <div>\n",
       "        <style>\n",
       "            /* Turns off some styling */\n",
       "            progress {\n",
       "                /* gets rid of default border in Firefox and Opera. */\n",
       "                border: none;\n",
       "                /* Needs to be in here for Safari polyfill so background images work as expected. */\n",
       "                background-size: auto;\n",
       "            }\n",
       "            .progress-bar-interrupted, .progress-bar-interrupted::-webkit-progress-bar {\n",
       "                background: #F44336;\n",
       "            }\n",
       "        </style>\n",
       "      <progress value='6' class='' max='6', style='width:300px; height:20px; vertical-align: middle;'></progress>\n",
       "      100.00% [6/6 00:07<00:00]\n",
       "    </div>\n",
       "    "
      ],
      "text/plain": [
       "<IPython.core.display.HTML object>"
      ]
     },
     "metadata": {},
     "output_type": "display_data"
    },
    {
     "name": "stderr",
     "output_type": "stream",
     "text": [
      "INFO:root:eval_loss after step 340: 0.31109300752480823: \n",
      "INFO:root:eval_accuracy_multilabel after step 340: 0.21808510638297873: \n",
      "INFO:root:eval_accuracy_thresh after step 340: 0.8867781162261963: \n",
      "INFO:root:eval_roc_auc after step 340: 0.7638577376741832: \n",
      "INFO:root:eval_fbeta after step 340: 0.19610191881656647: \n",
      "INFO:root:lr after step 340: 4.08e-05\n",
      "INFO:root:train_loss after step 340: 0.3385552644729614\n",
      "INFO:root:Running evaluation\n",
      "INFO:root:  Num examples = 188\n",
      "INFO:root:  Batch size = 32\n"
     ]
    },
    {
     "data": {
      "text/html": [
       "\n",
       "    <div>\n",
       "        <style>\n",
       "            /* Turns off some styling */\n",
       "            progress {\n",
       "                /* gets rid of default border in Firefox and Opera. */\n",
       "                border: none;\n",
       "                /* Needs to be in here for Safari polyfill so background images work as expected. */\n",
       "                background-size: auto;\n",
       "            }\n",
       "            .progress-bar-interrupted, .progress-bar-interrupted::-webkit-progress-bar {\n",
       "                background: #F44336;\n",
       "            }\n",
       "        </style>\n",
       "      <progress value='6' class='' max='6', style='width:300px; height:20px; vertical-align: middle;'></progress>\n",
       "      100.00% [6/6 00:07<00:00]\n",
       "    </div>\n",
       "    "
      ],
      "text/plain": [
       "<IPython.core.display.HTML object>"
      ]
     },
     "metadata": {},
     "output_type": "display_data"
    },
    {
     "name": "stderr",
     "output_type": "stream",
     "text": [
      "INFO:root:eval_loss after step 360: 0.3131638914346695: \n",
      "INFO:root:eval_accuracy_multilabel after step 360: 0.20212765957446807: \n",
      "INFO:root:eval_accuracy_thresh after step 360: 0.8890577554702759: \n",
      "INFO:root:eval_roc_auc after step 360: 0.7588385581109136: \n",
      "INFO:root:eval_fbeta after step 360: 0.17900320887565613: \n",
      "INFO:root:lr after step 360: 4.32e-05\n",
      "INFO:root:train_loss after step 360: 0.3260939374566078\n",
      "INFO:root:Running evaluation\n",
      "INFO:root:  Num examples = 188\n",
      "INFO:root:  Batch size = 32\n"
     ]
    },
    {
     "data": {
      "text/html": [
       "\n",
       "    <div>\n",
       "        <style>\n",
       "            /* Turns off some styling */\n",
       "            progress {\n",
       "                /* gets rid of default border in Firefox and Opera. */\n",
       "                border: none;\n",
       "                /* Needs to be in here for Safari polyfill so background images work as expected. */\n",
       "                background-size: auto;\n",
       "            }\n",
       "            .progress-bar-interrupted, .progress-bar-interrupted::-webkit-progress-bar {\n",
       "                background: #F44336;\n",
       "            }\n",
       "        </style>\n",
       "      <progress value='6' class='' max='6', style='width:300px; height:20px; vertical-align: middle;'></progress>\n",
       "      100.00% [6/6 00:07<00:00]\n",
       "    </div>\n",
       "    "
      ],
      "text/plain": [
       "<IPython.core.display.HTML object>"
      ]
     },
     "metadata": {},
     "output_type": "display_data"
    },
    {
     "name": "stderr",
     "output_type": "stream",
     "text": [
      "INFO:root:eval_loss after epoch 8: 0.304619421561559: \n",
      "INFO:root:eval_accuracy_multilabel after epoch 8: 0.26595744680851063: \n",
      "INFO:root:eval_accuracy_thresh after epoch 8: 0.8886778354644775: \n",
      "INFO:root:eval_roc_auc after epoch 8: 0.7830049516053899: \n",
      "INFO:root:eval_fbeta after epoch 8: 0.2869456112384796: \n",
      "INFO:root:Running evaluation\n",
      "INFO:root:  Num examples = 188\n",
      "INFO:root:  Batch size = 32\n"
     ]
    },
    {
     "data": {
      "text/html": [
       "\n",
       "    <div>\n",
       "        <style>\n",
       "            /* Turns off some styling */\n",
       "            progress {\n",
       "                /* gets rid of default border in Firefox and Opera. */\n",
       "                border: none;\n",
       "                /* Needs to be in here for Safari polyfill so background images work as expected. */\n",
       "                background-size: auto;\n",
       "            }\n",
       "            .progress-bar-interrupted, .progress-bar-interrupted::-webkit-progress-bar {\n",
       "                background: #F44336;\n",
       "            }\n",
       "        </style>\n",
       "      <progress value='6' class='' max='6', style='width:300px; height:20px; vertical-align: middle;'></progress>\n",
       "      100.00% [6/6 00:07<00:00]\n",
       "    </div>\n",
       "    "
      ],
      "text/plain": [
       "<IPython.core.display.HTML object>"
      ]
     },
     "metadata": {},
     "output_type": "display_data"
    },
    {
     "name": "stderr",
     "output_type": "stream",
     "text": [
      "INFO:root:eval_loss after step 380: 0.3034232209126155: \n",
      "INFO:root:eval_accuracy_multilabel after step 380: 0.2393617021276596: \n",
      "INFO:root:eval_accuracy_thresh after step 380: 0.8882978558540344: \n",
      "INFO:root:eval_roc_auc after step 380: 0.7820064353617088: \n",
      "INFO:root:eval_fbeta after step 380: 0.2739352285861969: \n",
      "INFO:root:lr after step 380: 4.5600000000000004e-05\n",
      "INFO:root:train_loss after step 380: 0.31867584586143494\n",
      "INFO:root:Running evaluation\n",
      "INFO:root:  Num examples = 188\n",
      "INFO:root:  Batch size = 32\n"
     ]
    },
    {
     "data": {
      "text/html": [
       "\n",
       "    <div>\n",
       "        <style>\n",
       "            /* Turns off some styling */\n",
       "            progress {\n",
       "                /* gets rid of default border in Firefox and Opera. */\n",
       "                border: none;\n",
       "                /* Needs to be in here for Safari polyfill so background images work as expected. */\n",
       "                background-size: auto;\n",
       "            }\n",
       "            .progress-bar-interrupted, .progress-bar-interrupted::-webkit-progress-bar {\n",
       "                background: #F44336;\n",
       "            }\n",
       "        </style>\n",
       "      <progress value='6' class='' max='6', style='width:300px; height:20px; vertical-align: middle;'></progress>\n",
       "      100.00% [6/6 00:07<00:00]\n",
       "    </div>\n",
       "    "
      ],
      "text/plain": [
       "<IPython.core.display.HTML object>"
      ]
     },
     "metadata": {},
     "output_type": "display_data"
    },
    {
     "name": "stderr",
     "output_type": "stream",
     "text": [
      "INFO:root:eval_loss after step 400: 0.303069402774175: \n",
      "INFO:root:eval_accuracy_multilabel after step 400: 0.2925531914893617: \n",
      "INFO:root:eval_accuracy_thresh after step 400: 0.8909574747085571: \n",
      "INFO:root:eval_roc_auc after step 400: 0.7923287497915265: \n",
      "INFO:root:eval_fbeta after step 400: 0.33577778935432434: \n",
      "INFO:root:lr after step 400: 4.8e-05\n",
      "INFO:root:train_loss after step 400: 0.30358903780579566\n",
      "INFO:root:Running evaluation\n",
      "INFO:root:  Num examples = 188\n",
      "INFO:root:  Batch size = 32\n"
     ]
    },
    {
     "data": {
      "text/html": [
       "\n",
       "    <div>\n",
       "        <style>\n",
       "            /* Turns off some styling */\n",
       "            progress {\n",
       "                /* gets rid of default border in Firefox and Opera. */\n",
       "                border: none;\n",
       "                /* Needs to be in here for Safari polyfill so background images work as expected. */\n",
       "                background-size: auto;\n",
       "            }\n",
       "            .progress-bar-interrupted, .progress-bar-interrupted::-webkit-progress-bar {\n",
       "                background: #F44336;\n",
       "            }\n",
       "        </style>\n",
       "      <progress value='6' class='' max='6', style='width:300px; height:20px; vertical-align: middle;'></progress>\n",
       "      100.00% [6/6 00:07<00:00]\n",
       "    </div>\n",
       "    "
      ],
      "text/plain": [
       "<IPython.core.display.HTML object>"
      ]
     },
     "metadata": {},
     "output_type": "display_data"
    },
    {
     "name": "stderr",
     "output_type": "stream",
     "text": [
      "INFO:root:eval_loss after step 420: 0.29074664910634357: \n",
      "INFO:root:eval_accuracy_multilabel after step 420: 0.2872340425531915: \n",
      "INFO:root:eval_accuracy_thresh after step 420: 0.8955167531967163: \n",
      "INFO:root:eval_roc_auc after step 420: 0.797557121742781: \n",
      "INFO:root:eval_fbeta after step 420: 0.30010008811950684: \n",
      "INFO:root:lr after step 420: 5.04e-05\n",
      "INFO:root:train_loss after step 420: 0.3109830230474472\n",
      "INFO:root:Running evaluation\n",
      "INFO:root:  Num examples = 188\n",
      "INFO:root:  Batch size = 32\n"
     ]
    },
    {
     "data": {
      "text/html": [
       "\n",
       "    <div>\n",
       "        <style>\n",
       "            /* Turns off some styling */\n",
       "            progress {\n",
       "                /* gets rid of default border in Firefox and Opera. */\n",
       "                border: none;\n",
       "                /* Needs to be in here for Safari polyfill so background images work as expected. */\n",
       "                background-size: auto;\n",
       "            }\n",
       "            .progress-bar-interrupted, .progress-bar-interrupted::-webkit-progress-bar {\n",
       "                background: #F44336;\n",
       "            }\n",
       "        </style>\n",
       "      <progress value='6' class='' max='6', style='width:300px; height:20px; vertical-align: middle;'></progress>\n",
       "      100.00% [6/6 00:07<00:00]\n",
       "    </div>\n",
       "    "
      ],
      "text/plain": [
       "<IPython.core.display.HTML object>"
      ]
     },
     "metadata": {},
     "output_type": "display_data"
    },
    {
     "name": "stderr",
     "output_type": "stream",
     "text": [
      "INFO:root:eval_loss after epoch 9: 0.2991564820210139: \n",
      "INFO:root:eval_accuracy_multilabel after epoch 9: 0.2765957446808511: \n",
      "INFO:root:eval_accuracy_thresh after epoch 9: 0.8920972943305969: \n",
      "INFO:root:eval_roc_auc after epoch 9: 0.7909226318846581: \n",
      "INFO:root:eval_fbeta after epoch 9: 0.3271926939487457: \n",
      "INFO:root:Running evaluation\n",
      "INFO:root:  Num examples = 188\n",
      "INFO:root:  Batch size = 32\n"
     ]
    },
    {
     "data": {
      "text/html": [
       "\n",
       "    <div>\n",
       "        <style>\n",
       "            /* Turns off some styling */\n",
       "            progress {\n",
       "                /* gets rid of default border in Firefox and Opera. */\n",
       "                border: none;\n",
       "                /* Needs to be in here for Safari polyfill so background images work as expected. */\n",
       "                background-size: auto;\n",
       "            }\n",
       "            .progress-bar-interrupted, .progress-bar-interrupted::-webkit-progress-bar {\n",
       "                background: #F44336;\n",
       "            }\n",
       "        </style>\n",
       "      <progress value='6' class='' max='6', style='width:300px; height:20px; vertical-align: middle;'></progress>\n",
       "      100.00% [6/6 00:07<00:00]\n",
       "    </div>\n",
       "    "
      ],
      "text/plain": [
       "<IPython.core.display.HTML object>"
      ]
     },
     "metadata": {},
     "output_type": "display_data"
    },
    {
     "name": "stderr",
     "output_type": "stream",
     "text": [
      "INFO:root:eval_loss after step 440: 0.2910275459289551: \n",
      "INFO:root:eval_accuracy_multilabel after step 440: 0.324468085106383: \n",
      "INFO:root:eval_accuracy_thresh after step 440: 0.8936170339584351: \n",
      "INFO:root:eval_roc_auc after step 440: 0.7925070305895343: \n",
      "INFO:root:eval_fbeta after step 440: 0.32390812039375305: \n",
      "INFO:root:lr after step 440: 5.28e-05\n",
      "INFO:root:train_loss after step 440: 0.2904456347227097\n",
      "INFO:root:Running evaluation\n",
      "INFO:root:  Num examples = 188\n",
      "INFO:root:  Batch size = 32\n"
     ]
    },
    {
     "data": {
      "text/html": [
       "\n",
       "    <div>\n",
       "        <style>\n",
       "            /* Turns off some styling */\n",
       "            progress {\n",
       "                /* gets rid of default border in Firefox and Opera. */\n",
       "                border: none;\n",
       "                /* Needs to be in here for Safari polyfill so background images work as expected. */\n",
       "                background-size: auto;\n",
       "            }\n",
       "            .progress-bar-interrupted, .progress-bar-interrupted::-webkit-progress-bar {\n",
       "                background: #F44336;\n",
       "            }\n",
       "        </style>\n",
       "      <progress value='6' class='' max='6', style='width:300px; height:20px; vertical-align: middle;'></progress>\n",
       "      100.00% [6/6 00:07<00:00]\n",
       "    </div>\n",
       "    "
      ],
      "text/plain": [
       "<IPython.core.display.HTML object>"
      ]
     },
     "metadata": {},
     "output_type": "display_data"
    },
    {
     "name": "stderr",
     "output_type": "stream",
     "text": [
      "INFO:root:eval_loss after step 460: 0.27908288439114887: \n",
      "INFO:root:eval_accuracy_multilabel after step 460: 0.32978723404255317: \n",
      "INFO:root:eval_accuracy_thresh after step 460: 0.9000759720802307: \n",
      "INFO:root:eval_roc_auc after step 460: 0.813783549858238: \n",
      "INFO:root:eval_fbeta after step 460: 0.3275734484195709: \n",
      "INFO:root:lr after step 460: 5.520000000000001e-05\n",
      "INFO:root:train_loss after step 460: 0.27265576720237733\n",
      "INFO:root:Running evaluation\n",
      "INFO:root:  Num examples = 188\n",
      "INFO:root:  Batch size = 32\n"
     ]
    },
    {
     "data": {
      "text/html": [
       "\n",
       "    <div>\n",
       "        <style>\n",
       "            /* Turns off some styling */\n",
       "            progress {\n",
       "                /* gets rid of default border in Firefox and Opera. */\n",
       "                border: none;\n",
       "                /* Needs to be in here for Safari polyfill so background images work as expected. */\n",
       "                background-size: auto;\n",
       "            }\n",
       "            .progress-bar-interrupted, .progress-bar-interrupted::-webkit-progress-bar {\n",
       "                background: #F44336;\n",
       "            }\n",
       "        </style>\n",
       "      <progress value='6' class='' max='6', style='width:300px; height:20px; vertical-align: middle;'></progress>\n",
       "      100.00% [6/6 00:07<00:00]\n",
       "    </div>\n",
       "    "
      ],
      "text/plain": [
       "<IPython.core.display.HTML object>"
      ]
     },
     "metadata": {},
     "output_type": "display_data"
    },
    {
     "name": "stderr",
     "output_type": "stream",
     "text": [
      "INFO:root:eval_loss after epoch 10: 0.28789974252382916: \n",
      "INFO:root:eval_accuracy_multilabel after epoch 10: 0.3351063829787234: \n",
      "INFO:root:eval_accuracy_thresh after epoch 10: 0.8928571343421936: \n",
      "INFO:root:eval_roc_auc after epoch 10: 0.7978676753909237: \n",
      "INFO:root:eval_fbeta after epoch 10: 0.3106161653995514: \n",
      "INFO:root:Running evaluation\n",
      "INFO:root:  Num examples = 188\n",
      "INFO:root:  Batch size = 32\n"
     ]
    },
    {
     "data": {
      "text/html": [
       "\n",
       "    <div>\n",
       "        <style>\n",
       "            /* Turns off some styling */\n",
       "            progress {\n",
       "                /* gets rid of default border in Firefox and Opera. */\n",
       "                border: none;\n",
       "                /* Needs to be in here for Safari polyfill so background images work as expected. */\n",
       "                background-size: auto;\n",
       "            }\n",
       "            .progress-bar-interrupted, .progress-bar-interrupted::-webkit-progress-bar {\n",
       "                background: #F44336;\n",
       "            }\n",
       "        </style>\n",
       "      <progress value='6' class='' max='6', style='width:300px; height:20px; vertical-align: middle;'></progress>\n",
       "      100.00% [6/6 00:07<00:00]\n",
       "    </div>\n",
       "    "
      ],
      "text/plain": [
       "<IPython.core.display.HTML object>"
      ]
     },
     "metadata": {},
     "output_type": "display_data"
    },
    {
     "name": "stderr",
     "output_type": "stream",
     "text": [
      "INFO:root:eval_loss after step 480: 0.2851452479759852: \n",
      "INFO:root:eval_accuracy_multilabel after step 480: 0.3351063829787234: \n",
      "INFO:root:eval_accuracy_thresh after step 480: 0.8943769335746765: \n",
      "INFO:root:eval_roc_auc after step 480: 0.8077284725936404: \n",
      "INFO:root:eval_fbeta after step 480: 0.3337230682373047: \n",
      "INFO:root:lr after step 480: 5.76e-05\n",
      "INFO:root:train_loss after step 480: 0.26688227504491807\n",
      "INFO:root:Running evaluation\n",
      "INFO:root:  Num examples = 188\n",
      "INFO:root:  Batch size = 32\n"
     ]
    },
    {
     "data": {
      "text/html": [
       "\n",
       "    <div>\n",
       "        <style>\n",
       "            /* Turns off some styling */\n",
       "            progress {\n",
       "                /* gets rid of default border in Firefox and Opera. */\n",
       "                border: none;\n",
       "                /* Needs to be in here for Safari polyfill so background images work as expected. */\n",
       "                background-size: auto;\n",
       "            }\n",
       "            .progress-bar-interrupted, .progress-bar-interrupted::-webkit-progress-bar {\n",
       "                background: #F44336;\n",
       "            }\n",
       "        </style>\n",
       "      <progress value='6' class='' max='6', style='width:300px; height:20px; vertical-align: middle;'></progress>\n",
       "      100.00% [6/6 00:07<00:00]\n",
       "    </div>\n",
       "    "
      ],
      "text/plain": [
       "<IPython.core.display.HTML object>"
      ]
     },
     "metadata": {},
     "output_type": "display_data"
    },
    {
     "name": "stderr",
     "output_type": "stream",
     "text": [
      "INFO:root:eval_loss after step 500: 0.28906971712907154: \n",
      "INFO:root:eval_accuracy_multilabel after step 500: 0.34574468085106386: \n",
      "INFO:root:eval_accuracy_thresh after step 500: 0.8974164128303528: \n",
      "INFO:root:eval_roc_auc after step 500: 0.7924595848932903: \n",
      "INFO:root:eval_fbeta after step 500: 0.34432560205459595: \n",
      "INFO:root:lr after step 500: 6e-05\n",
      "INFO:root:train_loss after step 500: 0.249484633654356\n",
      "INFO:root:Running evaluation\n",
      "INFO:root:  Num examples = 188\n",
      "INFO:root:  Batch size = 32\n"
     ]
    },
    {
     "data": {
      "text/html": [
       "\n",
       "    <div>\n",
       "        <style>\n",
       "            /* Turns off some styling */\n",
       "            progress {\n",
       "                /* gets rid of default border in Firefox and Opera. */\n",
       "                border: none;\n",
       "                /* Needs to be in here for Safari polyfill so background images work as expected. */\n",
       "                background-size: auto;\n",
       "            }\n",
       "            .progress-bar-interrupted, .progress-bar-interrupted::-webkit-progress-bar {\n",
       "                background: #F44336;\n",
       "            }\n",
       "        </style>\n",
       "      <progress value='6' class='' max='6', style='width:300px; height:20px; vertical-align: middle;'></progress>\n",
       "      100.00% [6/6 00:07<00:00]\n",
       "    </div>\n",
       "    "
      ],
      "text/plain": [
       "<IPython.core.display.HTML object>"
      ]
     },
     "metadata": {},
     "output_type": "display_data"
    },
    {
     "name": "stderr",
     "output_type": "stream",
     "text": [
      "INFO:root:eval_loss after epoch 11: 0.29163864254951477: \n",
      "INFO:root:eval_accuracy_multilabel after epoch 11: 0.3351063829787234: \n",
      "INFO:root:eval_accuracy_thresh after epoch 11: 0.8955167531967163: \n",
      "INFO:root:eval_roc_auc after epoch 11: 0.7975650293588219: \n",
      "INFO:root:eval_fbeta after epoch 11: 0.3508912920951843: \n",
      "INFO:root:Running evaluation\n",
      "INFO:root:  Num examples = 188\n",
      "INFO:root:  Batch size = 32\n"
     ]
    },
    {
     "data": {
      "text/html": [
       "\n",
       "    <div>\n",
       "        <style>\n",
       "            /* Turns off some styling */\n",
       "            progress {\n",
       "                /* gets rid of default border in Firefox and Opera. */\n",
       "                border: none;\n",
       "                /* Needs to be in here for Safari polyfill so background images work as expected. */\n",
       "                background-size: auto;\n",
       "            }\n",
       "            .progress-bar-interrupted, .progress-bar-interrupted::-webkit-progress-bar {\n",
       "                background: #F44336;\n",
       "            }\n",
       "        </style>\n",
       "      <progress value='6' class='' max='6', style='width:300px; height:20px; vertical-align: middle;'></progress>\n",
       "      100.00% [6/6 00:07<00:00]\n",
       "    </div>\n",
       "    "
      ],
      "text/plain": [
       "<IPython.core.display.HTML object>"
      ]
     },
     "metadata": {},
     "output_type": "display_data"
    },
    {
     "name": "stderr",
     "output_type": "stream",
     "text": [
      "INFO:root:eval_loss after step 520: 0.2824757918715477: \n",
      "INFO:root:eval_accuracy_multilabel after step 520: 0.34574468085106386: \n",
      "INFO:root:eval_accuracy_thresh after step 520: 0.901975691318512: \n",
      "INFO:root:eval_roc_auc after step 520: 0.7957549041596936: \n",
      "INFO:root:eval_fbeta after step 520: 0.3211449384689331: \n",
      "INFO:root:lr after step 520: 5.969464325642798e-05\n",
      "INFO:root:train_loss after step 520: 0.2494668409228325\n",
      "INFO:root:Running evaluation\n",
      "INFO:root:  Num examples = 188\n",
      "INFO:root:  Batch size = 32\n"
     ]
    },
    {
     "data": {
      "text/html": [
       "\n",
       "    <div>\n",
       "        <style>\n",
       "            /* Turns off some styling */\n",
       "            progress {\n",
       "                /* gets rid of default border in Firefox and Opera. */\n",
       "                border: none;\n",
       "                /* Needs to be in here for Safari polyfill so background images work as expected. */\n",
       "                background-size: auto;\n",
       "            }\n",
       "            .progress-bar-interrupted, .progress-bar-interrupted::-webkit-progress-bar {\n",
       "                background: #F44336;\n",
       "            }\n",
       "        </style>\n",
       "      <progress value='6' class='' max='6', style='width:300px; height:20px; vertical-align: middle;'></progress>\n",
       "      100.00% [6/6 00:07<00:00]\n",
       "    </div>\n",
       "    "
      ],
      "text/plain": [
       "<IPython.core.display.HTML object>"
      ]
     },
     "metadata": {},
     "output_type": "display_data"
    },
    {
     "name": "stderr",
     "output_type": "stream",
     "text": [
      "INFO:root:eval_loss after step 540: 0.28792832295099896: \n",
      "INFO:root:eval_accuracy_multilabel after step 540: 0.35638297872340424: \n",
      "INFO:root:eval_accuracy_thresh after step 540: 0.9000759720802307: \n",
      "INFO:root:eval_roc_auc after step 540: 0.7924969663509371: \n",
      "INFO:root:eval_fbeta after step 540: 0.31474319100379944: \n",
      "INFO:root:lr after step 540: 5.878478920843492e-05\n",
      "INFO:root:train_loss after step 540: 0.2359548933804035\n",
      "INFO:root:Running evaluation\n",
      "INFO:root:  Num examples = 188\n",
      "INFO:root:  Batch size = 32\n"
     ]
    },
    {
     "data": {
      "text/html": [
       "\n",
       "    <div>\n",
       "        <style>\n",
       "            /* Turns off some styling */\n",
       "            progress {\n",
       "                /* gets rid of default border in Firefox and Opera. */\n",
       "                border: none;\n",
       "                /* Needs to be in here for Safari polyfill so background images work as expected. */\n",
       "                background-size: auto;\n",
       "            }\n",
       "            .progress-bar-interrupted, .progress-bar-interrupted::-webkit-progress-bar {\n",
       "                background: #F44336;\n",
       "            }\n",
       "        </style>\n",
       "      <progress value='6' class='' max='6', style='width:300px; height:20px; vertical-align: middle;'></progress>\n",
       "      100.00% [6/6 00:07<00:00]\n",
       "    </div>\n",
       "    "
      ],
      "text/plain": [
       "<IPython.core.display.HTML object>"
      ]
     },
     "metadata": {},
     "output_type": "display_data"
    },
    {
     "name": "stderr",
     "output_type": "stream",
     "text": [
      "INFO:root:eval_loss after step 560: 0.2909298737843831: \n",
      "INFO:root:eval_accuracy_multilabel after step 560: 0.3191489361702128: \n",
      "INFO:root:eval_accuracy_thresh after step 560: 0.896276593208313: \n",
      "INFO:root:eval_roc_auc after step 560: 0.7894496586785368: \n",
      "INFO:root:eval_fbeta after step 560: 0.32101941108703613: \n",
      "INFO:root:lr after step 560: 5.728895986063555e-05\n",
      "INFO:root:train_loss after step 560: 0.2096931032836437\n",
      "INFO:root:Running evaluation\n",
      "INFO:root:  Num examples = 188\n",
      "INFO:root:  Batch size = 32\n"
     ]
    },
    {
     "data": {
      "text/html": [
       "\n",
       "    <div>\n",
       "        <style>\n",
       "            /* Turns off some styling */\n",
       "            progress {\n",
       "                /* gets rid of default border in Firefox and Opera. */\n",
       "                border: none;\n",
       "                /* Needs to be in here for Safari polyfill so background images work as expected. */\n",
       "                background-size: auto;\n",
       "            }\n",
       "            .progress-bar-interrupted, .progress-bar-interrupted::-webkit-progress-bar {\n",
       "                background: #F44336;\n",
       "            }\n",
       "        </style>\n",
       "      <progress value='6' class='' max='6', style='width:300px; height:20px; vertical-align: middle;'></progress>\n",
       "      100.00% [6/6 00:07<00:00]\n",
       "    </div>\n",
       "    "
      ],
      "text/plain": [
       "<IPython.core.display.HTML object>"
      ]
     },
     "metadata": {},
     "output_type": "display_data"
    },
    {
     "name": "stderr",
     "output_type": "stream",
     "text": [
      "INFO:root:eval_loss after epoch 12: 0.2915497422218323: \n",
      "INFO:root:eval_accuracy_multilabel after epoch 12: 0.30851063829787234: \n",
      "INFO:root:eval_accuracy_thresh after epoch 12: 0.890577495098114: \n",
      "INFO:root:eval_roc_auc after epoch 12: 0.7978238240656074: \n",
      "INFO:root:eval_fbeta after epoch 12: 0.3726266324520111: \n",
      "INFO:root:Running evaluation\n",
      "INFO:root:  Num examples = 188\n",
      "INFO:root:  Batch size = 32\n"
     ]
    },
    {
     "data": {
      "text/html": [
       "\n",
       "    <div>\n",
       "        <style>\n",
       "            /* Turns off some styling */\n",
       "            progress {\n",
       "                /* gets rid of default border in Firefox and Opera. */\n",
       "                border: none;\n",
       "                /* Needs to be in here for Safari polyfill so background images work as expected. */\n",
       "                background-size: auto;\n",
       "            }\n",
       "            .progress-bar-interrupted, .progress-bar-interrupted::-webkit-progress-bar {\n",
       "                background: #F44336;\n",
       "            }\n",
       "        </style>\n",
       "      <progress value='6' class='' max='6', style='width:300px; height:20px; vertical-align: middle;'></progress>\n",
       "      100.00% [6/6 00:07<00:00]\n",
       "    </div>\n",
       "    "
      ],
      "text/plain": [
       "<IPython.core.display.HTML object>"
      ]
     },
     "metadata": {},
     "output_type": "display_data"
    },
    {
     "name": "stderr",
     "output_type": "stream",
     "text": [
      "INFO:root:eval_loss after step 580: 0.29025957981745404: \n",
      "INFO:root:eval_accuracy_multilabel after step 580: 0.3351063829787234: \n",
      "INFO:root:eval_accuracy_thresh after step 580: 0.8917173147201538: \n",
      "INFO:root:eval_roc_auc after step 580: 0.7990516611744679: \n",
      "INFO:root:eval_fbeta after step 580: 0.3325578272342682: \n",
      "INFO:root:lr after step 580: 5.5237605984935435e-05\n",
      "INFO:root:train_loss after step 580: 0.19909504130482675\n",
      "INFO:root:Running evaluation\n",
      "INFO:root:  Num examples = 188\n",
      "INFO:root:  Batch size = 32\n"
     ]
    },
    {
     "data": {
      "text/html": [
       "\n",
       "    <div>\n",
       "        <style>\n",
       "            /* Turns off some styling */\n",
       "            progress {\n",
       "                /* gets rid of default border in Firefox and Opera. */\n",
       "                border: none;\n",
       "                /* Needs to be in here for Safari polyfill so background images work as expected. */\n",
       "                background-size: auto;\n",
       "            }\n",
       "            .progress-bar-interrupted, .progress-bar-interrupted::-webkit-progress-bar {\n",
       "                background: #F44336;\n",
       "            }\n",
       "        </style>\n",
       "      <progress value='6' class='' max='6', style='width:300px; height:20px; vertical-align: middle;'></progress>\n",
       "      100.00% [6/6 00:07<00:00]\n",
       "    </div>\n",
       "    "
      ],
      "text/plain": [
       "<IPython.core.display.HTML object>"
      ]
     },
     "metadata": {},
     "output_type": "display_data"
    },
    {
     "name": "stderr",
     "output_type": "stream",
     "text": [
      "INFO:root:eval_loss after step 600: 0.29506443440914154: \n",
      "INFO:root:eval_accuracy_multilabel after step 600: 0.3191489361702128: \n",
      "INFO:root:eval_accuracy_thresh after step 600: 0.8955167531967163: \n",
      "INFO:root:eval_roc_auc after step 600: 0.7927442590707544: \n",
      "INFO:root:eval_fbeta after step 600: 0.31072166562080383: \n",
      "INFO:root:lr after step 600: 5.267248723062775e-05\n",
      "INFO:root:train_loss after step 600: 0.19564335495233537\n",
      "INFO:root:Running evaluation\n",
      "INFO:root:  Num examples = 188\n",
      "INFO:root:  Batch size = 32\n"
     ]
    },
    {
     "data": {
      "text/html": [
       "\n",
       "    <div>\n",
       "        <style>\n",
       "            /* Turns off some styling */\n",
       "            progress {\n",
       "                /* gets rid of default border in Firefox and Opera. */\n",
       "                border: none;\n",
       "                /* Needs to be in here for Safari polyfill so background images work as expected. */\n",
       "                background-size: auto;\n",
       "            }\n",
       "            .progress-bar-interrupted, .progress-bar-interrupted::-webkit-progress-bar {\n",
       "                background: #F44336;\n",
       "            }\n",
       "        </style>\n",
       "      <progress value='6' class='' max='6', style='width:300px; height:20px; vertical-align: middle;'></progress>\n",
       "      100.00% [6/6 00:07<00:00]\n",
       "    </div>\n",
       "    "
      ],
      "text/plain": [
       "<IPython.core.display.HTML object>"
      ]
     },
     "metadata": {},
     "output_type": "display_data"
    },
    {
     "name": "stderr",
     "output_type": "stream",
     "text": [
      "INFO:root:eval_loss after epoch 13: 0.2966028501590093: \n",
      "INFO:root:eval_accuracy_multilabel after epoch 13: 0.30851063829787234: \n",
      "INFO:root:eval_accuracy_thresh after epoch 13: 0.8951367735862732: \n",
      "INFO:root:eval_roc_auc after epoch 13: 0.7927715762898041: \n",
      "INFO:root:eval_fbeta after epoch 13: 0.34465381503105164: \n",
      "INFO:root:Running evaluation\n",
      "INFO:root:  Num examples = 188\n",
      "INFO:root:  Batch size = 32\n"
     ]
    },
    {
     "data": {
      "text/html": [
       "\n",
       "    <div>\n",
       "        <style>\n",
       "            /* Turns off some styling */\n",
       "            progress {\n",
       "                /* gets rid of default border in Firefox and Opera. */\n",
       "                border: none;\n",
       "                /* Needs to be in here for Safari polyfill so background images work as expected. */\n",
       "                background-size: auto;\n",
       "            }\n",
       "            .progress-bar-interrupted, .progress-bar-interrupted::-webkit-progress-bar {\n",
       "                background: #F44336;\n",
       "            }\n",
       "        </style>\n",
       "      <progress value='6' class='' max='6', style='width:300px; height:20px; vertical-align: middle;'></progress>\n",
       "      100.00% [6/6 00:07<00:00]\n",
       "    </div>\n",
       "    "
      ],
      "text/plain": [
       "<IPython.core.display.HTML object>"
      ]
     },
     "metadata": {},
     "output_type": "display_data"
    },
    {
     "name": "stderr",
     "output_type": "stream",
     "text": [
      "INFO:root:eval_loss after step 620: 0.29643559952576953: \n",
      "INFO:root:eval_accuracy_multilabel after step 620: 0.31382978723404253: \n",
      "INFO:root:eval_accuracy_thresh after step 620: 0.8939969539642334: \n",
      "INFO:root:eval_roc_auc after step 620: 0.792023947136868: \n",
      "INFO:root:eval_fbeta after step 620: 0.33540377020835876: \n",
      "INFO:root:lr after step 620: 4.964582201835856e-05\n",
      "INFO:root:train_loss after step 620: 0.17977626100182534\n",
      "INFO:root:Running evaluation\n",
      "INFO:root:  Num examples = 188\n",
      "INFO:root:  Batch size = 32\n"
     ]
    },
    {
     "data": {
      "text/html": [
       "\n",
       "    <div>\n",
       "        <style>\n",
       "            /* Turns off some styling */\n",
       "            progress {\n",
       "                /* gets rid of default border in Firefox and Opera. */\n",
       "                border: none;\n",
       "                /* Needs to be in here for Safari polyfill so background images work as expected. */\n",
       "                background-size: auto;\n",
       "            }\n",
       "            .progress-bar-interrupted, .progress-bar-interrupted::-webkit-progress-bar {\n",
       "                background: #F44336;\n",
       "            }\n",
       "        </style>\n",
       "      <progress value='6' class='' max='6', style='width:300px; height:20px; vertical-align: middle;'></progress>\n",
       "      100.00% [6/6 00:07<00:00]\n",
       "    </div>\n",
       "    "
      ],
      "text/plain": [
       "<IPython.core.display.HTML object>"
      ]
     },
     "metadata": {},
     "output_type": "display_data"
    },
    {
     "name": "stderr",
     "output_type": "stream",
     "text": [
      "INFO:root:eval_loss after step 640: 0.30015023549397785: \n",
      "INFO:root:eval_accuracy_multilabel after step 640: 0.30851063829787234: \n",
      "INFO:root:eval_accuracy_thresh after step 640: 0.8951367735862732: \n",
      "INFO:root:eval_roc_auc after step 640: 0.7947434481806733: \n",
      "INFO:root:eval_fbeta after step 640: 0.35188600420951843: \n",
      "INFO:root:lr after step 640: 4.6219224523667933e-05\n",
      "INFO:root:train_loss after step 640: 0.1594530776143074\n",
      "INFO:root:Running evaluation\n",
      "INFO:root:  Num examples = 188\n",
      "INFO:root:  Batch size = 32\n"
     ]
    },
    {
     "data": {
      "text/html": [
       "\n",
       "    <div>\n",
       "        <style>\n",
       "            /* Turns off some styling */\n",
       "            progress {\n",
       "                /* gets rid of default border in Firefox and Opera. */\n",
       "                border: none;\n",
       "                /* Needs to be in here for Safari polyfill so background images work as expected. */\n",
       "                background-size: auto;\n",
       "            }\n",
       "            .progress-bar-interrupted, .progress-bar-interrupted::-webkit-progress-bar {\n",
       "                background: #F44336;\n",
       "            }\n",
       "        </style>\n",
       "      <progress value='6' class='' max='6', style='width:300px; height:20px; vertical-align: middle;'></progress>\n",
       "      100.00% [6/6 00:07<00:00]\n",
       "    </div>\n",
       "    "
      ],
      "text/plain": [
       "<IPython.core.display.HTML object>"
      ]
     },
     "metadata": {},
     "output_type": "display_data"
    },
    {
     "name": "stderr",
     "output_type": "stream",
     "text": [
      "INFO:root:eval_loss after epoch 14: 0.2986389845609665: \n",
      "INFO:root:eval_accuracy_multilabel after epoch 14: 0.3404255319148936: \n",
      "INFO:root:eval_accuracy_thresh after epoch 14: 0.8932371139526367: \n",
      "INFO:root:eval_roc_auc after epoch 14: 0.792654399797565: \n",
      "INFO:root:eval_fbeta after epoch 14: 0.34893208742141724: \n",
      "INFO:root:Running evaluation\n",
      "INFO:root:  Num examples = 188\n",
      "INFO:root:  Batch size = 32\n"
     ]
    },
    {
     "data": {
      "text/html": [
       "\n",
       "    <div>\n",
       "        <style>\n",
       "            /* Turns off some styling */\n",
       "            progress {\n",
       "                /* gets rid of default border in Firefox and Opera. */\n",
       "                border: none;\n",
       "                /* Needs to be in here for Safari polyfill so background images work as expected. */\n",
       "                background-size: auto;\n",
       "            }\n",
       "            .progress-bar-interrupted, .progress-bar-interrupted::-webkit-progress-bar {\n",
       "                background: #F44336;\n",
       "            }\n",
       "        </style>\n",
       "      <progress value='6' class='' max='6', style='width:300px; height:20px; vertical-align: middle;'></progress>\n",
       "      100.00% [6/6 00:07<00:00]\n",
       "    </div>\n",
       "    "
      ],
      "text/plain": [
       "<IPython.core.display.HTML object>"
      ]
     },
     "metadata": {},
     "output_type": "display_data"
    },
    {
     "name": "stderr",
     "output_type": "stream",
     "text": [
      "INFO:root:eval_loss after step 660: 0.29680036505063373: \n",
      "INFO:root:eval_accuracy_multilabel after step 660: 0.3191489361702128: \n",
      "INFO:root:eval_accuracy_thresh after step 660: 0.8958966732025146: \n",
      "INFO:root:eval_roc_auc after step 660: 0.7980912452626192: \n",
      "INFO:root:eval_fbeta after step 660: 0.33045706152915955: \n",
      "INFO:root:lr after step 660: 4.24624503900566e-05\n",
      "INFO:root:train_loss after step 660: 0.16190194338560104\n",
      "INFO:root:Running evaluation\n",
      "INFO:root:  Num examples = 188\n",
      "INFO:root:  Batch size = 32\n"
     ]
    },
    {
     "data": {
      "text/html": [
       "\n",
       "    <div>\n",
       "        <style>\n",
       "            /* Turns off some styling */\n",
       "            progress {\n",
       "                /* gets rid of default border in Firefox and Opera. */\n",
       "                border: none;\n",
       "                /* Needs to be in here for Safari polyfill so background images work as expected. */\n",
       "                background-size: auto;\n",
       "            }\n",
       "            .progress-bar-interrupted, .progress-bar-interrupted::-webkit-progress-bar {\n",
       "                background: #F44336;\n",
       "            }\n",
       "        </style>\n",
       "      <progress value='6' class='' max='6', style='width:300px; height:20px; vertical-align: middle;'></progress>\n",
       "      100.00% [6/6 00:07<00:00]\n",
       "    </div>\n",
       "    "
      ],
      "text/plain": [
       "<IPython.core.display.HTML object>"
      ]
     },
     "metadata": {},
     "output_type": "display_data"
    },
    {
     "name": "stderr",
     "output_type": "stream",
     "text": [
      "INFO:root:eval_loss after step 680: 0.2984897444645564: \n",
      "INFO:root:eval_accuracy_multilabel after step 680: 0.324468085106383: \n",
      "INFO:root:eval_accuracy_thresh after step 680: 0.8985562324523926: \n",
      "INFO:root:eval_roc_auc after step 680: 0.8001278158301847: \n",
      "INFO:root:eval_fbeta after step 680: 0.3398211896419525: \n",
      "INFO:root:lr after step 680: 3.845197670524289e-05\n",
      "INFO:root:train_loss after step 680: 0.13759037293493748\n",
      "INFO:root:Running evaluation\n",
      "INFO:root:  Num examples = 188\n",
      "INFO:root:  Batch size = 32\n"
     ]
    },
    {
     "data": {
      "text/html": [
       "\n",
       "    <div>\n",
       "        <style>\n",
       "            /* Turns off some styling */\n",
       "            progress {\n",
       "                /* gets rid of default border in Firefox and Opera. */\n",
       "                border: none;\n",
       "                /* Needs to be in here for Safari polyfill so background images work as expected. */\n",
       "                background-size: auto;\n",
       "            }\n",
       "            .progress-bar-interrupted, .progress-bar-interrupted::-webkit-progress-bar {\n",
       "                background: #F44336;\n",
       "            }\n",
       "        </style>\n",
       "      <progress value='6' class='' max='6', style='width:300px; height:20px; vertical-align: middle;'></progress>\n",
       "      100.00% [6/6 00:07<00:00]\n",
       "    </div>\n",
       "    "
      ],
      "text/plain": [
       "<IPython.core.display.HTML object>"
      ]
     },
     "metadata": {},
     "output_type": "display_data"
    },
    {
     "name": "stderr",
     "output_type": "stream",
     "text": [
      "INFO:root:eval_loss after step 700: 0.3061739305655162: \n",
      "INFO:root:eval_accuracy_multilabel after step 700: 0.30851063829787234: \n",
      "INFO:root:eval_accuracy_thresh after step 700: 0.8920972943305969: \n",
      "INFO:root:eval_roc_auc after step 700: 0.7960388594629724: \n",
      "INFO:root:eval_fbeta after step 700: 0.3867374360561371: \n",
      "INFO:root:lr after step 700: 3.426944514819856e-05\n",
      "INFO:root:train_loss after step 700: 0.138852896168828\n",
      "INFO:root:Running evaluation\n",
      "INFO:root:  Num examples = 188\n",
      "INFO:root:  Batch size = 32\n"
     ]
    },
    {
     "data": {
      "text/html": [
       "\n",
       "    <div>\n",
       "        <style>\n",
       "            /* Turns off some styling */\n",
       "            progress {\n",
       "                /* gets rid of default border in Firefox and Opera. */\n",
       "                border: none;\n",
       "                /* Needs to be in here for Safari polyfill so background images work as expected. */\n",
       "                background-size: auto;\n",
       "            }\n",
       "            .progress-bar-interrupted, .progress-bar-interrupted::-webkit-progress-bar {\n",
       "                background: #F44336;\n",
       "            }\n",
       "        </style>\n",
       "      <progress value='6' class='' max='6', style='width:300px; height:20px; vertical-align: middle;'></progress>\n",
       "      100.00% [6/6 00:07<00:00]\n",
       "    </div>\n",
       "    "
      ],
      "text/plain": [
       "<IPython.core.display.HTML object>"
      ]
     },
     "metadata": {},
     "output_type": "display_data"
    },
    {
     "name": "stderr",
     "output_type": "stream",
     "text": [
      "INFO:root:eval_loss after epoch 15: 0.30573462943236035: \n",
      "INFO:root:eval_accuracy_multilabel after epoch 15: 0.30319148936170215: \n",
      "INFO:root:eval_accuracy_thresh after epoch 15: 0.8939969539642334: \n",
      "INFO:root:eval_roc_auc after epoch 15: 0.7946169263240225: \n",
      "INFO:root:eval_fbeta after epoch 15: 0.3592858612537384: \n",
      "INFO:root:Running evaluation\n",
      "INFO:root:  Num examples = 188\n",
      "INFO:root:  Batch size = 32\n"
     ]
    },
    {
     "data": {
      "text/html": [
       "\n",
       "    <div>\n",
       "        <style>\n",
       "            /* Turns off some styling */\n",
       "            progress {\n",
       "                /* gets rid of default border in Firefox and Opera. */\n",
       "                border: none;\n",
       "                /* Needs to be in here for Safari polyfill so background images work as expected. */\n",
       "                background-size: auto;\n",
       "            }\n",
       "            .progress-bar-interrupted, .progress-bar-interrupted::-webkit-progress-bar {\n",
       "                background: #F44336;\n",
       "            }\n",
       "        </style>\n",
       "      <progress value='6' class='' max='6', style='width:300px; height:20px; vertical-align: middle;'></progress>\n",
       "      100.00% [6/6 00:07<00:00]\n",
       "    </div>\n",
       "    "
      ],
      "text/plain": [
       "<IPython.core.display.HTML object>"
      ]
     },
     "metadata": {},
     "output_type": "display_data"
    },
    {
     "name": "stderr",
     "output_type": "stream",
     "text": [
      "INFO:root:eval_loss after step 720: 0.31149208545684814: \n",
      "INFO:root:eval_accuracy_multilabel after step 720: 0.30319148936170215: \n",
      "INFO:root:eval_accuracy_thresh after step 720: 0.8932371139526367: \n",
      "INFO:root:eval_roc_auc after step 720: 0.7891189765531996: \n",
      "INFO:root:eval_fbeta after step 720: 0.34024834632873535: \n",
      "INFO:root:lr after step 720: 3e-05\n",
      "INFO:root:train_loss after step 720: 0.13071989603340625\n",
      "INFO:root:Running evaluation\n",
      "INFO:root:  Num examples = 188\n",
      "INFO:root:  Batch size = 32\n"
     ]
    },
    {
     "data": {
      "text/html": [
       "\n",
       "    <div>\n",
       "        <style>\n",
       "            /* Turns off some styling */\n",
       "            progress {\n",
       "                /* gets rid of default border in Firefox and Opera. */\n",
       "                border: none;\n",
       "                /* Needs to be in here for Safari polyfill so background images work as expected. */\n",
       "                background-size: auto;\n",
       "            }\n",
       "            .progress-bar-interrupted, .progress-bar-interrupted::-webkit-progress-bar {\n",
       "                background: #F44336;\n",
       "            }\n",
       "        </style>\n",
       "      <progress value='6' class='' max='6', style='width:300px; height:20px; vertical-align: middle;'></progress>\n",
       "      100.00% [6/6 00:07<00:00]\n",
       "    </div>\n",
       "    "
      ],
      "text/plain": [
       "<IPython.core.display.HTML object>"
      ]
     },
     "metadata": {},
     "output_type": "display_data"
    },
    {
     "name": "stderr",
     "output_type": "stream",
     "text": [
      "INFO:root:eval_loss after step 740: 0.31572124858697254: \n",
      "INFO:root:eval_accuracy_multilabel after step 740: 0.31382978723404253: \n",
      "INFO:root:eval_accuracy_thresh after step 740: 0.8909574747085571: \n",
      "INFO:root:eval_roc_auc after step 740: 0.7871657953911537: \n",
      "INFO:root:eval_fbeta after step 740: 0.370752215385437: \n",
      "INFO:root:lr after step 740: 2.573055485180145e-05\n",
      "INFO:root:train_loss after step 740: 0.11908238343894481\n",
      "INFO:root:Running evaluation\n",
      "INFO:root:  Num examples = 188\n",
      "INFO:root:  Batch size = 32\n"
     ]
    },
    {
     "data": {
      "text/html": [
       "\n",
       "    <div>\n",
       "        <style>\n",
       "            /* Turns off some styling */\n",
       "            progress {\n",
       "                /* gets rid of default border in Firefox and Opera. */\n",
       "                border: none;\n",
       "                /* Needs to be in here for Safari polyfill so background images work as expected. */\n",
       "                background-size: auto;\n",
       "            }\n",
       "            .progress-bar-interrupted, .progress-bar-interrupted::-webkit-progress-bar {\n",
       "                background: #F44336;\n",
       "            }\n",
       "        </style>\n",
       "      <progress value='6' class='' max='6', style='width:300px; height:20px; vertical-align: middle;'></progress>\n",
       "      100.00% [6/6 00:07<00:00]\n",
       "    </div>\n",
       "    "
      ],
      "text/plain": [
       "<IPython.core.display.HTML object>"
      ]
     },
     "metadata": {},
     "output_type": "display_data"
    },
    {
     "name": "stderr",
     "output_type": "stream",
     "text": [
      "INFO:root:eval_loss after epoch 16: 0.3170862744251887: \n",
      "INFO:root:eval_accuracy_multilabel after epoch 16: 0.31382978723404253: \n",
      "INFO:root:eval_accuracy_thresh after epoch 16: 0.8924772143363953: \n",
      "INFO:root:eval_roc_auc after epoch 16: 0.7850041407153086: \n",
      "INFO:root:eval_fbeta after epoch 16: 0.3538195788860321: \n",
      "INFO:root:Running evaluation\n",
      "INFO:root:  Num examples = 188\n",
      "INFO:root:  Batch size = 32\n"
     ]
    },
    {
     "data": {
      "text/html": [
       "\n",
       "    <div>\n",
       "        <style>\n",
       "            /* Turns off some styling */\n",
       "            progress {\n",
       "                /* gets rid of default border in Firefox and Opera. */\n",
       "                border: none;\n",
       "                /* Needs to be in here for Safari polyfill so background images work as expected. */\n",
       "                background-size: auto;\n",
       "            }\n",
       "            .progress-bar-interrupted, .progress-bar-interrupted::-webkit-progress-bar {\n",
       "                background: #F44336;\n",
       "            }\n",
       "        </style>\n",
       "      <progress value='6' class='' max='6', style='width:300px; height:20px; vertical-align: middle;'></progress>\n",
       "      100.00% [6/6 00:07<00:00]\n",
       "    </div>\n",
       "    "
      ],
      "text/plain": [
       "<IPython.core.display.HTML object>"
      ]
     },
     "metadata": {},
     "output_type": "display_data"
    },
    {
     "name": "stderr",
     "output_type": "stream",
     "text": [
      "INFO:root:eval_loss after step 760: 0.3135870099067688: \n",
      "INFO:root:eval_accuracy_multilabel after step 760: 0.2925531914893617: \n",
      "INFO:root:eval_accuracy_thresh after step 760: 0.8966565728187561: \n",
      "INFO:root:eval_roc_auc after step 760: 0.7910124911578474: \n",
      "INFO:root:eval_fbeta after step 760: 0.3488994240760803: \n",
      "INFO:root:lr after step 760: 2.154802329475711e-05\n",
      "INFO:root:train_loss after step 760: 0.11136390678584576\n",
      "INFO:root:Running evaluation\n",
      "INFO:root:  Num examples = 188\n",
      "INFO:root:  Batch size = 32\n"
     ]
    },
    {
     "data": {
      "text/html": [
       "\n",
       "    <div>\n",
       "        <style>\n",
       "            /* Turns off some styling */\n",
       "            progress {\n",
       "                /* gets rid of default border in Firefox and Opera. */\n",
       "                border: none;\n",
       "                /* Needs to be in here for Safari polyfill so background images work as expected. */\n",
       "                background-size: auto;\n",
       "            }\n",
       "            .progress-bar-interrupted, .progress-bar-interrupted::-webkit-progress-bar {\n",
       "                background: #F44336;\n",
       "            }\n",
       "        </style>\n",
       "      <progress value='6' class='' max='6', style='width:300px; height:20px; vertical-align: middle;'></progress>\n",
       "      100.00% [6/6 00:07<00:00]\n",
       "    </div>\n",
       "    "
      ],
      "text/plain": [
       "<IPython.core.display.HTML object>"
      ]
     },
     "metadata": {},
     "output_type": "display_data"
    },
    {
     "name": "stderr",
     "output_type": "stream",
     "text": [
      "INFO:root:eval_loss after step 780: 0.31330008308092755: \n",
      "INFO:root:eval_accuracy_multilabel after step 780: 0.324468085106383: \n",
      "INFO:root:eval_accuracy_thresh after step 780: 0.896276593208313: \n",
      "INFO:root:eval_roc_auc after step 780: 0.7917141123629108: \n",
      "INFO:root:eval_fbeta after step 780: 0.3533134460449219: \n",
      "INFO:root:lr after step 780: 1.753754960994341e-05\n",
      "INFO:root:train_loss after step 780: 0.10177420675754548\n",
      "INFO:root:Running evaluation\n",
      "INFO:root:  Num examples = 188\n",
      "INFO:root:  Batch size = 32\n"
     ]
    },
    {
     "data": {
      "text/html": [
       "\n",
       "    <div>\n",
       "        <style>\n",
       "            /* Turns off some styling */\n",
       "            progress {\n",
       "                /* gets rid of default border in Firefox and Opera. */\n",
       "                border: none;\n",
       "                /* Needs to be in here for Safari polyfill so background images work as expected. */\n",
       "                background-size: auto;\n",
       "            }\n",
       "            .progress-bar-interrupted, .progress-bar-interrupted::-webkit-progress-bar {\n",
       "                background: #F44336;\n",
       "            }\n",
       "        </style>\n",
       "      <progress value='6' class='' max='6', style='width:300px; height:20px; vertical-align: middle;'></progress>\n",
       "      100.00% [6/6 00:07<00:00]\n",
       "    </div>\n",
       "    "
      ],
      "text/plain": [
       "<IPython.core.display.HTML object>"
      ]
     },
     "metadata": {},
     "output_type": "display_data"
    },
    {
     "name": "stderr",
     "output_type": "stream",
     "text": [
      "INFO:root:eval_loss after epoch 17: 0.316981961329778: \n",
      "INFO:root:eval_accuracy_multilabel after epoch 17: 0.30319148936170215: \n",
      "INFO:root:eval_accuracy_thresh after epoch 17: 0.890577495098114: \n",
      "INFO:root:eval_roc_auc after epoch 17: 0.7933934024602749: \n",
      "INFO:root:eval_fbeta after epoch 17: 0.3549114763736725: \n",
      "INFO:root:Running evaluation\n",
      "INFO:root:  Num examples = 188\n",
      "INFO:root:  Batch size = 32\n"
     ]
    },
    {
     "data": {
      "text/html": [
       "\n",
       "    <div>\n",
       "        <style>\n",
       "            /* Turns off some styling */\n",
       "            progress {\n",
       "                /* gets rid of default border in Firefox and Opera. */\n",
       "                border: none;\n",
       "                /* Needs to be in here for Safari polyfill so background images work as expected. */\n",
       "                background-size: auto;\n",
       "            }\n",
       "            .progress-bar-interrupted, .progress-bar-interrupted::-webkit-progress-bar {\n",
       "                background: #F44336;\n",
       "            }\n",
       "        </style>\n",
       "      <progress value='6' class='' max='6', style='width:300px; height:20px; vertical-align: middle;'></progress>\n",
       "      100.00% [6/6 00:07<00:00]\n",
       "    </div>\n",
       "    "
      ],
      "text/plain": [
       "<IPython.core.display.HTML object>"
      ]
     },
     "metadata": {},
     "output_type": "display_data"
    },
    {
     "name": "stderr",
     "output_type": "stream",
     "text": [
      "INFO:root:eval_loss after step 800: 0.31700797379016876: \n",
      "INFO:root:eval_accuracy_multilabel after step 800: 0.30851063829787234: \n",
      "INFO:root:eval_accuracy_thresh after step 800: 0.890577495098114: \n",
      "INFO:root:eval_roc_auc after step 800: 0.793481105110908: \n",
      "INFO:root:eval_fbeta after step 800: 0.34991779923439026: \n",
      "INFO:root:lr after step 800: 1.3780775476332083e-05\n",
      "INFO:root:train_loss after step 800: 0.10468153320252896\n",
      "INFO:root:Running evaluation\n",
      "INFO:root:  Num examples = 188\n",
      "INFO:root:  Batch size = 32\n"
     ]
    },
    {
     "data": {
      "text/html": [
       "\n",
       "    <div>\n",
       "        <style>\n",
       "            /* Turns off some styling */\n",
       "            progress {\n",
       "                /* gets rid of default border in Firefox and Opera. */\n",
       "                border: none;\n",
       "                /* Needs to be in here for Safari polyfill so background images work as expected. */\n",
       "                background-size: auto;\n",
       "            }\n",
       "            .progress-bar-interrupted, .progress-bar-interrupted::-webkit-progress-bar {\n",
       "                background: #F44336;\n",
       "            }\n",
       "        </style>\n",
       "      <progress value='6' class='' max='6', style='width:300px; height:20px; vertical-align: middle;'></progress>\n",
       "      100.00% [6/6 00:07<00:00]\n",
       "    </div>\n",
       "    "
      ],
      "text/plain": [
       "<IPython.core.display.HTML object>"
      ]
     },
     "metadata": {},
     "output_type": "display_data"
    },
    {
     "name": "stderr",
     "output_type": "stream",
     "text": [
      "INFO:root:eval_loss after step 820: 0.3181575685739517: \n",
      "INFO:root:eval_accuracy_multilabel after step 820: 0.324468085106383: \n",
      "INFO:root:eval_accuracy_thresh after step 820: 0.8920972943305969: \n",
      "INFO:root:eval_roc_auc after step 820: 0.7904510504189599: \n",
      "INFO:root:eval_fbeta after step 820: 0.35852667689323425: \n",
      "INFO:root:lr after step 820: 1.035417798164145e-05\n",
      "INFO:root:train_loss after step 820: 0.09751340597867966\n",
      "INFO:root:Running evaluation\n",
      "INFO:root:  Num examples = 188\n",
      "INFO:root:  Batch size = 32\n"
     ]
    },
    {
     "data": {
      "text/html": [
       "\n",
       "    <div>\n",
       "        <style>\n",
       "            /* Turns off some styling */\n",
       "            progress {\n",
       "                /* gets rid of default border in Firefox and Opera. */\n",
       "                border: none;\n",
       "                /* Needs to be in here for Safari polyfill so background images work as expected. */\n",
       "                background-size: auto;\n",
       "            }\n",
       "            .progress-bar-interrupted, .progress-bar-interrupted::-webkit-progress-bar {\n",
       "                background: #F44336;\n",
       "            }\n",
       "        </style>\n",
       "      <progress value='6' class='' max='6', style='width:300px; height:20px; vertical-align: middle;'></progress>\n",
       "      100.00% [6/6 00:07<00:00]\n",
       "    </div>\n",
       "    "
      ],
      "text/plain": [
       "<IPython.core.display.HTML object>"
      ]
     },
     "metadata": {},
     "output_type": "display_data"
    },
    {
     "name": "stderr",
     "output_type": "stream",
     "text": [
      "INFO:root:eval_loss after step 840: 0.317247877518336: \n",
      "INFO:root:eval_accuracy_multilabel after step 840: 0.3191489361702128: \n",
      "INFO:root:eval_accuracy_thresh after step 840: 0.8943769335746765: \n",
      "INFO:root:eval_roc_auc after step 840: 0.7905380341954072: \n",
      "INFO:root:eval_fbeta after step 840: 0.35032030940055847: \n",
      "INFO:root:lr after step 840: 7.3275127693722555e-06\n",
      "INFO:root:train_loss after step 840: 0.09247569218277932\n",
      "INFO:root:Running evaluation\n",
      "INFO:root:  Num examples = 188\n",
      "INFO:root:  Batch size = 32\n"
     ]
    },
    {
     "data": {
      "text/html": [
       "\n",
       "    <div>\n",
       "        <style>\n",
       "            /* Turns off some styling */\n",
       "            progress {\n",
       "                /* gets rid of default border in Firefox and Opera. */\n",
       "                border: none;\n",
       "                /* Needs to be in here for Safari polyfill so background images work as expected. */\n",
       "                background-size: auto;\n",
       "            }\n",
       "            .progress-bar-interrupted, .progress-bar-interrupted::-webkit-progress-bar {\n",
       "                background: #F44336;\n",
       "            }\n",
       "        </style>\n",
       "      <progress value='6' class='' max='6', style='width:300px; height:20px; vertical-align: middle;'></progress>\n",
       "      100.00% [6/6 00:07<00:00]\n",
       "    </div>\n",
       "    "
      ],
      "text/plain": [
       "<IPython.core.display.HTML object>"
      ]
     },
     "metadata": {},
     "output_type": "display_data"
    },
    {
     "name": "stderr",
     "output_type": "stream",
     "text": [
      "INFO:root:eval_loss after epoch 18: 0.3161810388167699: \n",
      "INFO:root:eval_accuracy_multilabel after epoch 18: 0.324468085106383: \n",
      "INFO:root:eval_accuracy_thresh after epoch 18: 0.8920972943305969: \n",
      "INFO:root:eval_roc_auc after epoch 18: 0.7918262567358512: \n",
      "INFO:root:eval_fbeta after epoch 18: 0.35417118668556213: \n",
      "INFO:root:Running evaluation\n",
      "INFO:root:  Num examples = 188\n",
      "INFO:root:  Batch size = 32\n"
     ]
    },
    {
     "data": {
      "text/html": [
       "\n",
       "    <div>\n",
       "        <style>\n",
       "            /* Turns off some styling */\n",
       "            progress {\n",
       "                /* gets rid of default border in Firefox and Opera. */\n",
       "                border: none;\n",
       "                /* Needs to be in here for Safari polyfill so background images work as expected. */\n",
       "                background-size: auto;\n",
       "            }\n",
       "            .progress-bar-interrupted, .progress-bar-interrupted::-webkit-progress-bar {\n",
       "                background: #F44336;\n",
       "            }\n",
       "        </style>\n",
       "      <progress value='6' class='' max='6', style='width:300px; height:20px; vertical-align: middle;'></progress>\n",
       "      100.00% [6/6 00:07<00:00]\n",
       "    </div>\n",
       "    "
      ],
      "text/plain": [
       "<IPython.core.display.HTML object>"
      ]
     },
     "metadata": {},
     "output_type": "display_data"
    },
    {
     "name": "stderr",
     "output_type": "stream",
     "text": [
      "INFO:root:eval_loss after step 860: 0.3168712208668391: \n",
      "INFO:root:eval_accuracy_multilabel after step 860: 0.31382978723404253: \n",
      "INFO:root:eval_accuracy_thresh after step 860: 0.8924772143363953: \n",
      "INFO:root:eval_roc_auc after step 860: 0.7934545067660439: \n",
      "INFO:root:eval_fbeta after step 860: 0.3499216139316559: \n",
      "INFO:root:lr after step 860: 4.76239401506456e-06\n",
      "INFO:root:train_loss after step 860: 0.09203909933567048\n",
      "INFO:root:Running evaluation\n",
      "INFO:root:  Num examples = 188\n",
      "INFO:root:  Batch size = 32\n"
     ]
    },
    {
     "data": {
      "text/html": [
       "\n",
       "    <div>\n",
       "        <style>\n",
       "            /* Turns off some styling */\n",
       "            progress {\n",
       "                /* gets rid of default border in Firefox and Opera. */\n",
       "                border: none;\n",
       "                /* Needs to be in here for Safari polyfill so background images work as expected. */\n",
       "                background-size: auto;\n",
       "            }\n",
       "            .progress-bar-interrupted, .progress-bar-interrupted::-webkit-progress-bar {\n",
       "                background: #F44336;\n",
       "            }\n",
       "        </style>\n",
       "      <progress value='6' class='' max='6', style='width:300px; height:20px; vertical-align: middle;'></progress>\n",
       "      100.00% [6/6 00:07<00:00]\n",
       "    </div>\n",
       "    "
      ],
      "text/plain": [
       "<IPython.core.display.HTML object>"
      ]
     },
     "metadata": {},
     "output_type": "display_data"
    },
    {
     "name": "stderr",
     "output_type": "stream",
     "text": [
      "INFO:root:eval_loss after step 880: 0.3165478656689326: \n",
      "INFO:root:eval_accuracy_multilabel after step 880: 0.32978723404255317: \n",
      "INFO:root:eval_accuracy_thresh after step 880: 0.8936170339584351: \n",
      "INFO:root:eval_roc_auc after step 880: 0.790755134199433: \n",
      "INFO:root:eval_fbeta after step 880: 0.35140088200569153: \n",
      "INFO:root:lr after step 880: 2.711040139364447e-06\n",
      "INFO:root:train_loss after step 880: 0.09014642089605332\n",
      "INFO:root:Running evaluation\n",
      "INFO:root:  Num examples = 188\n",
      "INFO:root:  Batch size = 32\n"
     ]
    },
    {
     "data": {
      "text/html": [
       "\n",
       "    <div>\n",
       "        <style>\n",
       "            /* Turns off some styling */\n",
       "            progress {\n",
       "                /* gets rid of default border in Firefox and Opera. */\n",
       "                border: none;\n",
       "                /* Needs to be in here for Safari polyfill so background images work as expected. */\n",
       "                background-size: auto;\n",
       "            }\n",
       "            .progress-bar-interrupted, .progress-bar-interrupted::-webkit-progress-bar {\n",
       "                background: #F44336;\n",
       "            }\n",
       "        </style>\n",
       "      <progress value='6' class='' max='6', style='width:300px; height:20px; vertical-align: middle;'></progress>\n",
       "      100.00% [6/6 00:07<00:00]\n",
       "    </div>\n",
       "    "
      ],
      "text/plain": [
       "<IPython.core.display.HTML object>"
      ]
     },
     "metadata": {},
     "output_type": "display_data"
    },
    {
     "name": "stderr",
     "output_type": "stream",
     "text": [
      "INFO:root:eval_loss after epoch 19: 0.31725341578324634: \n",
      "INFO:root:eval_accuracy_multilabel after epoch 19: 0.324468085106383: \n",
      "INFO:root:eval_accuracy_thresh after epoch 19: 0.8936170339584351: \n",
      "INFO:root:eval_roc_auc after epoch 19: 0.7911864587107422: \n",
      "INFO:root:eval_fbeta after epoch 19: 0.35212621092796326: \n",
      "INFO:root:Running evaluation\n",
      "INFO:root:  Num examples = 188\n",
      "INFO:root:  Batch size = 32\n"
     ]
    },
    {
     "data": {
      "text/html": [
       "\n",
       "    <div>\n",
       "        <style>\n",
       "            /* Turns off some styling */\n",
       "            progress {\n",
       "                /* gets rid of default border in Firefox and Opera. */\n",
       "                border: none;\n",
       "                /* Needs to be in here for Safari polyfill so background images work as expected. */\n",
       "                background-size: auto;\n",
       "            }\n",
       "            .progress-bar-interrupted, .progress-bar-interrupted::-webkit-progress-bar {\n",
       "                background: #F44336;\n",
       "            }\n",
       "        </style>\n",
       "      <progress value='6' class='' max='6', style='width:300px; height:20px; vertical-align: middle;'></progress>\n",
       "      100.00% [6/6 00:07<00:00]\n",
       "    </div>\n",
       "    "
      ],
      "text/plain": [
       "<IPython.core.display.HTML object>"
      ]
     },
     "metadata": {},
     "output_type": "display_data"
    },
    {
     "name": "stderr",
     "output_type": "stream",
     "text": [
      "INFO:root:eval_loss after step 900: 0.3183351506789525: \n",
      "INFO:root:eval_accuracy_multilabel after step 900: 0.3191489361702128: \n",
      "INFO:root:eval_accuracy_thresh after step 900: 0.8920972943305969: \n",
      "INFO:root:eval_roc_auc after step 900: 0.791103788179408: \n",
      "INFO:root:eval_fbeta after step 900: 0.35263797640800476: \n",
      "INFO:root:lr after step 900: 1.2152107915650823e-06\n",
      "INFO:root:train_loss after step 900: 0.08820373676717282\n",
      "INFO:root:Running evaluation\n",
      "INFO:root:  Num examples = 188\n",
      "INFO:root:  Batch size = 32\n"
     ]
    },
    {
     "data": {
      "text/html": [
       "\n",
       "    <div>\n",
       "        <style>\n",
       "            /* Turns off some styling */\n",
       "            progress {\n",
       "                /* gets rid of default border in Firefox and Opera. */\n",
       "                border: none;\n",
       "                /* Needs to be in here for Safari polyfill so background images work as expected. */\n",
       "                background-size: auto;\n",
       "            }\n",
       "            .progress-bar-interrupted, .progress-bar-interrupted::-webkit-progress-bar {\n",
       "                background: #F44336;\n",
       "            }\n",
       "        </style>\n",
       "      <progress value='6' class='' max='6', style='width:300px; height:20px; vertical-align: middle;'></progress>\n",
       "      100.00% [6/6 00:07<00:00]\n",
       "    </div>\n",
       "    "
      ],
      "text/plain": [
       "<IPython.core.display.HTML object>"
      ]
     },
     "metadata": {},
     "output_type": "display_data"
    },
    {
     "name": "stderr",
     "output_type": "stream",
     "text": [
      "INFO:root:eval_loss after step 920: 0.3184267332156499: \n",
      "INFO:root:eval_accuracy_multilabel after step 920: 0.324468085106383: \n",
      "INFO:root:eval_accuracy_thresh after step 920: 0.8920972943305969: \n",
      "INFO:root:eval_roc_auc after step 920: 0.7912561895067373: \n",
      "INFO:root:eval_fbeta after step 920: 0.35287976264953613: \n",
      "INFO:root:lr after step 920: 3.053567435720195e-07\n",
      "INFO:root:train_loss after step 920: 0.08838593736290931\n",
      "INFO:root:Running evaluation\n",
      "INFO:root:  Num examples = 188\n",
      "INFO:root:  Batch size = 32\n"
     ]
    },
    {
     "data": {
      "text/html": [
       "\n",
       "    <div>\n",
       "        <style>\n",
       "            /* Turns off some styling */\n",
       "            progress {\n",
       "                /* gets rid of default border in Firefox and Opera. */\n",
       "                border: none;\n",
       "                /* Needs to be in here for Safari polyfill so background images work as expected. */\n",
       "                background-size: auto;\n",
       "            }\n",
       "            .progress-bar-interrupted, .progress-bar-interrupted::-webkit-progress-bar {\n",
       "                background: #F44336;\n",
       "            }\n",
       "        </style>\n",
       "      <progress value='6' class='' max='6', style='width:300px; height:20px; vertical-align: middle;'></progress>\n",
       "      100.00% [6/6 00:07<00:00]\n",
       "    </div>\n",
       "    "
      ],
      "text/plain": [
       "<IPython.core.display.HTML object>"
      ]
     },
     "metadata": {},
     "output_type": "display_data"
    },
    {
     "name": "stderr",
     "output_type": "stream",
     "text": [
      "INFO:root:eval_loss after step 940: 0.31818415721257526: \n",
      "INFO:root:eval_accuracy_multilabel after step 940: 0.324468085106383: \n",
      "INFO:root:eval_accuracy_thresh after step 940: 0.8928571343421936: \n",
      "INFO:root:eval_roc_auc after step 940: 0.7913374222897006: \n",
      "INFO:root:eval_fbeta after step 940: 0.35287976264953613: \n",
      "INFO:root:lr after step 940: 0.0\n",
      "INFO:root:train_loss after step 940: 0.08576637730002404\n",
      "INFO:root:Running evaluation\n",
      "INFO:root:  Num examples = 188\n",
      "INFO:root:  Batch size = 32\n"
     ]
    },
    {
     "data": {
      "text/html": [
       "\n",
       "    <div>\n",
       "        <style>\n",
       "            /* Turns off some styling */\n",
       "            progress {\n",
       "                /* gets rid of default border in Firefox and Opera. */\n",
       "                border: none;\n",
       "                /* Needs to be in here for Safari polyfill so background images work as expected. */\n",
       "                background-size: auto;\n",
       "            }\n",
       "            .progress-bar-interrupted, .progress-bar-interrupted::-webkit-progress-bar {\n",
       "                background: #F44336;\n",
       "            }\n",
       "        </style>\n",
       "      <progress value='6' class='' max='6', style='width:300px; height:20px; vertical-align: middle;'></progress>\n",
       "      100.00% [6/6 00:07<00:00]\n",
       "    </div>\n",
       "    "
      ],
      "text/plain": [
       "<IPython.core.display.HTML object>"
      ]
     },
     "metadata": {},
     "output_type": "display_data"
    },
    {
     "name": "stderr",
     "output_type": "stream",
     "text": [
      "INFO:root:eval_loss after epoch 20: 0.31818415721257526: \n",
      "INFO:root:eval_accuracy_multilabel after epoch 20: 0.324468085106383: \n",
      "INFO:root:eval_accuracy_thresh after epoch 20: 0.8928571343421936: \n",
      "INFO:root:eval_roc_auc after epoch 20: 0.7913374222897006: \n",
      "INFO:root:eval_fbeta after epoch 20: 0.35287976264953613: \n"
     ]
    },
    {
     "data": {
      "text/plain": [
       "(940, 0.26950127923900774)"
      ]
     },
     "execution_count": 10,
     "metadata": {},
     "output_type": "execute_result"
    }
   ],
   "source": [
    "learner.fit(epochs=10,\n",
    "            lr=6e-5,\n",
    "            validate=True, \t# Evaluate the model after each epoch\n",
    "            schedule_type=\"warmup_cosine\")"
   ]
  },
  {
   "cell_type": "markdown",
   "metadata": {},
   "source": [
    "#### Save the model"
   ]
  },
  {
   "cell_type": "code",
   "execution_count": 11,
   "metadata": {},
   "outputs": [],
   "source": [
    "learner.save_model()"
   ]
  },
  {
   "cell_type": "markdown",
   "metadata": {},
   "source": [
    "## Wrap into one function"
   ]
  },
  {
   "cell_type": "markdown",
   "metadata": {},
   "source": [
    "Let's make all the above into a function so we can call it multiple times easily and sequentially"
   ]
  },
  {
   "cell_type": "code",
   "execution_count": 7,
   "metadata": {},
   "outputs": [],
   "source": [
    "BASE = Path('data/phenotype_classification/')\n",
    "LABEL_PATH = BASE\n",
    "BIOBERT_PATH = Path('biobert/')\n",
    "\n",
    "def train(path_to_directory, model):\n",
    "        \n",
    "    DATA_PATH = BASE/path_to_directory\n",
    "    OUTPUT_DIR = DATA_PATH/'output'/model \n",
    "    OUTPUT_DIR.mkdir(parents=True,exist_ok=True)\n",
    "    \n",
    "    if (model == \"biobert\"):\n",
    "        tokenizer = BertTokenizer.from_pretrained(BIOBERT_PATH, \n",
    "                                                  do_lower_case=True)\n",
    "        pretrained_path=BIOBERT_PATH\n",
    "    elif (model == \"bert\"):\n",
    "        tokenizer = \"bert-base-uncased\"\n",
    "        pretrained_path=\"bert-base-uncased\"\n",
    "    else:\n",
    "        print (\"Model parameter must be either 'bert' or 'biobert'\")\n",
    "        return\n",
    "    \n",
    "    databunch = BertDataBunch(DATA_PATH, \n",
    "                              LABEL_PATH,\n",
    "                              tokenizer=tokenizer,\n",
    "                              train_file='train.csv',\n",
    "                              val_file='val.csv',\n",
    "                              text_col='text',\n",
    "                              label_file='labels.csv',\n",
    "                              label_col=labels,\n",
    "                              batch_size_per_gpu=10,\n",
    "                              max_seq_length=512,\n",
    "                              multi_gpu=multi_gpu,\n",
    "                              multi_label=True,\n",
    "                              model_type='bert',\n",
    "                              clear_cache=True)\n",
    "    \n",
    "    learner = BertLearner.from_pretrained_model(databunch,\n",
    "                                                pretrained_path=pretrained_path,\n",
    "                                                metrics=metrics,\n",
    "                                                device=device_cuda,\n",
    "                                                logger=logger,\n",
    "                                                output_dir=OUTPUT_DIR,\n",
    "                                                finetuned_wgts_path=None,\n",
    "                                                warmup_steps=500,\n",
    "                                                multi_gpu=multi_gpu,\n",
    "                                                is_fp16=True,\n",
    "                                                multi_label=True,\n",
    "                                                logging_steps=20)\n",
    "    \n",
    "    if path_to_directory.split('/',1)[1] in ['original','synthetic']:\n",
    "        epochs = 20\n",
    "    else:\n",
    "        epochs = 10\n",
    "        \n",
    "    learner.fit(epochs=epochs,\n",
    "                lr=6e-5,\n",
    "                validate=True, # Evaluate the model after each epoch\n",
    "                schedule_type=\"warmup_cosine\")\n",
    "    \n",
    "    learner.save_model()\n",
    "    \n",
    "    return"
   ]
  },
  {
   "cell_type": "markdown",
   "metadata": {},
   "source": [
    "Let's get training!"
   ]
  },
  {
   "cell_type": "code",
   "execution_count": 8,
   "metadata": {},
   "outputs": [
    {
     "name": "stderr",
     "output_type": "stream",
     "text": [
      "INFO:pytorch_transformers.tokenization_utils:Model name 'biobert' not found in model shortcut name list (bert-base-uncased, bert-large-uncased, bert-base-cased, bert-large-cased, bert-base-multilingual-uncased, bert-base-multilingual-cased, bert-base-chinese, bert-base-german-cased, bert-large-uncased-whole-word-masking, bert-large-cased-whole-word-masking, bert-large-uncased-whole-word-masking-finetuned-squad, bert-large-cased-whole-word-masking-finetuned-squad, bert-base-cased-finetuned-mrpc). Assuming 'biobert' is a path or url to a directory containing tokenizer files.\n",
      "INFO:pytorch_transformers.tokenization_utils:Didn't find file biobert/added_tokens.json. We won't load it.\n",
      "INFO:pytorch_transformers.tokenization_utils:Didn't find file biobert/special_tokens_map.json. We won't load it.\n",
      "INFO:pytorch_transformers.tokenization_utils:loading file None\n",
      "INFO:pytorch_transformers.tokenization_utils:loading file None\n",
      "INFO:pytorch_transformers.tokenization_utils:loading file biobert/vocab.txt\n",
      "INFO:root:Writing example 0 of 1500\n",
      "INFO:root:Saving features into cached file data/phenotype_classification/transformer/original/cache/cached_train_multi_label_512\n",
      "INFO:root:Writing example 0 of 188\n",
      "INFO:root:Saving features into cached file data/phenotype_classification/transformer/original/cache/cached_dev_multi_label_512\n",
      "INFO:pytorch_transformers.modeling_utils:loading configuration file biobert/config.json\n",
      "INFO:pytorch_transformers.modeling_utils:Model config {\n",
      "  \"attention_probs_dropout_prob\": 0.1,\n",
      "  \"finetuning_task\": null,\n",
      "  \"hidden_act\": \"gelu\",\n",
      "  \"hidden_dropout_prob\": 0.1,\n",
      "  \"hidden_size\": 768,\n",
      "  \"initializer_range\": 0.02,\n",
      "  \"intermediate_size\": 3072,\n",
      "  \"layer_norm_eps\": 1e-12,\n",
      "  \"max_position_embeddings\": 512,\n",
      "  \"num_attention_heads\": 12,\n",
      "  \"num_hidden_layers\": 12,\n",
      "  \"num_labels\": 14,\n",
      "  \"output_attentions\": false,\n",
      "  \"output_hidden_states\": false,\n",
      "  \"torchscript\": false,\n",
      "  \"type_vocab_size\": 2,\n",
      "  \"vocab_size\": 28996\n",
      "}\n",
      "\n",
      "INFO:pytorch_transformers.modeling_utils:loading weights file biobert/pytorch_model.bin\n",
      "INFO:pytorch_transformers.modeling_utils:Weights of BertForMultiLabelSequenceClassification not initialized from pretrained model: ['classifier.weight', 'classifier.bias']\n",
      "INFO:pytorch_transformers.modeling_utils:Weights from pretrained model not used in BertForMultiLabelSequenceClassification: ['cls.predictions.bias', 'cls.predictions.transform.dense.weight', 'cls.predictions.transform.dense.bias', 'cls.predictions.transform.LayerNorm.weight', 'cls.predictions.transform.LayerNorm.bias', 'cls.predictions.decoder.weight', 'cls.seq_relationship.weight', 'cls.seq_relationship.bias']\n",
      "INFO:root:***** Running training *****\n",
      "INFO:root:  Num examples = 1500\n",
      "INFO:root:  Num Epochs = 10\n",
      "INFO:root:  Total train batch size (w. parallel, distributed & accumulation) = 40\n",
      "INFO:root:  Gradient Accumulation steps = 1\n",
      "INFO:root:  Total optimization steps = 380\n"
     ]
    },
    {
     "name": "stdout",
     "output_type": "stream",
     "text": [
      "data/phenotype_classification/transformer/original/output/biobert/tensorboard\n",
      "Selected optimization level O1:  Insert automatic casts around Pytorch functions and Tensor methods.\n",
      "\n",
      "Defaults for this optimization level are:\n",
      "enabled                : True\n",
      "opt_level              : O1\n",
      "cast_model_type        : None\n",
      "patch_torch_functions  : True\n",
      "keep_batchnorm_fp32    : None\n",
      "master_weights         : None\n",
      "loss_scale             : dynamic\n",
      "Processing user overrides (additional kwargs that are not None)...\n",
      "After processing overrides, optimization options are:\n",
      "enabled                : True\n",
      "opt_level              : O1\n",
      "cast_model_type        : None\n",
      "patch_torch_functions  : True\n",
      "keep_batchnorm_fp32    : None\n",
      "master_weights         : None\n",
      "loss_scale             : dynamic\n"
     ]
    },
    {
     "data": {
      "text/html": [],
      "text/plain": [
       "<IPython.core.display.HTML object>"
      ]
     },
     "metadata": {},
     "output_type": "display_data"
    },
    {
     "name": "stderr",
     "output_type": "stream",
     "text": [
      "/home/aa5118/anaconda3/lib/python3.7/site-packages/torch/nn/parallel/_functions.py:61: UserWarning: Was asked to gather along dimension 0, but all input tensors were scalars; will instead unsqueeze and return a vector.\n",
      "  warnings.warn('Was asked to gather along dimension 0, but all '\n",
      "INFO:root:Running evaluation\n",
      "INFO:root:  Num examples = 188\n",
      "INFO:root:  Batch size = 40\n"
     ]
    },
    {
     "data": {
      "text/html": [
       "\n",
       "    <div>\n",
       "        <style>\n",
       "            /* Turns off some styling */\n",
       "            progress {\n",
       "                /* gets rid of default border in Firefox and Opera. */\n",
       "                border: none;\n",
       "                /* Needs to be in here for Safari polyfill so background images work as expected. */\n",
       "                background-size: auto;\n",
       "            }\n",
       "            .progress-bar-interrupted, .progress-bar-interrupted::-webkit-progress-bar {\n",
       "                background: #F44336;\n",
       "            }\n",
       "        </style>\n",
       "      <progress value='5' class='' max='5', style='width:300px; height:20px; vertical-align: middle;'></progress>\n",
       "      100.00% [5/5 00:06<00:00]\n",
       "    </div>\n",
       "    "
      ],
      "text/plain": [
       "<IPython.core.display.HTML object>"
      ]
     },
     "metadata": {},
     "output_type": "display_data"
    },
    {
     "name": "stderr",
     "output_type": "stream",
     "text": [
      "INFO:root:eval_loss after step 20: 0.681080985069275: \n",
      "INFO:root:eval_accuracy_multilabel after step 20: 0.0: \n",
      "INFO:root:eval_accuracy_thresh after step 20: 0.5015197396278381: \n",
      "INFO:root:eval_roc_auc after step 20: 0.47685546296479137: \n",
      "INFO:root:eval_fbeta after step 20: 0.385684072971344: \n",
      "INFO:root:lr after step 20: 2.4000000000000003e-06\n",
      "INFO:root:train_loss after step 20: 0.704734867811203\n",
      "INFO:root:Running evaluation\n",
      "INFO:root:  Num examples = 188\n",
      "INFO:root:  Batch size = 40\n"
     ]
    },
    {
     "data": {
      "text/html": [
       "\n",
       "    <div>\n",
       "        <style>\n",
       "            /* Turns off some styling */\n",
       "            progress {\n",
       "                /* gets rid of default border in Firefox and Opera. */\n",
       "                border: none;\n",
       "                /* Needs to be in here for Safari polyfill so background images work as expected. */\n",
       "                background-size: auto;\n",
       "            }\n",
       "            .progress-bar-interrupted, .progress-bar-interrupted::-webkit-progress-bar {\n",
       "                background: #F44336;\n",
       "            }\n",
       "        </style>\n",
       "      <progress value='5' class='' max='5', style='width:300px; height:20px; vertical-align: middle;'></progress>\n",
       "      100.00% [5/5 00:06<00:00]\n",
       "    </div>\n",
       "    "
      ],
      "text/plain": [
       "<IPython.core.display.HTML object>"
      ]
     },
     "metadata": {},
     "output_type": "display_data"
    },
    {
     "name": "stderr",
     "output_type": "stream",
     "text": [
      "INFO:root:eval_loss after epoch 1: 0.591264259815216: \n",
      "INFO:root:eval_accuracy_multilabel after epoch 1: 0.015957446808510637: \n",
      "INFO:root:eval_accuracy_thresh after epoch 1: 0.7142857313156128: \n",
      "INFO:root:eval_roc_auc after epoch 1: 0.5180183793763946: \n",
      "INFO:root:eval_fbeta after epoch 1: 0.3928638994693756: \n",
      "INFO:root:Running evaluation\n",
      "INFO:root:  Num examples = 188\n",
      "INFO:root:  Batch size = 40\n"
     ]
    },
    {
     "data": {
      "text/html": [
       "\n",
       "    <div>\n",
       "        <style>\n",
       "            /* Turns off some styling */\n",
       "            progress {\n",
       "                /* gets rid of default border in Firefox and Opera. */\n",
       "                border: none;\n",
       "                /* Needs to be in here for Safari polyfill so background images work as expected. */\n",
       "                background-size: auto;\n",
       "            }\n",
       "            .progress-bar-interrupted, .progress-bar-interrupted::-webkit-progress-bar {\n",
       "                background: #F44336;\n",
       "            }\n",
       "        </style>\n",
       "      <progress value='5' class='' max='5', style='width:300px; height:20px; vertical-align: middle;'></progress>\n",
       "      100.00% [5/5 00:06<00:00]\n",
       "    </div>\n",
       "    "
      ],
      "text/plain": [
       "<IPython.core.display.HTML object>"
      ]
     },
     "metadata": {},
     "output_type": "display_data"
    },
    {
     "name": "stderr",
     "output_type": "stream",
     "text": [
      "INFO:root:eval_loss after step 40: 0.5783370971679688: \n",
      "INFO:root:eval_accuracy_multilabel after step 40: 0.015957446808510637: \n",
      "INFO:root:eval_accuracy_thresh after step 40: 0.7644376754760742: \n",
      "INFO:root:eval_roc_auc after step 40: 0.5195623358543473: \n",
      "INFO:root:eval_fbeta after step 40: 0.3928638994693756: \n",
      "INFO:root:lr after step 40: 4.800000000000001e-06\n",
      "INFO:root:train_loss after step 40: 0.6380944550037384\n",
      "INFO:root:Running evaluation\n",
      "INFO:root:  Num examples = 188\n",
      "INFO:root:  Batch size = 40\n"
     ]
    },
    {
     "data": {
      "text/html": [
       "\n",
       "    <div>\n",
       "        <style>\n",
       "            /* Turns off some styling */\n",
       "            progress {\n",
       "                /* gets rid of default border in Firefox and Opera. */\n",
       "                border: none;\n",
       "                /* Needs to be in here for Safari polyfill so background images work as expected. */\n",
       "                background-size: auto;\n",
       "            }\n",
       "            .progress-bar-interrupted, .progress-bar-interrupted::-webkit-progress-bar {\n",
       "                background: #F44336;\n",
       "            }\n",
       "        </style>\n",
       "      <progress value='5' class='' max='5', style='width:300px; height:20px; vertical-align: middle;'></progress>\n",
       "      100.00% [5/5 00:06<00:00]\n",
       "    </div>\n",
       "    "
      ],
      "text/plain": [
       "<IPython.core.display.HTML object>"
      ]
     },
     "metadata": {},
     "output_type": "display_data"
    },
    {
     "name": "stderr",
     "output_type": "stream",
     "text": [
      "INFO:root:eval_loss after step 60: 0.46692118644714353: \n",
      "INFO:root:eval_accuracy_multilabel after step 60: 0.16489361702127658: \n",
      "INFO:root:eval_accuracy_thresh after step 60: 0.8647416234016418: \n",
      "INFO:root:eval_roc_auc after step 60: 0.6024756373294367: \n",
      "INFO:root:eval_fbeta after step 60: 0.3582831621170044: \n",
      "INFO:root:lr after step 60: 7.2e-06\n",
      "INFO:root:train_loss after step 60: 0.5310846537351608\n",
      "INFO:root:Running evaluation\n",
      "INFO:root:  Num examples = 188\n",
      "INFO:root:  Batch size = 40\n"
     ]
    },
    {
     "data": {
      "text/html": [
       "\n",
       "    <div>\n",
       "        <style>\n",
       "            /* Turns off some styling */\n",
       "            progress {\n",
       "                /* gets rid of default border in Firefox and Opera. */\n",
       "                border: none;\n",
       "                /* Needs to be in here for Safari polyfill so background images work as expected. */\n",
       "                background-size: auto;\n",
       "            }\n",
       "            .progress-bar-interrupted, .progress-bar-interrupted::-webkit-progress-bar {\n",
       "                background: #F44336;\n",
       "            }\n",
       "        </style>\n",
       "      <progress value='5' class='' max='5', style='width:300px; height:20px; vertical-align: middle;'></progress>\n",
       "      100.00% [5/5 00:06<00:00]\n",
       "    </div>\n",
       "    "
      ],
      "text/plain": [
       "<IPython.core.display.HTML object>"
      ]
     },
     "metadata": {},
     "output_type": "display_data"
    },
    {
     "name": "stderr",
     "output_type": "stream",
     "text": [
      "INFO:root:eval_loss after epoch 2: 0.4214345157146454: \n",
      "INFO:root:eval_accuracy_multilabel after epoch 2: 0.05851063829787234: \n",
      "INFO:root:eval_accuracy_thresh after epoch 2: 0.8647416234016418: \n",
      "INFO:root:eval_roc_auc after epoch 2: 0.6260576904089572: \n",
      "INFO:root:eval_fbeta after epoch 2: 0.11931895464658737: \n",
      "INFO:root:Running evaluation\n",
      "INFO:root:  Num examples = 188\n",
      "INFO:root:  Batch size = 40\n"
     ]
    },
    {
     "data": {
      "text/html": [
       "\n",
       "    <div>\n",
       "        <style>\n",
       "            /* Turns off some styling */\n",
       "            progress {\n",
       "                /* gets rid of default border in Firefox and Opera. */\n",
       "                border: none;\n",
       "                /* Needs to be in here for Safari polyfill so background images work as expected. */\n",
       "                background-size: auto;\n",
       "            }\n",
       "            .progress-bar-interrupted, .progress-bar-interrupted::-webkit-progress-bar {\n",
       "                background: #F44336;\n",
       "            }\n",
       "        </style>\n",
       "      <progress value='5' class='' max='5', style='width:300px; height:20px; vertical-align: middle;'></progress>\n",
       "      100.00% [5/5 00:06<00:00]\n",
       "    </div>\n",
       "    "
      ],
      "text/plain": [
       "<IPython.core.display.HTML object>"
      ]
     },
     "metadata": {},
     "output_type": "display_data"
    },
    {
     "name": "stderr",
     "output_type": "stream",
     "text": [
      "INFO:root:eval_loss after step 80: 0.4159953474998474: \n",
      "INFO:root:eval_accuracy_multilabel after step 80: 0.06382978723404255: \n",
      "INFO:root:eval_accuracy_thresh after step 80: 0.8647416234016418: \n",
      "INFO:root:eval_roc_auc after step 80: 0.628742027211153: \n",
      "INFO:root:eval_fbeta after step 80: 0.20526163280010223: \n",
      "INFO:root:lr after step 80: 9.600000000000001e-06\n",
      "INFO:root:train_loss after step 80: 0.43965174108743665\n",
      "INFO:root:Running evaluation\n",
      "INFO:root:  Num examples = 188\n",
      "INFO:root:  Batch size = 40\n"
     ]
    },
    {
     "data": {
      "text/html": [
       "\n",
       "    <div>\n",
       "        <style>\n",
       "            /* Turns off some styling */\n",
       "            progress {\n",
       "                /* gets rid of default border in Firefox and Opera. */\n",
       "                border: none;\n",
       "                /* Needs to be in here for Safari polyfill so background images work as expected. */\n",
       "                background-size: auto;\n",
       "            }\n",
       "            .progress-bar-interrupted, .progress-bar-interrupted::-webkit-progress-bar {\n",
       "                background: #F44336;\n",
       "            }\n",
       "        </style>\n",
       "      <progress value='5' class='' max='5', style='width:300px; height:20px; vertical-align: middle;'></progress>\n",
       "      100.00% [5/5 00:06<00:00]\n",
       "    </div>\n",
       "    "
      ],
      "text/plain": [
       "<IPython.core.display.HTML object>"
      ]
     },
     "metadata": {},
     "output_type": "display_data"
    },
    {
     "name": "stderr",
     "output_type": "stream",
     "text": [
      "INFO:root:eval_loss after step 100: 0.3934819757938385: \n",
      "INFO:root:eval_accuracy_multilabel after step 100: 0.05851063829787234: \n",
      "INFO:root:eval_accuracy_thresh after step 100: 0.8647416234016418: \n",
      "INFO:root:eval_roc_auc after step 100: 0.6434713226437075: \n",
      "INFO:root:eval_fbeta after step 100: 0.11784141510725021: \n",
      "INFO:root:lr after step 100: 1.2e-05\n",
      "INFO:root:train_loss after step 100: 0.39844305366277694\n",
      "INFO:root:Running evaluation\n",
      "INFO:root:  Num examples = 188\n",
      "INFO:root:  Batch size = 40\n"
     ]
    },
    {
     "data": {
      "text/html": [
       "\n",
       "    <div>\n",
       "        <style>\n",
       "            /* Turns off some styling */\n",
       "            progress {\n",
       "                /* gets rid of default border in Firefox and Opera. */\n",
       "                border: none;\n",
       "                /* Needs to be in here for Safari polyfill so background images work as expected. */\n",
       "                background-size: auto;\n",
       "            }\n",
       "            .progress-bar-interrupted, .progress-bar-interrupted::-webkit-progress-bar {\n",
       "                background: #F44336;\n",
       "            }\n",
       "        </style>\n",
       "      <progress value='5' class='' max='5', style='width:300px; height:20px; vertical-align: middle;'></progress>\n",
       "      100.00% [5/5 00:06<00:00]\n",
       "    </div>\n",
       "    "
      ],
      "text/plain": [
       "<IPython.core.display.HTML object>"
      ]
     },
     "metadata": {},
     "output_type": "display_data"
    },
    {
     "name": "stderr",
     "output_type": "stream",
     "text": [
      "INFO:root:eval_loss after epoch 3: 0.38626232743263245: \n",
      "INFO:root:eval_accuracy_multilabel after epoch 3: 0.05851063829787234: \n",
      "INFO:root:eval_accuracy_thresh after epoch 3: 0.8647416234016418: \n",
      "INFO:root:eval_roc_auc after epoch 3: 0.6472293941667817: \n",
      "INFO:root:eval_fbeta after epoch 3: 0.06592822074890137: \n",
      "INFO:root:Running evaluation\n",
      "INFO:root:  Num examples = 188\n",
      "INFO:root:  Batch size = 40\n"
     ]
    },
    {
     "data": {
      "text/html": [
       "\n",
       "    <div>\n",
       "        <style>\n",
       "            /* Turns off some styling */\n",
       "            progress {\n",
       "                /* gets rid of default border in Firefox and Opera. */\n",
       "                border: none;\n",
       "                /* Needs to be in here for Safari polyfill so background images work as expected. */\n",
       "                background-size: auto;\n",
       "            }\n",
       "            .progress-bar-interrupted, .progress-bar-interrupted::-webkit-progress-bar {\n",
       "                background: #F44336;\n",
       "            }\n",
       "        </style>\n",
       "      <progress value='5' class='' max='5', style='width:300px; height:20px; vertical-align: middle;'></progress>\n",
       "      100.00% [5/5 00:06<00:00]\n",
       "    </div>\n",
       "    "
      ],
      "text/plain": [
       "<IPython.core.display.HTML object>"
      ]
     },
     "metadata": {},
     "output_type": "display_data"
    },
    {
     "name": "stderr",
     "output_type": "stream",
     "text": [
      "INFO:root:eval_loss after step 120: 0.3842368423938751: \n",
      "INFO:root:eval_accuracy_multilabel after step 120: 0.05851063829787234: \n",
      "INFO:root:eval_accuracy_thresh after step 120: 0.8647416234016418: \n",
      "INFO:root:eval_roc_auc after step 120: 0.655741518729883: \n",
      "INFO:root:eval_fbeta after step 120: 0.11252226680517197: \n",
      "INFO:root:lr after step 120: 1.44e-05\n",
      "INFO:root:train_loss after step 120: 0.3932197719812393\n",
      "INFO:root:Running evaluation\n",
      "INFO:root:  Num examples = 188\n",
      "INFO:root:  Batch size = 40\n"
     ]
    },
    {
     "data": {
      "text/html": [
       "\n",
       "    <div>\n",
       "        <style>\n",
       "            /* Turns off some styling */\n",
       "            progress {\n",
       "                /* gets rid of default border in Firefox and Opera. */\n",
       "                border: none;\n",
       "                /* Needs to be in here for Safari polyfill so background images work as expected. */\n",
       "                background-size: auto;\n",
       "            }\n",
       "            .progress-bar-interrupted, .progress-bar-interrupted::-webkit-progress-bar {\n",
       "                background: #F44336;\n",
       "            }\n",
       "        </style>\n",
       "      <progress value='5' class='' max='5', style='width:300px; height:20px; vertical-align: middle;'></progress>\n",
       "      100.00% [5/5 00:06<00:00]\n",
       "    </div>\n",
       "    "
      ],
      "text/plain": [
       "<IPython.core.display.HTML object>"
      ]
     },
     "metadata": {},
     "output_type": "display_data"
    },
    {
     "name": "stderr",
     "output_type": "stream",
     "text": [
      "INFO:root:eval_loss after step 140: 0.37992182970046995: \n",
      "INFO:root:eval_accuracy_multilabel after step 140: 0.05851063829787234: \n",
      "INFO:root:eval_accuracy_thresh after step 140: 0.8647416234016418: \n",
      "INFO:root:eval_roc_auc after step 140: 0.655031249382911: \n",
      "INFO:root:eval_fbeta after step 140: 0.0: \n",
      "INFO:root:lr after step 140: 1.6800000000000002e-05\n",
      "INFO:root:train_loss after step 140: 0.36812710762023926\n",
      "INFO:root:Running evaluation\n",
      "INFO:root:  Num examples = 188\n",
      "INFO:root:  Batch size = 40\n"
     ]
    },
    {
     "data": {
      "text/html": [
       "\n",
       "    <div>\n",
       "        <style>\n",
       "            /* Turns off some styling */\n",
       "            progress {\n",
       "                /* gets rid of default border in Firefox and Opera. */\n",
       "                border: none;\n",
       "                /* Needs to be in here for Safari polyfill so background images work as expected. */\n",
       "                background-size: auto;\n",
       "            }\n",
       "            .progress-bar-interrupted, .progress-bar-interrupted::-webkit-progress-bar {\n",
       "                background: #F44336;\n",
       "            }\n",
       "        </style>\n",
       "      <progress value='5' class='' max='5', style='width:300px; height:20px; vertical-align: middle;'></progress>\n",
       "      100.00% [5/5 00:06<00:00]\n",
       "    </div>\n",
       "    "
      ],
      "text/plain": [
       "<IPython.core.display.HTML object>"
      ]
     },
     "metadata": {},
     "output_type": "display_data"
    },
    {
     "name": "stderr",
     "output_type": "stream",
     "text": [
      "INFO:root:eval_loss after epoch 4: 0.3792991995811462: \n",
      "INFO:root:eval_accuracy_multilabel after epoch 4: 0.05851063829787234: \n",
      "INFO:root:eval_accuracy_thresh after epoch 4: 0.8647416234016418: \n",
      "INFO:root:eval_roc_auc after epoch 4: 0.6603635147410203: \n",
      "INFO:root:eval_fbeta after epoch 4: 0.1148863285779953: \n",
      "INFO:root:Running evaluation\n",
      "INFO:root:  Num examples = 188\n",
      "INFO:root:  Batch size = 40\n"
     ]
    },
    {
     "data": {
      "text/html": [
       "\n",
       "    <div>\n",
       "        <style>\n",
       "            /* Turns off some styling */\n",
       "            progress {\n",
       "                /* gets rid of default border in Firefox and Opera. */\n",
       "                border: none;\n",
       "                /* Needs to be in here for Safari polyfill so background images work as expected. */\n",
       "                background-size: auto;\n",
       "            }\n",
       "            .progress-bar-interrupted, .progress-bar-interrupted::-webkit-progress-bar {\n",
       "                background: #F44336;\n",
       "            }\n",
       "        </style>\n",
       "      <progress value='5' class='' max='5', style='width:300px; height:20px; vertical-align: middle;'></progress>\n",
       "      100.00% [5/5 00:06<00:00]\n",
       "    </div>\n",
       "    "
      ],
      "text/plain": [
       "<IPython.core.display.HTML object>"
      ]
     },
     "metadata": {},
     "output_type": "display_data"
    },
    {
     "name": "stderr",
     "output_type": "stream",
     "text": [
      "INFO:root:eval_loss after step 160: 0.3781736731529236: \n",
      "INFO:root:eval_accuracy_multilabel after step 160: 0.05851063829787234: \n",
      "INFO:root:eval_accuracy_thresh after step 160: 0.8647416234016418: \n",
      "INFO:root:eval_roc_auc after step 160: 0.6583592099287139: \n",
      "INFO:root:eval_fbeta after step 160: 0.06265490502119064: \n",
      "INFO:root:lr after step 160: 1.9200000000000003e-05\n",
      "INFO:root:train_loss after step 160: 0.377841554582119\n",
      "INFO:root:Running evaluation\n",
      "INFO:root:  Num examples = 188\n",
      "INFO:root:  Batch size = 40\n"
     ]
    },
    {
     "data": {
      "text/html": [
       "\n",
       "    <div>\n",
       "        <style>\n",
       "            /* Turns off some styling */\n",
       "            progress {\n",
       "                /* gets rid of default border in Firefox and Opera. */\n",
       "                border: none;\n",
       "                /* Needs to be in here for Safari polyfill so background images work as expected. */\n",
       "                background-size: auto;\n",
       "            }\n",
       "            .progress-bar-interrupted, .progress-bar-interrupted::-webkit-progress-bar {\n",
       "                background: #F44336;\n",
       "            }\n",
       "        </style>\n",
       "      <progress value='5' class='' max='5', style='width:300px; height:20px; vertical-align: middle;'></progress>\n",
       "      100.00% [5/5 00:06<00:00]\n",
       "    </div>\n",
       "    "
      ],
      "text/plain": [
       "<IPython.core.display.HTML object>"
      ]
     },
     "metadata": {},
     "output_type": "display_data"
    },
    {
     "name": "stderr",
     "output_type": "stream",
     "text": [
      "INFO:root:eval_loss after step 180: 0.37872740626335144: \n",
      "INFO:root:eval_accuracy_multilabel after step 180: 0.05851063829787234: \n",
      "INFO:root:eval_accuracy_thresh after step 180: 0.8647416234016418: \n",
      "INFO:root:eval_roc_auc after step 180: 0.6604178185659839: \n",
      "INFO:root:eval_fbeta after step 180: 0.09622365236282349: \n",
      "INFO:root:lr after step 180: 2.16e-05\n",
      "INFO:root:train_loss after step 180: 0.3699799567461014\n",
      "INFO:root:Running evaluation\n",
      "INFO:root:  Num examples = 188\n",
      "INFO:root:  Batch size = 40\n"
     ]
    },
    {
     "data": {
      "text/html": [
       "\n",
       "    <div>\n",
       "        <style>\n",
       "            /* Turns off some styling */\n",
       "            progress {\n",
       "                /* gets rid of default border in Firefox and Opera. */\n",
       "                border: none;\n",
       "                /* Needs to be in here for Safari polyfill so background images work as expected. */\n",
       "                background-size: auto;\n",
       "            }\n",
       "            .progress-bar-interrupted, .progress-bar-interrupted::-webkit-progress-bar {\n",
       "                background: #F44336;\n",
       "            }\n",
       "        </style>\n",
       "      <progress value='5' class='' max='5', style='width:300px; height:20px; vertical-align: middle;'></progress>\n",
       "      100.00% [5/5 00:06<00:00]\n",
       "    </div>\n",
       "    "
      ],
      "text/plain": [
       "<IPython.core.display.HTML object>"
      ]
     },
     "metadata": {},
     "output_type": "display_data"
    },
    {
     "name": "stderr",
     "output_type": "stream",
     "text": [
      "INFO:root:eval_loss after epoch 5: 0.37413774728775023: \n",
      "INFO:root:eval_accuracy_multilabel after epoch 5: 0.0797872340425532: \n",
      "INFO:root:eval_accuracy_thresh after epoch 5: 0.8647416234016418: \n",
      "INFO:root:eval_roc_auc after epoch 5: 0.6754377628798799: \n",
      "INFO:root:eval_fbeta after epoch 5: 0.002045826520770788: \n",
      "INFO:root:Running evaluation\n",
      "INFO:root:  Num examples = 188\n",
      "INFO:root:  Batch size = 40\n"
     ]
    },
    {
     "data": {
      "text/html": [
       "\n",
       "    <div>\n",
       "        <style>\n",
       "            /* Turns off some styling */\n",
       "            progress {\n",
       "                /* gets rid of default border in Firefox and Opera. */\n",
       "                border: none;\n",
       "                /* Needs to be in here for Safari polyfill so background images work as expected. */\n",
       "                background-size: auto;\n",
       "            }\n",
       "            .progress-bar-interrupted, .progress-bar-interrupted::-webkit-progress-bar {\n",
       "                background: #F44336;\n",
       "            }\n",
       "        </style>\n",
       "      <progress value='5' class='' max='5', style='width:300px; height:20px; vertical-align: middle;'></progress>\n",
       "      100.00% [5/5 00:06<00:00]\n",
       "    </div>\n",
       "    "
      ],
      "text/plain": [
       "<IPython.core.display.HTML object>"
      ]
     },
     "metadata": {},
     "output_type": "display_data"
    },
    {
     "name": "stderr",
     "output_type": "stream",
     "text": [
      "INFO:root:eval_loss after step 200: 0.37563308477401736: \n",
      "INFO:root:eval_accuracy_multilabel after step 200: 0.06914893617021277: \n",
      "INFO:root:eval_accuracy_thresh after step 200: 0.8647416234016418: \n",
      "INFO:root:eval_roc_auc after step 200: 0.6718771598112202: \n",
      "INFO:root:eval_fbeta after step 200: 0.002045826520770788: \n",
      "INFO:root:lr after step 200: 2.4e-05\n",
      "INFO:root:train_loss after step 200: 0.36433395445346833\n",
      "INFO:root:Running evaluation\n",
      "INFO:root:  Num examples = 188\n",
      "INFO:root:  Batch size = 40\n"
     ]
    },
    {
     "data": {
      "text/html": [
       "\n",
       "    <div>\n",
       "        <style>\n",
       "            /* Turns off some styling */\n",
       "            progress {\n",
       "                /* gets rid of default border in Firefox and Opera. */\n",
       "                border: none;\n",
       "                /* Needs to be in here for Safari polyfill so background images work as expected. */\n",
       "                background-size: auto;\n",
       "            }\n",
       "            .progress-bar-interrupted, .progress-bar-interrupted::-webkit-progress-bar {\n",
       "                background: #F44336;\n",
       "            }\n",
       "        </style>\n",
       "      <progress value='5' class='' max='5', style='width:300px; height:20px; vertical-align: middle;'></progress>\n",
       "      100.00% [5/5 00:06<00:00]\n",
       "    </div>\n",
       "    "
      ],
      "text/plain": [
       "<IPython.core.display.HTML object>"
      ]
     },
     "metadata": {},
     "output_type": "display_data"
    },
    {
     "name": "stderr",
     "output_type": "stream",
     "text": [
      "INFO:root:eval_loss after step 220: 0.36893428564071656: \n",
      "INFO:root:eval_accuracy_multilabel after step 220: 0.11170212765957446: \n",
      "INFO:root:eval_accuracy_thresh after step 220: 0.8647416234016418: \n",
      "INFO:root:eval_roc_auc after step 220: 0.6934561422562746: \n",
      "INFO:root:eval_fbeta after step 220: 0.04983540251851082: \n",
      "INFO:root:lr after step 220: 2.64e-05\n",
      "INFO:root:train_loss after step 220: 0.3662692531943321\n",
      "INFO:root:Running evaluation\n",
      "INFO:root:  Num examples = 188\n",
      "INFO:root:  Batch size = 40\n"
     ]
    },
    {
     "data": {
      "text/html": [
       "\n",
       "    <div>\n",
       "        <style>\n",
       "            /* Turns off some styling */\n",
       "            progress {\n",
       "                /* gets rid of default border in Firefox and Opera. */\n",
       "                border: none;\n",
       "                /* Needs to be in here for Safari polyfill so background images work as expected. */\n",
       "                background-size: auto;\n",
       "            }\n",
       "            .progress-bar-interrupted, .progress-bar-interrupted::-webkit-progress-bar {\n",
       "                background: #F44336;\n",
       "            }\n",
       "        </style>\n",
       "      <progress value='5' class='' max='5', style='width:300px; height:20px; vertical-align: middle;'></progress>\n",
       "      100.00% [5/5 00:06<00:00]\n",
       "    </div>\n",
       "    "
      ],
      "text/plain": [
       "<IPython.core.display.HTML object>"
      ]
     },
     "metadata": {},
     "output_type": "display_data"
    },
    {
     "name": "stderr",
     "output_type": "stream",
     "text": [
      "INFO:root:eval_loss after epoch 6: 0.376698762178421: \n",
      "INFO:root:eval_accuracy_multilabel after epoch 6: 0.06382978723404255: \n",
      "INFO:root:eval_accuracy_thresh after epoch 6: 0.8647416234016418: \n",
      "INFO:root:eval_roc_auc after epoch 6: 0.6756969402262988: \n",
      "INFO:root:eval_fbeta after epoch 6: 0.0765368789434433: \n",
      "INFO:root:Running evaluation\n",
      "INFO:root:  Num examples = 188\n",
      "INFO:root:  Batch size = 40\n"
     ]
    },
    {
     "data": {
      "text/html": [
       "\n",
       "    <div>\n",
       "        <style>\n",
       "            /* Turns off some styling */\n",
       "            progress {\n",
       "                /* gets rid of default border in Firefox and Opera. */\n",
       "                border: none;\n",
       "                /* Needs to be in here for Safari polyfill so background images work as expected. */\n",
       "                background-size: auto;\n",
       "            }\n",
       "            .progress-bar-interrupted, .progress-bar-interrupted::-webkit-progress-bar {\n",
       "                background: #F44336;\n",
       "            }\n",
       "        </style>\n",
       "      <progress value='5' class='' max='5', style='width:300px; height:20px; vertical-align: middle;'></progress>\n",
       "      100.00% [5/5 00:06<00:00]\n",
       "    </div>\n",
       "    "
      ],
      "text/plain": [
       "<IPython.core.display.HTML object>"
      ]
     },
     "metadata": {},
     "output_type": "display_data"
    },
    {
     "name": "stderr",
     "output_type": "stream",
     "text": [
      "INFO:root:eval_loss after step 240: 0.36316806077957153: \n",
      "INFO:root:eval_accuracy_multilabel after step 240: 0.14361702127659576: \n",
      "INFO:root:eval_accuracy_thresh after step 240: 0.8628419637680054: \n",
      "INFO:root:eval_roc_auc after step 240: 0.709621403605774: \n",
      "INFO:root:eval_fbeta after step 240: 0.15398387610912323: \n",
      "INFO:root:lr after step 240: 2.88e-05\n",
      "INFO:root:train_loss after step 240: 0.37272508889436723\n",
      "INFO:root:Running evaluation\n",
      "INFO:root:  Num examples = 188\n",
      "INFO:root:  Batch size = 40\n"
     ]
    },
    {
     "data": {
      "text/html": [
       "\n",
       "    <div>\n",
       "        <style>\n",
       "            /* Turns off some styling */\n",
       "            progress {\n",
       "                /* gets rid of default border in Firefox and Opera. */\n",
       "                border: none;\n",
       "                /* Needs to be in here for Safari polyfill so background images work as expected. */\n",
       "                background-size: auto;\n",
       "            }\n",
       "            .progress-bar-interrupted, .progress-bar-interrupted::-webkit-progress-bar {\n",
       "                background: #F44336;\n",
       "            }\n",
       "        </style>\n",
       "      <progress value='5' class='' max='5', style='width:300px; height:20px; vertical-align: middle;'></progress>\n",
       "      100.00% [5/5 00:06<00:00]\n",
       "    </div>\n",
       "    "
      ],
      "text/plain": [
       "<IPython.core.display.HTML object>"
      ]
     },
     "metadata": {},
     "output_type": "display_data"
    },
    {
     "name": "stderr",
     "output_type": "stream",
     "text": [
      "INFO:root:eval_loss after step 260: 0.3545926570892334: \n",
      "INFO:root:eval_accuracy_multilabel after step 260: 0.2978723404255319: \n",
      "INFO:root:eval_accuracy_thresh after step 260: 0.8670212626457214: \n",
      "INFO:root:eval_roc_auc after step 260: 0.7453971337453842: \n",
      "INFO:root:eval_fbeta after step 260: 0.24575252830982208: \n",
      "INFO:root:lr after step 260: 3.12e-05\n",
      "INFO:root:train_loss after step 260: 0.35224203020334244\n",
      "INFO:root:Running evaluation\n",
      "INFO:root:  Num examples = 188\n",
      "INFO:root:  Batch size = 40\n"
     ]
    },
    {
     "data": {
      "text/html": [
       "\n",
       "    <div>\n",
       "        <style>\n",
       "            /* Turns off some styling */\n",
       "            progress {\n",
       "                /* gets rid of default border in Firefox and Opera. */\n",
       "                border: none;\n",
       "                /* Needs to be in here for Safari polyfill so background images work as expected. */\n",
       "                background-size: auto;\n",
       "            }\n",
       "            .progress-bar-interrupted, .progress-bar-interrupted::-webkit-progress-bar {\n",
       "                background: #F44336;\n",
       "            }\n",
       "        </style>\n",
       "      <progress value='5' class='' max='5', style='width:300px; height:20px; vertical-align: middle;'></progress>\n",
       "      100.00% [5/5 00:06<00:00]\n",
       "    </div>\n",
       "    "
      ],
      "text/plain": [
       "<IPython.core.display.HTML object>"
      ]
     },
     "metadata": {},
     "output_type": "display_data"
    },
    {
     "name": "stderr",
     "output_type": "stream",
     "text": [
      "INFO:root:eval_loss after epoch 7: 0.3534060835838318: \n",
      "INFO:root:eval_accuracy_multilabel after epoch 7: 0.22340425531914893: \n",
      "INFO:root:eval_accuracy_thresh after epoch 7: 0.8666413426399231: \n",
      "INFO:root:eval_roc_auc after epoch 7: 0.7406319731047966: \n",
      "INFO:root:eval_fbeta after epoch 7: 0.1811540424823761: \n",
      "INFO:root:Running evaluation\n",
      "INFO:root:  Num examples = 188\n",
      "INFO:root:  Batch size = 40\n"
     ]
    },
    {
     "data": {
      "text/html": [
       "\n",
       "    <div>\n",
       "        <style>\n",
       "            /* Turns off some styling */\n",
       "            progress {\n",
       "                /* gets rid of default border in Firefox and Opera. */\n",
       "                border: none;\n",
       "                /* Needs to be in here for Safari polyfill so background images work as expected. */\n",
       "                background-size: auto;\n",
       "            }\n",
       "            .progress-bar-interrupted, .progress-bar-interrupted::-webkit-progress-bar {\n",
       "                background: #F44336;\n",
       "            }\n",
       "        </style>\n",
       "      <progress value='5' class='' max='5', style='width:300px; height:20px; vertical-align: middle;'></progress>\n",
       "      100.00% [5/5 00:06<00:00]\n",
       "    </div>\n",
       "    "
      ],
      "text/plain": [
       "<IPython.core.display.HTML object>"
      ]
     },
     "metadata": {},
     "output_type": "display_data"
    },
    {
     "name": "stderr",
     "output_type": "stream",
     "text": [
      "INFO:root:eval_loss after step 280: 0.3466308653354645: \n",
      "INFO:root:eval_accuracy_multilabel after step 280: 0.2925531914893617: \n",
      "INFO:root:eval_accuracy_thresh after step 280: 0.865121603012085: \n",
      "INFO:root:eval_roc_auc after step 280: 0.7585337226753026: \n",
      "INFO:root:eval_fbeta after step 280: 0.14588923752307892: \n",
      "INFO:root:lr after step 280: 3.3600000000000004e-05\n",
      "INFO:root:train_loss after step 280: 0.34442498087882994\n",
      "INFO:root:Running evaluation\n",
      "INFO:root:  Num examples = 188\n",
      "INFO:root:  Batch size = 40\n"
     ]
    },
    {
     "data": {
      "text/html": [
       "\n",
       "    <div>\n",
       "        <style>\n",
       "            /* Turns off some styling */\n",
       "            progress {\n",
       "                /* gets rid of default border in Firefox and Opera. */\n",
       "                border: none;\n",
       "                /* Needs to be in here for Safari polyfill so background images work as expected. */\n",
       "                background-size: auto;\n",
       "            }\n",
       "            .progress-bar-interrupted, .progress-bar-interrupted::-webkit-progress-bar {\n",
       "                background: #F44336;\n",
       "            }\n",
       "        </style>\n",
       "      <progress value='5' class='' max='5', style='width:300px; height:20px; vertical-align: middle;'></progress>\n",
       "      100.00% [5/5 00:06<00:00]\n",
       "    </div>\n",
       "    "
      ],
      "text/plain": [
       "<IPython.core.display.HTML object>"
      ]
     },
     "metadata": {},
     "output_type": "display_data"
    },
    {
     "name": "stderr",
     "output_type": "stream",
     "text": [
      "INFO:root:eval_loss after step 300: 0.33219206929206846: \n",
      "INFO:root:eval_accuracy_multilabel after step 300: 0.40425531914893614: \n",
      "INFO:root:eval_accuracy_thresh after step 300: 0.8784194588661194: \n",
      "INFO:root:eval_roc_auc after step 300: 0.7721689194526175: \n",
      "INFO:root:eval_fbeta after step 300: 0.2633465528488159: \n",
      "INFO:root:lr after step 300: 3.6e-05\n",
      "INFO:root:train_loss after step 300: 0.3330348029732704\n",
      "INFO:root:Running evaluation\n",
      "INFO:root:  Num examples = 188\n",
      "INFO:root:  Batch size = 40\n"
     ]
    },
    {
     "data": {
      "text/html": [
       "\n",
       "    <div>\n",
       "        <style>\n",
       "            /* Turns off some styling */\n",
       "            progress {\n",
       "                /* gets rid of default border in Firefox and Opera. */\n",
       "                border: none;\n",
       "                /* Needs to be in here for Safari polyfill so background images work as expected. */\n",
       "                background-size: auto;\n",
       "            }\n",
       "            .progress-bar-interrupted, .progress-bar-interrupted::-webkit-progress-bar {\n",
       "                background: #F44336;\n",
       "            }\n",
       "        </style>\n",
       "      <progress value='5' class='' max='5', style='width:300px; height:20px; vertical-align: middle;'></progress>\n",
       "      100.00% [5/5 00:06<00:00]\n",
       "    </div>\n",
       "    "
      ],
      "text/plain": [
       "<IPython.core.display.HTML object>"
      ]
     },
     "metadata": {},
     "output_type": "display_data"
    },
    {
     "name": "stderr",
     "output_type": "stream",
     "text": [
      "INFO:root:eval_loss after epoch 8: 0.3306792140007019: \n",
      "INFO:root:eval_accuracy_multilabel after epoch 8: 0.42021276595744683: \n",
      "INFO:root:eval_accuracy_thresh after epoch 8: 0.8795592784881592: \n",
      "INFO:root:eval_roc_auc after epoch 8: 0.7776091753717342: \n",
      "INFO:root:eval_fbeta after epoch 8: 0.29607677459716797: \n",
      "INFO:root:Running evaluation\n",
      "INFO:root:  Num examples = 188\n",
      "INFO:root:  Batch size = 40\n"
     ]
    },
    {
     "data": {
      "text/html": [
       "\n",
       "    <div>\n",
       "        <style>\n",
       "            /* Turns off some styling */\n",
       "            progress {\n",
       "                /* gets rid of default border in Firefox and Opera. */\n",
       "                border: none;\n",
       "                /* Needs to be in here for Safari polyfill so background images work as expected. */\n",
       "                background-size: auto;\n",
       "            }\n",
       "            .progress-bar-interrupted, .progress-bar-interrupted::-webkit-progress-bar {\n",
       "                background: #F44336;\n",
       "            }\n",
       "        </style>\n",
       "      <progress value='5' class='' max='5', style='width:300px; height:20px; vertical-align: middle;'></progress>\n",
       "      100.00% [5/5 00:06<00:00]\n",
       "    </div>\n",
       "    "
      ],
      "text/plain": [
       "<IPython.core.display.HTML object>"
      ]
     },
     "metadata": {},
     "output_type": "display_data"
    },
    {
     "name": "stderr",
     "output_type": "stream",
     "text": [
      "INFO:root:eval_loss after step 320: 0.32664244771003725: \n",
      "INFO:root:eval_accuracy_multilabel after step 320: 0.39893617021276595: \n",
      "INFO:root:eval_accuracy_thresh after step 320: 0.8768997192382812: \n",
      "INFO:root:eval_roc_auc after step 320: 0.7831382920953378: \n",
      "INFO:root:eval_fbeta after step 320: 0.24172502756118774: \n",
      "INFO:root:lr after step 320: 3.8400000000000005e-05\n",
      "INFO:root:train_loss after step 320: 0.3205516755580902\n",
      "INFO:root:Running evaluation\n",
      "INFO:root:  Num examples = 188\n",
      "INFO:root:  Batch size = 40\n"
     ]
    },
    {
     "data": {
      "text/html": [
       "\n",
       "    <div>\n",
       "        <style>\n",
       "            /* Turns off some styling */\n",
       "            progress {\n",
       "                /* gets rid of default border in Firefox and Opera. */\n",
       "                border: none;\n",
       "                /* Needs to be in here for Safari polyfill so background images work as expected. */\n",
       "                background-size: auto;\n",
       "            }\n",
       "            .progress-bar-interrupted, .progress-bar-interrupted::-webkit-progress-bar {\n",
       "                background: #F44336;\n",
       "            }\n",
       "        </style>\n",
       "      <progress value='5' class='' max='5', style='width:300px; height:20px; vertical-align: middle;'></progress>\n",
       "      100.00% [5/5 00:06<00:00]\n",
       "    </div>\n",
       "    "
      ],
      "text/plain": [
       "<IPython.core.display.HTML object>"
      ]
     },
     "metadata": {},
     "output_type": "display_data"
    },
    {
     "name": "stderr",
     "output_type": "stream",
     "text": [
      "INFO:root:eval_loss after step 340: 0.3169743001461029: \n",
      "INFO:root:eval_accuracy_multilabel after step 340: 0.43617021276595747: \n",
      "INFO:root:eval_accuracy_thresh after step 340: 0.8818389177322388: \n",
      "INFO:root:eval_roc_auc after step 340: 0.7970875871329555: \n",
      "INFO:root:eval_fbeta after step 340: 0.2952215075492859: \n",
      "INFO:root:lr after step 340: 4.08e-05\n",
      "INFO:root:train_loss after step 340: 0.3089729070663452\n",
      "INFO:root:Running evaluation\n",
      "INFO:root:  Num examples = 188\n",
      "INFO:root:  Batch size = 40\n"
     ]
    },
    {
     "data": {
      "text/html": [
       "\n",
       "    <div>\n",
       "        <style>\n",
       "            /* Turns off some styling */\n",
       "            progress {\n",
       "                /* gets rid of default border in Firefox and Opera. */\n",
       "                border: none;\n",
       "                /* Needs to be in here for Safari polyfill so background images work as expected. */\n",
       "                background-size: auto;\n",
       "            }\n",
       "            .progress-bar-interrupted, .progress-bar-interrupted::-webkit-progress-bar {\n",
       "                background: #F44336;\n",
       "            }\n",
       "        </style>\n",
       "      <progress value='5' class='' max='5', style='width:300px; height:20px; vertical-align: middle;'></progress>\n",
       "      100.00% [5/5 00:06<00:00]\n",
       "    </div>\n",
       "    "
      ],
      "text/plain": [
       "<IPython.core.display.HTML object>"
      ]
     },
     "metadata": {},
     "output_type": "display_data"
    },
    {
     "name": "stderr",
     "output_type": "stream",
     "text": [
      "INFO:root:eval_loss after epoch 9: 0.3160004436969757: \n",
      "INFO:root:eval_accuracy_multilabel after epoch 9: 0.43617021276595747: \n",
      "INFO:root:eval_accuracy_thresh after epoch 9: 0.8829787373542786: \n",
      "INFO:root:eval_roc_auc after epoch 9: 0.8004075255227977: \n",
      "INFO:root:eval_fbeta after epoch 9: 0.3349592983722687: \n",
      "INFO:root:Running evaluation\n",
      "INFO:root:  Num examples = 188\n",
      "INFO:root:  Batch size = 40\n"
     ]
    },
    {
     "data": {
      "text/html": [
       "\n",
       "    <div>\n",
       "        <style>\n",
       "            /* Turns off some styling */\n",
       "            progress {\n",
       "                /* gets rid of default border in Firefox and Opera. */\n",
       "                border: none;\n",
       "                /* Needs to be in here for Safari polyfill so background images work as expected. */\n",
       "                background-size: auto;\n",
       "            }\n",
       "            .progress-bar-interrupted, .progress-bar-interrupted::-webkit-progress-bar {\n",
       "                background: #F44336;\n",
       "            }\n",
       "        </style>\n",
       "      <progress value='5' class='' max='5', style='width:300px; height:20px; vertical-align: middle;'></progress>\n",
       "      100.00% [5/5 00:06<00:00]\n",
       "    </div>\n",
       "    "
      ],
      "text/plain": [
       "<IPython.core.display.HTML object>"
      ]
     },
     "metadata": {},
     "output_type": "display_data"
    },
    {
     "name": "stderr",
     "output_type": "stream",
     "text": [
      "INFO:root:eval_loss after step 360: 0.3127008080482483: \n",
      "INFO:root:eval_accuracy_multilabel after step 360: 0.42021276595744683: \n",
      "INFO:root:eval_accuracy_thresh after step 360: 0.8810790181159973: \n",
      "INFO:root:eval_roc_auc after step 360: 0.8000891076400546: \n",
      "INFO:root:eval_fbeta after step 360: 0.31304484605789185: \n",
      "INFO:root:lr after step 360: 4.32e-05\n",
      "INFO:root:train_loss after step 360: 0.2945245660841465\n",
      "INFO:root:Running evaluation\n",
      "INFO:root:  Num examples = 188\n",
      "INFO:root:  Batch size = 40\n"
     ]
    },
    {
     "data": {
      "text/html": [
       "\n",
       "    <div>\n",
       "        <style>\n",
       "            /* Turns off some styling */\n",
       "            progress {\n",
       "                /* gets rid of default border in Firefox and Opera. */\n",
       "                border: none;\n",
       "                /* Needs to be in here for Safari polyfill so background images work as expected. */\n",
       "                background-size: auto;\n",
       "            }\n",
       "            .progress-bar-interrupted, .progress-bar-interrupted::-webkit-progress-bar {\n",
       "                background: #F44336;\n",
       "            }\n",
       "        </style>\n",
       "      <progress value='5' class='' max='5', style='width:300px; height:20px; vertical-align: middle;'></progress>\n",
       "      100.00% [5/5 00:06<00:00]\n",
       "    </div>\n",
       "    "
      ],
      "text/plain": [
       "<IPython.core.display.HTML object>"
      ]
     },
     "metadata": {},
     "output_type": "display_data"
    },
    {
     "name": "stderr",
     "output_type": "stream",
     "text": [
      "INFO:root:eval_loss after step 380: 0.30668567419052123: \n",
      "INFO:root:eval_accuracy_multilabel after step 380: 0.425531914893617: \n",
      "INFO:root:eval_accuracy_thresh after step 380: 0.8833586573600769: \n",
      "INFO:root:eval_roc_auc after step 380: 0.810909144764124: \n",
      "INFO:root:eval_fbeta after step 380: 0.3807492256164551: \n",
      "INFO:root:lr after step 380: 4.5600000000000004e-05\n",
      "INFO:root:train_loss after step 380: 0.2834231719374657\n",
      "INFO:root:Running evaluation\n",
      "INFO:root:  Num examples = 188\n",
      "INFO:root:  Batch size = 40\n"
     ]
    },
    {
     "data": {
      "text/html": [
       "\n",
       "    <div>\n",
       "        <style>\n",
       "            /* Turns off some styling */\n",
       "            progress {\n",
       "                /* gets rid of default border in Firefox and Opera. */\n",
       "                border: none;\n",
       "                /* Needs to be in here for Safari polyfill so background images work as expected. */\n",
       "                background-size: auto;\n",
       "            }\n",
       "            .progress-bar-interrupted, .progress-bar-interrupted::-webkit-progress-bar {\n",
       "                background: #F44336;\n",
       "            }\n",
       "        </style>\n",
       "      <progress value='5' class='' max='5', style='width:300px; height:20px; vertical-align: middle;'></progress>\n",
       "      100.00% [5/5 00:06<00:00]\n",
       "    </div>\n",
       "    "
      ],
      "text/plain": [
       "<IPython.core.display.HTML object>"
      ]
     },
     "metadata": {},
     "output_type": "display_data"
    },
    {
     "name": "stderr",
     "output_type": "stream",
     "text": [
      "INFO:root:eval_loss after epoch 10: 0.30668567419052123: \n",
      "INFO:root:eval_accuracy_multilabel after epoch 10: 0.425531914893617: \n",
      "INFO:root:eval_accuracy_thresh after epoch 10: 0.8833586573600769: \n",
      "INFO:root:eval_roc_auc after epoch 10: 0.810909144764124: \n",
      "INFO:root:eval_fbeta after epoch 10: 0.3807492256164551: \n",
      "DEBUG:urllib3.connectionpool:Starting new HTTPS connection (1): s3.amazonaws.com:443\n",
      "DEBUG:urllib3.connectionpool:https://s3.amazonaws.com:443 \"HEAD /models.huggingface.co/bert/bert-base-uncased-vocab.txt HTTP/1.1\" 200 0\n",
      "INFO:pytorch_transformers.tokenization_utils:loading file https://s3.amazonaws.com/models.huggingface.co/bert/bert-base-uncased-vocab.txt from cache at /home/aa5118/.cache/torch/pytorch_transformers/26bc1ad6c0ac742e9b52263248f6d0f00068293b33709fae12320c0e35ccfbbb.542ce4285a40d23a559526243235df47c5f75c197f04f37d1a0c124c32c9a084\n",
      "INFO:root:Writing example 0 of 1500\n",
      "INFO:root:Saving features into cached file data/phenotype_classification/transformer/original/cache/cached_train_multi_label_512\n",
      "INFO:root:Writing example 0 of 188\n",
      "INFO:root:Saving features into cached file data/phenotype_classification/transformer/original/cache/cached_dev_multi_label_512\n",
      "DEBUG:urllib3.connectionpool:Starting new HTTPS connection (1): s3.amazonaws.com:443\n",
      "DEBUG:urllib3.connectionpool:https://s3.amazonaws.com:443 \"HEAD /models.huggingface.co/bert/bert-base-uncased-config.json HTTP/1.1\" 200 0\n",
      "INFO:pytorch_transformers.modeling_utils:loading configuration file https://s3.amazonaws.com/models.huggingface.co/bert/bert-base-uncased-config.json from cache at /home/aa5118/.cache/torch/pytorch_transformers/4dad0251492946e18ac39290fcfe91b89d370fee250efe9521476438fe8ca185.bf3b9ea126d8c0001ee8a1e8b92229871d06d36d8808208cc2449280da87785c\n",
      "INFO:pytorch_transformers.modeling_utils:Model config {\n",
      "  \"attention_probs_dropout_prob\": 0.1,\n",
      "  \"finetuning_task\": null,\n",
      "  \"hidden_act\": \"gelu\",\n",
      "  \"hidden_dropout_prob\": 0.1,\n",
      "  \"hidden_size\": 768,\n",
      "  \"initializer_range\": 0.02,\n",
      "  \"intermediate_size\": 3072,\n",
      "  \"layer_norm_eps\": 1e-12,\n",
      "  \"max_position_embeddings\": 512,\n",
      "  \"num_attention_heads\": 12,\n",
      "  \"num_hidden_layers\": 12,\n",
      "  \"num_labels\": 14,\n",
      "  \"output_attentions\": false,\n",
      "  \"output_hidden_states\": false,\n",
      "  \"torchscript\": false,\n",
      "  \"type_vocab_size\": 2,\n",
      "  \"vocab_size\": 30522\n",
      "}\n",
      "\n",
      "DEBUG:urllib3.connectionpool:Starting new HTTPS connection (1): s3.amazonaws.com:443\n",
      "DEBUG:urllib3.connectionpool:https://s3.amazonaws.com:443 \"HEAD /models.huggingface.co/bert/bert-base-uncased-pytorch_model.bin HTTP/1.1\" 200 0\n",
      "INFO:pytorch_transformers.modeling_utils:loading weights file https://s3.amazonaws.com/models.huggingface.co/bert/bert-base-uncased-pytorch_model.bin from cache at /home/aa5118/.cache/torch/pytorch_transformers/aa1ef1aede4482d0dbcd4d52baad8ae300e60902e88fcb0bebdec09afd232066.36ca03ab34a1a5d5fa7bc3d03d55c4fa650fed07220e2eeebc06ce58d0e9a157\n",
      "INFO:pytorch_transformers.modeling_utils:Weights of BertForMultiLabelSequenceClassification not initialized from pretrained model: ['classifier.weight', 'classifier.bias']\n",
      "INFO:pytorch_transformers.modeling_utils:Weights from pretrained model not used in BertForMultiLabelSequenceClassification: ['cls.predictions.bias', 'cls.predictions.transform.dense.weight', 'cls.predictions.transform.dense.bias', 'cls.predictions.decoder.weight', 'cls.seq_relationship.weight', 'cls.seq_relationship.bias', 'cls.predictions.transform.LayerNorm.weight', 'cls.predictions.transform.LayerNorm.bias']\n",
      "INFO:root:***** Running training *****\n",
      "INFO:root:  Num examples = 1500\n",
      "INFO:root:  Num Epochs = 10\n",
      "INFO:root:  Total train batch size (w. parallel, distributed & accumulation) = 40\n",
      "INFO:root:  Gradient Accumulation steps = 1\n",
      "INFO:root:  Total optimization steps = 380\n"
     ]
    },
    {
     "name": "stdout",
     "output_type": "stream",
     "text": [
      "data/phenotype_classification/transformer/original/output/bert/tensorboard\n",
      "Selected optimization level O1:  Insert automatic casts around Pytorch functions and Tensor methods.\n",
      "\n",
      "Defaults for this optimization level are:\n",
      "enabled                : True\n",
      "opt_level              : O1\n",
      "cast_model_type        : None\n",
      "patch_torch_functions  : True\n",
      "keep_batchnorm_fp32    : None\n",
      "master_weights         : None\n",
      "loss_scale             : dynamic\n",
      "Processing user overrides (additional kwargs that are not None)...\n",
      "After processing overrides, optimization options are:\n",
      "enabled                : True\n",
      "opt_level              : O1\n",
      "cast_model_type        : None\n",
      "patch_torch_functions  : True\n",
      "keep_batchnorm_fp32    : None\n",
      "master_weights         : None\n",
      "loss_scale             : dynamic\n"
     ]
    },
    {
     "data": {
      "text/html": [
       "\n",
       "    <div>\n",
       "        <style>\n",
       "            /* Turns off some styling */\n",
       "            progress {\n",
       "                /* gets rid of default border in Firefox and Opera. */\n",
       "                border: none;\n",
       "                /* Needs to be in here for Safari polyfill so background images work as expected. */\n",
       "                background-size: auto;\n",
       "            }\n",
       "            .progress-bar-interrupted, .progress-bar-interrupted::-webkit-progress-bar {\n",
       "                background: #F44336;\n",
       "            }\n",
       "        </style>\n",
       "      <progress value='7' class='' max='10', style='width:300px; height:20px; vertical-align: middle;'></progress>\n",
       "      70.00% [7/10 20:07<08:37]\n",
       "    </div>\n",
       "    \n",
       "\n",
       "\n",
       "    <div>\n",
       "        <style>\n",
       "            /* Turns off some styling */\n",
       "            progress {\n",
       "                /* gets rid of default border in Firefox and Opera. */\n",
       "                border: none;\n",
       "                /* Needs to be in here for Safari polyfill so background images work as expected. */\n",
       "                background-size: auto;\n",
       "            }\n",
       "            .progress-bar-interrupted, .progress-bar-interrupted::-webkit-progress-bar {\n",
       "                background: #F44336;\n",
       "            }\n",
       "        </style>\n",
       "      <progress value='0' class='progress-bar-interrupted' max='38', style='width:300px; height:20px; vertical-align: middle;'></progress>\n",
       "      Interrupted\n",
       "    </div>\n",
       "    "
      ],
      "text/plain": [
       "<IPython.core.display.HTML object>"
      ]
     },
     "metadata": {},
     "output_type": "display_data"
    },
    {
     "name": "stderr",
     "output_type": "stream",
     "text": [
      "INFO:root:Running evaluation\n",
      "INFO:root:  Num examples = 188\n",
      "INFO:root:  Batch size = 40\n"
     ]
    },
    {
     "data": {
      "text/html": [
       "\n",
       "    <div>\n",
       "        <style>\n",
       "            /* Turns off some styling */\n",
       "            progress {\n",
       "                /* gets rid of default border in Firefox and Opera. */\n",
       "                border: none;\n",
       "                /* Needs to be in here for Safari polyfill so background images work as expected. */\n",
       "                background-size: auto;\n",
       "            }\n",
       "            .progress-bar-interrupted, .progress-bar-interrupted::-webkit-progress-bar {\n",
       "                background: #F44336;\n",
       "            }\n",
       "        </style>\n",
       "      <progress value='5' class='' max='5', style='width:300px; height:20px; vertical-align: middle;'></progress>\n",
       "      100.00% [5/5 00:06<00:00]\n",
       "    </div>\n",
       "    "
      ],
      "text/plain": [
       "<IPython.core.display.HTML object>"
      ]
     },
     "metadata": {},
     "output_type": "display_data"
    },
    {
     "name": "stderr",
     "output_type": "stream",
     "text": [
      "INFO:root:eval_loss after step 20: 0.6170857906341553: \n",
      "INFO:root:eval_accuracy_multilabel after step 20: 0.11170212765957446: \n",
      "INFO:root:eval_accuracy_thresh after step 20: 0.6177811622619629: \n",
      "INFO:root:eval_roc_auc after step 20: 0.5081776623684366: \n",
      "INFO:root:eval_fbeta after step 20: 0.3829066753387451: \n",
      "INFO:root:lr after step 20: 2.4000000000000003e-06\n",
      "INFO:root:train_loss after step 20: 0.6760517209768295\n",
      "INFO:root:Running evaluation\n",
      "INFO:root:  Num examples = 188\n",
      "INFO:root:  Batch size = 40\n"
     ]
    },
    {
     "data": {
      "text/html": [
       "\n",
       "    <div>\n",
       "        <style>\n",
       "            /* Turns off some styling */\n",
       "            progress {\n",
       "                /* gets rid of default border in Firefox and Opera. */\n",
       "                border: none;\n",
       "                /* Needs to be in here for Safari polyfill so background images work as expected. */\n",
       "                background-size: auto;\n",
       "            }\n",
       "            .progress-bar-interrupted, .progress-bar-interrupted::-webkit-progress-bar {\n",
       "                background: #F44336;\n",
       "            }\n",
       "        </style>\n",
       "      <progress value='5' class='' max='5', style='width:300px; height:20px; vertical-align: middle;'></progress>\n",
       "      100.00% [5/5 00:06<00:00]\n",
       "    </div>\n",
       "    "
      ],
      "text/plain": [
       "<IPython.core.display.HTML object>"
      ]
     },
     "metadata": {},
     "output_type": "display_data"
    },
    {
     "name": "stderr",
     "output_type": "stream",
     "text": [
      "INFO:root:eval_loss after epoch 1: 0.568950068950653: \n",
      "INFO:root:eval_accuracy_multilabel after epoch 1: 0.0797872340425532: \n",
      "INFO:root:eval_accuracy_thresh after epoch 1: 0.7363222241401672: \n",
      "INFO:root:eval_roc_auc after epoch 1: 0.5249674177050216: \n",
      "INFO:root:eval_fbeta after epoch 1: 0.37463003396987915: \n",
      "INFO:root:Running evaluation\n",
      "INFO:root:  Num examples = 188\n",
      "INFO:root:  Batch size = 40\n"
     ]
    },
    {
     "data": {
      "text/html": [
       "\n",
       "    <div>\n",
       "        <style>\n",
       "            /* Turns off some styling */\n",
       "            progress {\n",
       "                /* gets rid of default border in Firefox and Opera. */\n",
       "                border: none;\n",
       "                /* Needs to be in here for Safari polyfill so background images work as expected. */\n",
       "                background-size: auto;\n",
       "            }\n",
       "            .progress-bar-interrupted, .progress-bar-interrupted::-webkit-progress-bar {\n",
       "                background: #F44336;\n",
       "            }\n",
       "        </style>\n",
       "      <progress value='5' class='' max='5', style='width:300px; height:20px; vertical-align: middle;'></progress>\n",
       "      100.00% [5/5 00:06<00:00]\n",
       "    </div>\n",
       "    "
      ],
      "text/plain": [
       "<IPython.core.display.HTML object>"
      ]
     },
     "metadata": {},
     "output_type": "display_data"
    },
    {
     "name": "stderr",
     "output_type": "stream",
     "text": [
      "INFO:root:eval_loss after step 40: 0.5631999373435974: \n",
      "INFO:root:eval_accuracy_multilabel after step 40: 0.14361702127659576: \n",
      "INFO:root:eval_accuracy_thresh after step 40: 0.7632978558540344: \n",
      "INFO:root:eval_roc_auc after step 40: 0.5301947779467231: \n",
      "INFO:root:eval_fbeta after step 40: 0.37601062655448914: \n",
      "INFO:root:lr after step 40: 4.800000000000001e-06\n",
      "INFO:root:train_loss after step 40: 0.5949405461549759\n",
      "INFO:root:Running evaluation\n",
      "INFO:root:  Num examples = 188\n",
      "INFO:root:  Batch size = 40\n"
     ]
    },
    {
     "data": {
      "text/html": [
       "\n",
       "    <div>\n",
       "        <style>\n",
       "            /* Turns off some styling */\n",
       "            progress {\n",
       "                /* gets rid of default border in Firefox and Opera. */\n",
       "                border: none;\n",
       "                /* Needs to be in here for Safari polyfill so background images work as expected. */\n",
       "                background-size: auto;\n",
       "            }\n",
       "            .progress-bar-interrupted, .progress-bar-interrupted::-webkit-progress-bar {\n",
       "                background: #F44336;\n",
       "            }\n",
       "        </style>\n",
       "      <progress value='5' class='' max='5', style='width:300px; height:20px; vertical-align: middle;'></progress>\n",
       "      100.00% [5/5 00:06<00:00]\n",
       "    </div>\n",
       "    "
      ],
      "text/plain": [
       "<IPython.core.display.HTML object>"
      ]
     },
     "metadata": {},
     "output_type": "display_data"
    },
    {
     "name": "stderr",
     "output_type": "stream",
     "text": [
      "INFO:root:eval_loss after step 60: 0.5021929204463959: \n",
      "INFO:root:eval_accuracy_multilabel after step 60: 0.15425531914893617: \n",
      "INFO:root:eval_accuracy_thresh after step 60: 0.8647416234016418: \n",
      "INFO:root:eval_roc_auc after step 60: 0.530729176951482: \n",
      "INFO:root:eval_fbeta after step 60: 0.35250866413116455: \n",
      "INFO:root:lr after step 60: 7.2e-06\n",
      "INFO:root:train_loss after step 60: 0.5362770780920982\n",
      "INFO:root:Running evaluation\n",
      "INFO:root:  Num examples = 188\n",
      "INFO:root:  Batch size = 40\n"
     ]
    },
    {
     "data": {
      "text/html": [
       "\n",
       "    <div>\n",
       "        <style>\n",
       "            /* Turns off some styling */\n",
       "            progress {\n",
       "                /* gets rid of default border in Firefox and Opera. */\n",
       "                border: none;\n",
       "                /* Needs to be in here for Safari polyfill so background images work as expected. */\n",
       "                background-size: auto;\n",
       "            }\n",
       "            .progress-bar-interrupted, .progress-bar-interrupted::-webkit-progress-bar {\n",
       "                background: #F44336;\n",
       "            }\n",
       "        </style>\n",
       "      <progress value='5' class='' max='5', style='width:300px; height:20px; vertical-align: middle;'></progress>\n",
       "      100.00% [5/5 00:06<00:00]\n",
       "    </div>\n",
       "    "
      ],
      "text/plain": [
       "<IPython.core.display.HTML object>"
      ]
     },
     "metadata": {},
     "output_type": "display_data"
    },
    {
     "name": "stderr",
     "output_type": "stream",
     "text": [
      "INFO:root:eval_loss after epoch 2: 0.461826765537262: \n",
      "INFO:root:eval_accuracy_multilabel after epoch 2: 0.15425531914893617: \n",
      "INFO:root:eval_accuracy_thresh after epoch 2: 0.8647416234016418: \n",
      "INFO:root:eval_roc_auc after epoch 2: 0.5684184998321518: \n",
      "INFO:root:eval_fbeta after epoch 2: 0.3344569504261017: \n",
      "INFO:root:Running evaluation\n",
      "INFO:root:  Num examples = 188\n",
      "INFO:root:  Batch size = 40\n"
     ]
    },
    {
     "data": {
      "text/html": [
       "\n",
       "    <div>\n",
       "        <style>\n",
       "            /* Turns off some styling */\n",
       "            progress {\n",
       "                /* gets rid of default border in Firefox and Opera. */\n",
       "                border: none;\n",
       "                /* Needs to be in here for Safari polyfill so background images work as expected. */\n",
       "                background-size: auto;\n",
       "            }\n",
       "            .progress-bar-interrupted, .progress-bar-interrupted::-webkit-progress-bar {\n",
       "                background: #F44336;\n",
       "            }\n",
       "        </style>\n",
       "      <progress value='5' class='' max='5', style='width:300px; height:20px; vertical-align: middle;'></progress>\n",
       "      100.00% [5/5 00:06<00:00]\n",
       "    </div>\n",
       "    "
      ],
      "text/plain": [
       "<IPython.core.display.HTML object>"
      ]
     },
     "metadata": {},
     "output_type": "display_data"
    },
    {
     "name": "stderr",
     "output_type": "stream",
     "text": [
      "INFO:root:eval_loss after step 80: 0.4528141260147095: \n",
      "INFO:root:eval_accuracy_multilabel after step 80: 0.15425531914893617: \n",
      "INFO:root:eval_accuracy_thresh after step 80: 0.8647416234016418: \n",
      "INFO:root:eval_roc_auc after step 80: 0.5805264015323552: \n",
      "INFO:root:eval_fbeta after step 80: 0.31288444995880127: \n",
      "INFO:root:lr after step 80: 9.600000000000001e-06\n",
      "INFO:root:train_loss after step 80: 0.4824242264032364\n",
      "INFO:root:Running evaluation\n",
      "INFO:root:  Num examples = 188\n",
      "INFO:root:  Batch size = 40\n"
     ]
    },
    {
     "data": {
      "text/html": [
       "\n",
       "    <div>\n",
       "        <style>\n",
       "            /* Turns off some styling */\n",
       "            progress {\n",
       "                /* gets rid of default border in Firefox and Opera. */\n",
       "                border: none;\n",
       "                /* Needs to be in here for Safari polyfill so background images work as expected. */\n",
       "                background-size: auto;\n",
       "            }\n",
       "            .progress-bar-interrupted, .progress-bar-interrupted::-webkit-progress-bar {\n",
       "                background: #F44336;\n",
       "            }\n",
       "        </style>\n",
       "      <progress value='5' class='' max='5', style='width:300px; height:20px; vertical-align: middle;'></progress>\n",
       "      100.00% [5/5 00:06<00:00]\n",
       "    </div>\n",
       "    "
      ],
      "text/plain": [
       "<IPython.core.display.HTML object>"
      ]
     },
     "metadata": {},
     "output_type": "display_data"
    },
    {
     "name": "stderr",
     "output_type": "stream",
     "text": [
      "INFO:root:eval_loss after step 100: 0.4176962375640869: \n",
      "INFO:root:eval_accuracy_multilabel after step 100: 0.15425531914893617: \n",
      "INFO:root:eval_accuracy_thresh after step 100: 0.8647416234016418: \n",
      "INFO:root:eval_roc_auc after step 100: 0.6372066359274107: \n",
      "INFO:root:eval_fbeta after step 100: 0.2044326663017273: \n",
      "INFO:root:lr after step 100: 1.2e-05\n",
      "INFO:root:train_loss after step 100: 0.43381373435258863\n",
      "INFO:root:Running evaluation\n",
      "INFO:root:  Num examples = 188\n",
      "INFO:root:  Batch size = 40\n"
     ]
    },
    {
     "data": {
      "text/html": [
       "\n",
       "    <div>\n",
       "        <style>\n",
       "            /* Turns off some styling */\n",
       "            progress {\n",
       "                /* gets rid of default border in Firefox and Opera. */\n",
       "                border: none;\n",
       "                /* Needs to be in here for Safari polyfill so background images work as expected. */\n",
       "                background-size: auto;\n",
       "            }\n",
       "            .progress-bar-interrupted, .progress-bar-interrupted::-webkit-progress-bar {\n",
       "                background: #F44336;\n",
       "            }\n",
       "        </style>\n",
       "      <progress value='5' class='' max='5', style='width:300px; height:20px; vertical-align: middle;'></progress>\n",
       "      100.00% [5/5 00:06<00:00]\n",
       "    </div>\n",
       "    "
      ],
      "text/plain": [
       "<IPython.core.display.HTML object>"
      ]
     },
     "metadata": {},
     "output_type": "display_data"
    },
    {
     "name": "stderr",
     "output_type": "stream",
     "text": [
      "INFO:root:eval_loss after epoch 3: 0.40165682435035704: \n",
      "INFO:root:eval_accuracy_multilabel after epoch 3: 0.15425531914893617: \n",
      "INFO:root:eval_accuracy_thresh after epoch 3: 0.8647416234016418: \n",
      "INFO:root:eval_roc_auc after epoch 3: 0.6522592859540689: \n",
      "INFO:root:eval_fbeta after epoch 3: 0.09700661152601242: \n",
      "INFO:root:Running evaluation\n",
      "INFO:root:  Num examples = 188\n",
      "INFO:root:  Batch size = 40\n"
     ]
    },
    {
     "data": {
      "text/html": [
       "\n",
       "    <div>\n",
       "        <style>\n",
       "            /* Turns off some styling */\n",
       "            progress {\n",
       "                /* gets rid of default border in Firefox and Opera. */\n",
       "                border: none;\n",
       "                /* Needs to be in here for Safari polyfill so background images work as expected. */\n",
       "                background-size: auto;\n",
       "            }\n",
       "            .progress-bar-interrupted, .progress-bar-interrupted::-webkit-progress-bar {\n",
       "                background: #F44336;\n",
       "            }\n",
       "        </style>\n",
       "      <progress value='5' class='' max='5', style='width:300px; height:20px; vertical-align: middle;'></progress>\n",
       "      100.00% [5/5 00:06<00:00]\n",
       "    </div>\n",
       "    "
      ],
      "text/plain": [
       "<IPython.core.display.HTML object>"
      ]
     },
     "metadata": {},
     "output_type": "display_data"
    },
    {
     "name": "stderr",
     "output_type": "stream",
     "text": [
      "INFO:root:eval_loss after step 120: 0.3958388686180115: \n",
      "INFO:root:eval_accuracy_multilabel after step 120: 0.06382978723404255: \n",
      "INFO:root:eval_accuracy_thresh after step 120: 0.8647416234016418: \n",
      "INFO:root:eval_roc_auc after step 120: 0.6507147123871961: \n",
      "INFO:root:eval_fbeta after step 120: 0.07747478783130646: \n",
      "INFO:root:lr after step 120: 1.44e-05\n",
      "INFO:root:train_loss after step 120: 0.4057565569877625\n",
      "INFO:root:Running evaluation\n",
      "INFO:root:  Num examples = 188\n",
      "INFO:root:  Batch size = 40\n"
     ]
    },
    {
     "data": {
      "text/html": [
       "\n",
       "    <div>\n",
       "        <style>\n",
       "            /* Turns off some styling */\n",
       "            progress {\n",
       "                /* gets rid of default border in Firefox and Opera. */\n",
       "                border: none;\n",
       "                /* Needs to be in here for Safari polyfill so background images work as expected. */\n",
       "                background-size: auto;\n",
       "            }\n",
       "            .progress-bar-interrupted, .progress-bar-interrupted::-webkit-progress-bar {\n",
       "                background: #F44336;\n",
       "            }\n",
       "        </style>\n",
       "      <progress value='5' class='' max='5', style='width:300px; height:20px; vertical-align: middle;'></progress>\n",
       "      100.00% [5/5 00:06<00:00]\n",
       "    </div>\n",
       "    "
      ],
      "text/plain": [
       "<IPython.core.display.HTML object>"
      ]
     },
     "metadata": {},
     "output_type": "display_data"
    },
    {
     "name": "stderr",
     "output_type": "stream",
     "text": [
      "INFO:root:eval_loss after step 140: 0.3849126577377319: \n",
      "INFO:root:eval_accuracy_multilabel after step 140: 0.1595744680851064: \n",
      "INFO:root:eval_accuracy_thresh after step 140: 0.8647416234016418: \n",
      "INFO:root:eval_roc_auc after step 140: 0.6549923727809482: \n",
      "INFO:root:eval_fbeta after step 140: 0.0: \n",
      "INFO:root:lr after step 140: 1.6800000000000002e-05\n",
      "INFO:root:train_loss after step 140: 0.3851140007376671\n",
      "INFO:root:Running evaluation\n",
      "INFO:root:  Num examples = 188\n",
      "INFO:root:  Batch size = 40\n"
     ]
    },
    {
     "data": {
      "text/html": [
       "\n",
       "    <div>\n",
       "        <style>\n",
       "            /* Turns off some styling */\n",
       "            progress {\n",
       "                /* gets rid of default border in Firefox and Opera. */\n",
       "                border: none;\n",
       "                /* Needs to be in here for Safari polyfill so background images work as expected. */\n",
       "                background-size: auto;\n",
       "            }\n",
       "            .progress-bar-interrupted, .progress-bar-interrupted::-webkit-progress-bar {\n",
       "                background: #F44336;\n",
       "            }\n",
       "        </style>\n",
       "      <progress value='5' class='' max='5', style='width:300px; height:20px; vertical-align: middle;'></progress>\n",
       "      100.00% [5/5 00:06<00:00]\n",
       "    </div>\n",
       "    "
      ],
      "text/plain": [
       "<IPython.core.display.HTML object>"
      ]
     },
     "metadata": {},
     "output_type": "display_data"
    },
    {
     "name": "stderr",
     "output_type": "stream",
     "text": [
      "INFO:root:eval_loss after epoch 4: 0.3802406549453735: \n",
      "INFO:root:eval_accuracy_multilabel after epoch 4: 0.05851063829787234: \n",
      "INFO:root:eval_accuracy_thresh after epoch 4: 0.8647416234016418: \n",
      "INFO:root:eval_roc_auc after epoch 4: 0.6614952558203827: \n",
      "INFO:root:eval_fbeta after epoch 4: 0.023280978202819824: \n",
      "INFO:root:Running evaluation\n",
      "INFO:root:  Num examples = 188\n",
      "INFO:root:  Batch size = 40\n"
     ]
    },
    {
     "data": {
      "text/html": [
       "\n",
       "    <div>\n",
       "        <style>\n",
       "            /* Turns off some styling */\n",
       "            progress {\n",
       "                /* gets rid of default border in Firefox and Opera. */\n",
       "                border: none;\n",
       "                /* Needs to be in here for Safari polyfill so background images work as expected. */\n",
       "                background-size: auto;\n",
       "            }\n",
       "            .progress-bar-interrupted, .progress-bar-interrupted::-webkit-progress-bar {\n",
       "                background: #F44336;\n",
       "            }\n",
       "        </style>\n",
       "      <progress value='5' class='' max='5', style='width:300px; height:20px; vertical-align: middle;'></progress>\n",
       "      100.00% [5/5 00:06<00:00]\n",
       "    </div>\n",
       "    "
      ],
      "text/plain": [
       "<IPython.core.display.HTML object>"
      ]
     },
     "metadata": {},
     "output_type": "display_data"
    },
    {
     "name": "stderr",
     "output_type": "stream",
     "text": [
      "INFO:root:eval_loss after step 160: 0.3806151390075684: \n",
      "INFO:root:eval_accuracy_multilabel after step 160: 0.05851063829787234: \n",
      "INFO:root:eval_accuracy_thresh after step 160: 0.8647416234016418: \n",
      "INFO:root:eval_roc_auc after step 160: 0.6562567879781205: \n",
      "INFO:root:eval_fbeta after step 160: 0.11784141510725021: \n",
      "INFO:root:lr after step 160: 1.9200000000000003e-05\n",
      "INFO:root:train_loss after step 160: 0.37891134023666384\n",
      "INFO:root:Running evaluation\n",
      "INFO:root:  Num examples = 188\n",
      "INFO:root:  Batch size = 40\n"
     ]
    },
    {
     "data": {
      "text/html": [
       "\n",
       "    <div>\n",
       "        <style>\n",
       "            /* Turns off some styling */\n",
       "            progress {\n",
       "                /* gets rid of default border in Firefox and Opera. */\n",
       "                border: none;\n",
       "                /* Needs to be in here for Safari polyfill so background images work as expected. */\n",
       "                background-size: auto;\n",
       "            }\n",
       "            .progress-bar-interrupted, .progress-bar-interrupted::-webkit-progress-bar {\n",
       "                background: #F44336;\n",
       "            }\n",
       "        </style>\n",
       "      <progress value='5' class='' max='5', style='width:300px; height:20px; vertical-align: middle;'></progress>\n",
       "      100.00% [5/5 00:06<00:00]\n",
       "    </div>\n",
       "    "
      ],
      "text/plain": [
       "<IPython.core.display.HTML object>"
      ]
     },
     "metadata": {},
     "output_type": "display_data"
    },
    {
     "name": "stderr",
     "output_type": "stream",
     "text": [
      "INFO:root:eval_loss after step 180: 0.3810895800590515: \n",
      "INFO:root:eval_accuracy_multilabel after step 180: 0.05851063829787234: \n",
      "INFO:root:eval_accuracy_thresh after step 180: 0.8647416234016418: \n",
      "INFO:root:eval_roc_auc after step 180: 0.6483697744910251: \n",
      "INFO:root:eval_fbeta after step 180: 0.09395159035921097: \n",
      "INFO:root:lr after step 180: 2.16e-05\n",
      "INFO:root:train_loss after step 180: 0.3708185777068138\n",
      "INFO:root:Running evaluation\n",
      "INFO:root:  Num examples = 188\n",
      "INFO:root:  Batch size = 40\n"
     ]
    },
    {
     "data": {
      "text/html": [
       "\n",
       "    <div>\n",
       "        <style>\n",
       "            /* Turns off some styling */\n",
       "            progress {\n",
       "                /* gets rid of default border in Firefox and Opera. */\n",
       "                border: none;\n",
       "                /* Needs to be in here for Safari polyfill so background images work as expected. */\n",
       "                background-size: auto;\n",
       "            }\n",
       "            .progress-bar-interrupted, .progress-bar-interrupted::-webkit-progress-bar {\n",
       "                background: #F44336;\n",
       "            }\n",
       "        </style>\n",
       "      <progress value='5' class='' max='5', style='width:300px; height:20px; vertical-align: middle;'></progress>\n",
       "      100.00% [5/5 00:06<00:00]\n",
       "    </div>\n",
       "    "
      ],
      "text/plain": [
       "<IPython.core.display.HTML object>"
      ]
     },
     "metadata": {},
     "output_type": "display_data"
    },
    {
     "name": "stderr",
     "output_type": "stream",
     "text": [
      "INFO:root:eval_loss after epoch 5: 0.37868776321411135: \n",
      "INFO:root:eval_accuracy_multilabel after epoch 5: 0.05851063829787234: \n",
      "INFO:root:eval_accuracy_thresh after epoch 5: 0.8647416234016418: \n",
      "INFO:root:eval_roc_auc after epoch 5: 0.6600105398787544: \n",
      "INFO:root:eval_fbeta after epoch 5: 0.0: \n",
      "INFO:root:Running evaluation\n",
      "INFO:root:  Num examples = 188\n",
      "INFO:root:  Batch size = 40\n"
     ]
    },
    {
     "data": {
      "text/html": [
       "\n",
       "    <div>\n",
       "        <style>\n",
       "            /* Turns off some styling */\n",
       "            progress {\n",
       "                /* gets rid of default border in Firefox and Opera. */\n",
       "                border: none;\n",
       "                /* Needs to be in here for Safari polyfill so background images work as expected. */\n",
       "                background-size: auto;\n",
       "            }\n",
       "            .progress-bar-interrupted, .progress-bar-interrupted::-webkit-progress-bar {\n",
       "                background: #F44336;\n",
       "            }\n",
       "        </style>\n",
       "      <progress value='5' class='' max='5', style='width:300px; height:20px; vertical-align: middle;'></progress>\n",
       "      100.00% [5/5 00:06<00:00]\n",
       "    </div>\n",
       "    "
      ],
      "text/plain": [
       "<IPython.core.display.HTML object>"
      ]
     },
     "metadata": {},
     "output_type": "display_data"
    },
    {
     "name": "stderr",
     "output_type": "stream",
     "text": [
      "INFO:root:eval_loss after step 200: 0.3773936152458191: \n",
      "INFO:root:eval_accuracy_multilabel after step 200: 0.12234042553191489: \n",
      "INFO:root:eval_accuracy_thresh after step 200: 0.8647416234016418: \n",
      "INFO:root:eval_roc_auc after step 200: 0.6687898639442349: \n",
      "INFO:root:eval_fbeta after step 200: 0.0410366915166378: \n",
      "INFO:root:lr after step 200: 2.4e-05\n",
      "INFO:root:train_loss after step 200: 0.36690195351839067\n",
      "INFO:root:Running evaluation\n",
      "INFO:root:  Num examples = 188\n",
      "INFO:root:  Batch size = 40\n"
     ]
    },
    {
     "data": {
      "text/html": [
       "\n",
       "    <div>\n",
       "        <style>\n",
       "            /* Turns off some styling */\n",
       "            progress {\n",
       "                /* gets rid of default border in Firefox and Opera. */\n",
       "                border: none;\n",
       "                /* Needs to be in here for Safari polyfill so background images work as expected. */\n",
       "                background-size: auto;\n",
       "            }\n",
       "            .progress-bar-interrupted, .progress-bar-interrupted::-webkit-progress-bar {\n",
       "                background: #F44336;\n",
       "            }\n",
       "        </style>\n",
       "      <progress value='5' class='' max='5', style='width:300px; height:20px; vertical-align: middle;'></progress>\n",
       "      100.00% [5/5 00:06<00:00]\n",
       "    </div>\n",
       "    "
      ],
      "text/plain": [
       "<IPython.core.display.HTML object>"
      ]
     },
     "metadata": {},
     "output_type": "display_data"
    },
    {
     "name": "stderr",
     "output_type": "stream",
     "text": [
      "INFO:root:eval_loss after step 220: 0.3775757193565369: \n",
      "INFO:root:eval_accuracy_multilabel after step 220: 0.05851063829787234: \n",
      "INFO:root:eval_accuracy_thresh after step 220: 0.8647416234016418: \n",
      "INFO:root:eval_roc_auc after step 220: 0.6661703214786437: \n",
      "INFO:root:eval_fbeta after step 220: 0.005610461346805096: \n",
      "INFO:root:lr after step 220: 2.64e-05\n",
      "INFO:root:train_loss after step 220: 0.37381257563829423\n",
      "INFO:root:Running evaluation\n",
      "INFO:root:  Num examples = 188\n",
      "INFO:root:  Batch size = 40\n"
     ]
    },
    {
     "data": {
      "text/html": [
       "\n",
       "    <div>\n",
       "        <style>\n",
       "            /* Turns off some styling */\n",
       "            progress {\n",
       "                /* gets rid of default border in Firefox and Opera. */\n",
       "                border: none;\n",
       "                /* Needs to be in here for Safari polyfill so background images work as expected. */\n",
       "                background-size: auto;\n",
       "            }\n",
       "            .progress-bar-interrupted, .progress-bar-interrupted::-webkit-progress-bar {\n",
       "                background: #F44336;\n",
       "            }\n",
       "        </style>\n",
       "      <progress value='5' class='' max='5', style='width:300px; height:20px; vertical-align: middle;'></progress>\n",
       "      100.00% [5/5 00:06<00:00]\n",
       "    </div>\n",
       "    "
      ],
      "text/plain": [
       "<IPython.core.display.HTML object>"
      ]
     },
     "metadata": {},
     "output_type": "display_data"
    },
    {
     "name": "stderr",
     "output_type": "stream",
     "text": [
      "INFO:root:eval_loss after epoch 6: 0.3765136420726776: \n",
      "INFO:root:eval_accuracy_multilabel after epoch 6: 0.05851063829787234: \n",
      "INFO:root:eval_accuracy_thresh after epoch 6: 0.8647416234016418: \n",
      "INFO:root:eval_roc_auc after epoch 6: 0.6704239154045142: \n",
      "INFO:root:eval_fbeta after epoch 6: 0.005610461346805096: \n",
      "INFO:root:Running evaluation\n",
      "INFO:root:  Num examples = 188\n",
      "INFO:root:  Batch size = 40\n"
     ]
    },
    {
     "data": {
      "text/html": [
       "\n",
       "    <div>\n",
       "        <style>\n",
       "            /* Turns off some styling */\n",
       "            progress {\n",
       "                /* gets rid of default border in Firefox and Opera. */\n",
       "                border: none;\n",
       "                /* Needs to be in here for Safari polyfill so background images work as expected. */\n",
       "                background-size: auto;\n",
       "            }\n",
       "            .progress-bar-interrupted, .progress-bar-interrupted::-webkit-progress-bar {\n",
       "                background: #F44336;\n",
       "            }\n",
       "        </style>\n",
       "      <progress value='5' class='' max='5', style='width:300px; height:20px; vertical-align: middle;'></progress>\n",
       "      100.00% [5/5 00:06<00:00]\n",
       "    </div>\n",
       "    "
      ],
      "text/plain": [
       "<IPython.core.display.HTML object>"
      ]
     },
     "metadata": {},
     "output_type": "display_data"
    },
    {
     "name": "stderr",
     "output_type": "stream",
     "text": [
      "INFO:root:eval_loss after step 240: 0.3722682595252991: \n",
      "INFO:root:eval_accuracy_multilabel after step 240: 0.05851063829787234: \n",
      "INFO:root:eval_accuracy_thresh after step 240: 0.8647416234016418: \n",
      "INFO:root:eval_roc_auc after step 240: 0.6845694447187063: \n",
      "INFO:root:eval_fbeta after step 240: 0.06126878038048744: \n",
      "INFO:root:lr after step 240: 2.88e-05\n",
      "INFO:root:train_loss after step 240: 0.3672689452767372\n",
      "INFO:root:Running evaluation\n",
      "INFO:root:  Num examples = 188\n",
      "INFO:root:  Batch size = 40\n"
     ]
    },
    {
     "data": {
      "text/html": [
       "\n",
       "    <div>\n",
       "        <style>\n",
       "            /* Turns off some styling */\n",
       "            progress {\n",
       "                /* gets rid of default border in Firefox and Opera. */\n",
       "                border: none;\n",
       "                /* Needs to be in here for Safari polyfill so background images work as expected. */\n",
       "                background-size: auto;\n",
       "            }\n",
       "            .progress-bar-interrupted, .progress-bar-interrupted::-webkit-progress-bar {\n",
       "                background: #F44336;\n",
       "            }\n",
       "        </style>\n",
       "      <progress value='5' class='' max='5', style='width:300px; height:20px; vertical-align: middle;'></progress>\n",
       "      100.00% [5/5 00:06<00:00]\n",
       "    </div>\n",
       "    "
      ],
      "text/plain": [
       "<IPython.core.display.HTML object>"
      ]
     },
     "metadata": {},
     "output_type": "display_data"
    },
    {
     "name": "stderr",
     "output_type": "stream",
     "text": [
      "INFO:root:eval_loss after step 260: 0.3624307632446289: \n",
      "INFO:root:eval_accuracy_multilabel after step 260: 0.21808510638297873: \n",
      "INFO:root:eval_accuracy_thresh after step 260: 0.8647416234016418: \n",
      "INFO:root:eval_roc_auc after step 260: 0.7229283090776248: \n",
      "INFO:root:eval_fbeta after step 260: 0.08554257452487946: \n",
      "INFO:root:lr after step 260: 3.12e-05\n",
      "INFO:root:train_loss after step 260: 0.3653022199869156\n",
      "INFO:root:Running evaluation\n",
      "INFO:root:  Num examples = 188\n",
      "INFO:root:  Batch size = 40\n"
     ]
    },
    {
     "data": {
      "text/html": [
       "\n",
       "    <div>\n",
       "        <style>\n",
       "            /* Turns off some styling */\n",
       "            progress {\n",
       "                /* gets rid of default border in Firefox and Opera. */\n",
       "                border: none;\n",
       "                /* Needs to be in here for Safari polyfill so background images work as expected. */\n",
       "                background-size: auto;\n",
       "            }\n",
       "            .progress-bar-interrupted, .progress-bar-interrupted::-webkit-progress-bar {\n",
       "                background: #F44336;\n",
       "            }\n",
       "        </style>\n",
       "      <progress value='5' class='' max='5', style='width:300px; height:20px; vertical-align: middle;'></progress>\n",
       "      100.00% [5/5 00:06<00:00]\n",
       "    </div>\n",
       "    "
      ],
      "text/plain": [
       "<IPython.core.display.HTML object>"
      ]
     },
     "metadata": {},
     "output_type": "display_data"
    },
    {
     "name": "stderr",
     "output_type": "stream",
     "text": [
      "INFO:root:eval_loss after epoch 7: 0.3585233151912689: \n",
      "INFO:root:eval_accuracy_multilabel after epoch 7: 0.14893617021276595: \n",
      "INFO:root:eval_accuracy_thresh after epoch 7: 0.8647416234016418: \n",
      "INFO:root:eval_roc_auc after epoch 7: 0.7265302571039276: \n",
      "INFO:root:eval_fbeta after epoch 7: 0.07309160381555557: \n"
     ]
    },
    {
     "ename": "KeyboardInterrupt",
     "evalue": "",
     "output_type": "error",
     "traceback": [
      "\u001b[0;31m---------------------------------------------------------------------------\u001b[0m",
      "\u001b[0;31mKeyboardInterrupt\u001b[0m                         Traceback (most recent call last)",
      "\u001b[0;32m<ipython-input-8-6824cd6a20f2>\u001b[0m in \u001b[0;36m<module>\u001b[0;34m\u001b[0m\n\u001b[1;32m      1\u001b[0m \u001b[0;32mfor\u001b[0m \u001b[0mdirectory\u001b[0m \u001b[0;32min\u001b[0m \u001b[0;34m[\u001b[0m\u001b[0;34m'original'\u001b[0m\u001b[0;34m,\u001b[0m\u001b[0;34m'original_2x'\u001b[0m\u001b[0;34m,\u001b[0m\u001b[0;34m'synthetic'\u001b[0m\u001b[0;34m,\u001b[0m\u001b[0;34m'combined'\u001b[0m\u001b[0;34m,\u001b[0m\u001b[0;34m'original_eda'\u001b[0m\u001b[0;34m]\u001b[0m\u001b[0;34m:\u001b[0m\u001b[0;34m\u001b[0m\u001b[0;34m\u001b[0m\u001b[0m\n\u001b[1;32m      2\u001b[0m     \u001b[0;32mfor\u001b[0m \u001b[0mmodel\u001b[0m \u001b[0;32min\u001b[0m \u001b[0;34m[\u001b[0m\u001b[0;34m'biobert'\u001b[0m\u001b[0;34m,\u001b[0m\u001b[0;34m'bert'\u001b[0m\u001b[0;34m]\u001b[0m\u001b[0;34m:\u001b[0m\u001b[0;34m\u001b[0m\u001b[0;34m\u001b[0m\u001b[0m\n\u001b[0;32m----> 3\u001b[0;31m         \u001b[0mtrain\u001b[0m\u001b[0;34m(\u001b[0m\u001b[0;34m'transformer/'\u001b[0m\u001b[0;34m+\u001b[0m\u001b[0mdirectory\u001b[0m\u001b[0;34m,\u001b[0m \u001b[0mmodel\u001b[0m\u001b[0;34m)\u001b[0m\u001b[0;34m\u001b[0m\u001b[0;34m\u001b[0m\u001b[0m\n\u001b[0m",
      "\u001b[0;32m<ipython-input-7-733719d6275b>\u001b[0m in \u001b[0;36mtrain\u001b[0;34m(path_to_directory, model)\u001b[0m\n\u001b[1;32m     56\u001b[0m                 \u001b[0mlr\u001b[0m\u001b[0;34m=\u001b[0m\u001b[0;36m6e-5\u001b[0m\u001b[0;34m,\u001b[0m\u001b[0;34m\u001b[0m\u001b[0;34m\u001b[0m\u001b[0m\n\u001b[1;32m     57\u001b[0m                 \u001b[0mvalidate\u001b[0m\u001b[0;34m=\u001b[0m\u001b[0;32mTrue\u001b[0m\u001b[0;34m,\u001b[0m \u001b[0;31m# Evaluate the model after each epoch\u001b[0m\u001b[0;34m\u001b[0m\u001b[0;34m\u001b[0m\u001b[0m\n\u001b[0;32m---> 58\u001b[0;31m                 schedule_type=\"warmup_cosine\")\n\u001b[0m\u001b[1;32m     59\u001b[0m \u001b[0;34m\u001b[0m\u001b[0m\n\u001b[1;32m     60\u001b[0m     \u001b[0mlearner\u001b[0m\u001b[0;34m.\u001b[0m\u001b[0msave_model\u001b[0m\u001b[0;34m(\u001b[0m\u001b[0;34m)\u001b[0m\u001b[0;34m\u001b[0m\u001b[0;34m\u001b[0m\u001b[0m\n",
      "\u001b[0;32m~/anaconda3/lib/python3.7/site-packages/fast_bert/learner_cls.py\u001b[0m in \u001b[0;36mfit\u001b[0;34m(self, epochs, lr, validate, schedule_type)\u001b[0m\n\u001b[1;32m    270\u001b[0m                 \u001b[0;32mif\u001b[0m \u001b[0mself\u001b[0m\u001b[0;34m.\u001b[0m\u001b[0mis_fp16\u001b[0m\u001b[0;34m:\u001b[0m\u001b[0;34m\u001b[0m\u001b[0;34m\u001b[0m\u001b[0m\n\u001b[1;32m    271\u001b[0m                     \u001b[0;32mwith\u001b[0m \u001b[0mamp\u001b[0m\u001b[0;34m.\u001b[0m\u001b[0mscale_loss\u001b[0m\u001b[0;34m(\u001b[0m\u001b[0mloss\u001b[0m\u001b[0;34m,\u001b[0m \u001b[0moptimizer\u001b[0m\u001b[0;34m)\u001b[0m \u001b[0;32mas\u001b[0m \u001b[0mscaled_loss\u001b[0m\u001b[0;34m:\u001b[0m\u001b[0;34m\u001b[0m\u001b[0;34m\u001b[0m\u001b[0m\n\u001b[0;32m--> 272\u001b[0;31m                         \u001b[0mscaled_loss\u001b[0m\u001b[0;34m.\u001b[0m\u001b[0mbackward\u001b[0m\u001b[0;34m(\u001b[0m\u001b[0;34m)\u001b[0m\u001b[0;34m\u001b[0m\u001b[0;34m\u001b[0m\u001b[0m\n\u001b[0m\u001b[1;32m    273\u001b[0m                     \u001b[0mtorch\u001b[0m\u001b[0;34m.\u001b[0m\u001b[0mnn\u001b[0m\u001b[0;34m.\u001b[0m\u001b[0mutils\u001b[0m\u001b[0;34m.\u001b[0m\u001b[0mclip_grad_norm_\u001b[0m\u001b[0;34m(\u001b[0m\u001b[0mamp\u001b[0m\u001b[0;34m.\u001b[0m\u001b[0mmaster_params\u001b[0m\u001b[0;34m(\u001b[0m\u001b[0moptimizer\u001b[0m\u001b[0;34m)\u001b[0m\u001b[0;34m,\u001b[0m \u001b[0mself\u001b[0m\u001b[0;34m.\u001b[0m\u001b[0mmax_grad_norm\u001b[0m\u001b[0;34m)\u001b[0m\u001b[0;34m\u001b[0m\u001b[0;34m\u001b[0m\u001b[0m\n\u001b[1;32m    274\u001b[0m                 \u001b[0;32melse\u001b[0m\u001b[0;34m:\u001b[0m\u001b[0;34m\u001b[0m\u001b[0;34m\u001b[0m\u001b[0m\n",
      "\u001b[0;32m~/anaconda3/lib/python3.7/site-packages/torch/tensor.py\u001b[0m in \u001b[0;36mbackward\u001b[0;34m(self, gradient, retain_graph, create_graph)\u001b[0m\n\u001b[1;32m    105\u001b[0m                 \u001b[0mproducts\u001b[0m\u001b[0;34m.\u001b[0m \u001b[0mDefaults\u001b[0m \u001b[0mto\u001b[0m\u001b[0;31m \u001b[0m\u001b[0;31m`\u001b[0m\u001b[0;31m`\u001b[0m\u001b[0;32mFalse\u001b[0m\u001b[0;31m`\u001b[0m\u001b[0;31m`\u001b[0m\u001b[0;34m.\u001b[0m\u001b[0;34m\u001b[0m\u001b[0;34m\u001b[0m\u001b[0m\n\u001b[1;32m    106\u001b[0m         \"\"\"\n\u001b[0;32m--> 107\u001b[0;31m         \u001b[0mtorch\u001b[0m\u001b[0;34m.\u001b[0m\u001b[0mautograd\u001b[0m\u001b[0;34m.\u001b[0m\u001b[0mbackward\u001b[0m\u001b[0;34m(\u001b[0m\u001b[0mself\u001b[0m\u001b[0;34m,\u001b[0m \u001b[0mgradient\u001b[0m\u001b[0;34m,\u001b[0m \u001b[0mretain_graph\u001b[0m\u001b[0;34m,\u001b[0m \u001b[0mcreate_graph\u001b[0m\u001b[0;34m)\u001b[0m\u001b[0;34m\u001b[0m\u001b[0;34m\u001b[0m\u001b[0m\n\u001b[0m\u001b[1;32m    108\u001b[0m \u001b[0;34m\u001b[0m\u001b[0m\n\u001b[1;32m    109\u001b[0m     \u001b[0;32mdef\u001b[0m \u001b[0mregister_hook\u001b[0m\u001b[0;34m(\u001b[0m\u001b[0mself\u001b[0m\u001b[0;34m,\u001b[0m \u001b[0mhook\u001b[0m\u001b[0;34m)\u001b[0m\u001b[0;34m:\u001b[0m\u001b[0;34m\u001b[0m\u001b[0;34m\u001b[0m\u001b[0m\n",
      "\u001b[0;32m~/anaconda3/lib/python3.7/site-packages/torch/autograd/__init__.py\u001b[0m in \u001b[0;36mbackward\u001b[0;34m(tensors, grad_tensors, retain_graph, create_graph, grad_variables)\u001b[0m\n\u001b[1;32m     91\u001b[0m     Variable._execution_engine.run_backward(\n\u001b[1;32m     92\u001b[0m         \u001b[0mtensors\u001b[0m\u001b[0;34m,\u001b[0m \u001b[0mgrad_tensors\u001b[0m\u001b[0;34m,\u001b[0m \u001b[0mretain_graph\u001b[0m\u001b[0;34m,\u001b[0m \u001b[0mcreate_graph\u001b[0m\u001b[0;34m,\u001b[0m\u001b[0;34m\u001b[0m\u001b[0;34m\u001b[0m\u001b[0m\n\u001b[0;32m---> 93\u001b[0;31m         allow_unreachable=True)  # allow_unreachable flag\n\u001b[0m\u001b[1;32m     94\u001b[0m \u001b[0;34m\u001b[0m\u001b[0m\n\u001b[1;32m     95\u001b[0m \u001b[0;34m\u001b[0m\u001b[0m\n",
      "\u001b[0;31mKeyboardInterrupt\u001b[0m: "
     ]
    }
   ],
   "source": [
    "for directory in ['original','original_2x','synthetic','combined','original_eda']:\n",
    "    for model in ['biobert','bert']:\n",
    "        train('transformer/'+directory, model)"
   ]
  }
 ],
 "metadata": {
  "kernelspec": {
   "display_name": "Python [conda env:root] *",
   "language": "python",
   "name": "conda-root-py"
  },
  "language_info": {
   "codemirror_mode": {
    "name": "ipython",
    "version": 3
   },
   "file_extension": ".py",
   "mimetype": "text/x-python",
   "name": "python",
   "nbconvert_exporter": "python",
   "pygments_lexer": "ipython3",
   "version": "3.7.3"
  }
 },
 "nbformat": 4,
 "nbformat_minor": 2
}
