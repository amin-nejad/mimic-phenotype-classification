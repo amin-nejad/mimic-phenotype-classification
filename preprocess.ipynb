{
 "cells": [
  {
   "cell_type": "markdown",
   "metadata": {},
   "source": [
    "# Preprocess"
   ]
  },
  {
   "cell_type": "markdown",
   "metadata": {},
   "source": [
    "Get data into the right format. Retrieve test dataset from earlier which is a superset of the phenotype data (annotations.csv). Create datasets for the original data, synthetic data as well as combined together. Lastly also an original 2x"
   ]
  },
  {
   "cell_type": "code",
   "execution_count": 1,
   "metadata": {},
   "outputs": [],
   "source": [
    "import pandas as pd\n",
    "import numpy as np\n",
    "from pathlib import Path"
   ]
  },
  {
   "cell_type": "code",
   "execution_count": 2,
   "metadata": {},
   "outputs": [],
   "source": [
    "DATA = Path('data/')\n",
    "PHENOTYPE_CLASSIFICATION = DATA/'phenotype_classification/'\n",
    "PHENOTYPE_CLASSIFICATION.mkdir(exist_ok=True)\n",
    "\n",
    "data = pd.read_csv(DATA/'preprocessed/ref_test.tsv', sep='\\t') # only test file\n",
    "data = data[['text','hadm_id']]\n",
    "annotations = pd.read_csv(DATA/'annotations.csv', sep=',')\n",
    "with open(DATA/'t2t_experiments/full_context/output/transformer_decoded/tgt-test.001.txt', 'r') as f:\n",
    "    synthetic_data = f.readlines()\n",
    "synthetic_data=pd.DataFrame({'text':synthetic_data})"
   ]
  },
  {
   "cell_type": "code",
   "execution_count": 3,
   "metadata": {},
   "outputs": [
    {
     "data": {
      "text/plain": [
       "1561"
      ]
     },
     "execution_count": 3,
     "metadata": {},
     "output_type": "execute_result"
    }
   ],
   "source": [
    "annotations.columns.values[0] = 'hadm_id'\n",
    "annotations.columns.values[1] = 'subject_id'\n",
    "\n",
    "pheno_admissions = list(set(annotations['hadm_id']))\n",
    "len(pheno_admissions)"
   ]
  },
  {
   "cell_type": "code",
   "execution_count": 4,
   "metadata": {},
   "outputs": [
    {
     "name": "stdout",
     "output_type": "stream",
     "text": [
      "5727\n"
     ]
    },
    {
     "data": {
      "text/plain": [
       "1846"
      ]
     },
     "execution_count": 4,
     "metadata": {},
     "output_type": "execute_result"
    }
   ],
   "source": [
    "print(len(data))\n",
    "original = data[data['hadm_id'].isin(pheno_admissions)]\n",
    "len(original)"
   ]
  },
  {
   "cell_type": "code",
   "execution_count": 5,
   "metadata": {},
   "outputs": [
    {
     "name": "stdout",
     "output_type": "stream",
     "text": [
      "5727\n"
     ]
    },
    {
     "data": {
      "text/plain": [
       "1846"
      ]
     },
     "execution_count": 5,
     "metadata": {},
     "output_type": "execute_result"
    }
   ],
   "source": [
    "print(len(synthetic_data))\n",
    "synthetic_data['hadm_id'] = data['hadm_id']\n",
    "synthetic = synthetic_data[synthetic_data['hadm_id'].isin(pheno_admissions)]\n",
    "len(synthetic)"
   ]
  },
  {
   "cell_type": "code",
   "execution_count": 6,
   "metadata": {},
   "outputs": [],
   "source": [
    "annotations = annotations.drop_duplicates(keep=\"last\")"
   ]
  },
  {
   "cell_type": "code",
   "execution_count": 7,
   "metadata": {},
   "outputs": [],
   "source": [
    "original=original.merge(annotations, left_on='hadm_id', right_on='hadm_id')\n",
    "synthetic=synthetic.merge(annotations, left_on='hadm_id', right_on='hadm_id')"
   ]
  },
  {
   "cell_type": "code",
   "execution_count": 8,
   "metadata": {},
   "outputs": [
    {
     "name": "stdout",
     "output_type": "stream",
     "text": [
      "1875\n",
      "1875\n"
     ]
    }
   ],
   "source": [
    "print(len(synthetic))\n",
    "print(len(original))"
   ]
  },
  {
   "cell_type": "code",
   "execution_count": 9,
   "metadata": {},
   "outputs": [],
   "source": [
    "original = original.drop(['hadm_id','subject_id','chart.time','cohort'], axis=1)\n",
    "synthetic = synthetic.drop(['hadm_id','subject_id','chart.time','cohort'], axis=1)\n",
    "combined = original.append(synthetic, ignore_index=True)\n",
    "original_2x = original.append(original, ignore_index=True)"
   ]
  },
  {
   "cell_type": "markdown",
   "metadata": {},
   "source": [
    "Split each dataset into train, test and eval and save to disk:"
   ]
  },
  {
   "cell_type": "code",
   "execution_count": 10,
   "metadata": {},
   "outputs": [],
   "source": [
    "ORIGINAL = PHENOTYPE_CLASSIFICATION/'transformer/original/'\n",
    "ORIGINAL_2X = PHENOTYPE_CLASSIFICATION/'transformer/original_2x/'\n",
    "SYNTHETIC = PHENOTYPE_CLASSIFICATION/'transformer/synthetic/'\n",
    "COMBINED = PHENOTYPE_CLASSIFICATION/'transformer/combined/'\n",
    "\n",
    "ORIGINAL.mkdir(parents=True,exist_ok=True)\n",
    "ORIGINAL_2X.mkdir(parents=True,exist_ok=True)\n",
    "SYNTHETIC.mkdir(parents=True,exist_ok=True)\n",
    "COMBINED.mkdir(parents=True,exist_ok=True)"
   ]
  },
  {
   "cell_type": "code",
   "execution_count": 11,
   "metadata": {},
   "outputs": [],
   "source": [
    "def split_dataset(df, directory):\n",
    "    split_idx_train = int(0.8 * len(df)) # 80% training\n",
    "    split_idx_test = int(0.9 * len(df)) # 10% val, 10% test\n",
    "    \n",
    "    print(split_idx_train, split_idx_test, len(df))\n",
    "    \n",
    "    train = df.loc[:split_idx_train]\n",
    "    val = df.loc[split_idx_train:split_idx_test]\n",
    "    test = df.loc[split_idx_test:]\n",
    "    \n",
    "    train.to_csv(directory/'train.csv', sep=',', index = False)\n",
    "    val.to_csv(directory/'val.csv', sep=',', index = False)\n",
    "    test.to_csv(directory/'test.csv', sep=',', index = False)\n",
    "    \n",
    "    return"
   ]
  },
  {
   "cell_type": "code",
   "execution_count": 12,
   "metadata": {},
   "outputs": [
    {
     "name": "stdout",
     "output_type": "stream",
     "text": [
      "1500 1687 1875\n",
      "3000 3375 3750\n",
      "1500 1687 1875\n",
      "3000 3375 3750\n"
     ]
    }
   ],
   "source": [
    "split_dataset(original, ORIGINAL)\n",
    "split_dataset(original_2x, ORIGINAL_2X)\n",
    "split_dataset(synthetic, SYNTHETIC)\n",
    "split_dataset(combined, COMBINED)"
   ]
  },
  {
   "cell_type": "markdown",
   "metadata": {},
   "source": [
    "### Output categories"
   ]
  },
  {
   "cell_type": "code",
   "execution_count": 13,
   "metadata": {},
   "outputs": [
    {
     "name": "stdout",
     "output_type": "stream",
     "text": [
      "14\n",
      "['Advanced.Cancer', 'Advanced.Heart.Disease', 'Advanced.Lung.Disease', 'Alcohol.Abuse', 'Chronic.Neurological.Dystrophies', 'Chronic.Pain.Fibromyalgia', 'Dementia', 'Depression', 'Developmental.Delay.Retardation', 'Non.Adherence', 'Obesity', 'Other.Substance.Abuse', 'Schizophrenia.and.other.Psychiatric.Disorders', 'Unsure']\n"
     ]
    }
   ],
   "source": [
    "categories = sorted(synthetic)\n",
    "categories.remove('text')\n",
    "print(len(categories))\n",
    "print(categories)"
   ]
  },
  {
   "cell_type": "code",
   "execution_count": 14,
   "metadata": {},
   "outputs": [],
   "source": [
    "pd.DataFrame(categories).to_csv(PHENOTYPE_CLASSIFICATION/'categories.csv', sep=',', index = False,header=False)"
   ]
  }
 ],
 "metadata": {
  "kernelspec": {
   "display_name": "Python [conda env:root] *",
   "language": "python",
   "name": "conda-root-py"
  },
  "language_info": {
   "codemirror_mode": {
    "name": "ipython",
    "version": 3
   },
   "file_extension": ".py",
   "mimetype": "text/x-python",
   "name": "python",
   "nbconvert_exporter": "python",
   "pygments_lexer": "ipython3",
   "version": "3.7.3"
  }
 },
 "nbformat": 4,
 "nbformat_minor": 2
}
